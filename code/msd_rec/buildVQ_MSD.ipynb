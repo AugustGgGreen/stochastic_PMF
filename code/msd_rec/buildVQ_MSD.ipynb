{
 "metadata": {
  "name": ""
 },
 "nbformat": 3,
 "nbformat_minor": 0,
 "worksheets": [
  {
   "cells": [
    {
     "cell_type": "code",
     "collapsed": false,
     "input": [
      "import cPickle as pickle\n",
      "import glob\n",
      "import itertools\n",
      "import operator\n",
      "import os\n",
      "\n",
      "import hdf5_getters\n",
      "import HartiganOnline, VectorQuantizer"
     ],
     "language": "python",
     "metadata": {},
     "outputs": [],
     "prompt_number": 1
    },
    {
     "cell_type": "code",
     "collapsed": false,
     "input": [
      "MSD_DIR = u'/q/boar/boar-p9/MillionSong/'\n",
      "MSD_DATA_ROOT = os.path.join(MSD_DIR, 'data')\n",
      "MSD_ADD = os.path.join(MSD_DIR, 'AdditionalFiles')"
     ],
     "language": "python",
     "metadata": {},
     "outputs": [],
     "prompt_number": 2
    },
    {
     "cell_type": "code",
     "collapsed": false,
     "input": [
      "# get all the tracks with non-nan hotttnesss\n",
      "def get_all_song_hotttnesss(msd_dir, ext='.h5') :\n",
      "    track_to_hotttnesss = dict()\n",
      "    msd_data_root = os.path.join(msd_dir, 'data')\n",
      "    with open(os.path.join(msd_dir, 'AdditionalFiles', 'unique_tracks.txt'), 'rb') as f:\n",
      "        for (count, line) in enumerate(f):\n",
      "            track_ID, _, _, _ = line.strip().split('<SEP>')\n",
      "            track_dir = os.path.join(msd_data_root, '/'.join(track_ID[2:5]), track_ID + ext)\n",
      "            h5 = hdf5_getters.open_h5_file_read(track_dir)\n",
      "            hotttnesss = hdf5_getters.get_song_hotttnesss(h5)\n",
      "            if not math.isnan(hotttnesss):\n",
      "                track_to_hotttnesss[track_ID] = hotttnesss\n",
      "            h5.close()  \n",
      "            if not count % 1000:\n",
      "                print \"%7d tracks processed\" % count \n",
      "    return track_to_hotttnesss"
     ],
     "language": "python",
     "metadata": {},
     "outputs": [],
     "prompt_number": 4
    },
    {
     "cell_type": "code",
     "collapsed": false,
     "input": [
      "if os.path.exists('track_to_hotttnesss.cPickle'):\n",
      "    with open('track_to_hotttnesss.cPickle', 'rb') as f:\n",
      "        track_to_hotttnesss = pickle.load(f)\n",
      "else:\n",
      "    track_to_hotttnesss = get_all_song_hotttnesss(MSD_DIR)\n",
      "    with open('track_to_hotttnesss.cPickle', 'wb') as f:\n",
      "        pickle.dump(track_to_hotttnesss, f)"
     ],
     "language": "python",
     "metadata": {},
     "outputs": [],
     "prompt_number": 6
    },
    {
     "cell_type": "code",
     "collapsed": false,
     "input": [
      "# it's interesting to see what's the most popular songs\n",
      "track_to_hotttnesss_ordered = sorted(track_to_hotttnesss.iteritems(), key=operator.itemgetter(1), reverse=True)\n",
      "for i in xrange(20):\n",
      "    track_ID = track_to_hotttnesss_ordered[i][0]\n",
      "    hotttnesss = track_to_hotttnesss_ordered[i][1]\n",
      "    out = !grep \"$track_ID\" \"$MSD_ADD\"/unique_tracks.txt \n",
      "    print out[0].strip().split('<SEP>')[2:4], 'Hotttnesss:', hotttnesss"
     ],
     "language": "python",
     "metadata": {},
     "outputs": [
      {
       "output_type": "stream",
       "stream": "stdout",
       "text": [
        "['U2', 'With Or Without You'] Hotttnesss: 1.0\n"
       ]
      },
      {
       "output_type": "stream",
       "stream": "stdout",
       "text": [
        "['Train', \"If It's Love\"] Hotttnesss: 1.0\n"
       ]
      },
      {
       "output_type": "stream",
       "stream": "stdout",
       "text": [
        "['Avenged Sevenfold', 'Bat Country (Album Version)'] Hotttnesss: 1.0\n"
       ]
      },
      {
       "output_type": "stream",
       "stream": "stdout",
       "text": [
        "['Taylor Swift', 'Love Story'] Hotttnesss: 1.0\n"
       ]
      },
      {
       "output_type": "stream",
       "stream": "stdout",
       "text": [
        "['Keri Hilson / Kanye West / Ne-Yo', 'Knock You Down'] Hotttnesss: 1.0\n"
       ]
      },
      {
       "output_type": "stream",
       "stream": "stdout",
       "text": [
        "['Righteous Brothers', 'Unchained Melody'] Hotttnesss: 1.0\n"
       ]
      },
      {
       "output_type": "stream",
       "stream": "stdout",
       "text": [
        "['30 Seconds To Mars', 'From Yesterday'] Hotttnesss: 1.0\n"
       ]
      },
      {
       "output_type": "stream",
       "stream": "stdout",
       "text": [
        "['Bjork', 'Bachelorette (Family Tree Version)'] Hotttnesss: 1.0\n"
       ]
      },
      {
       "output_type": "stream",
       "stream": "stdout",
       "text": [
        "['The Strokes', 'Last Nite'] Hotttnesss: 1.0\n"
       ]
      },
      {
       "output_type": "stream",
       "stream": "stdout",
       "text": [
        "['Alice In Chains', 'Man In The Box'] Hotttnesss: 1.0\n"
       ]
      },
      {
       "output_type": "stream",
       "stream": "stdout",
       "text": [
        "['Smash Mouth', 'All Star'] Hotttnesss: 1.0\n"
       ]
      },
      {
       "output_type": "stream",
       "stream": "stdout",
       "text": [
        "['Fergie', \"Big Girls Don't Cry (Personal)\"] Hotttnesss: 1.0\n"
       ]
      },
      {
       "output_type": "stream",
       "stream": "stdout",
       "text": [
        "['Linkin Park', \"What I've Done (Album Version)\"] Hotttnesss: 1.0\n"
       ]
      },
      {
       "output_type": "stream",
       "stream": "stdout",
       "text": [
        "['Rootsman', 'Ta Travudia'] Hotttnesss: 1.0\n"
       ]
      },
      {
       "output_type": "stream",
       "stream": "stdout",
       "text": [
        "['U2', \"I Still Haven't Found What I'm Looking For\"] Hotttnesss: 1.0\n"
       ]
      },
      {
       "output_type": "stream",
       "stream": "stdout",
       "text": [
        "['Muse', 'Uprising'] Hotttnesss: 1.0\n"
       ]
      },
      {
       "output_type": "stream",
       "stream": "stdout",
       "text": [
        "['Paramore', 'The Only Exception (Album Version)'] Hotttnesss: 1.0\n"
       ]
      },
      {
       "output_type": "stream",
       "stream": "stdout",
       "text": [
        "['White Town', 'Your Woman'] Hotttnesss: 1.0\n"
       ]
      },
      {
       "output_type": "stream",
       "stream": "stdout",
       "text": [
        "['Modest Mouse', 'Float On'] Hotttnesss: 1.0\n"
       ]
      },
      {
       "output_type": "stream",
       "stream": "stdout",
       "text": [
        "['Five Finger Death Punch', 'Bad Company'] Hotttnesss: 1.0\n"
       ]
      }
     ],
     "prompt_number": 7
    },
    {
     "cell_type": "code",
     "collapsed": false,
     "input": [
      "# and see how the hotttnesss are distributed\n",
      "hist(track_to_hotttnesss.values(), bins=20)\n",
      "pass"
     ],
     "language": "python",
     "metadata": {},
     "outputs": [
      {
       "metadata": {},
       "output_type": "display_data",
       "png": "[encoded data removed]",
       "text": [
        "<matplotlib.figure.Figure at 0x4aaa750>"
       ]
      }
     ],
     "prompt_number": 9
    },
    {
     "cell_type": "code",
     "collapsed": false,
     "input": [
      "# randomly select 9500 non-zero-hotttnesss tracks and 500 zeros-hotttnesss tracks\n",
      "np.random.seed(98765)\n",
      "tracks_nzhotttnesss = np.random.choice(filter(lambda x: track_to_hotttnesss[x] != 0.0, track_to_hotttnesss.keys()), \n",
      "                                       size=9500, replace=False)\n",
      "tracks_zhotttnesss = np.random.choice(filter(lambda x: track_to_hotttnesss[x] == 0.0, track_to_hotttnesss.keys()), \n",
      "                                      size=500, replace=False)\n",
      "tracks_VQ = np.hstack((tracks_nzhotttnesss, tracks_zhotttnesss))"
     ],
     "language": "python",
     "metadata": {},
     "outputs": [],
     "prompt_number": 24
    },
    {
     "cell_type": "code",
     "collapsed": false,
     "input": [
      "def data_generator(msd_data_root, tracks, shuffle=True, ext='.h5'):\n",
      "    if shuffle:\n",
      "        np.random.shuffle(tracks)\n",
      "    for track_ID in tracks:\n",
      "        track_dir = os.path.join(msd_data_root, '/'.join(track_ID[2:5]), track_ID + ext)\n",
      "        h5 = hdf5_getters.open_h5_file_read(track_dir)\n",
      "        mfcc = hdf5_getters.get_segments_timbre(h5)\n",
      "        h5.close()\n",
      "        if shuffle:\n",
      "            np.random.shuffle(mfcc)\n",
      "        yield mfcc"
     ],
     "language": "python",
     "metadata": {},
     "outputs": [],
     "prompt_number": 27
    },
    {
     "cell_type": "code",
     "collapsed": false,
     "input": [
      "def build_codewords(msd_data_root, tracks, K, max_iter=3, random_state=None):\n",
      "    if type(random_state) is int:\n",
      "        np.random.seed(random_state)\n",
      "    else:\n",
      "        np.random.setstate(random_state)\n",
      "        \n",
      "    cluster = HartiganOnline.HartiganOnline(n_clusters=K)\n",
      "    for _ in xrange(max_iter):\n",
      "        for d in data_generator(msd_data_root, tracks):\n",
      "            cluster.partial_fit(d)\n",
      "    return cluster"
     ],
     "language": "python",
     "metadata": {},
     "outputs": [],
     "prompt_number": 28
    },
    {
     "cell_type": "code",
     "collapsed": false,
     "input": [
      "K = 512\n",
      "cluster = build_codewords(MSD_DATA_ROOT, tracks_VQ, K, random_state=98765)"
     ],
     "language": "python",
     "metadata": {},
     "outputs": [],
     "prompt_number": "*"
    },
    {
     "cell_type": "code",
     "collapsed": false,
     "input": [],
     "language": "python",
     "metadata": {},
     "outputs": []
    }
   ],
   "metadata": {}
  }
 ]
}