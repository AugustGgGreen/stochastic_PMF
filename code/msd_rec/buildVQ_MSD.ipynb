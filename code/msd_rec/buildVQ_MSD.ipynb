{
 "metadata": {
  "name": ""
 },
 "nbformat": 3,
 "nbformat_minor": 0,
 "worksheets": [
  {
   "cells": [
    {
     "cell_type": "code",
     "collapsed": false,
     "input": [
      "import glob\n",
      "import os\n",
      "\n",
      "import hdf5_getters\n",
      "import HartiganOnline, VectorQuantizer"
     ],
     "language": "python",
     "metadata": {},
     "outputs": [],
     "prompt_number": 1
    },
    {
     "cell_type": "code",
     "collapsed": false,
     "input": [
      "MSD_DIR = u'/q/boar/boar-p9/MillionSong/'"
     ],
     "language": "python",
     "metadata": {},
     "outputs": [],
     "prompt_number": 2
    },
    {
     "cell_type": "code",
     "collapsed": false,
     "input": [
      "cd /q/boar/boar-p9/MillionSong/AdditionalFiles/"
     ],
     "language": "python",
     "metadata": {},
     "outputs": [
      {
       "output_type": "stream",
       "stream": "stdout",
       "text": [
        "/q/boar/boar-p9/MillionSong/AdditionalFiles\n"
       ]
      }
     ],
     "prompt_number": 4
    },
    {
     "cell_type": "code",
     "collapsed": false,
     "input": [
      "!grep \"Jordan Rudess\" unique_tracks.txt"
     ],
     "language": "python",
     "metadata": {},
     "outputs": [
      {
       "output_type": "stream",
       "stream": "stdout",
       "text": [
        "TRMOSSC128F428A572<SEP>SOAWJNW12A8C13F1F0<SEP>Jordan Rudess<SEP>Quantum Soup\r\n",
        "TRWUUJH128F428A577<SEP>SOLHRAU12A8C13F205<SEP>Jordan Rudess<SEP>Crack The Meter\r\n",
        "TRWDZHM128F428A6C6<SEP>SOSPRJN12A42806221<SEP>Jordan Rudess<SEP>Beyond Tomorrow (Jordan Rudess Vocal)\r\n",
        "TRWONYM128F42906EE<SEP>SOXRWOD12A8C13EBB0<SEP>Jordan Rudess<SEP>For You\r\n",
        "TRWXYKE128F42906EB<SEP>SOFCFQX12A8C13EBA3<SEP>Jordan Rudess<SEP>Speed As Light\r\n",
        "TRWYFYS128F42906E6<SEP>SOMAAKY12A8C13EB8A<SEP>Jordan Rudess<SEP>One Voice\r\n",
        "TRGGBGM128F42906C9<SEP>SOYDRMB12A8C13EAC4<SEP>Jordan Rudess<SEP>Faceless Pastiche\r\n",
        "TRGKXVB128F428A67F<SEP>SOYYWHK12AF72A0FA5<SEP>Jordan Rudess<SEP>Screaming Head\r\n",
        "TRHRSVP128F42925D5<SEP>SODXLCA12A58A77C69<SEP>Jordan Rudess<SEP>Piano Medley\r\n",
        "TRCHEFV128F428A6B3<SEP>SOIWDLQ12A8C140BE3<SEP>Jordan Rudess<SEP>What Four\r\n",
        "TRBRHLV128F428A57A<SEP>SOWKNVZ12A8C13F20C<SEP>Jordan Rudess<SEP>Interstices\r\n",
        "TRBNDIF128F930B4F0<SEP>SODGTHE12A58A768E0<SEP>Steve Morse<SEP>Bar Hopping With Mr. Pinky (feat. Jordan Rudess)\r\n",
        "TRBXUEX128F42906E0<SEP>SONRSCC12A58A7D6B0<SEP>Jordan Rudess<SEP>If I Could\r\n",
        "TRBXXYJ128F428A574<SEP>SOVDSPG12A58A7B5D1<SEP>Jordan Rudess<SEP>Dreaming In Titanium\r\n",
        "TRFWEPR128F428A6B7<SEP>SODJQEU12A8C140BED<SEP>Jordan Rudess<SEP>Ra\r\n",
        "TRFHQDA128F428A67A<SEP>SOPXBXI12A8C13E78A<SEP>Jordan Rudess<SEP>Time Crunch\r\n",
        "TRFNCEL128F42906E1<SEP>SOCIWCD12AF72A0163<SEP>Jordan Rudess<SEP>A Step Beyond\r\n",
        "TRFXBNX128F428A578<SEP>SOSBPXK12A58A7A8D1<SEP>Jordan Rudess<SEP>Headspace\r\n",
        "TRQHAGX128F42906E4<SEP>SOQIMFA12A8C13EB85<SEP>Jordan Rudess<SEP>Lamb Chops\r\n",
        "TRQOAPB128F428A44B<SEP>SOYVLLG12A8C1402E9<SEP>Jordan Rudess<SEP>Etude_ Op.10_ No.12 \"Revolutionary\r\n"
       ]
      },
      {
       "output_type": "stream",
       "stream": "stdout",
       "text": [
        "TRISWLM128F428A573<SEP>SOKNXBO12A8C13F1F5<SEP>Jordan Rudess<SEP>Shifting Sands\r\n",
        "TRIVORC128F42906E7<SEP>SOOLFXM12A8C13EB91<SEP>Jordan Rudess<SEP>Real Time\r\n",
        "TRAFLDI128F428A6BF<SEP>SOZESYL12A8C140F64<SEP>Jordan Rudess<SEP>Tear Before the Rain\r\n",
        "TRAJPPC128F42906E2<SEP>SOYPBBK12A8C13EB7E<SEP>Jordan Rudess<SEP>Outcast\r\n",
        "TRNSPDA128F428A691<SEP>SORQTGI12A58A7A915<SEP>Jordan Rudess<SEP>Beyond Tomorrow\r\n",
        "TRNXCLX128F42906CB<SEP>SONOKBA12A8C13EACB<SEP>Jordan Rudess<SEP>Outcast\r\n",
        "TRPPMYE128F42906C8<SEP>SOJMIHL12A8C13EAC2<SEP>Jordan Rudess<SEP>Osmosis (Vapourspace Remix)\r\n",
        "TRPETAM128F42906EC<SEP>SOTINOT12A58A7A8DB<SEP>Jordan Rudess<SEP>On My World\r\n",
        "TRPOJSW128F42925A5<SEP>SOEFEMX12A8C140CB2<SEP>Jordan Rudess<SEP>Sound of Chaser\r\n",
        "TRTGYWY128F42906E8<SEP>SODTWVR12A8C13EB97<SEP>Jordan Rudess<SEP>Mourning After\r\n",
        "TRTKZKH128F42906E5<SEP>SOICCFK12A8C13EB87<SEP>Jordan Rudess<SEP>Within\r\n",
        "TRTYKEP128F42906DE<SEP>SOCJUKL12A8C13EB71<SEP>Jordan Rudess<SEP>My Thoughts\r\n",
        "TRUCJON128F428A576<SEP>SOARNFJ12AF729ED46<SEP>Jordan Rudess<SEP>Center Of The Sphere\r\n",
        "TRLNUCC128F42925C1<SEP>SOYXWSS12A8C141598<SEP>Jordan Rudess<SEP>Just the Same\r\n",
        "TREBQJU128F4292595<SEP>SOMATDP12A8C140C8A<SEP>Jordan Rudess<SEP>Dance on a Volcano\r\n",
        "TRJJHBZ128F42906C5<SEP>SOZHAKD12A8C13EAB4<SEP>Jordan Rudess<SEP>Tear Before the Rain (Jordan and Kip Vocals)\r\n",
        "TRSYIQE128F428A689<SEP>SOJVYSN12A8C13E7A9<SEP>Jordan Rudess<SEP>Insectsamongus\r\n",
        "TRVOKSU128F42906CD<SEP>SOOVGNB12A8C13EAD2<SEP>Jordan Rudess<SEP>Hoedown\r\n",
        "TRDBNVV128F42925EB<SEP>SOMICLU12A8C1415FD<SEP>Jordan Rudess<SEP>Piece of the Pii\r\n",
        "TRDZMCF128F42925F3<SEP>SOROIAS12A8C13ECAA<SEP>Jordan Rudess<SEP>Tarkus\r\n"
       ]
      },
      {
       "output_type": "stream",
       "stream": "stdout",
       "text": [
        "TRXHGYQ128F428A6A7<SEP>SOBQOCI12A8C140BB9<SEP>Jordan Rudess<SEP>Bar Hopping With Mr. Picky\r\n",
        "TRKCCCB128F428A579<SEP>SOVVNVG12A8C13F20A<SEP>Jordan Rudess<SEP>Revolving Door\r\n",
        "TRKPWCS128F428A571<SEP>SOWIRKQ12A8C13F1EF<SEP>Jordan Rudess<SEP>The Voice (Intro)\r\n",
        "TRKURDD128F42906D0<SEP>SODCVZM12A8C13EADA<SEP>Jordan Rudess<SEP>Feed the Wheel\r\n",
        "TRYBPAH128F42906C6<SEP>SONMBJI12A8C13EAB9<SEP>Jordan Rudess<SEP>Revolutionary Etude\r\n",
        "TRYDOAG128F428A575<SEP>SOJHEWK12A8C13F1FE<SEP>Jordan Rudess<SEP>Ucan Icon\r\n"
       ]
      }
     ],
     "prompt_number": 5
    },
    {
     "cell_type": "code",
     "collapsed": false,
     "input": [
      "MSD_DATA_ROOT = os.path.join(MSD_DIR, 'data')\n",
      "\n",
      "def get_all_song_hotttnesss(basedir, ext='.h5') :\n",
      "    track_to_hotttnesss = dict()\n",
      "    with open(os.path.join(MSD_DIR, 'AdditionalFiles', 'unique_tracks.txt'), 'rb') as f:\n",
      "        for (count, line) in enumerate(f):\n",
      "            track_ID, _, _, _ = line.strip().split('<SEP>')\n",
      "            track_dir = os.path.join(MSD_DATA_ROOT, '/'.join(track_ID[2:5]), track_ID + ext)\n",
      "            h5 = hdf5_getters.open_h5_file_read(track_dir)\n",
      "            hotttnesss = hdf5_getters.get_song_hotttnesss(h5)\n",
      "            if not math.isnan(hotttnesss):\n",
      "                track_to_hotttnesss[track_ID] = hotttnesss\n",
      "            h5.close()  \n",
      "            if not count % 500:\n",
      "                print \"%7d tracks processed\" % count \n",
      "    return track_to_hotttnesss"
     ],
     "language": "python",
     "metadata": {},
     "outputs": [],
     "prompt_number": 27
    },
    {
     "cell_type": "code",
     "collapsed": false,
     "input": [
      "track_to_hotttnesss = get_all_song_hotttnesss(MSD_DIR_BASE)"
     ],
     "language": "python",
     "metadata": {},
     "outputs": [
      {
       "output_type": "stream",
       "stream": "stdout",
       "text": [
        "0 tracks processed\n",
        "500 tracks processed"
       ]
      },
      {
       "output_type": "stream",
       "stream": "stdout",
       "text": [
        "\n",
        "1000 tracks processed"
       ]
      },
      {
       "output_type": "stream",
       "stream": "stdout",
       "text": [
        "\n",
        "1500 tracks processed"
       ]
      },
      {
       "output_type": "stream",
       "stream": "stdout",
       "text": [
        "\n",
        "2000 tracks processed"
       ]
      },
      {
       "output_type": "stream",
       "stream": "stdout",
       "text": [
        "\n",
        "2500 tracks processed"
       ]
      },
      {
       "output_type": "stream",
       "stream": "stdout",
       "text": [
        "\n",
        "3000 tracks processed"
       ]
      },
      {
       "output_type": "stream",
       "stream": "stdout",
       "text": [
        "\n",
        "3500 tracks processed"
       ]
      },
      {
       "output_type": "stream",
       "stream": "stdout",
       "text": [
        "\n",
        "4000 tracks processed"
       ]
      },
      {
       "output_type": "stream",
       "stream": "stdout",
       "text": [
        "\n",
        "4500 tracks processed"
       ]
      },
      {
       "output_type": "stream",
       "stream": "stdout",
       "text": [
        "\n",
        "5000 tracks processed"
       ]
      },
      {
       "output_type": "stream",
       "stream": "stdout",
       "text": [
        "\n",
        "5500 tracks processed"
       ]
      },
      {
       "output_type": "stream",
       "stream": "stdout",
       "text": [
        "\n",
        "6000 tracks processed"
       ]
      },
      {
       "output_type": "stream",
       "stream": "stdout",
       "text": [
        "\n",
        "6500 tracks processed"
       ]
      },
      {
       "output_type": "stream",
       "stream": "stdout",
       "text": [
        "\n",
        "7000 tracks processed"
       ]
      },
      {
       "output_type": "stream",
       "stream": "stdout",
       "text": [
        "\n",
        "7500 tracks processed"
       ]
      },
      {
       "output_type": "stream",
       "stream": "stdout",
       "text": [
        "\n",
        "8000 tracks processed"
       ]
      },
      {
       "output_type": "stream",
       "stream": "stdout",
       "text": [
        "\n",
        "8500 tracks processed"
       ]
      },
      {
       "output_type": "stream",
       "stream": "stdout",
       "text": [
        "\n",
        "9000 tracks processed"
       ]
      }
     ],
     "prompt_number": "*"
    },
    {
     "cell_type": "code",
     "collapsed": false,
     "input": [],
     "language": "python",
     "metadata": {},
     "outputs": []
    }
   ],
   "metadata": {}
  }
 ]
}