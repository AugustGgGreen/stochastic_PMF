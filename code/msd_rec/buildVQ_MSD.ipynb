{
 "metadata": {
  "name": ""
 },
 "nbformat": 3,
 "nbformat_minor": 0,
 "worksheets": [
  {
   "cells": [
    {
     "cell_type": "code",
     "collapsed": false,
     "input": [
      "import cPickle as pickle\n",
      "import itertools\n",
      "import json\n",
      "import operator\n",
      "import os\n",
      "\n",
      "import hdf5_getters\n",
      "import HartiganOnline, VectorQuantizer"
     ],
     "language": "python",
     "metadata": {},
     "outputs": [],
     "prompt_number": 1
    },
    {
     "cell_type": "code",
     "collapsed": false,
     "input": [
      "MSD_DIR = u'/q/boar/boar-p9/MillionSong/'\n",
      "MSD_DATA_ROOT = os.path.join(MSD_DIR, 'data')\n",
      "MSD_LFM_ROOT = os.path.join(MSD_DIR, 'Lastfm')\n",
      "MSD_ADD = os.path.join(MSD_DIR, 'AdditionalFiles')"
     ],
     "language": "python",
     "metadata": {},
     "outputs": [],
     "prompt_number": 39
    },
    {
     "cell_type": "heading",
     "level": 1,
     "metadata": {},
     "source": [
      "Building Codebook from a combination of \"hot\" and not-\"hot\" songs"
     ]
    },
    {
     "cell_type": "code",
     "collapsed": false,
     "input": [
      "# get all the tracks with non-nan hotttnesss\n",
      "def get_all_song_hotttnesss(msd_dir, ext='.h5') :\n",
      "    track_to_hotttnesss = dict()\n",
      "    msd_data_root = os.path.join(msd_dir, 'data')\n",
      "    with open(os.path.join(msd_dir, 'AdditionalFiles', 'unique_tracks.txt'), 'rb') as f:\n",
      "        for (count, line) in enumerate(f):\n",
      "            track_ID, _, _, _ = line.strip().split('<SEP>')\n",
      "            track_dir = os.path.join(msd_data_root, '/'.join(track_ID[2:5]), track_ID + ext)\n",
      "            h5 = hdf5_getters.open_h5_file_read(track_dir)\n",
      "            hotttnesss = hdf5_getters.get_song_hotttnesss(h5)\n",
      "            if not math.isnan(hotttnesss):\n",
      "                track_to_hotttnesss[track_ID] = hotttnesss\n",
      "            h5.close()  \n",
      "            if not count % 1000:\n",
      "                print \"%7d tracks processed\" % count \n",
      "    return track_to_hotttnesss"
     ],
     "language": "python",
     "metadata": {},
     "outputs": [],
     "prompt_number": 3
    },
    {
     "cell_type": "code",
     "collapsed": false,
     "input": [
      "if os.path.exists('track_to_hotttnesss.json'):\n",
      "    with open('track_to_hotttnesss.json', 'rb') as f:\n",
      "        track_to_hotttnesss = json.load(f)\n",
      "else:\n",
      "    track_to_hotttnesss = get_all_song_hotttnesss(MSD_DIR)\n",
      "    with open('track_to_hotttnesss.json', 'wb') as f:\n",
      "        json.dump(track_to_hotttnesss, f)"
     ],
     "language": "python",
     "metadata": {},
     "outputs": [],
     "prompt_number": 4
    },
    {
     "cell_type": "code",
     "collapsed": false,
     "input": [
      "# see some track-hotttnesss pairs\n",
      "track_to_hotttnesss_ordered = sorted(track_to_hotttnesss.iteritems(), key=operator.itemgetter(1), reverse=True)\n",
      "for i in xrange(0, 50000, 1000):\n",
      "    track_ID = track_to_hotttnesss_ordered[i][0]\n",
      "    hotttnesss = track_to_hotttnesss_ordered[i][1]\n",
      "    out = !grep \"$track_ID\" \"$MSD_ADD\"/unique_tracks.txt \n",
      "    print out[0].strip().split('<SEP>')[2:4], 'Hotttnesss:', hotttnesss"
     ],
     "language": "python",
     "metadata": {},
     "outputs": [
      {
       "output_type": "stream",
       "stream": "stdout",
       "text": [
        "['Train', \"If It's Love\"] Hotttnesss: 1.0\n"
       ]
      },
      {
       "output_type": "stream",
       "stream": "stdout",
       "text": [
        "['NEEDTOBREATHE', \"Lay 'Em Down (Album Version)\"] Hotttnesss: 0.910616754441\n"
       ]
      },
      {
       "output_type": "stream",
       "stream": "stdout",
       "text": [
        "['MGMT', 'Siberian Breaks'] Hotttnesss: 0.876462939093\n"
       ]
      },
      {
       "output_type": "stream",
       "stream": "stdout",
       "text": [
        "['The Clash', 'Rock The Casbah'] Hotttnesss: 0.8562455897\n"
       ]
      },
      {
       "output_type": "stream",
       "stream": "stdout",
       "text": [
        "['NEEDTOBREATHE', 'Again (Album Version)'] Hotttnesss: 0.841328129539\n"
       ]
      },
      {
       "output_type": "stream",
       "stream": "stdout",
       "text": [
        "['Air Traffic', 'Never Even Told Me Her Name'] Hotttnesss: 0.829882708577\n"
       ]
      },
      {
       "output_type": "stream",
       "stream": "stdout",
       "text": [
        "['Foreigner', 'Waiting For A Girl Like You'] Hotttnesss: 0.819999142075\n"
       ]
      },
      {
       "output_type": "stream",
       "stream": "stdout",
       "text": [
        "['The Hoosiers', 'Everything Goes Dark'] Hotttnesss: 0.811719327712\n"
       ]
      },
      {
       "output_type": "stream",
       "stream": "stdout",
       "text": [
        "['Born Of Osiris', 'Empires Erased (feat. NO)'] Hotttnesss: 0.803972937132\n"
       ]
      },
      {
       "output_type": "stream",
       "stream": "stdout",
       "text": [
        "['Dido', 'Honestly Ok'] Hotttnesss: 0.796855414613\n"
       ]
      },
      {
       "output_type": "stream",
       "stream": "stdout",
       "text": [
        "['The Rascals', 'People Got To Be Free'] Hotttnesss: 0.790198144188\n"
       ]
      },
      {
       "output_type": "stream",
       "stream": "stdout",
       "text": [
        "['Devotchka', 'Such A Lovely Thing'] Hotttnesss: 0.784054133144\n"
       ]
      },
      {
       "output_type": "stream",
       "stream": "stdout",
       "text": [
        "['The Magnetic Fields', 'Painted Flower'] Hotttnesss: 0.778348356952\n"
       ]
      },
      {
       "output_type": "stream",
       "stream": "stdout",
       "text": [
        "['Red Hot Chili Peppers', 'Parallel Universe (Album Version)'] Hotttnesss: 0.773292762211\n"
       ]
      },
      {
       "output_type": "stream",
       "stream": "stdout",
       "text": [
        "['The Beta Band', 'Round The Bend'] Hotttnesss: 0.768472306887\n"
       ]
      },
      {
       "output_type": "stream",
       "stream": "stdout",
       "text": [
        "['Bob Welch', 'Sentimental Lady'] Hotttnesss: 0.763751073732\n"
       ]
      },
      {
       "output_type": "stream",
       "stream": "stdout",
       "text": [
        "['Bayside', '(Pop)Ular SciencE (Album Version)'] Hotttnesss: 0.759397620647\n"
       ]
      },
      {
       "output_type": "stream",
       "stream": "stdout",
       "text": [
        "['The Classic Crime', 'Gravedigging'] Hotttnesss: 0.755067830168\n"
       ]
      },
      {
       "output_type": "stream",
       "stream": "stdout",
       "text": [
        "['Texas', 'Put Your Arms Around Me'] Hotttnesss: 0.750777674798\n"
       ]
      },
      {
       "output_type": "stream",
       "stream": "stdout",
       "text": [
        "['Bond', 'Kashmir'] Hotttnesss: 0.746971042733\n"
       ]
      },
      {
       "output_type": "stream",
       "stream": "stdout",
       "text": [
        "['Maxwell', 'For Lovers Only'] Hotttnesss: 0.743160541216\n"
       ]
      },
      {
       "output_type": "stream",
       "stream": "stdout",
       "text": [
        "['Hayley Westenra', 'Wuthering Heights'] Hotttnesss: 0.739326575779\n"
       ]
      },
      {
       "output_type": "stream",
       "stream": "stdout",
       "text": [
        "['Hombres G', 'Lo noto (Directo 2003)'] Hotttnesss: 0.735836516521\n"
       ]
      },
      {
       "output_type": "stream",
       "stream": "stdout",
       "text": [
        "['Type O Negative', 'Dead Again'] Hotttnesss: 0.732492083918\n"
       ]
      },
      {
       "output_type": "stream",
       "stream": "stdout",
       "text": [
        "['Boxcutter', 'Kaleid'] Hotttnesss: 0.729125625342\n"
       ]
      },
      {
       "output_type": "stream",
       "stream": "stdout",
       "text": [
        "['The Greenhornes', 'Satisfy My Mind'] Hotttnesss: 0.725975540319\n"
       ]
      },
      {
       "output_type": "stream",
       "stream": "stdout",
       "text": [
        "['Patti Smith Group', 'Ask the Angels'] Hotttnesss: 0.722844727957\n"
       ]
      },
      {
       "output_type": "stream",
       "stream": "stdout",
       "text": [
        "['PATY CANTU', 'D\\xc3\\xa9jame Ir'] Hotttnesss: 0.719756606943\n"
       ]
      },
      {
       "output_type": "stream",
       "stream": "stdout",
       "text": [
        "['Mad Caddies', 'Leavin'] Hotttnesss: 0.716778766173\n"
       ]
      },
      {
       "output_type": "stream",
       "stream": "stdout",
       "text": [
        "['At The Gates', 'All Life Ends - live'] Hotttnesss: 0.713848223098\n"
       ]
      },
      {
       "output_type": "stream",
       "stream": "stdout",
       "text": [
        "['Whitechapel', 'Reprogrammed to Hate'] Hotttnesss: 0.710887119948\n"
       ]
      },
      {
       "output_type": "stream",
       "stream": "stdout",
       "text": [
        "['Refused', 'Worthless Is The Freedom Bought...'] Hotttnesss: 0.708310522057\n"
       ]
      },
      {
       "output_type": "stream",
       "stream": "stdout",
       "text": [
        "['Era', 'Impera'] Hotttnesss: 0.705399758021\n"
       ]
      },
      {
       "output_type": "stream",
       "stream": "stdout",
       "text": [
        "['Bilal', \"L'almagne\"] Hotttnesss: 0.70277208813\n"
       ]
      },
      {
       "output_type": "stream",
       "stream": "stdout",
       "text": [
        "['Hoboken', 'Beauty Queen'] Hotttnesss: 0.700057178504\n"
       ]
      },
      {
       "output_type": "stream",
       "stream": "stdout",
       "text": [
        "['Jesca Hoop', 'Silverscreen'] Hotttnesss: 0.697480929478\n"
       ]
      },
      {
       "output_type": "stream",
       "stream": "stdout",
       "text": [
        "['Michael Crawford', 'It Only Takes A Moment'] Hotttnesss: 0.694955392886\n"
       ]
      },
      {
       "output_type": "stream",
       "stream": "stdout",
       "text": [
        "['GRAVEWORM', 'Suicide Code'] Hotttnesss: 0.692559540415\n"
       ]
      },
      {
       "output_type": "stream",
       "stream": "stdout",
       "text": [
        "[\"Caribou (formerly Dan Snaith's Manitoba)\", 'Tits & Ass: The Great Canadian Weekend'] Hotttnesss: 0.690288229894\n"
       ]
      },
      {
       "output_type": "stream",
       "stream": "stdout",
       "text": [
        "['Blur', 'Sing'] Hotttnesss: 0.687759716257\n"
       ]
      },
      {
       "output_type": "stream",
       "stream": "stdout",
       "text": [
        "['Ojos De Brujo', 'Zambra'] Hotttnesss: 0.685483518941\n"
       ]
      },
      {
       "output_type": "stream",
       "stream": "stdout",
       "text": [
        "['John Vanderslice', 'Hard Times'] Hotttnesss: 0.683129716224\n"
       ]
      },
      {
       "output_type": "stream",
       "stream": "stdout",
       "text": [
        "['Balkan Beat Box', 'Marcha De la Vida'] Hotttnesss: 0.681094572011\n"
       ]
      },
      {
       "output_type": "stream",
       "stream": "stdout",
       "text": [
        "['Jeru The Damaja', 'Seinfeld'] Hotttnesss: 0.678918045265\n"
       ]
      },
      {
       "output_type": "stream",
       "stream": "stdout",
       "text": [
        "['Maj Karma', 'Sid ja Nancy'] Hotttnesss: 0.676754002877\n"
       ]
      },
      {
       "output_type": "stream",
       "stream": "stdout",
       "text": [
        "['Macy Gray', 'Jesus For A Day'] Hotttnesss: 0.674640755004\n"
       ]
      },
      {
       "output_type": "stream",
       "stream": "stdout",
       "text": [
        "['Brian Bromberg', 'Choices'] Hotttnesss: 0.67255857403\n"
       ]
      },
      {
       "output_type": "stream",
       "stream": "stdout",
       "text": [
        "['Gustavo Cerati', 'Deja Vu'] Hotttnesss: 0.670469485253\n"
       ]
      },
      {
       "output_type": "stream",
       "stream": "stdout",
       "text": [
        "['Television', 'Torn Curtain (Remastered LP Version)'] Hotttnesss: 0.66841936937\n"
       ]
      },
      {
       "output_type": "stream",
       "stream": "stdout",
       "text": [
        "['Wilson Phillips', 'The Dream is Still Alive'] Hotttnesss: 0.666465073085\n"
       ]
      }
     ],
     "prompt_number": 5
    },
    {
     "cell_type": "code",
     "collapsed": false,
     "input": [
      "# and see how the hotttnesss are distributed\n",
      "hist(track_to_hotttnesss.values(), bins=20)\n",
      "pass"
     ],
     "language": "python",
     "metadata": {},
     "outputs": [
      {
       "metadata": {},
       "output_type": "display_data",
       "png": "[encoded data removed]",
       "text": [
        "<matplotlib.figure.Figure at 0x2b0c810>"
       ]
      }
     ],
     "prompt_number": 6
    },
    {
     "cell_type": "code",
     "collapsed": false,
     "input": [
      "# randomly select 47500 non-zero-hotttnesss tracks and 2500 zeros-hotttnesss tracks\n",
      "np.random.seed(98765)\n",
      "tracks_nzhotttnesss = np.random.choice(filter(lambda x: track_to_hotttnesss[x] != 0.0, track_to_hotttnesss.keys()), \n",
      "                                       size=47500, replace=False)\n",
      "tracks_zhotttnesss = np.random.choice(filter(lambda x: track_to_hotttnesss[x] == 0.0, track_to_hotttnesss.keys()), \n",
      "                                      size=2500, replace=False)\n",
      "tracks_VQ = np.hstack((tracks_nzhotttnesss, tracks_zhotttnesss))"
     ],
     "language": "python",
     "metadata": {},
     "outputs": [],
     "prompt_number": 8
    },
    {
     "cell_type": "code",
     "collapsed": false,
     "input": [
      "def data_generator(msd_data_root, tracks, shuffle=True, ext='.h5'):\n",
      "    if shuffle:\n",
      "        np.random.shuffle(tracks)\n",
      "    for track_ID in tracks:\n",
      "        track_dir = os.path.join(msd_data_root, '/'.join(track_ID[2:5]), track_ID + ext)\n",
      "        h5 = hdf5_getters.open_h5_file_read(track_dir)\n",
      "        mfcc = hdf5_getters.get_segments_timbre(h5)\n",
      "        h5.close()\n",
      "        if shuffle:\n",
      "            np.random.shuffle(mfcc)\n",
      "        yield mfcc"
     ],
     "language": "python",
     "metadata": {},
     "outputs": [],
     "prompt_number": 9
    },
    {
     "cell_type": "code",
     "collapsed": false,
     "input": [
      "def build_codewords(msd_data_root, tracks, cluster=None, n_clusters=2, max_iter=10, random_state=None):\n",
      "    if type(random_state) is int:\n",
      "        np.random.seed(random_state)\n",
      "    elif random_state is not None:\n",
      "        np.random.setstate(random_state)\n",
      "        \n",
      "    if cluster is None:    \n",
      "        cluster = HartiganOnline.HartiganOnline(n_clusters=n_clusters)\n",
      "    \n",
      "    for i in xrange(max_iter):\n",
      "        print 'Iteration %d: passing through the data...' % (i+1)\n",
      "        for d in data_generator(msd_data_root, tracks):\n",
      "            cluster.partial_fit(d)\n",
      "    return cluster"
     ],
     "language": "python",
     "metadata": {},
     "outputs": [],
     "prompt_number": 20
    },
    {
     "cell_type": "code",
     "collapsed": false,
     "input": [
      "K = 512\n",
      "cluster = build_codewords(MSD_DATA_ROOT, tracks_VQ, n_clusters=K, max_iter=3, random_state=98765)"
     ],
     "language": "python",
     "metadata": {},
     "outputs": [
      {
       "output_type": "stream",
       "stream": "stdout",
       "text": [
        "\n"
       ]
      }
     ],
     "prompt_number": 11
    },
    {
     "cell_type": "code",
     "collapsed": false,
     "input": [
      "figure(figsize=(22, 4))\n",
      "imshow(cluster.cluster_centers_.T, cmap=cm.PuOr_r, aspect='auto', interpolation='nearest')\n",
      "colorbar()"
     ],
     "language": "python",
     "metadata": {},
     "outputs": [
      {
       "metadata": {},
       "output_type": "pyout",
       "prompt_number": 12,
       "text": [
        "<matplotlib.colorbar.Colorbar instance at 0xc59af38>"
       ]
      },
      {
       "metadata": {},
       "output_type": "display_data",
       "png": "[encoded data removed]",
       "text": [
        "<matplotlib.figure.Figure at 0xc5ad290>"
       ]
      }
     ],
     "prompt_number": 12
    },
    {
     "cell_type": "code",
     "collapsed": false,
     "input": [
      "with open('Codebook_K%d_Hartigan' % K, 'wb') as f:\n",
      "    pickle.dump(cluster, f)"
     ],
     "language": "python",
     "metadata": {},
     "outputs": [],
     "prompt_number": 14
    },
    {
     "cell_type": "heading",
     "level": 1,
     "metadata": {},
     "source": [
      "Load last.fm tagging data"
     ]
    },
    {
     "cell_type": "code",
     "collapsed": false,
     "input": [
      "ls \"$MSD_LFM_ROOT\""
     ],
     "language": "python",
     "metadata": {},
     "outputs": [
      {
       "output_type": "stream",
       "stream": "stdout",
       "text": [
        "\u001b[0m\u001b[01;32mcheck_bad_search.py\u001b[0m*       \u001b[01;32mcreator.py~\u001b[0m*       \u001b[01;32mget_all_tags.py~\u001b[0m*   \u001b[01;34mlastfm_test\u001b[0m/      log_creator_2011-09-2015:07:06.933953.log  missing_both.txt      name_to_tid.json  README.txt\r\n",
        "\u001b[01;32mcheck_bad_search.py~\u001b[0m*      creator.pyc        id_artist_title     lastfm_test.zip   log_creator_2011-09-2015:22:56.842958.log  missing_similars.txt  pylast.py         \u001b[01;32msplit_train_test.py\u001b[0m*\r\n",
        "\u001b[01;32mcheck_potential_probs.py\u001b[0m*  \u001b[01;32mget_all_names.py\u001b[0m*  lastfm_similars.db  \u001b[01;34mlastfm_train\u001b[0m/     \u001b[01;32mmatch_similars.py\u001b[0m*                         missing_tags.txt      pylast.pyc        tmp.txt\r\n",
        "\u001b[01;32mcreator.py\u001b[0m*                \u001b[01;32mget_all_tags.py\u001b[0m*   lastfm_tags.db      lastfm_train.zip  \u001b[01;32mmatch_similars.py~\u001b[0m*                        \u001b[01;32mmy_count_file.py\u001b[0m*     \u001b[01;34mrawdata\u001b[0m/          unique_tags.txt\r\n"
       ]
      }
     ],
     "prompt_number": 138
    },
    {
     "cell_type": "code",
     "collapsed": false,
     "input": [
      "# get all the unique tags and the corresponding counts\n",
      "uniq_tag_f = os.path.join(MSD_LFM_ROOT, 'unique_tags.txt')"
     ],
     "language": "python",
     "metadata": {},
     "outputs": [],
     "prompt_number": 139
    },
    {
     "cell_type": "code",
     "collapsed": false,
     "input": [
      "filtered_tags = (# favorate/like/love/blabla\n",
      "                 'favorites', 'Favorite', 'Favourites', 'favourite', 'favorite songs', 'Favourite Songs', 'favorite song', \n",
      "                 'songs i love', 'lovedbybeyondwithin', 'Love it', 'love at first listen', 'fav', 'my favorite', 'top 40', \n",
      "                 'songs I absolutely love', 'favs', 'My Favorites', 'Favorite Artists', 'All time favourites', 'personal favourites',\n",
      "                 'favouritestreamable', 'favorite tracks', 'Favorite Bands', 'like it', 'I love this song', 'rex ferric faves',\n",
      "                 'love to death', 'my gang 09', 'My Favourites', 'BeatbabeBop selection', 'I Like It', 'newbest', 'top',\n",
      "                 'IIIIIIIIII AMAZING TRACK :D IIIIIIIIII', 'best songs of the 80s', 'LOVE LOVE LOVE', 'i love it', 'most loved',\n",
      "                 'favorite by this group', 'amayzes loved', 'DJPMan-loved-tracks', 'best of 2008', 'loved', 'Makes Me Smile',\n",
      "                 '77davez-all-tracks', 'My pop music', 'best songs ever', 'favorite by this singer', 'I like', 'my music',\n",
      "                 'Soundtrack Of My Life', 'UK top 40', 'Like', 'malloy2000 playlist - top songs - classical to metal', 'loved tracks',\n",
      "                 'top artists', 'all time favorites', 'best songs of the 00s', 'favourite tracks', 'Solomusika-Loved', \n",
      "                 'all time faves', 'british i like', 'Jills Station', 'de todo mio favoritos', 'Faves', 'Fave',\n",
      "\n",
      "                 # great/awesome/blabla\n",
      "                 'kick ass', 'wonderful', 'excellent', 'Great Lyricists', 'badass', 'awesomeness', 'great song', 'Awesome', 'cool',  \n",
      "                 'amazing', 'good', 'nice', 'sweet', 'best', 'FUCKING AWESOME', 'lovely', 'Good Stuff', 'brilliant', 'feel good', \n",
      "                 'perfect', 'all the best', 'cute', 'the best', '<3', 'interesting', 'feelgood', 'pretty', 'i feel good', 'good shit',\n",
      "                 'good music', 'good song', 'great songs', 'yeah', 'best song ever', 'wow', 'worship', 'makes me happy', 'ok',\n",
      "                 'damned good', 'underrated', 'Perfection',\n",
      "                 \n",
      "                 # rating\n",
      "                 '1', '3', '4', '5', '4 Stars', '3 stars', '4 Star', '3 star', '3-star',\n",
      "                 \n",
      "                 # year\n",
      "                 '1992', '1993', '1994', '1995', '1996', '1997', '1998', '1999', '2000', '2001', '2002', '2003', '2004', '2005', \n",
      "                 '2006', '2007', '2008', '2009', '2010',\n",
      "                 \n",
      "                 # descriptive\n",
      "                 'songwriter', 'singer-songwriter', 'cover', 'covers', 'seen live', 'heard on Pandora', 'title is a full sentence',\n",
      "                 'Retro', 'Miscellaneous', 'collection', 'billboard number ones', 'ost', 'cover song', 'singer songwriter', 'new',\n",
      "                 'download', 'over 5 minutes long', 'Soundtracks', 'under two minutes', 'albums I own', 'cover songs', 'Radio',\n",
      "                 'heard on last-fm',\n",
      "      \n",
      "                 # I don't know what you are talking about\n",
      "                 'buy', 'lol', 'us', 'other', '2giveme5', 'i am a party girl here is my soundtrack', 'names', 'Tag', 'check out',\n",
      "                 'f', 'test', 'out of our heads', 'me', 'I want back to the 80s', '9 lbs hammer', 'yes',\n",
      "                 )  "
     ],
     "language": "python",
     "metadata": {},
     "outputs": [],
     "prompt_number": 161
    },
    {
     "cell_type": "code",
     "collapsed": false,
     "input": [
      "tags = set()\n",
      "\n",
      "# we only pick the tags with >= 1000 counts, otherwise it's just too noisy\n",
      "# e.g. \"writing papers to pay for the college you have gotten into\" has 13 counts \n",
      "with open(uniq_tag_f, 'rb') as f:\n",
      "    for line in f:\n",
      "        try:\n",
      "            tag, count = line.strip().split('\\t', 2)\n",
      "            if int(count) >= 1000:\n",
      "                if not tag in filtered_tags:\n",
      "                    tags.add(sanitize(tag))\n",
      "                pass\n",
      "            else:\n",
      "                # since the file is ordered by count\n",
      "                break\n",
      "        except ValueError as e:\n",
      "            print 'The following line raises the error:', e\n",
      "            # there is one line with no tag information, but with less than 1000 counts\n",
      "            print line"
     ],
     "language": "python",
     "metadata": {},
     "outputs": [],
     "prompt_number": 202
    },
    {
     "cell_type": "code",
     "collapsed": false,
     "input": [
      "len(tags)"
     ],
     "language": "python",
     "metadata": {},
     "outputs": [
      {
       "metadata": {},
       "output_type": "pyout",
       "prompt_number": 203,
       "text": [
        "639"
       ]
      }
     ],
     "prompt_number": 203
    },
    {
     "cell_type": "code",
     "collapsed": false,
     "input": [
      "voc = sorted(tags)"
     ],
     "language": "python",
     "metadata": {},
     "outputs": [],
     "prompt_number": 204
    },
    {
     "cell_type": "code",
     "collapsed": false,
     "input": [
      "def sanitize(tag):\n",
      "    return tag.lower().replace(\"-\", \" \").replace(\"'\", \"''\")"
     ],
     "language": "python",
     "metadata": {},
     "outputs": [],
     "prompt_number": 198
    },
    {
     "cell_type": "code",
     "collapsed": false,
     "input": [
      "voc"
     ],
     "language": "python",
     "metadata": {},
     "outputs": [
      {
       "metadata": {},
       "output_type": "pyout",
       "prompt_number": 205,
       "text": [
        "['00s',\n",
        " '10s',\n",
        " '131',\n",
        " '1950s',\n",
        " '1960s',\n",
        " '1970s',\n",
        " '1980s',\n",
        " '1990s',\n",
        " '2000s',\n",
        " '20th century',\n",
        " '21st century',\n",
        " \"50''s\",\n",
        " '50s',\n",
        " \"60''s\",\n",
        " '60s',\n",
        " '60s gold',\n",
        " \"70''s\",\n",
        " '70s',\n",
        " \"80''s\",\n",
        " '80s',\n",
        " '80s pop',\n",
        " '80s rock',\n",
        " \"90''s\",\n",
        " '90s',\n",
        " '90s rock',\n",
        " 'a subtle use of vocal harmony',\n",
        " 'a vocal centric aesthetic',\n",
        " 'acclaimed music top 3000',\n",
        " 'acid jazz',\n",
        " 'acordes geniales',\n",
        " 'acoustic',\n",
        " 'acoustic guitar',\n",
        " 'acoustic rock',\n",
        " 'addictive',\n",
        " 'adrien wayne',\n",
        " 'adult alternative',\n",
        " 'adult contemporary',\n",
        " 'africa',\n",
        " 'african',\n",
        " 'aggressive',\n",
        " 'aitch',\n",
        " 'album rock',\n",
        " 'allboutguitar',\n",
        " 'alt country',\n",
        " 'alt rock',\n",
        " 'alternate rock',\n",
        " 'alternative',\n",
        " 'alternative  punk',\n",
        " 'alternative metal',\n",
        " 'alternative pop',\n",
        " 'alternative rock',\n",
        " 'ambient',\n",
        " 'american',\n",
        " 'americana',\n",
        " 'angry',\n",
        " 'animals',\n",
        " 'annymix',\n",
        " 'anthem',\n",
        " 'arena rock',\n",
        " 'art rock',\n",
        " 'atmosphere',\n",
        " 'atmospheric',\n",
        " 'attitude',\n",
        " 'audioase',\n",
        " 'australian',\n",
        " 'avant garde',\n",
        " 'avantgarde',\n",
        " 'awesome guitar jams',\n",
        " 'ballad',\n",
        " 'ballads',\n",
        " 'basically bass',\n",
        " 'bass',\n",
        " 'beat',\n",
        " 'beats',\n",
        " 'beautiful',\n",
        " 'bebop',\n",
        " 'berlin',\n",
        " 'big band',\n",
        " 'big beat',\n",
        " 'bittersweet',\n",
        " 'black',\n",
        " 'black metal',\n",
        " 'blingtacular',\n",
        " 'blue',\n",
        " 'bluegrass',\n",
        " 'blues',\n",
        " 'blues rock',\n",
        " 'bossa nova',\n",
        " 'bouncy',\n",
        " 'brain2brain',\n",
        " 'brasil',\n",
        " 'brazil',\n",
        " 'brazilian',\n",
        " 'breakbeat',\n",
        " 'breaks',\n",
        " 'brems tagg radio',\n",
        " 'brit pop',\n",
        " 'brit rock',\n",
        " 'british',\n",
        " 'british rock',\n",
        " 'britpop',\n",
        " 'britrock',\n",
        " 'brutal',\n",
        " 'brutal death metal',\n",
        " 'california',\n",
        " 'calm',\n",
        " 'calming',\n",
        " 'canada',\n",
        " 'canadian',\n",
        " 'catchy',\n",
        " 'celeste nostalgia',\n",
        " 'celtic',\n",
        " 'chanson',\n",
        " 'chanson francaise',\n",
        " 'chill',\n",
        " 'chill out',\n",
        " 'chilled',\n",
        " 'chillout',\n",
        " 'christian',\n",
        " 'christian rock',\n",
        " 'christmas',\n",
        " 'cinematic',\n",
        " 'classic',\n",
        " 'classic blues',\n",
        " 'classic country',\n",
        " 'classic metal',\n",
        " 'classic rock',\n",
        " 'classic soul',\n",
        " 'classical',\n",
        " 'classics',\n",
        " 'close harmony',\n",
        " 'club',\n",
        " 'comedy',\n",
        " 'contemporary christian',\n",
        " 'contemporary classical',\n",
        " 'contemporary gospel tag',\n",
        " 'contemporary jazz',\n",
        " 'cool jazz',\n",
        " 'country',\n",
        " 'country rock',\n",
        " 'crazy',\n",
        " 'crossover',\n",
        " 'crowe',\n",
        " 'dance',\n",
        " 'dance party',\n",
        " 'dance pop',\n",
        " 'danceable',\n",
        " 'dancehall',\n",
        " 'dancemania',\n",
        " 'dancing',\n",
        " 'dark',\n",
        " 'dark ambient',\n",
        " 'dark electro',\n",
        " 'darkwave',\n",
        " 'death',\n",
        " 'death metal',\n",
        " 'deathcore',\n",
        " 'deep',\n",
        " 'deep house',\n",
        " 'delta blues',\n",
        " 'depressing',\n",
        " 'detroit',\n",
        " 'deutsch',\n",
        " 'deutschrock',\n",
        " 'disco',\n",
        " 'diva',\n",
        " 'dj',\n",
        " 'dnb',\n",
        " 'doo wop',\n",
        " 'doom',\n",
        " 'doom metal',\n",
        " 'downbeat',\n",
        " 'downtempo',\n",
        " 'dramatic',\n",
        " 'dream',\n",
        " 'dream pop',\n",
        " 'dreamy',\n",
        " 'driving',\n",
        " 'drjazzmrfunkmusic',\n",
        " 'drone',\n",
        " 'drugs',\n",
        " 'drum and bass',\n",
        " 'drum n bass',\n",
        " 'drums',\n",
        " 'dub',\n",
        " 'dubstep',\n",
        " 'dutch',\n",
        " 'east coast rap',\n",
        " 'easy',\n",
        " 'easy listening',\n",
        " 'ebm',\n",
        " 'eddie',\n",
        " 'eighties',\n",
        " 'electro',\n",
        " 'electro house',\n",
        " 'electro pop',\n",
        " 'electroclash',\n",
        " 'electronic',\n",
        " 'electronica',\n",
        " 'electronicadance',\n",
        " 'electropop',\n",
        " 'emo',\n",
        " 'emocore',\n",
        " 'emotional',\n",
        " 'emotive',\n",
        " 'emusic',\n",
        " 'energetic',\n",
        " 'energy',\n",
        " 'england',\n",
        " 'english',\n",
        " 'epic',\n",
        " 'espanol',\n",
        " 'essentials',\n",
        " 'ethereal',\n",
        " 'ethnic',\n",
        " 'eurodance',\n",
        " 'european',\n",
        " 'excellent tune',\n",
        " 'experimental',\n",
        " 'experimental rock',\n",
        " 'extensive vamping',\n",
        " 'fast',\n",
        " 'female',\n",
        " 'female artists',\n",
        " 'female fronted metal',\n",
        " 'female singers',\n",
        " 'female vocal',\n",
        " 'female vocalist',\n",
        " 'female vocalists',\n",
        " 'female vocals',\n",
        " 'female voices',\n",
        " 'fh projex',\n",
        " 'finland',\n",
        " 'finnish',\n",
        " 'finnish metal',\n",
        " 'flamenco',\n",
        " 'flute',\n",
        " 'folk',\n",
        " 'folk metal',\n",
        " 'folk rock',\n",
        " 'fon',\n",
        " 'francais',\n",
        " 'france',\n",
        " 'freedom',\n",
        " 'french',\n",
        " 'friendsofthekingofrummelpop',\n",
        " 'fun',\n",
        " 'funk',\n",
        " 'funky',\n",
        " 'funny',\n",
        " 'fusion',\n",
        " 'gangsta rap',\n",
        " 'garage',\n",
        " 'garage rock',\n",
        " 'geil',\n",
        " 'genius',\n",
        " 'german',\n",
        " 'germany',\n",
        " 'gh 3',\n",
        " 'gh10',\n",
        " 'girl power',\n",
        " 'gitarrenunterricht',\n",
        " 'glam',\n",
        " 'glam metal',\n",
        " 'glam rock',\n",
        " 'glitch',\n",
        " 'goa',\n",
        " 'golden oldies',\n",
        " 'good beat',\n",
        " 'good mood',\n",
        " 'gorgeous',\n",
        " 'gospel',\n",
        " 'gotanygoodmusic',\n",
        " 'goth',\n",
        " 'goth rock',\n",
        " 'gothic',\n",
        " 'gothic metal',\n",
        " 'gothic rock',\n",
        " 'great',\n",
        " 'great lyrics',\n",
        " 'grindcore',\n",
        " 'groove',\n",
        " 'groovy',\n",
        " 'grunge',\n",
        " 'guilty pleasure',\n",
        " 'guilty pleasures',\n",
        " 'guitar',\n",
        " 'guitar hero',\n",
        " 'guitar solo',\n",
        " 'guitar virtuoso',\n",
        " 'gute laune',\n",
        " 'hair metal',\n",
        " 'halftoned singles club',\n",
        " 'halloween',\n",
        " 'handclaps',\n",
        " 'happy',\n",
        " 'hard',\n",
        " 'hard rock',\n",
        " 'hardcore',\n",
        " 'hardcore punk',\n",
        " 'harmonica',\n",
        " 'haunting',\n",
        " 'heartbreak',\n",
        " 'heavy',\n",
        " 'heavy metal',\n",
        " 'high school',\n",
        " 'hip hop',\n",
        " 'hiphop',\n",
        " 'horns',\n",
        " 'hot',\n",
        " 'house',\n",
        " 'humor',\n",
        " 'hypnotic',\n",
        " 'idm',\n",
        " 'ik ben',\n",
        " 'indie',\n",
        " 'indie folk',\n",
        " 'indie pop',\n",
        " 'indie rock',\n",
        " 'indietronica',\n",
        " 'industrial',\n",
        " 'industrial metal',\n",
        " 'industrial rock',\n",
        " 'inspirational',\n",
        " 'inspiring',\n",
        " 'instrumental',\n",
        " 'instrumental jazz tag',\n",
        " 'instrumental rock',\n",
        " 'intense',\n",
        " 'ion b radio',\n",
        " 'irish',\n",
        " 'italian',\n",
        " 'italiana',\n",
        " 'jam',\n",
        " 'jamaica',\n",
        " 'japanese',\n",
        " 'jazz',\n",
        " 'jazz funk',\n",
        " 'jazz fusion',\n",
        " 'jazz instrumental',\n",
        " 'jazz piano',\n",
        " 'jazz rock',\n",
        " 'jazz vocal',\n",
        " 'jazzy',\n",
        " 'karlsruhe',\n",
        " 'lacrimaindarkness',\n",
        " 'late night',\n",
        " 'latin',\n",
        " 'latin jazz',\n",
        " 'latin pop',\n",
        " 'latin rock',\n",
        " 'latino',\n",
        " 'leapsandloved',\n",
        " 'legend',\n",
        " 'life',\n",
        " 'light',\n",
        " 'linedance',\n",
        " 'live',\n",
        " 'lo fi',\n",
        " 'london',\n",
        " 'loneliness after dusk',\n",
        " 'loud',\n",
        " 'lounge',\n",
        " 'love',\n",
        " 'love song',\n",
        " 'love songs',\n",
        " 'lovesongs',\n",
        " 'ls',\n",
        " 'lush',\n",
        " 'lyrics',\n",
        " 'magic',\n",
        " 'major key tonality',\n",
        " 'male',\n",
        " 'male vocal',\n",
        " 'male vocalist',\n",
        " 'male vocalists',\n",
        " 'male vocals',\n",
        " 'malesinger',\n",
        " 'masterpiece',\n",
        " 'meditation',\n",
        " 'melancholic',\n",
        " 'melancholy',\n",
        " 'mellow',\n",
        " 'melodic',\n",
        " 'melodic black metal',\n",
        " 'melodic death metal',\n",
        " 'melodic hardcore',\n",
        " 'melodic metal',\n",
        " 'melodic rock',\n",
        " 'melodic trance',\n",
        " 'memories',\n",
        " 'metal',\n",
        " 'metalcore',\n",
        " 'metallis',\n",
        " 'metro downtempo',\n",
        " 'metro electronica',\n",
        " 'metro funky',\n",
        " 'metro jazz',\n",
        " 'mid',\n",
        " 'mild rhythmic syncopation',\n",
        " 'minimal',\n",
        " 'minimal techno',\n",
        " 'minor key tonality',\n",
        " 'mod',\n",
        " 'modern rock',\n",
        " 'moody',\n",
        " 'morning',\n",
        " 'motown',\n",
        " 'mpb',\n",
        " 'music',\n",
        " 'music to fall asleep to',\n",
        " 'musicspirit',\n",
        " 'neo soul',\n",
        " 'new age',\n",
        " 'new romantic',\n",
        " 'new wave',\n",
        " 'new york',\n",
        " 'night',\n",
        " 'ninja tune',\n",
        " 'noise',\n",
        " 'noise rock',\n",
        " 'northern soul',\n",
        " 'norwegian',\n",
        " 'nostalgia',\n",
        " 'nostalgic',\n",
        " 'nu jazz',\n",
        " 'nu metal',\n",
        " 'nyc',\n",
        " 'oi',\n",
        " 'old favorites',\n",
        " 'old school',\n",
        " 'old school soul',\n",
        " 'old skool',\n",
        " 'oldies',\n",
        " 'party',\n",
        " 'party music',\n",
        " 'peaceful',\n",
        " 'piano',\n",
        " 'piano rock',\n",
        " 'playful',\n",
        " 'poetry',\n",
        " 'polish',\n",
        " 'political',\n",
        " 'pop',\n",
        " 'pop life',\n",
        " 'pop punk',\n",
        " 'pop rock',\n",
        " 'poprock',\n",
        " 'popular',\n",
        " 'positive',\n",
        " 'post grunge',\n",
        " 'post hardcore',\n",
        " 'post punk',\n",
        " 'post rock',\n",
        " 'power',\n",
        " 'power ballad',\n",
        " 'power metal',\n",
        " 'power pop',\n",
        " 'powerful',\n",
        " 'powerpop',\n",
        " 'prda',\n",
        " 'prog',\n",
        " 'prog rock',\n",
        " 'progressiv',\n",
        " 'progressive',\n",
        " 'progressive death metal',\n",
        " 'progressive house',\n",
        " 'progressive metal',\n",
        " 'progressive rock',\n",
        " 'progressive trance',\n",
        " 'proto punk',\n",
        " 'psychedelic',\n",
        " 'psychedelic rock',\n",
        " 'psychill',\n",
        " 'psychobilly',\n",
        " 'psytrance',\n",
        " 'punk',\n",
        " 'punk favorites',\n",
        " 'punk rock',\n",
        " 'punkrock',\n",
        " 'q3',\n",
        " 'quarkzangsun v1',\n",
        " 'quiet',\n",
        " 'quiet storm',\n",
        " 'quirky',\n",
        " 'r and b',\n",
        " 'r&b',\n",
        " 'radiotsar approved',\n",
        " 'rain',\n",
        " 'rainy day',\n",
        " 'rap',\n",
        " 'rapcore',\n",
        " 'rave',\n",
        " 'rb',\n",
        " 'reflective',\n",
        " 'reggae',\n",
        " 'relax',\n",
        " 'relaxed',\n",
        " 'relaxing',\n",
        " 'remix',\n",
        " 'repetitive melodic phrasing',\n",
        " 'rhythm and blues',\n",
        " 'rhythum and blues tag',\n",
        " 'rnb',\n",
        " 'rock',\n",
        " 'rock  roll',\n",
        " 'rock and roll',\n",
        " 'rock ballad',\n",
        " 'rock en espanol',\n",
        " 'rock n roll',\n",
        " 'rockabilly',\n",
        " 'rockin',\n",
        " 'rockpop',\n",
        " 'rocksteady',\n",
        " 'romance',\n",
        " 'romantic',\n",
        " 'romantica',\n",
        " 'roots',\n",
        " 'roots reggae',\n",
        " 'sad',\n",
        " 'salsa',\n",
        " 'samba',\n",
        " 'san francisco',\n",
        " 'sax',\n",
        " 'saxophone',\n",
        " 'scandinavian',\n",
        " 'scottish',\n",
        " 'screamo',\n",
        " 'seattle',\n",
        " 'sensual',\n",
        " 'sentimental',\n",
        " 'sex',\n",
        " 'sexy',\n",
        " 'shoegaze',\n",
        " 'silent intensity',\n",
        " 'sing along',\n",
        " 'singalong',\n",
        " 'singer',\n",
        " 'sixties',\n",
        " 'ska',\n",
        " 'ska punk',\n",
        " 'sleek',\n",
        " 'sleep',\n",
        " 'slgdm',\n",
        " 'slgdmbestof',\n",
        " 'slordig',\n",
        " 'slow',\n",
        " 'slow jams',\n",
        " 'sludge',\n",
        " 'smooth',\n",
        " 'smooth jazz',\n",
        " 'soft',\n",
        " 'soft rock',\n",
        " 'solx',\n",
        " 'somafm',\n",
        " 'sommer',\n",
        " 'soothing',\n",
        " 'soul',\n",
        " 'soul and rnb classics',\n",
        " 'soul tag',\n",
        " 'soulful',\n",
        " 'sound storm',\n",
        " 'soundtrack',\n",
        " 'sousaphonic aotm 201102',\n",
        " 'southern rock',\n",
        " 'space',\n",
        " 'space rock',\n",
        " 'spanish',\n",
        " 'spanish rock',\n",
        " 'special',\n",
        " 'speed',\n",
        " 'speed metal',\n",
        " 'spiritual',\n",
        " 'spoken word',\n",
        " 'spring',\n",
        " 'stoner',\n",
        " 'stoner rock',\n",
        " 'stonesoup',\n",
        " 'stream',\n",
        " 'streamable track wants',\n",
        " 'strings',\n",
        " 'summer',\n",
        " 'sunday',\n",
        " 'sunny',\n",
        " 'suomi',\n",
        " 'suomipop',\n",
        " 'suomirock',\n",
        " 'super',\n",
        " 'surf',\n",
        " 'sweden',\n",
        " 'swedish',\n",
        " 'swedish metal',\n",
        " 'swing',\n",
        " 'symphonic metal',\n",
        " 'symphonic rock',\n",
        " 'synth',\n",
        " 'synth pop',\n",
        " 'synthpop',\n",
        " 'tantotempotaste',\n",
        " 'tech house',\n",
        " 'technical death metal',\n",
        " 'techno',\n",
        " 'temazo',\n",
        " 'texas',\n",
        " 'thrash',\n",
        " 'thrash metal',\n",
        " 'top 2000',\n",
        " 'torquemada',\n",
        " 'trance',\n",
        " 'trip hop',\n",
        " 'trippy',\n",
        " 'trumpet',\n",
        " 'twee',\n",
        " 'uk',\n",
        " 'underground',\n",
        " 'underground hip hop',\n",
        " 'upbeat',\n",
        " 'uplifting',\n",
        " 'uplifting trance',\n",
        " 'urban',\n",
        " 'usa',\n",
        " 'viking metal',\n",
        " 'violin',\n",
        " 'vocal',\n",
        " 'vocal house',\n",
        " 'vocal jazz',\n",
        " 'vocal trance',\n",
        " 'vocalization',\n",
        " 'vocals',\n",
        " 'warm',\n",
        " 'weird',\n",
        " 'west coast',\n",
        " 'winter',\n",
        " 'work',\n",
        " 'workout',\n",
        " 'world',\n",
        " 'world fusion',\n",
        " 'world music',\n",
        " 'xmas']"
       ]
      }
     ],
     "prompt_number": 205
    },
    {
     "cell_type": "code",
     "collapsed": false,
     "input": [
      "redundant_map = {\n",
      "                 '1950s': '50s', '1960s': '60s', '1970s': '70s', '1980s': '80s', '1990s': '90s', '2000s': '00s',\n",
      "                 '50''s': '50s', '60''s': '60s', '70''s': '70s', '80''s': '80s', '90''s': '90s', \n",
      "                 'african': 'africa', \n",
      "                 \n",
      "                 }"
     ],
     "language": "python",
     "metadata": {},
     "outputs": [],
     "prompt_number": 174
    },
    {
     "cell_type": "code",
     "collapsed": false,
     "input": [
      "# pickout corresponding data from training/test split\n",
      "import sqlite3"
     ],
     "language": "python",
     "metadata": {},
     "outputs": [
      {
       "output_type": "stream",
       "stream": "stdout",
       "text": [
        "/q/boar/boar-p9/MillionSong/AdditionalFiles/track_metadata.db\n"
       ]
      }
     ],
     "prompt_number": 210
    },
    {
     "cell_type": "code",
     "collapsed": false,
     "input": [
      "md_dbfile = os.path.join(MSD_ADD, 'track_metadata.db')"
     ],
     "language": "python",
     "metadata": {},
     "outputs": [],
     "prompt_number": 211
    },
    {
     "cell_type": "code",
     "collapsed": false,
     "input": [
      "conn = sqlite3.connect(md_dbfile)\n",
      "c = conn.cursor()"
     ],
     "language": "python",
     "metadata": {},
     "outputs": [],
     "prompt_number": 212
    },
    {
     "cell_type": "code",
     "collapsed": false,
     "input": [
      "with open('tracks_tag_train.txt', 'wb') as fw:\n",
      "    with open('artists_train.txt', 'rb') as fr:\n",
      "        for line in fr:\n",
      "            aid = line.strip()\n",
      "            assert len(aid) == 18 and aid[:2] == 'AR'\n",
      "            q = \"SELECT track_id FROM songs WHERE artist_id='%s'\" % aid\n",
      "            res = c.execute(q)\n",
      "            for r in res:\n",
      "                tid = r[0]\n",
      "                track_dir = os.path.join(MSD_LFM_ROOT, 'lastfm_train', '/'.join(tid[2:5]), tid + '.json')\n",
      "                if os.path.exists(track_dir):\n",
      "                    fw.write(tid + '\\n')"
     ],
     "language": "python",
     "metadata": {},
     "outputs": [],
     "prompt_number": "*"
    },
    {
     "cell_type": "code",
     "collapsed": false,
     "input": [
      "with open('tracks_tag_test.txt', 'wb') as fw:\n",
      "    with open('artists_test.txt', 'rb') as fr:\n",
      "        for line in fr:\n",
      "            aid = line.strip()\n",
      "            assert len(aid) == 18 and aid[:2] == 'AR'\n",
      "            q = \"SELECT track_id FROM songs WHERE artist_id='%s'\" % aid\n",
      "            res = c.execute(q)\n",
      "            for r in res:\n",
      "                tid = r[0]\n",
      "                track_dir = os.path.join(MSD_LFM_ROOT, 'lastfm_test', '/'.join(tid[2:5]), tid + '.json')\n",
      "                if os.path.exists(track_dir):\n",
      "                    fw.write(tid + '\\n')"
     ],
     "language": "python",
     "metadata": {},
     "outputs": [],
     "prompt_number": "*"
    },
    {
     "cell_type": "code",
     "collapsed": false,
     "input": [],
     "language": "python",
     "metadata": {},
     "outputs": []
    }
   ],
   "metadata": {}
  }
 ]
}