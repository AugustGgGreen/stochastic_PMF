{
 "metadata": {
  "name": ""
 },
 "nbformat": 3,
 "nbformat_minor": 0,
 "worksheets": [
  {
   "cells": [
    {
     "cell_type": "code",
     "collapsed": false,
     "input": [
      "import cPickle as pickle\n",
      "import itertools\n",
      "import json\n",
      "import operator\n",
      "import os\n",
      "\n",
      "import hdf5_getters\n",
      "import HartiganOnline, VectorQuantizer"
     ],
     "language": "python",
     "metadata": {},
     "outputs": [],
     "prompt_number": 1
    },
    {
     "cell_type": "code",
     "collapsed": false,
     "input": [
      "MSD_DIR = u'/q/boar/boar-p9/MillionSong/'\n",
      "MSD_DATA_ROOT = os.path.join(MSD_DIR, 'data')\n",
      "MSD_ADD = os.path.join(MSD_DIR, 'AdditionalFiles')"
     ],
     "language": "python",
     "metadata": {},
     "outputs": [],
     "prompt_number": 2
    },
    {
     "cell_type": "code",
     "collapsed": false,
     "input": [
      "# get all the tracks with non-nan hotttnesss\n",
      "def get_all_song_hotttnesss(msd_dir, ext='.h5') :\n",
      "    track_to_hotttnesss = dict()\n",
      "    msd_data_root = os.path.join(msd_dir, 'data')\n",
      "    with open(os.path.join(msd_dir, 'AdditionalFiles', 'unique_tracks.txt'), 'rb') as f:\n",
      "        for (count, line) in enumerate(f):\n",
      "            track_ID, _, _, _ = line.strip().split('<SEP>')\n",
      "            track_dir = os.path.join(msd_data_root, '/'.join(track_ID[2:5]), track_ID + ext)\n",
      "            h5 = hdf5_getters.open_h5_file_read(track_dir)\n",
      "            hotttnesss = hdf5_getters.get_song_hotttnesss(h5)\n",
      "            if not math.isnan(hotttnesss):\n",
      "                track_to_hotttnesss[track_ID] = hotttnesss\n",
      "            h5.close()  \n",
      "            if not count % 1000:\n",
      "                print \"%7d tracks processed\" % count \n",
      "    return track_to_hotttnesss"
     ],
     "language": "python",
     "metadata": {},
     "outputs": [],
     "prompt_number": 3
    },
    {
     "cell_type": "code",
     "collapsed": false,
     "input": [
      "if os.path.exists('track_to_hotttnesss.json'):\n",
      "    with open('track_to_hotttnesss.json', 'rb') as f:\n",
      "        track_to_hotttnesss = json.load(f)\n",
      "else:\n",
      "    track_to_hotttnesss = get_all_song_hotttnesss(MSD_DIR)\n",
      "    with open('track_to_hotttnesss.json', 'wb') as f:\n",
      "        json.dump(track_to_hotttnesss, f)"
     ],
     "language": "python",
     "metadata": {},
     "outputs": [],
     "prompt_number": 4
    },
    {
     "cell_type": "code",
     "collapsed": false,
     "input": [
      "# see some track-hotttnesss pairs\n",
      "track_to_hotttnesss_ordered = sorted(track_to_hotttnesss.iteritems(), key=operator.itemgetter(1), reverse=True)\n",
      "for i in xrange(0, 50000, 1000):\n",
      "    track_ID = track_to_hotttnesss_ordered[i][0]\n",
      "    hotttnesss = track_to_hotttnesss_ordered[i][1]\n",
      "    out = !grep \"$track_ID\" \"$MSD_ADD\"/unique_tracks.txt \n",
      "    print out[0].strip().split('<SEP>')[2:4], 'Hotttnesss:', hotttnesss"
     ],
     "language": "python",
     "metadata": {},
     "outputs": [
      {
       "output_type": "stream",
       "stream": "stdout",
       "text": [
        "['Train', \"If It's Love\"] Hotttnesss: 1.0\n"
       ]
      },
      {
       "output_type": "stream",
       "stream": "stdout",
       "text": [
        "['NEEDTOBREATHE', \"Lay 'Em Down (Album Version)\"] Hotttnesss: 0.910616754441\n"
       ]
      },
      {
       "output_type": "stream",
       "stream": "stdout",
       "text": [
        "['MGMT', 'Siberian Breaks'] Hotttnesss: 0.876462939093\n"
       ]
      },
      {
       "output_type": "stream",
       "stream": "stdout",
       "text": [
        "['The Clash', 'Rock The Casbah'] Hotttnesss: 0.8562455897\n"
       ]
      },
      {
       "output_type": "stream",
       "stream": "stdout",
       "text": [
        "['NEEDTOBREATHE', 'Again (Album Version)'] Hotttnesss: 0.841328129539\n"
       ]
      },
      {
       "output_type": "stream",
       "stream": "stdout",
       "text": [
        "['Air Traffic', 'Never Even Told Me Her Name'] Hotttnesss: 0.829882708577\n"
       ]
      },
      {
       "output_type": "stream",
       "stream": "stdout",
       "text": [
        "['Foreigner', 'Waiting For A Girl Like You'] Hotttnesss: 0.819999142075\n"
       ]
      },
      {
       "output_type": "stream",
       "stream": "stdout",
       "text": [
        "['The Hoosiers', 'Everything Goes Dark'] Hotttnesss: 0.811719327712\n"
       ]
      },
      {
       "output_type": "stream",
       "stream": "stdout",
       "text": [
        "['Born Of Osiris', 'Empires Erased (feat. NO)'] Hotttnesss: 0.803972937132\n"
       ]
      },
      {
       "output_type": "stream",
       "stream": "stdout",
       "text": [
        "['Dido', 'Honestly Ok'] Hotttnesss: 0.796855414613\n"
       ]
      },
      {
       "output_type": "stream",
       "stream": "stdout",
       "text": [
        "['The Rascals', 'People Got To Be Free'] Hotttnesss: 0.790198144188\n"
       ]
      },
      {
       "output_type": "stream",
       "stream": "stdout",
       "text": [
        "['Devotchka', 'Such A Lovely Thing'] Hotttnesss: 0.784054133144\n"
       ]
      },
      {
       "output_type": "stream",
       "stream": "stdout",
       "text": [
        "['The Magnetic Fields', 'Painted Flower'] Hotttnesss: 0.778348356952\n"
       ]
      },
      {
       "output_type": "stream",
       "stream": "stdout",
       "text": [
        "['Red Hot Chili Peppers', 'Parallel Universe (Album Version)'] Hotttnesss: 0.773292762211\n"
       ]
      },
      {
       "output_type": "stream",
       "stream": "stdout",
       "text": [
        "['The Beta Band', 'Round The Bend'] Hotttnesss: 0.768472306887\n"
       ]
      },
      {
       "output_type": "stream",
       "stream": "stdout",
       "text": [
        "['Bob Welch', 'Sentimental Lady'] Hotttnesss: 0.763751073732\n"
       ]
      },
      {
       "output_type": "stream",
       "stream": "stdout",
       "text": [
        "['Bayside', '(Pop)Ular SciencE (Album Version)'] Hotttnesss: 0.759397620647\n"
       ]
      },
      {
       "output_type": "stream",
       "stream": "stdout",
       "text": [
        "['The Classic Crime', 'Gravedigging'] Hotttnesss: 0.755067830168\n"
       ]
      },
      {
       "output_type": "stream",
       "stream": "stdout",
       "text": [
        "['Texas', 'Put Your Arms Around Me'] Hotttnesss: 0.750777674798\n"
       ]
      },
      {
       "output_type": "stream",
       "stream": "stdout",
       "text": [
        "['Bond', 'Kashmir'] Hotttnesss: 0.746971042733\n"
       ]
      },
      {
       "output_type": "stream",
       "stream": "stdout",
       "text": [
        "['Maxwell', 'For Lovers Only'] Hotttnesss: 0.743160541216\n"
       ]
      },
      {
       "output_type": "stream",
       "stream": "stdout",
       "text": [
        "['Hayley Westenra', 'Wuthering Heights'] Hotttnesss: 0.739326575779\n"
       ]
      },
      {
       "output_type": "stream",
       "stream": "stdout",
       "text": [
        "['Hombres G', 'Lo noto (Directo 2003)'] Hotttnesss: 0.735836516521\n"
       ]
      },
      {
       "output_type": "stream",
       "stream": "stdout",
       "text": [
        "['Type O Negative', 'Dead Again'] Hotttnesss: 0.732492083918\n"
       ]
      },
      {
       "output_type": "stream",
       "stream": "stdout",
       "text": [
        "['Boxcutter', 'Kaleid'] Hotttnesss: 0.729125625342\n"
       ]
      },
      {
       "output_type": "stream",
       "stream": "stdout",
       "text": [
        "['The Greenhornes', 'Satisfy My Mind'] Hotttnesss: 0.725975540319\n"
       ]
      },
      {
       "output_type": "stream",
       "stream": "stdout",
       "text": [
        "['Patti Smith Group', 'Ask the Angels'] Hotttnesss: 0.722844727957\n"
       ]
      },
      {
       "output_type": "stream",
       "stream": "stdout",
       "text": [
        "['PATY CANTU', 'D\\xc3\\xa9jame Ir'] Hotttnesss: 0.719756606943\n"
       ]
      },
      {
       "output_type": "stream",
       "stream": "stdout",
       "text": [
        "['Mad Caddies', 'Leavin'] Hotttnesss: 0.716778766173\n"
       ]
      },
      {
       "output_type": "stream",
       "stream": "stdout",
       "text": [
        "['At The Gates', 'All Life Ends - live'] Hotttnesss: 0.713848223098\n"
       ]
      },
      {
       "output_type": "stream",
       "stream": "stdout",
       "text": [
        "['Whitechapel', 'Reprogrammed to Hate'] Hotttnesss: 0.710887119948\n"
       ]
      },
      {
       "output_type": "stream",
       "stream": "stdout",
       "text": [
        "['Refused', 'Worthless Is The Freedom Bought...'] Hotttnesss: 0.708310522057\n"
       ]
      },
      {
       "output_type": "stream",
       "stream": "stdout",
       "text": [
        "['Era', 'Impera'] Hotttnesss: 0.705399758021\n"
       ]
      },
      {
       "output_type": "stream",
       "stream": "stdout",
       "text": [
        "['Bilal', \"L'almagne\"] Hotttnesss: 0.70277208813\n"
       ]
      },
      {
       "output_type": "stream",
       "stream": "stdout",
       "text": [
        "['Hoboken', 'Beauty Queen'] Hotttnesss: 0.700057178504\n"
       ]
      },
      {
       "output_type": "stream",
       "stream": "stdout",
       "text": [
        "['Jesca Hoop', 'Silverscreen'] Hotttnesss: 0.697480929478\n"
       ]
      },
      {
       "output_type": "stream",
       "stream": "stdout",
       "text": [
        "['Michael Crawford', 'It Only Takes A Moment'] Hotttnesss: 0.694955392886\n"
       ]
      },
      {
       "output_type": "stream",
       "stream": "stdout",
       "text": [
        "['GRAVEWORM', 'Suicide Code'] Hotttnesss: 0.692559540415\n"
       ]
      },
      {
       "output_type": "stream",
       "stream": "stdout",
       "text": [
        "[\"Caribou (formerly Dan Snaith's Manitoba)\", 'Tits & Ass: The Great Canadian Weekend'] Hotttnesss: 0.690288229894\n"
       ]
      },
      {
       "output_type": "stream",
       "stream": "stdout",
       "text": [
        "['Blur', 'Sing'] Hotttnesss: 0.687759716257\n"
       ]
      },
      {
       "output_type": "stream",
       "stream": "stdout",
       "text": [
        "['Ojos De Brujo', 'Zambra'] Hotttnesss: 0.685483518941\n"
       ]
      },
      {
       "output_type": "stream",
       "stream": "stdout",
       "text": [
        "['John Vanderslice', 'Hard Times'] Hotttnesss: 0.683129716224\n"
       ]
      },
      {
       "output_type": "stream",
       "stream": "stdout",
       "text": [
        "['Balkan Beat Box', 'Marcha De la Vida'] Hotttnesss: 0.681094572011\n"
       ]
      },
      {
       "output_type": "stream",
       "stream": "stdout",
       "text": [
        "['Jeru The Damaja', 'Seinfeld'] Hotttnesss: 0.678918045265\n"
       ]
      },
      {
       "output_type": "stream",
       "stream": "stdout",
       "text": [
        "['Maj Karma', 'Sid ja Nancy'] Hotttnesss: 0.676754002877\n"
       ]
      },
      {
       "output_type": "stream",
       "stream": "stdout",
       "text": [
        "['Macy Gray', 'Jesus For A Day'] Hotttnesss: 0.674640755004\n"
       ]
      },
      {
       "output_type": "stream",
       "stream": "stdout",
       "text": [
        "['Brian Bromberg', 'Choices'] Hotttnesss: 0.67255857403\n"
       ]
      },
      {
       "output_type": "stream",
       "stream": "stdout",
       "text": [
        "['Gustavo Cerati', 'Deja Vu'] Hotttnesss: 0.670469485253\n"
       ]
      },
      {
       "output_type": "stream",
       "stream": "stdout",
       "text": [
        "['Television', 'Torn Curtain (Remastered LP Version)'] Hotttnesss: 0.66841936937\n"
       ]
      },
      {
       "output_type": "stream",
       "stream": "stdout",
       "text": [
        "['Wilson Phillips', 'The Dream is Still Alive'] Hotttnesss: 0.666465073085\n"
       ]
      }
     ],
     "prompt_number": 5
    },
    {
     "cell_type": "code",
     "collapsed": false,
     "input": [
      "# and see how the hotttnesss are distributed\n",
      "hist(track_to_hotttnesss.values(), bins=20)\n",
      "pass"
     ],
     "language": "python",
     "metadata": {},
     "outputs": [
      {
       "metadata": {},
       "output_type": "display_data",
       "png": "[encoded data removed]",
       "text": [
        "<matplotlib.figure.Figure at 0x2b0c810>"
       ]
      }
     ],
     "prompt_number": 6
    },
    {
     "cell_type": "code",
     "collapsed": false,
     "input": [
      "# randomly select 47500 non-zero-hotttnesss tracks and 2500 zeros-hotttnesss tracks\n",
      "np.random.seed(98765)\n",
      "tracks_nzhotttnesss = np.random.choice(filter(lambda x: track_to_hotttnesss[x] != 0.0, track_to_hotttnesss.keys()), \n",
      "                                       size=47500, replace=False)\n",
      "tracks_zhotttnesss = np.random.choice(filter(lambda x: track_to_hotttnesss[x] == 0.0, track_to_hotttnesss.keys()), \n",
      "                                      size=2500, replace=False)\n",
      "tracks_VQ = np.hstack((tracks_nzhotttnesss, tracks_zhotttnesss))"
     ],
     "language": "python",
     "metadata": {},
     "outputs": [],
     "prompt_number": 8
    },
    {
     "cell_type": "code",
     "collapsed": false,
     "input": [
      "def data_generator(msd_data_root, tracks, shuffle=True, ext='.h5'):\n",
      "    if shuffle:\n",
      "        np.random.shuffle(tracks)\n",
      "    for track_ID in tracks:\n",
      "        track_dir = os.path.join(msd_data_root, '/'.join(track_ID[2:5]), track_ID + ext)\n",
      "        h5 = hdf5_getters.open_h5_file_read(track_dir)\n",
      "        mfcc = hdf5_getters.get_segments_timbre(h5)\n",
      "        h5.close()\n",
      "        if shuffle:\n",
      "            np.random.shuffle(mfcc)\n",
      "        yield mfcc"
     ],
     "language": "python",
     "metadata": {},
     "outputs": [],
     "prompt_number": 9
    },
    {
     "cell_type": "code",
     "collapsed": false,
     "input": [
      "def build_codewords(msd_data_root, tracks, K, max_iter=10, random_state=None):\n",
      "    if type(random_state) is int:\n",
      "        np.random.seed(random_state)\n",
      "    else:\n",
      "        np.random.setstate(random_state)\n",
      "        \n",
      "    cluster = HartiganOnline.HartiganOnline(n_clusters=K)\n",
      "    for i in xrange(max_iter):\n",
      "        print 'Iteration %d: passing through the data...' % (i+1)\n",
      "        for d in data_generator(msd_data_root, tracks):\n",
      "            cluster.partial_fit(d)\n",
      "    return cluster"
     ],
     "language": "python",
     "metadata": {},
     "outputs": [],
     "prompt_number": 10
    },
    {
     "cell_type": "code",
     "collapsed": false,
     "input": [
      "K = 512\n",
      "cluster = build_codewords(MSD_DATA_ROOT, tracks_VQ, K, max_iter=3, random_state=98765)"
     ],
     "language": "python",
     "metadata": {},
     "outputs": [],
     "prompt_number": "*"
    },
    {
     "cell_type": "code",
     "collapsed": false,
     "input": [
      "figure(figsize=(22, 4))\n",
      "imshow(cluster.cluster_centers_.T, cmap=cm.PuOr_r, aspect='auto', interpolation='nearest')\n",
      "colorbar()"
     ],
     "language": "python",
     "metadata": {},
     "outputs": [
      {
       "metadata": {},
       "output_type": "pyout",
       "prompt_number": 16,
       "text": [
        "<matplotlib.colorbar.Colorbar instance at 0xbef27a0>"
       ]
      },
      {
       "metadata": {},
       "output_type": "display_data",
       "png": "[encoded data removed]",
       "text": [
        "<matplotlib.figure.Figure at 0x8746310>"
       ]
      }
     ],
     "prompt_number": 16
    },
    {
     "cell_type": "code",
     "collapsed": false,
     "input": [
      "figure(figsize=(22, 4))\n",
      "imshow(cluster.cluster_centers_.T, cmap=cm.PuOr_r, aspect='auto', interpolation='nearest')\n",
      "colorbar()"
     ],
     "language": "python",
     "metadata": {},
     "outputs": [],
     "prompt_number": "*"
    },
    {
     "cell_type": "code",
     "collapsed": false,
     "input": [
      "with open('Codebook_K%d_Hartigan' % K, 'wb') as f:\n",
      "    pickle.dump(cluster, f)"
     ],
     "language": "python",
     "metadata": {},
     "outputs": [],
     "prompt_number": 33
    }
   ],
   "metadata": {}
  }
 ]
}