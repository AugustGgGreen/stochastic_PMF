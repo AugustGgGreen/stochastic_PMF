{
 "metadata": {
  "name": "",
  "signature": "sha256:d4bbe62c91f544d5773759df931c81eaaa39c324598943c328e22aa1929dc7e8"
 },
 "nbformat": 3,
 "nbformat_minor": 0,
 "worksheets": [
  {
   "cells": [
    {
     "cell_type": "code",
     "collapsed": false,
     "input": [
      "import functools\n",
      "import os\n",
      "import numpy as np\n",
      "\n",
      "import pnmf"
     ],
     "language": "python",
     "metadata": {},
     "outputs": [],
     "prompt_number": 1
    },
    {
     "cell_type": "code",
     "collapsed": false,
     "input": [
      "specshow = functools.partial(imshow, cmap=cm.PuOr_r, aspect='auto', interpolation='nearest')"
     ],
     "language": "python",
     "metadata": {},
     "outputs": [],
     "prompt_number": 2
    },
    {
     "cell_type": "code",
     "collapsed": false,
     "input": [
      "train_tracks = list()\n",
      "with open('train_tracks.txt', 'rb') as f:\n",
      "    for line in f:\n",
      "        train_tracks.append(line.strip())\n",
      "        \n",
      "test_tracks = list()\n",
      "with open('test_tracks.txt', 'rb') as f:\n",
      "    for line in f:\n",
      "        test_tracks.append(line.strip())\n",
      "        \n",
      "tags = list()\n",
      "with open('voc.txt', 'rb') as f:\n",
      "    for line in f:\n",
      "        tags.append(line.strip())"
     ],
     "language": "python",
     "metadata": {},
     "outputs": [],
     "prompt_number": 3
    },
    {
     "cell_type": "code",
     "collapsed": false,
     "input": [
      "def construct_pred_mask(tags_predicted, predictat):\n",
      "    n_samples, n_tags = tags_predicted.shape\n",
      "    rankings = np.argsort(-tags_predicted, axis=1)[:, :predictat]\n",
      "    tags_predicted_binary = np.zeros_like(tags_predicted, dtype=bool)\n",
      "    for i in xrange(n_samples):\n",
      "        tags_predicted_binary[i, rankings[i]] = 1\n",
      "    return tags_predicted_binary\n",
      "\n",
      "def per_tag_prec_recall(tags_predicted_binary, tags_true_binary):\n",
      "    mask = np.logical_and(tags_predicted_binary, tags_true_binary)\n",
      "    prec = mask.sum(axis=0) / (np.sum(tags_predicted_binary, axis=0) + np.spacing(1))\n",
      "    recall = mask.sum(axis=0) / (np.sum(tags_true_binary, axis=0) + np.spacing(1))\n",
      "    return prec, recall"
     ],
     "language": "python",
     "metadata": {},
     "outputs": [],
     "prompt_number": 4
    },
    {
     "cell_type": "code",
     "collapsed": false,
     "input": [
      "# take tracks with at least 20 tags \n",
      "y_test = None\n",
      "\n",
      "test_tracks_selected = list()\n",
      "\n",
      "for tid in test_tracks:\n",
      "    tdir = os.path.join('vq_hist', '/'.join(tid[2:5]))\n",
      "    bot = np.load(os.path.join(tdir, '%s_BoT.npy' % tid))\n",
      "    if (bot > 0).sum() >= 20:\n",
      "        test_tracks_selected.append(tid)\n",
      "        if y_test is None:\n",
      "            y_test = bot\n",
      "        else:\n",
      "            y_test = np.vstack((y_test, bot))"
     ],
     "language": "python",
     "metadata": {},
     "outputs": [],
     "prompt_number": 678
    },
    {
     "cell_type": "code",
     "collapsed": false,
     "input": [
      "hist(np.sum( (y_test > 0), axis=1), bins=50)\n",
      "pass"
     ],
     "language": "python",
     "metadata": {},
     "outputs": [
      {
       "metadata": {},
       "output_type": "display_data",
       "png": "[encoded data removed]",
       "text": [
        "<matplotlib.figure.Figure at 0x927ea290>"
       ]
      }
     ],
     "prompt_number": 679
    },
    {
     "cell_type": "heading",
     "level": 1,
     "metadata": {},
     "source": [
      "Batch inference on 10K subset"
     ]
    },
    {
     "cell_type": "code",
     "collapsed": false,
     "input": [
      "K = 512\n",
      "\n",
      "np.random.seed(98765)\n",
      "train_tracks_subset = np.random.choice(train_tracks, size=10000, replace=False)"
     ],
     "language": "python",
     "metadata": {},
     "outputs": [],
     "prompt_number": 910
    },
    {
     "cell_type": "code",
     "collapsed": false,
     "input": [
      "D = K + len(tags)\n",
      "\n",
      "X = np.empty((10000, D), dtype=np.int16)\n",
      "\n",
      "for (i, tid) in enumerate(train_tracks_subset):\n",
      "    tdir = os.path.join('vq_hist', '/'.join(tid[2:5]))\n",
      "    vq = np.load(os.path.join(tdir, '%s_K%d.npy' % (tid, K))).ravel()\n",
      "    bot = np.load(os.path.join(tdir, '%s_BoT.npy' % tid))\n",
      "    bot[bot > 0] = 2\n",
      "    X[i] = np.hstack((vq, bot))"
     ],
     "language": "python",
     "metadata": {},
     "outputs": [],
     "prompt_number": 911
    },
    {
     "cell_type": "code",
     "collapsed": false,
     "input": [
      "bar(np.arange(D), X[1000])"
     ],
     "language": "python",
     "metadata": {},
     "outputs": [
      {
       "metadata": {},
       "output_type": "pyout",
       "prompt_number": 912,
       "text": [
        "<Container object of 1073 artists>"
       ]
      },
      {
       "metadata": {},
       "output_type": "display_data",
       "png": "[encoded data removed]",
       "text": [
        "<matplotlib.figure.Figure at 0x3f03b9d0>"
       ]
      }
     ],
     "prompt_number": 912
    },
    {
     "cell_type": "code",
     "collapsed": false,
     "input": [
      "X_test = np.empty((len(test_tracks_selected), K), dtype=int16)\n",
      "\n",
      "for (i, tid) in enumerate(test_tracks_selected):\n",
      "    tdir = os.path.join('vq_hist', '/'.join(tid[2:5]))\n",
      "    vq = np.load(os.path.join(tdir, '%s_K%d.npy' % (tid, K))).ravel()\n",
      "    X_test[i] = vq"
     ],
     "language": "python",
     "metadata": {},
     "outputs": [],
     "prompt_number": 913
    },
    {
     "cell_type": "code",
     "collapsed": false,
     "input": [
      "reload(pnmf)\n",
      "n_components = 100\n",
      "coder = pnmf.PoissonNMF(n_components=n_components, random_state=98765, verbose=True)"
     ],
     "language": "python",
     "metadata": {},
     "outputs": [],
     "prompt_number": 914
    },
    {
     "cell_type": "code",
     "collapsed": false,
     "input": [
      "coder.fit(X)"
     ],
     "language": "python",
     "metadata": {},
     "outputs": [
      {
       "output_type": "stream",
       "stream": "stdout",
       "text": [
        "After ITERATION: 0\tObjective: -2078575.38\tOld objective: -inf\tImprovement: nan\n",
        "After ITERATION: 1\tObjective: -2065917.26\tOld objective: -2078575.38\tImprovement: 0.00609"
       ]
      },
      {
       "output_type": "stream",
       "stream": "stdout",
       "text": [
        "\n",
        "After ITERATION: 2\tObjective: -2033967.12\tOld objective: -2065917.26\tImprovement: 0.01547"
       ]
      },
      {
       "output_type": "stream",
       "stream": "stdout",
       "text": [
        "\n",
        "After ITERATION: 3\tObjective: -1936479.76\tOld objective: -2033967.12\tImprovement: 0.04793"
       ]
      },
      {
       "output_type": "stream",
       "stream": "stdout",
       "text": [
        "\n",
        "After ITERATION: 4\tObjective: -1606168.41\tOld objective: -1936479.76\tImprovement: 0.17057"
       ]
      },
      {
       "output_type": "stream",
       "stream": "stdout",
       "text": [
        "\n",
        "After ITERATION: 5\tObjective: -625410.26\tOld objective: -1606168.41\tImprovement: 0.61062"
       ]
      },
      {
       "output_type": "stream",
       "stream": "stdout",
       "text": [
        "\n",
        "After ITERATION: 6\tObjective: 1186505.37\tOld objective: -625410.26\tImprovement: 2.89716"
       ]
      },
      {
       "output_type": "stream",
       "stream": "stdout",
       "text": [
        "\n",
        "After ITERATION: 7\tObjective: 3236615.52\tOld objective: 1186505.37\tImprovement: 1.72786"
       ]
      },
      {
       "output_type": "stream",
       "stream": "stdout",
       "text": [
        "\n",
        "After ITERATION: 8\tObjective: 4934011.49\tOld objective: 3236615.52\tImprovement: 0.52444"
       ]
      },
      {
       "output_type": "stream",
       "stream": "stdout",
       "text": [
        "\n",
        "After ITERATION: 9\tObjective: 6219149.21\tOld objective: 4934011.49\tImprovement: 0.26047"
       ]
      },
      {
       "output_type": "stream",
       "stream": "stdout",
       "text": [
        "\n",
        "After ITERATION: 10\tObjective: 7228762.41\tOld objective: 6219149.21\tImprovement: 0.16234"
       ]
      },
      {
       "output_type": "stream",
       "stream": "stdout",
       "text": [
        "\n",
        "After ITERATION: 11\tObjective: 8020978.80\tOld objective: 7228762.41\tImprovement: 0.10959"
       ]
      },
      {
       "output_type": "stream",
       "stream": "stdout",
       "text": [
        "\n",
        "After ITERATION: 12\tObjective: 8613082.17\tOld objective: 8020978.80\tImprovement: 0.07382"
       ]
      },
      {
       "output_type": "stream",
       "stream": "stdout",
       "text": [
        "\n",
        "After ITERATION: 13\tObjective: 9042163.99\tOld objective: 8613082.17\tImprovement: 0.04982"
       ]
      },
      {
       "output_type": "stream",
       "stream": "stdout",
       "text": [
        "\n",
        "After ITERATION: 14\tObjective: 9354931.77\tOld objective: 9042163.99\tImprovement: 0.03459"
       ]
      },
      {
       "output_type": "stream",
       "stream": "stdout",
       "text": [
        "\n",
        "After ITERATION: 15\tObjective: 9588474.79\tOld objective: 9354931.77\tImprovement: 0.02496"
       ]
      },
      {
       "output_type": "stream",
       "stream": "stdout",
       "text": [
        "\n",
        "After ITERATION: 16\tObjective: 9766886.10\tOld objective: 9588474.79\tImprovement: 0.01861"
       ]
      },
      {
       "output_type": "stream",
       "stream": "stdout",
       "text": [
        "\n",
        "After ITERATION: 17\tObjective: 9905911.01\tOld objective: 9766886.10\tImprovement: 0.01423"
       ]
      },
      {
       "output_type": "stream",
       "stream": "stdout",
       "text": [
        "\n",
        "After ITERATION: 18\tObjective: 10015808.46\tOld objective: 9905911.01\tImprovement: 0.01109"
       ]
      },
      {
       "output_type": "stream",
       "stream": "stdout",
       "text": [
        "\n",
        "After ITERATION: 19\tObjective: 10103284.44\tOld objective: 10015808.46\tImprovement: 0.00873"
       ]
      },
      {
       "output_type": "stream",
       "stream": "stdout",
       "text": [
        "\n",
        "After ITERATION: 20\tObjective: 10173460.99\tOld objective: 10103284.44\tImprovement: 0.00695"
       ]
      },
      {
       "output_type": "stream",
       "stream": "stdout",
       "text": [
        "\n",
        "After ITERATION: 21\tObjective: 10230221.19\tOld objective: 10173460.99\tImprovement: 0.00558"
       ]
      },
      {
       "output_type": "stream",
       "stream": "stdout",
       "text": [
        "\n",
        "After ITERATION: 22\tObjective: 10276701.49\tOld objective: 10230221.19\tImprovement: 0.00454"
       ]
      },
      {
       "output_type": "stream",
       "stream": "stdout",
       "text": [
        "\n",
        "After ITERATION: 23\tObjective: 10315331.10\tOld objective: 10276701.49\tImprovement: 0.00376"
       ]
      },
      {
       "output_type": "stream",
       "stream": "stdout",
       "text": [
        "\n",
        "After ITERATION: 24\tObjective: 10347758.51\tOld objective: 10315331.10\tImprovement: 0.00314"
       ]
      },
      {
       "output_type": "stream",
       "stream": "stdout",
       "text": [
        "\n",
        "After ITERATION: 25\tObjective: 10375178.66\tOld objective: 10347758.51\tImprovement: 0.00265"
       ]
      },
      {
       "output_type": "stream",
       "stream": "stdout",
       "text": [
        "\n",
        "After ITERATION: 26\tObjective: 10398602.02\tOld objective: 10375178.66\tImprovement: 0.00226"
       ]
      },
      {
       "output_type": "stream",
       "stream": "stdout",
       "text": [
        "\n",
        "After ITERATION: 27\tObjective: 10418784.49\tOld objective: 10398602.02\tImprovement: 0.00194"
       ]
      },
      {
       "output_type": "stream",
       "stream": "stdout",
       "text": [
        "\n",
        "After ITERATION: 28\tObjective: 10436324.37\tOld objective: 10418784.49\tImprovement: 0.00168"
       ]
      },
      {
       "output_type": "stream",
       "stream": "stdout",
       "text": [
        "\n",
        "After ITERATION: 29\tObjective: 10451653.91\tOld objective: 10436324.37\tImprovement: 0.00147"
       ]
      },
      {
       "output_type": "stream",
       "stream": "stdout",
       "text": [
        "\n",
        "After ITERATION: 30\tObjective: 10465160.29\tOld objective: 10451653.91\tImprovement: 0.00129"
       ]
      },
      {
       "output_type": "stream",
       "stream": "stdout",
       "text": [
        "\n",
        "After ITERATION: 31\tObjective: 10477122.63\tOld objective: 10465160.29\tImprovement: 0.00114"
       ]
      },
      {
       "output_type": "stream",
       "stream": "stdout",
       "text": [
        "\n",
        "After ITERATION: 32\tObjective: 10487779.16\tOld objective: 10477122.63\tImprovement: 0.00102"
       ]
      },
      {
       "output_type": "stream",
       "stream": "stdout",
       "text": [
        "\n",
        "After ITERATION: 33\tObjective: 10497320.68\tOld objective: 10487779.16\tImprovement: 0.00091"
       ]
      },
      {
       "output_type": "stream",
       "stream": "stdout",
       "text": [
        "\n",
        "After ITERATION: 34\tObjective: 10505902.89\tOld objective: 10497320.68\tImprovement: 0.00082"
       ]
      },
      {
       "output_type": "stream",
       "stream": "stdout",
       "text": [
        "\n",
        "After ITERATION: 35\tObjective: 10513654.10\tOld objective: 10505902.89\tImprovement: 0.00074"
       ]
      },
      {
       "output_type": "stream",
       "stream": "stdout",
       "text": [
        "\n",
        "After ITERATION: 36\tObjective: 10520677.05\tOld objective: 10513654.10\tImprovement: 0.00067"
       ]
      },
      {
       "output_type": "stream",
       "stream": "stdout",
       "text": [
        "\n",
        "After ITERATION: 37\tObjective: 10527099.69\tOld objective: 10520677.05\tImprovement: 0.00061"
       ]
      },
      {
       "output_type": "stream",
       "stream": "stdout",
       "text": [
        "\n",
        "After ITERATION: 38\tObjective: 10532939.39\tOld objective: 10527099.69\tImprovement: 0.00055"
       ]
      },
      {
       "output_type": "stream",
       "stream": "stdout",
       "text": [
        "\n",
        "After ITERATION: 39\tObjective: 10538249.22\tOld objective: 10532939.39\tImprovement: 0.00050"
       ]
      },
      {
       "output_type": "stream",
       "stream": "stdout",
       "text": [
        "\n",
        "After ITERATION: 40\tObjective: 10543112.34\tOld objective: 10538249.22\tImprovement: 0.00046"
       ]
      },
      {
       "output_type": "stream",
       "stream": "stdout",
       "text": [
        "\n"
       ]
      },
      {
       "output_type": "stream",
       "stream": "stderr",
       "text": [
        "pnmf.py:87: RuntimeWarning: invalid value encountered in double_scalars\n",
        "  improvement = (bound - old_bd) / abs(old_bd)\n"
       ]
      },
      {
       "metadata": {},
       "output_type": "pyout",
       "prompt_number": 915,
       "text": [
        "PoissonNMF(max_iter=100, n_components=100, random_state=98765, smoothness=100,\n",
        "      tol=0.0005, verbose=True)"
       ]
      }
     ],
     "prompt_number": 915
    },
    {
     "cell_type": "code",
     "collapsed": false,
     "input": [
      "# randomly plot 30 \"topics\"\n",
      "indices = np.random.choice(n_components, size=30, replace=False)\n",
      "figure(figsize=(45, 15))\n",
      "for i in xrange(30):\n",
      "    subplot(10, 3, i+1)\n",
      "    topic = coder.Eb[indices[i]]\n",
      "    # properly normalize the BoT dimensions for visualization purposes\n",
      "    topic[K:] /= topic[K:].max()\n",
      "    topic[K:] *= topic[:K].max()\n",
      "    bar(np.arange(D), topic)\n",
      "    axvline(x=K, color='red')\n",
      "    title('Component #%d' % indices[i])\n",
      "#savefig('dict.eps')"
     ],
     "language": "python",
     "metadata": {},
     "outputs": [
      {
       "metadata": {},
       "output_type": "display_data",
       "png": "[encoded data removed]",
       "text": [
        "<matplotlib.figure.Figure at 0x1ab3f7d0>"
       ]
      }
     ],
     "prompt_number": 917
    },
    {
     "cell_type": "code",
     "collapsed": false,
     "input": [
      "tagger = pnmf.PoissonNMF(n_components=n_components, random_state=98765, verbose=True)"
     ],
     "language": "python",
     "metadata": {},
     "outputs": [],
     "prompt_number": 846
    },
    {
     "cell_type": "code",
     "collapsed": false,
     "input": [
      "tagger.set_components(coder.gamma_b[:, :K], coder.rho_b)"
     ],
     "language": "python",
     "metadata": {},
     "outputs": [],
     "prompt_number": 847
    },
    {
     "cell_type": "code",
     "collapsed": false,
     "input": [
      "Et = tagger.transform(X_test)"
     ],
     "language": "python",
     "metadata": {},
     "outputs": [
      {
       "output_type": "stream",
       "stream": "stdout",
       "text": [
        "After ITERATION: 0\tObjective: 2264356.64\tOld objective: -inf\tImprovement: nan\n",
        "After ITERATION: 1\tObjective: 2880134.82\tOld objective: 2264356.64\tImprovement: 0.27194"
       ]
      },
      {
       "output_type": "stream",
       "stream": "stdout",
       "text": [
        "\n",
        "After ITERATION: 2\tObjective: 3062304.67\tOld objective: 2880134.82\tImprovement: 0.06325"
       ]
      },
      {
       "output_type": "stream",
       "stream": "stdout",
       "text": [
        "\n",
        "After ITERATION: 3\tObjective: 3148196.53\tOld objective: 3062304.67\tImprovement: 0.02805"
       ]
      },
      {
       "output_type": "stream",
       "stream": "stdout",
       "text": [
        "\n",
        "After ITERATION: 4\tObjective: 3195993.28\tOld objective: 3148196.53\tImprovement: 0.01518"
       ]
      },
      {
       "output_type": "stream",
       "stream": "stdout",
       "text": [
        "\n",
        "After ITERATION: 5\tObjective: 3225598.28\tOld objective: 3195993.28\tImprovement: 0.00926"
       ]
      },
      {
       "output_type": "stream",
       "stream": "stdout",
       "text": [
        "\n",
        "After ITERATION: 6\tObjective: 3245314.11\tOld objective: 3225598.28\tImprovement: 0.00611"
       ]
      },
      {
       "output_type": "stream",
       "stream": "stdout",
       "text": [
        "\n",
        "After ITERATION: 7\tObjective: 3259217.72\tOld objective: 3245314.11\tImprovement: 0.00428"
       ]
      },
      {
       "output_type": "stream",
       "stream": "stdout",
       "text": [
        "\n",
        "After ITERATION: 8\tObjective: 3269435.93\tOld objective: 3259217.72\tImprovement: 0.00314"
       ]
      },
      {
       "output_type": "stream",
       "stream": "stdout",
       "text": [
        "\n",
        "After ITERATION: 9\tObjective: 3277186.28\tOld objective: 3269435.93\tImprovement: 0.00237"
       ]
      },
      {
       "output_type": "stream",
       "stream": "stdout",
       "text": [
        "\n",
        "After ITERATION: 10\tObjective: 3283251.70\tOld objective: 3277186.28\tImprovement: 0.00185"
       ]
      },
      {
       "output_type": "stream",
       "stream": "stdout",
       "text": [
        "\n",
        "After ITERATION: 11\tObjective: 3288102.31\tOld objective: 3283251.70\tImprovement: 0.00148"
       ]
      },
      {
       "output_type": "stream",
       "stream": "stdout",
       "text": [
        "\n",
        "After ITERATION: 12\tObjective: 3292033.31\tOld objective: 3288102.31\tImprovement: 0.00120"
       ]
      },
      {
       "output_type": "stream",
       "stream": "stdout",
       "text": [
        "\n",
        "After ITERATION: 13\tObjective: 3295277.59\tOld objective: 3292033.31\tImprovement: 0.00099"
       ]
      },
      {
       "output_type": "stream",
       "stream": "stdout",
       "text": [
        "\n",
        "After ITERATION: 14\tObjective: 3298003.32\tOld objective: 3295277.59\tImprovement: 0.00083"
       ]
      },
      {
       "output_type": "stream",
       "stream": "stdout",
       "text": [
        "\n",
        "After ITERATION: 15\tObjective: 3300321.64\tOld objective: 3298003.32\tImprovement: 0.00070"
       ]
      },
      {
       "output_type": "stream",
       "stream": "stdout",
       "text": [
        "\n",
        "After ITERATION: 16\tObjective: 3302308.65\tOld objective: 3300321.64\tImprovement: 0.00060"
       ]
      },
      {
       "output_type": "stream",
       "stream": "stdout",
       "text": [
        "\n",
        "After ITERATION: 17\tObjective: 3304019.73\tOld objective: 3302308.65\tImprovement: 0.00052"
       ]
      },
      {
       "output_type": "stream",
       "stream": "stdout",
       "text": [
        "\n",
        "After ITERATION: 18\tObjective: 3305480.02\tOld objective: 3304019.73\tImprovement: 0.00044"
       ]
      },
      {
       "output_type": "stream",
       "stream": "stdout",
       "text": [
        "\n"
       ]
      }
     ],
     "prompt_number": 848
    },
    {
     "cell_type": "code",
     "collapsed": false,
     "input": [
      "tags_predicted = Et.dot(coder.Eb[:, K:])\n",
      "n_samples, n_tags = tags_predicted.shape\n",
      "\n",
      "print tags_predicted.min(), tags_predicted.max()\n",
      "\n",
      "div_factor = 4.75\n",
      "tags_predicted = tags_predicted - div_factor * np.mean(tags_predicted, axis=0)"
     ],
     "language": "python",
     "metadata": {},
     "outputs": [
      {
       "output_type": "stream",
       "stream": "stdout",
       "text": [
        "7.77712503728e-05 9.87473480132\n"
       ]
      }
     ],
     "prompt_number": 882
    },
    {
     "cell_type": "code",
     "collapsed": false,
     "input": [
      "predictat = 20\n",
      "tags_predicted_binary = construct_pred_mask(tags_predicted, predictat)\n",
      "tags_true_binary = (y_test > 0)"
     ],
     "language": "python",
     "metadata": {},
     "outputs": [],
     "prompt_number": 883
    },
    {
     "cell_type": "code",
     "collapsed": false,
     "input": [
      "prec, recall = per_tag_prec_recall(tags_predicted_binary, tags_true_binary)\n",
      "print np.mean(prec), np.std(prec) / sqrt(n_tags)\n",
      "print np.mean(recall), np.std(recall) / sqrt(n_tags)"
     ],
     "language": "python",
     "metadata": {},
     "outputs": [
      {
       "output_type": "stream",
       "stream": "stdout",
       "text": [
        "0.111121297871 0.00649907176532\n",
        "0.105722287612 0.00618636833741\n"
       ]
      }
     ],
     "prompt_number": 884
    },
    {
     "cell_type": "code",
     "collapsed": false,
     "input": [
      "prec, recall = per_tag_prec_recall(tags_predicted_binary, tags_true_binary)\n",
      "print np.mean(prec), np.std(prec) / sqrt(n_tags)\n",
      "print np.mean(recall), np.std(recall) / sqrt(n_tags)"
     ],
     "language": "python",
     "metadata": {},
     "outputs": [
      {
       "output_type": "stream",
       "stream": "stdout",
       "text": [
        "0.114271804974 0.00681379018325\n",
        "0.116056167846 0.00629309081007\n"
       ]
      }
     ],
     "prompt_number": 719
    },
    {
     "cell_type": "code",
     "collapsed": false,
     "input": [
      "tags_random_binary = np.zeros((n_samples, n_tags), dtype=bool)\n",
      "for i in xrange(n_samples):\n",
      "    idx = np.random.choice(n_tags, size=predictat, replace=False)\n",
      "    tags_random_binary[i, idx] = 1"
     ],
     "language": "python",
     "metadata": {},
     "outputs": [],
     "prompt_number": 706
    },
    {
     "cell_type": "code",
     "collapsed": false,
     "input": [
      "prec, recall = per_tag_prec_recall(tags_random_binary, tags_true_binary)\n",
      "print np.mean(prec), np.std(prec) / sqrt(n_tags)\n",
      "print np.mean(recall), np.std(recall) / sqrt(n_tags)"
     ],
     "language": "python",
     "metadata": {},
     "outputs": [
      {
       "output_type": "stream",
       "stream": "stdout",
       "text": [
        "0.045723906057 0.00315084732186\n",
        "0.0364782778227 0.00143501465992\n"
       ]
      }
     ],
     "prompt_number": 707
    },
    {
     "cell_type": "heading",
     "level": 1,
     "metadata": {},
     "source": [
      "Stochastic inference on 10K subset"
     ]
    },
    {
     "cell_type": "code",
     "collapsed": false,
     "input": [
      "reload(pnmf)\n",
      "\n",
      "n_components = 100\n",
      "online_coder = pnmf.OnlinePoissonNMF(n_components=n_components, batch_size=10, n_pass=1, random_state=98765, verbose=True)"
     ],
     "language": "python",
     "metadata": {},
     "outputs": [],
     "prompt_number": 904
    },
    {
     "cell_type": "code",
     "collapsed": false,
     "input": [
      "online_coder.fit(X)"
     ],
     "language": "python",
     "metadata": {},
     "outputs": [
      {
       "output_type": "stream",
       "stream": "stdout",
       "text": [
        "After ITERATION: 0\tObjective: nan\tOld objective: -inf\tImprovement: nan\n",
        "After ITERATION: 1\tObjective: nan\tOld objective: nan\tImprovement: nan\n",
        "After ITERATION: 2\tObjective: nan\tOld objective: nan\tImprovement: nan\n",
        "After ITERATION: 3\tObjective: nan\tOld objective: nan\tImprovement: nan"
       ]
      },
      {
       "output_type": "stream",
       "stream": "stdout",
       "text": [
        "\n",
        "After ITERATION: 4\tObjective: nan\tOld objective: nan\tImprovement: nan\n",
        "After ITERATION: 5\tObjective: nan\tOld objective: nan\tImprovement: nan\n",
        "After ITERATION: 6\tObjective: nan\tOld objective: nan\tImprovement: nan"
       ]
      },
      {
       "output_type": "stream",
       "stream": "stdout",
       "text": [
        "\n",
        "After ITERATION: 7\tObjective: nan\tOld objective: nan\tImprovement: nan\n",
        "After ITERATION: 8\tObjective: nan\tOld objective: nan\tImprovement: nan\n",
        "After ITERATION: 9\tObjective: nan\tOld objective: nan\tImprovement: nan"
       ]
      },
      {
       "output_type": "stream",
       "stream": "stdout",
       "text": [
        "\n",
        "After ITERATION: 10\tObjective: nan\tOld objective: nan\tImprovement: nan\n",
        "After ITERATION: 11\tObjective: nan\tOld objective: nan\tImprovement: nan\n",
        "After ITERATION: 12\tObjective: nan\tOld objective: nan\tImprovement: nan"
       ]
      },
      {
       "output_type": "stream",
       "stream": "stdout",
       "text": [
        "\n",
        "After ITERATION: 13\tObjective: nan\tOld objective: nan\tImprovement: nan\n",
        "After ITERATION: 14\tObjective: nan\tOld objective: nan\tImprovement: nan\n",
        "After ITERATION: 15\tObjective: nan\tOld objective: nan\tImprovement: nan"
       ]
      },
      {
       "output_type": "stream",
       "stream": "stdout",
       "text": [
        "\n",
        "After ITERATION: 16\tObjective: nan\tOld objective: nan\tImprovement: nan\n",
        "After ITERATION: 17\tObjective: nan\tOld objective: nan\tImprovement: nan\n",
        "After ITERATION: 18\tObjective: nan\tOld objective: nan\tImprovement: nan"
       ]
      },
      {
       "output_type": "stream",
       "stream": "stdout",
       "text": [
        "\n",
        "After ITERATION: 19\tObjective: nan\tOld objective: nan\tImprovement: nan\n",
        "After ITERATION: 20\tObjective: nan\tOld objective: nan\tImprovement: nan\n",
        "After ITERATION: 21\tObjective: nan\tOld objective: nan\tImprovement: nan"
       ]
      },
      {
       "output_type": "stream",
       "stream": "stdout",
       "text": [
        "\n",
        "After ITERATION: 22\tObjective: nan\tOld objective: nan\tImprovement: nan\n",
        "After ITERATION: 23\tObjective: nan\tOld objective: nan\tImprovement: nan\n",
        "After ITERATION: 24\tObjective: nan\tOld objective: nan\tImprovement: nan"
       ]
      },
      {
       "output_type": "stream",
       "stream": "stdout",
       "text": [
        "\n",
        "After ITERATION: 25\tObjective: nan\tOld objective: nan\tImprovement: nan\n",
        "After ITERATION: 26\tObjective: nan\tOld objective: nan\tImprovement: nan\n",
        "After ITERATION: 27\tObjective: nan\tOld objective: nan\tImprovement: nan"
       ]
      },
      {
       "output_type": "stream",
       "stream": "stdout",
       "text": [
        "\n",
        "After ITERATION: 28\tObjective: nan\tOld objective: nan\tImprovement: nan\n",
        "After ITERATION: 29\tObjective: nan\tOld objective: nan\tImprovement: nan\n",
        "After ITERATION: 30\tObjective: nan\tOld objective: nan\tImprovement: nan"
       ]
      },
      {
       "output_type": "stream",
       "stream": "stdout",
       "text": [
        "\n",
        "After ITERATION: 31\tObjective: nan\tOld objective: nan\tImprovement: nan\n",
        "After ITERATION: 32\tObjective: nan\tOld objective: nan\tImprovement: nan\n",
        "After ITERATION: 33\tObjective: nan\tOld objective: nan\tImprovement: nan"
       ]
      },
      {
       "output_type": "stream",
       "stream": "stdout",
       "text": [
        "\n",
        "After ITERATION: 34\tObjective: nan\tOld objective: nan\tImprovement: nan\n",
        "After ITERATION: 35\tObjective: nan\tOld objective: nan\tImprovement: nan\n",
        "After ITERATION: 36\tObjective: nan\tOld objective: nan\tImprovement: nan"
       ]
      },
      {
       "output_type": "stream",
       "stream": "stdout",
       "text": [
        "\n",
        "After ITERATION: 37\tObjective: nan\tOld objective: nan\tImprovement: nan\n",
        "After ITERATION: 38\tObjective: nan\tOld objective: nan\tImprovement: nan\n",
        "After ITERATION: 39\tObjective: nan\tOld objective: nan\tImprovement: nan"
       ]
      },
      {
       "output_type": "stream",
       "stream": "stdout",
       "text": [
        "\n",
        "After ITERATION: 40\tObjective: nan\tOld objective: nan\tImprovement: nan\n",
        "After ITERATION: 41\tObjective: nan\tOld objective: nan\tImprovement: nan\n",
        "After ITERATION: 42\tObjective: nan\tOld objective: nan\tImprovement: nan"
       ]
      },
      {
       "output_type": "stream",
       "stream": "stdout",
       "text": [
        "\n",
        "After ITERATION: 43\tObjective: nan\tOld objective: nan\tImprovement: nan\n",
        "After ITERATION: 44\tObjective: nan\tOld objective: nan\tImprovement: nan\n",
        "After ITERATION: 45\tObjective: nan\tOld objective: nan\tImprovement: nan"
       ]
      },
      {
       "output_type": "stream",
       "stream": "stdout",
       "text": [
        "\n",
        "After ITERATION: 46\tObjective: nan\tOld objective: nan\tImprovement: nan\n",
        "After ITERATION: 47\tObjective: nan\tOld objective: nan\tImprovement: nan\n",
        "After ITERATION: 48\tObjective: nan\tOld objective: nan\tImprovement: nan"
       ]
      },
      {
       "output_type": "stream",
       "stream": "stdout",
       "text": [
        "\n",
        "After ITERATION: 49\tObjective: nan\tOld objective: nan\tImprovement: nan\n",
        "After ITERATION: 50\tObjective: nan\tOld objective: nan\tImprovement: nan\n",
        "After ITERATION: 51\tObjective: nan\tOld objective: nan\tImprovement: nan"
       ]
      },
      {
       "output_type": "stream",
       "stream": "stdout",
       "text": [
        "\n",
        "After ITERATION: 52\tObjective: nan\tOld objective: nan\tImprovement: nan\n",
        "After ITERATION: 53\tObjective: nan\tOld objective: nan\tImprovement: nan\n",
        "After ITERATION: 54\tObjective: nan\tOld objective: nan\tImprovement: nan"
       ]
      },
      {
       "output_type": "stream",
       "stream": "stdout",
       "text": [
        "\n",
        "After ITERATION: 55\tObjective: nan\tOld objective: nan\tImprovement: nan\n",
        "After ITERATION: 56\tObjective: nan\tOld objective: nan\tImprovement: nan\n",
        "After ITERATION: 57\tObjective: nan\tOld objective: nan\tImprovement: nan"
       ]
      },
      {
       "output_type": "stream",
       "stream": "stdout",
       "text": [
        "\n",
        "After ITERATION: 58\tObjective: nan\tOld objective: nan\tImprovement: nan\n",
        "After ITERATION: 59\tObjective: nan\tOld objective: nan\tImprovement: nan\n",
        "After ITERATION: 60\tObjective: nan\tOld objective: nan\tImprovement: nan"
       ]
      },
      {
       "output_type": "stream",
       "stream": "stdout",
       "text": [
        "\n",
        "After ITERATION: 61\tObjective: nan\tOld objective: nan\tImprovement: nan\n",
        "After ITERATION: 62\tObjective: nan\tOld objective: nan\tImprovement: nan\n",
        "After ITERATION: 63\tObjective: nan\tOld objective: nan\tImprovement: nan"
       ]
      },
      {
       "output_type": "stream",
       "stream": "stdout",
       "text": [
        "\n",
        "After ITERATION: 64\tObjective: nan\tOld objective: nan\tImprovement: nan\n",
        "After ITERATION: 65\tObjective: nan\tOld objective: nan\tImprovement: nan\n",
        "After ITERATION: 66\tObjective: nan\tOld objective: nan\tImprovement: nan"
       ]
      },
      {
       "output_type": "stream",
       "stream": "stdout",
       "text": [
        "\n",
        "After ITERATION: 67\tObjective: nan\tOld objective: nan\tImprovement: nan\n",
        "After ITERATION: 68\tObjective: nan\tOld objective: nan\tImprovement: nan\n",
        "After ITERATION: 69\tObjective: nan\tOld objective: nan\tImprovement: nan"
       ]
      },
      {
       "output_type": "stream",
       "stream": "stdout",
       "text": [
        "\n",
        "After ITERATION: 70\tObjective: nan\tOld objective: nan\tImprovement: nan\n",
        "After ITERATION: 71\tObjective: nan\tOld objective: nan\tImprovement: nan\n",
        "After ITERATION: 72\tObjective: nan\tOld objective: nan\tImprovement: nan"
       ]
      },
      {
       "output_type": "stream",
       "stream": "stdout",
       "text": [
        "\n",
        "After ITERATION: 73\tObjective: nan\tOld objective: nan\tImprovement: nan\n",
        "After ITERATION: 74\tObjective: nan\tOld objective: nan\tImprovement: nan\n",
        "After ITERATION: 75\tObjective: nan\tOld objective: nan\tImprovement: nan"
       ]
      },
      {
       "output_type": "stream",
       "stream": "stdout",
       "text": [
        "\n",
        "After ITERATION: 76\tObjective: nan\tOld objective: nan\tImprovement: nan\n",
        "After ITERATION: 77\tObjective: nan\tOld objective: nan\tImprovement: nan\n",
        "After ITERATION: 78\tObjective: nan\tOld objective: nan\tImprovement: nan"
       ]
      },
      {
       "output_type": "stream",
       "stream": "stdout",
       "text": [
        "\n",
        "After ITERATION: 79\tObjective: nan\tOld objective: nan\tImprovement: nan\n",
        "After ITERATION: 80\tObjective: nan\tOld objective: nan\tImprovement: nan\n",
        "After ITERATION: 81\tObjective: nan\tOld objective: nan\tImprovement: nan"
       ]
      },
      {
       "output_type": "stream",
       "stream": "stdout",
       "text": [
        "\n",
        "After ITERATION: 82\tObjective: nan\tOld objective: nan\tImprovement: nan\n",
        "After ITERATION: 83\tObjective: nan\tOld objective: nan\tImprovement: nan\n",
        "After ITERATION: 84\tObjective: nan\tOld objective: nan\tImprovement: nan"
       ]
      },
      {
       "output_type": "stream",
       "stream": "stdout",
       "text": [
        "\n",
        "After ITERATION: 85\tObjective: nan\tOld objective: nan\tImprovement: nan\n",
        "After ITERATION: 86\tObjective: nan\tOld objective: nan\tImprovement: nan\n",
        "After ITERATION: 87\tObjective: nan\tOld objective: nan\tImprovement: nan"
       ]
      },
      {
       "output_type": "stream",
       "stream": "stdout",
       "text": [
        "\n",
        "After ITERATION: 88\tObjective: nan\tOld objective: nan\tImprovement: nan\n",
        "After ITERATION: 89\tObjective: nan\tOld objective: nan\tImprovement: nan\n",
        "After ITERATION: 90\tObjective: nan\tOld objective: nan\tImprovement: nan"
       ]
      },
      {
       "output_type": "stream",
       "stream": "stdout",
       "text": [
        "\n",
        "After ITERATION: 91\tObjective: nan\tOld objective: nan\tImprovement: nan\n",
        "After ITERATION: 92\tObjective: nan\tOld objective: nan\tImprovement: nan\n",
        "After ITERATION: 93\tObjective: nan\tOld objective: nan\tImprovement: nan"
       ]
      },
      {
       "output_type": "stream",
       "stream": "stdout",
       "text": [
        "\n",
        "After ITERATION: 94\tObjective: nan\tOld objective: nan\tImprovement: nan\n",
        "After ITERATION: 95\tObjective: nan\tOld objective: nan\tImprovement: nan\n",
        "After ITERATION: 96\tObjective: nan\tOld objective: nan\tImprovement: nan"
       ]
      },
      {
       "output_type": "stream",
       "stream": "stdout",
       "text": [
        "\n",
        "After ITERATION: 97\tObjective: nan\tOld objective: nan\tImprovement: nan\n",
        "After ITERATION: 98\tObjective: nan\tOld objective: nan\tImprovement: nan\n",
        "After ITERATION: 99\tObjective: nan\tOld objective: nan\tImprovement: nan"
       ]
      },
      {
       "output_type": "stream",
       "stream": "stdout",
       "text": [
        "\n",
        "After ITERATION: 0\tObjective: nan\tOld objective: -inf\tImprovement: nan"
       ]
      },
      {
       "output_type": "stream",
       "stream": "stdout",
       "text": [
        "\n",
        "After ITERATION: 1\tObjective: nan\tOld objective: nan\tImprovement: nan\n",
        "After ITERATION: 2\tObjective: nan\tOld objective: nan\tImprovement: nan\n",
        "After ITERATION: 3\tObjective: nan\tOld objective: nan\tImprovement: nan"
       ]
      },
      {
       "output_type": "stream",
       "stream": "stdout",
       "text": [
        "\n",
        "After ITERATION: 4\tObjective: nan\tOld objective: nan\tImprovement: nan\n",
        "After ITERATION: 5\tObjective: nan\tOld objective: nan\tImprovement: nan\n",
        "After ITERATION: 6\tObjective: nan\tOld objective: nan\tImprovement: nan"
       ]
      },
      {
       "output_type": "stream",
       "stream": "stdout",
       "text": [
        "\n",
        "After ITERATION: 7\tObjective: nan\tOld objective: nan\tImprovement: nan\n",
        "After ITERATION: 8\tObjective: nan\tOld objective: nan\tImprovement: nan\n",
        "After ITERATION: 9\tObjective: nan\tOld objective: nan\tImprovement: nan"
       ]
      },
      {
       "output_type": "stream",
       "stream": "stdout",
       "text": [
        "\n",
        "After ITERATION: 10\tObjective: nan\tOld objective: nan\tImprovement: nan\n",
        "After ITERATION: 11\tObjective: nan\tOld objective: nan\tImprovement: nan\n",
        "After ITERATION: 12\tObjective: nan\tOld objective: nan\tImprovement: nan"
       ]
      },
      {
       "output_type": "stream",
       "stream": "stdout",
       "text": [
        "\n",
        "After ITERATION: 13\tObjective: nan\tOld objective: nan\tImprovement: nan\n",
        "After ITERATION: 14\tObjective: nan\tOld objective: nan\tImprovement: nan\n",
        "After ITERATION: 15\tObjective: nan\tOld objective: nan\tImprovement: nan"
       ]
      },
      {
       "output_type": "stream",
       "stream": "stdout",
       "text": [
        "\n",
        "After ITERATION: 16\tObjective: nan\tOld objective: nan\tImprovement: nan\n",
        "After ITERATION: 17\tObjective: nan\tOld objective: nan\tImprovement: nan\n",
        "After ITERATION: 18\tObjective: nan\tOld objective: nan\tImprovement: nan"
       ]
      },
      {
       "output_type": "stream",
       "stream": "stdout",
       "text": [
        "\n",
        "After ITERATION: 19\tObjective: nan\tOld objective: nan\tImprovement: nan\n",
        "After ITERATION: 20\tObjective: nan\tOld objective: nan\tImprovement: nan\n",
        "After ITERATION: 21\tObjective: nan\tOld objective: nan\tImprovement: nan"
       ]
      },
      {
       "output_type": "stream",
       "stream": "stdout",
       "text": [
        "\n",
        "After ITERATION: 22\tObjective: nan\tOld objective: nan\tImprovement: nan\n",
        "After ITERATION: 23\tObjective: nan\tOld objective: nan\tImprovement: nan\n",
        "After ITERATION: 24\tObjective: nan\tOld objective: nan\tImprovement: nan"
       ]
      },
      {
       "output_type": "stream",
       "stream": "stdout",
       "text": [
        "\n",
        "After ITERATION: 25\tObjective: nan\tOld objective: nan\tImprovement: nan\n",
        "After ITERATION: 26\tObjective: nan\tOld objective: nan\tImprovement: nan\n",
        "After ITERATION: 27\tObjective: nan\tOld objective: nan\tImprovement: nan"
       ]
      },
      {
       "output_type": "stream",
       "stream": "stdout",
       "text": [
        "\n",
        "After ITERATION: 28\tObjective: nan\tOld objective: nan\tImprovement: nan\n",
        "After ITERATION: 29\tObjective: nan\tOld objective: nan\tImprovement: nan\n",
        "After ITERATION: 30\tObjective: nan\tOld objective: nan\tImprovement: nan"
       ]
      },
      {
       "output_type": "stream",
       "stream": "stdout",
       "text": [
        "\n",
        "After ITERATION: 31\tObjective: nan\tOld objective: nan\tImprovement: nan\n",
        "After ITERATION: 32\tObjective: nan\tOld objective: nan\tImprovement: nan\n",
        "After ITERATION: 33\tObjective: nan\tOld objective: nan\tImprovement: nan"
       ]
      },
      {
       "output_type": "stream",
       "stream": "stdout",
       "text": [
        "\n",
        "After ITERATION: 34\tObjective: nan\tOld objective: nan\tImprovement: nan\n",
        "After ITERATION: 35\tObjective: nan\tOld objective: nan\tImprovement: nan\n",
        "After ITERATION: 36\tObjective: nan\tOld objective: nan\tImprovement: nan"
       ]
      },
      {
       "output_type": "stream",
       "stream": "stdout",
       "text": [
        "\n",
        "After ITERATION: 37\tObjective: nan\tOld objective: nan\tImprovement: nan\n",
        "After ITERATION: 38\tObjective: nan\tOld objective: nan\tImprovement: nan\n",
        "After ITERATION: 39\tObjective: nan\tOld objective: nan\tImprovement: nan"
       ]
      },
      {
       "output_type": "stream",
       "stream": "stdout",
       "text": [
        "\n",
        "After ITERATION: 40\tObjective: nan\tOld objective: nan\tImprovement: nan\n",
        "After ITERATION: 41\tObjective: nan\tOld objective: nan\tImprovement: nan\n",
        "After ITERATION: 42\tObjective: nan\tOld objective: nan\tImprovement: nan"
       ]
      },
      {
       "output_type": "stream",
       "stream": "stdout",
       "text": [
        "\n",
        "After ITERATION: 43\tObjective: nan\tOld objective: nan\tImprovement: nan\n",
        "After ITERATION: 44\tObjective: nan\tOld objective: nan\tImprovement: nan\n",
        "After ITERATION: 45\tObjective: nan\tOld objective: nan\tImprovement: nan"
       ]
      },
      {
       "output_type": "stream",
       "stream": "stdout",
       "text": [
        "\n",
        "After ITERATION: 46\tObjective: nan\tOld objective: nan\tImprovement: nan\n",
        "After ITERATION: 47\tObjective: nan\tOld objective: nan\tImprovement: nan\n",
        "After ITERATION: 48\tObjective: nan\tOld objective: nan\tImprovement: nan"
       ]
      },
      {
       "output_type": "stream",
       "stream": "stdout",
       "text": [
        "\n",
        "After ITERATION: 49\tObjective: nan\tOld objective: nan\tImprovement: nan\n",
        "After ITERATION: 50\tObjective: nan\tOld objective: nan\tImprovement: nan\n",
        "After ITERATION: 51\tObjective: nan\tOld objective: nan\tImprovement: nan"
       ]
      },
      {
       "output_type": "stream",
       "stream": "stdout",
       "text": [
        "\n",
        "After ITERATION: 52\tObjective: nan\tOld objective: nan\tImprovement: nan\n",
        "After ITERATION: 53\tObjective: nan\tOld objective: nan\tImprovement: nan\n",
        "After ITERATION: 54\tObjective: nan\tOld objective: nan\tImprovement: nan"
       ]
      },
      {
       "output_type": "stream",
       "stream": "stdout",
       "text": [
        "\n",
        "After ITERATION: 55\tObjective: nan\tOld objective: nan\tImprovement: nan\n",
        "After ITERATION: 56\tObjective: nan\tOld objective: nan\tImprovement: nan\n",
        "After ITERATION: 57\tObjective: nan\tOld objective: nan\tImprovement: nan"
       ]
      },
      {
       "output_type": "stream",
       "stream": "stdout",
       "text": [
        "\n",
        "After ITERATION: 58\tObjective: nan\tOld objective: nan\tImprovement: nan\n",
        "After ITERATION: 59\tObjective: nan\tOld objective: nan\tImprovement: nan\n",
        "After ITERATION: 60\tObjective: nan\tOld objective: nan\tImprovement: nan"
       ]
      },
      {
       "output_type": "stream",
       "stream": "stdout",
       "text": [
        "\n",
        "After ITERATION: 61\tObjective: nan\tOld objective: nan\tImprovement: nan\n",
        "After ITERATION: 62\tObjective: nan\tOld objective: nan\tImprovement: nan\n",
        "After ITERATION: 63\tObjective: nan\tOld objective: nan\tImprovement: nan"
       ]
      },
      {
       "output_type": "stream",
       "stream": "stdout",
       "text": [
        "\n",
        "After ITERATION: 64\tObjective: nan\tOld objective: nan\tImprovement: nan\n",
        "After ITERATION: 65\tObjective: nan\tOld objective: nan\tImprovement: nan\n",
        "After ITERATION: 66\tObjective: nan\tOld objective: nan\tImprovement: nan"
       ]
      },
      {
       "output_type": "stream",
       "stream": "stdout",
       "text": [
        "\n",
        "After ITERATION: 67\tObjective: nan\tOld objective: nan\tImprovement: nan\n",
        "After ITERATION: 68\tObjective: nan\tOld objective: nan\tImprovement: nan\n",
        "After ITERATION: 69\tObjective: nan\tOld objective: nan\tImprovement: nan"
       ]
      },
      {
       "output_type": "stream",
       "stream": "stdout",
       "text": [
        "\n",
        "After ITERATION: 70\tObjective: nan\tOld objective: nan\tImprovement: nan\n",
        "After ITERATION: 71\tObjective: nan\tOld objective: nan\tImprovement: nan\n",
        "After ITERATION: 72\tObjective: nan\tOld objective: nan\tImprovement: nan"
       ]
      },
      {
       "output_type": "stream",
       "stream": "stdout",
       "text": [
        "\n",
        "After ITERATION: 73\tObjective: nan\tOld objective: nan\tImprovement: nan\n",
        "After ITERATION: 74\tObjective: nan\tOld objective: nan\tImprovement: nan\n",
        "After ITERATION: 75\tObjective: nan\tOld objective: nan\tImprovement: nan"
       ]
      },
      {
       "output_type": "stream",
       "stream": "stdout",
       "text": [
        "\n",
        "After ITERATION: 76\tObjective: nan\tOld objective: nan\tImprovement: nan\n",
        "After ITERATION: 77\tObjective: nan\tOld objective: nan\tImprovement: nan\n",
        "After ITERATION: 78\tObjective: nan\tOld objective: nan\tImprovement: nan"
       ]
      },
      {
       "output_type": "stream",
       "stream": "stdout",
       "text": [
        "\n",
        "After ITERATION: 79\tObjective: nan\tOld objective: nan\tImprovement: nan\n",
        "After ITERATION: 80\tObjective: nan\tOld objective: nan\tImprovement: nan\n",
        "After ITERATION: 81\tObjective: nan\tOld objective: nan\tImprovement: nan"
       ]
      },
      {
       "output_type": "stream",
       "stream": "stdout",
       "text": [
        "\n",
        "After ITERATION: 82\tObjective: nan\tOld objective: nan\tImprovement: nan\n",
        "After ITERATION: 83\tObjective: nan\tOld objective: nan\tImprovement: nan\n",
        "After ITERATION: 84\tObjective: nan\tOld objective: nan\tImprovement: nan"
       ]
      },
      {
       "output_type": "stream",
       "stream": "stdout",
       "text": [
        "\n",
        "After ITERATION: 85\tObjective: nan\tOld objective: nan\tImprovement: nan\n",
        "After ITERATION: 86\tObjective: nan\tOld objective: nan\tImprovement: nan\n",
        "After ITERATION: 87\tObjective: nan\tOld objective: nan\tImprovement: nan"
       ]
      },
      {
       "output_type": "stream",
       "stream": "stdout",
       "text": [
        "\n",
        "After ITERATION: 88\tObjective: nan\tOld objective: nan\tImprovement: nan\n",
        "After ITERATION: 89\tObjective: nan\tOld objective: nan\tImprovement: nan\n",
        "After ITERATION: 90\tObjective: nan\tOld objective: nan\tImprovement: nan"
       ]
      },
      {
       "output_type": "stream",
       "stream": "stdout",
       "text": [
        "\n",
        "After ITERATION: 91\tObjective: nan\tOld objective: nan\tImprovement: nan\n",
        "After ITERATION: 92\tObjective: nan\tOld objective: nan\tImprovement: nan\n",
        "After ITERATION: 93\tObjective: nan\tOld objective: nan\tImprovement: nan"
       ]
      },
      {
       "output_type": "stream",
       "stream": "stdout",
       "text": [
        "\n",
        "After ITERATION: 94\tObjective: nan\tOld objective: nan\tImprovement: nan\n",
        "After ITERATION: 95\tObjective: nan\tOld objective: nan\tImprovement: nan\n",
        "After ITERATION: 96\tObjective: nan\tOld objective: nan\tImprovement: nan"
       ]
      },
      {
       "output_type": "stream",
       "stream": "stdout",
       "text": [
        "\n",
        "After ITERATION: 97\tObjective: nan\tOld objective: nan\tImprovement: nan\n",
        "After ITERATION: 98\tObjective: nan\tOld objective: nan\tImprovement: nan\n",
        "After ITERATION: 99\tObjective: nan\tOld objective: nan\tImprovement: nan"
       ]
      },
      {
       "output_type": "stream",
       "stream": "stdout",
       "text": [
        "\n",
        "After ITERATION: 0\tObjective: -17913122655.50\tOld objective: -inf\tImprovement: nan"
       ]
      },
      {
       "output_type": "stream",
       "stream": "stdout",
       "text": [
        "\n",
        "After ITERATION: 1\tObjective: -17837226183.57\tOld objective: -17913122655.50\tImprovement: 0.00424"
       ]
      },
      {
       "output_type": "stream",
       "stream": "stdout",
       "text": [
        "\n",
        "After ITERATION: 2\tObjective: -17837076071.94\tOld objective: -17837226183.57\tImprovement: 0.00001"
       ]
      },
      {
       "output_type": "stream",
       "stream": "stdout",
       "text": [
        "\n"
       ]
      },
      {
       "ename": "KeyboardInterrupt",
       "evalue": "",
       "output_type": "pyerr",
       "traceback": [
        "\u001b[1;31m---------------------------------------------------------------------------\u001b[0m\n\u001b[1;31mKeyboardInterrupt\u001b[0m                         Traceback (most recent call last)",
        "\u001b[1;32m<ipython-input-905-1ec5427cd785>\u001b[0m in \u001b[0;36m<module>\u001b[1;34m()\u001b[0m\n\u001b[1;32m----> 1\u001b[1;33m \u001b[0monline_coder\u001b[0m\u001b[1;33m.\u001b[0m\u001b[0mfit\u001b[0m\u001b[1;33m(\u001b[0m\u001b[0mX\u001b[0m\u001b[1;33m)\u001b[0m\u001b[1;33m\u001b[0m\u001b[0m\n\u001b[0m",
        "\u001b[1;32m/q/porkpie/porkpie-p2/dliang/stochastic_NMF/code/msd_rec/pnmf.pyc\u001b[0m in \u001b[0;36mfit\u001b[1;34m(self, X)\u001b[0m\n\u001b[0;32m    199\u001b[0m                 \u001b[0mself\u001b[0m\u001b[1;33m.\u001b[0m\u001b[0mrho\u001b[0m \u001b[1;33m=\u001b[0m \u001b[1;33m(\u001b[0m\u001b[0mi\u001b[0m \u001b[1;33m+\u001b[0m \u001b[0mself\u001b[0m\u001b[1;33m.\u001b[0m\u001b[0mt0\u001b[0m\u001b[1;33m)\u001b[0m\u001b[1;33m**\u001b[0m\u001b[1;33m(\u001b[0m\u001b[1;33m-\u001b[0m\u001b[0mself\u001b[0m\u001b[1;33m.\u001b[0m\u001b[0mkappa\u001b[0m\u001b[1;33m)\u001b[0m\u001b[1;33m\u001b[0m\u001b[0m\n\u001b[0;32m    200\u001b[0m                 \u001b[0mmini_batch\u001b[0m \u001b[1;33m=\u001b[0m \u001b[0mX\u001b[0m\u001b[1;33m[\u001b[0m\u001b[0mindices\u001b[0m\u001b[1;33m[\u001b[0m\u001b[0mi\u001b[0m\u001b[1;33m]\u001b[0m\u001b[1;33m:\u001b[0m \u001b[0mindices\u001b[0m\u001b[1;33m[\u001b[0m\u001b[0miend\u001b[0m\u001b[1;33m]\u001b[0m\u001b[1;33m]\u001b[0m\u001b[1;33m\u001b[0m\u001b[0m\n\u001b[1;32m--> 201\u001b[1;33m                 \u001b[0mself\u001b[0m\u001b[1;33m.\u001b[0m\u001b[0mpartial_fit\u001b[0m\u001b[1;33m(\u001b[0m\u001b[0mmini_batch\u001b[0m\u001b[1;33m)\u001b[0m\u001b[1;33m\u001b[0m\u001b[0m\n\u001b[0m\u001b[0;32m    202\u001b[0m                 \u001b[0mself\u001b[0m\u001b[1;33m.\u001b[0m\u001b[0mbound\u001b[0m\u001b[1;33m.\u001b[0m\u001b[0mappend\u001b[0m\u001b[1;33m(\u001b[0m\u001b[0mself\u001b[0m\u001b[1;33m.\u001b[0m\u001b[0m_bound\u001b[0m\u001b[1;33m(\u001b[0m\u001b[0mmini_batch\u001b[0m\u001b[1;33m)\u001b[0m\u001b[1;33m)\u001b[0m\u001b[1;33m\u001b[0m\u001b[0m\n\u001b[0;32m    203\u001b[0m         \u001b[1;32mreturn\u001b[0m \u001b[0mself\u001b[0m\u001b[1;33m\u001b[0m\u001b[0m\n",
        "\u001b[1;32m/q/porkpie/porkpie-p2/dliang/stochastic_NMF/code/msd_rec/pnmf.pyc\u001b[0m in \u001b[0;36mpartial_fit\u001b[1;34m(self, X)\u001b[0m\n\u001b[0;32m    204\u001b[0m \u001b[1;33m\u001b[0m\u001b[0m\n\u001b[0;32m    205\u001b[0m     \u001b[1;32mdef\u001b[0m \u001b[0mpartial_fit\u001b[0m\u001b[1;33m(\u001b[0m\u001b[0mself\u001b[0m\u001b[1;33m,\u001b[0m \u001b[0mX\u001b[0m\u001b[1;33m)\u001b[0m\u001b[1;33m:\u001b[0m\u001b[1;33m\u001b[0m\u001b[0m\n\u001b[1;32m--> 206\u001b[1;33m         \u001b[0mself\u001b[0m\u001b[1;33m.\u001b[0m\u001b[0mtransform\u001b[0m\u001b[1;33m(\u001b[0m\u001b[0mX\u001b[0m\u001b[1;33m)\u001b[0m\u001b[1;33m\u001b[0m\u001b[0m\n\u001b[0m\u001b[0;32m    207\u001b[0m         \u001b[1;31m# take a (natural) gradient step\u001b[0m\u001b[1;33m\u001b[0m\u001b[1;33m\u001b[0m\u001b[0m\n\u001b[0;32m    208\u001b[0m         \u001b[0mratio\u001b[0m \u001b[1;33m=\u001b[0m \u001b[0mX\u001b[0m \u001b[1;33m/\u001b[0m \u001b[0mself\u001b[0m\u001b[1;33m.\u001b[0m\u001b[0m_xexplog\u001b[0m\u001b[1;33m(\u001b[0m\u001b[1;33m)\u001b[0m\u001b[1;33m\u001b[0m\u001b[0m\n",
        "\u001b[1;32m/q/porkpie/porkpie-p2/dliang/stochastic_NMF/code/msd_rec/pnmf.pyc\u001b[0m in \u001b[0;36mtransform\u001b[1;34m(self, X, attr)\u001b[0m\n\u001b[0;32m    222\u001b[0m             \u001b[0mattr\u001b[0m \u001b[1;33m=\u001b[0m \u001b[1;34m'Et'\u001b[0m\u001b[1;33m\u001b[0m\u001b[0m\n\u001b[0;32m    223\u001b[0m         \u001b[0mself\u001b[0m\u001b[1;33m.\u001b[0m\u001b[0m_init_weights\u001b[0m\u001b[1;33m(\u001b[0m\u001b[0mn_samples\u001b[0m\u001b[1;33m)\u001b[0m\u001b[1;33m\u001b[0m\u001b[0m\n\u001b[1;32m--> 224\u001b[1;33m         \u001b[0mself\u001b[0m\u001b[1;33m.\u001b[0m\u001b[0m_update\u001b[0m\u001b[1;33m(\u001b[0m\u001b[0mX\u001b[0m\u001b[1;33m,\u001b[0m \u001b[0mupdate_beta\u001b[0m\u001b[1;33m=\u001b[0m\u001b[0mFalse\u001b[0m\u001b[1;33m)\u001b[0m\u001b[1;33m\u001b[0m\u001b[0m\n\u001b[0m\u001b[0;32m    225\u001b[0m         \u001b[1;32mreturn\u001b[0m \u001b[0mgetattr\u001b[0m\u001b[1;33m(\u001b[0m\u001b[0mself\u001b[0m\u001b[1;33m,\u001b[0m \u001b[0mattr\u001b[0m\u001b[1;33m)\u001b[0m\u001b[1;33m\u001b[0m\u001b[0m\n\u001b[0;32m    226\u001b[0m \u001b[1;33m\u001b[0m\u001b[0m\n",
        "\u001b[1;32m/q/porkpie/porkpie-p2/dliang/stochastic_NMF/code/msd_rec/pnmf.pyc\u001b[0m in \u001b[0;36m_update\u001b[1;34m(self, X, update_beta)\u001b[0m\n\u001b[0;32m    228\u001b[0m         \u001b[0mold_bd\u001b[0m \u001b[1;33m=\u001b[0m \u001b[1;33m-\u001b[0m\u001b[0mnp\u001b[0m\u001b[1;33m.\u001b[0m\u001b[0minf\u001b[0m\u001b[1;33m\u001b[0m\u001b[0m\n\u001b[0;32m    229\u001b[0m         \u001b[1;32mfor\u001b[0m \u001b[0mi\u001b[0m \u001b[1;32min\u001b[0m \u001b[0mxrange\u001b[0m\u001b[1;33m(\u001b[0m\u001b[0mself\u001b[0m\u001b[1;33m.\u001b[0m\u001b[0mmax_iter\u001b[0m\u001b[1;33m)\u001b[0m\u001b[1;33m:\u001b[0m\u001b[1;33m\u001b[0m\u001b[0m\n\u001b[1;32m--> 230\u001b[1;33m             \u001b[0mself\u001b[0m\u001b[1;33m.\u001b[0m\u001b[0m_update_theta\u001b[0m\u001b[1;33m(\u001b[0m\u001b[0mX\u001b[0m\u001b[1;33m)\u001b[0m\u001b[1;33m\u001b[0m\u001b[0m\n\u001b[0m\u001b[0;32m    231\u001b[0m             \u001b[1;32mif\u001b[0m \u001b[0mupdate_beta\u001b[0m\u001b[1;33m:\u001b[0m\u001b[1;33m\u001b[0m\u001b[0m\n\u001b[0;32m    232\u001b[0m                 \u001b[0mself\u001b[0m\u001b[1;33m.\u001b[0m\u001b[0m_update_beta\u001b[0m\u001b[1;33m(\u001b[0m\u001b[0mX\u001b[0m\u001b[1;33m)\u001b[0m\u001b[1;33m\u001b[0m\u001b[0m\n",
        "\u001b[1;32m/q/porkpie/porkpie-p2/dliang/stochastic_NMF/code/msd_rec/pnmf.pyc\u001b[0m in \u001b[0;36m_update_theta\u001b[1;34m(self, X)\u001b[0m\n\u001b[0;32m    245\u001b[0m         \u001b[0mself\u001b[0m\u001b[1;33m.\u001b[0m\u001b[0mc\u001b[0m \u001b[1;33m=\u001b[0m \u001b[1;36m1.\u001b[0m \u001b[1;33m/\u001b[0m \u001b[0mnp\u001b[0m\u001b[1;33m.\u001b[0m\u001b[0mmean\u001b[0m\u001b[1;33m(\u001b[0m\u001b[0mself\u001b[0m\u001b[1;33m.\u001b[0m\u001b[0mEt\u001b[0m\u001b[1;33m)\u001b[0m\u001b[1;33m\u001b[0m\u001b[0m\n\u001b[0;32m    246\u001b[0m \u001b[1;33m\u001b[0m\u001b[0m\n\u001b[1;32m--> 247\u001b[1;33m         \u001b[0mratio\u001b[0m \u001b[1;33m=\u001b[0m \u001b[0mX\u001b[0m \u001b[1;33m/\u001b[0m \u001b[0mself\u001b[0m\u001b[1;33m.\u001b[0m\u001b[0m_xexplog\u001b[0m\u001b[1;33m(\u001b[0m\u001b[1;33m)\u001b[0m\u001b[1;33m\u001b[0m\u001b[0m\n\u001b[0m\u001b[0;32m    248\u001b[0m         \u001b[0mself\u001b[0m\u001b[1;33m.\u001b[0m\u001b[0mgamma_t\u001b[0m \u001b[1;33m=\u001b[0m \u001b[0mself\u001b[0m\u001b[1;33m.\u001b[0m\u001b[0ma\u001b[0m \u001b[1;33m+\u001b[0m \u001b[0mnp\u001b[0m\u001b[1;33m.\u001b[0m\u001b[0mexp\u001b[0m\u001b[1;33m(\u001b[0m\u001b[0mself\u001b[0m\u001b[1;33m.\u001b[0m\u001b[0mElogt\u001b[0m\u001b[1;33m)\u001b[0m \u001b[1;33m*\u001b[0m \u001b[0mnp\u001b[0m\u001b[1;33m.\u001b[0m\u001b[0mdot\u001b[0m\u001b[1;33m(\u001b[0m\u001b[0mratio\u001b[0m\u001b[1;33m,\u001b[0m \u001b[0mnp\u001b[0m\u001b[1;33m.\u001b[0m\u001b[0mexp\u001b[0m\u001b[1;33m(\u001b[0m\u001b[0mself\u001b[0m\u001b[1;33m.\u001b[0m\u001b[0mElogb\u001b[0m\u001b[1;33m)\u001b[0m\u001b[1;33m.\u001b[0m\u001b[0mT\u001b[0m\u001b[1;33m)\u001b[0m\u001b[1;33m\u001b[0m\u001b[0m\n\u001b[0;32m    249\u001b[0m         \u001b[0mself\u001b[0m\u001b[1;33m.\u001b[0m\u001b[0mrho_t\u001b[0m \u001b[1;33m=\u001b[0m \u001b[0mself\u001b[0m\u001b[1;33m.\u001b[0m\u001b[0ma\u001b[0m \u001b[1;33m*\u001b[0m \u001b[0mself\u001b[0m\u001b[1;33m.\u001b[0m\u001b[0mc\u001b[0m \u001b[1;33m+\u001b[0m \u001b[0mnp\u001b[0m\u001b[1;33m.\u001b[0m\u001b[0msum\u001b[0m\u001b[1;33m(\u001b[0m\u001b[0mself\u001b[0m\u001b[1;33m.\u001b[0m\u001b[0mEb\u001b[0m\u001b[1;33m,\u001b[0m \u001b[0maxis\u001b[0m\u001b[1;33m=\u001b[0m\u001b[1;36m1\u001b[0m\u001b[1;33m)\u001b[0m\u001b[1;33m\u001b[0m\u001b[0m\n",
        "\u001b[1;32m/q/porkpie/porkpie-p2/dliang/stochastic_NMF/code/msd_rec/pnmf.pyc\u001b[0m in \u001b[0;36m_xexplog\u001b[1;34m(self)\u001b[0m\n\u001b[0;32m    260\u001b[0m         \u001b[0msum_k\u001b[0m \u001b[0mexp\u001b[0m\u001b[1;33m(\u001b[0m\u001b[0mE\u001b[0m\u001b[1;33m[\u001b[0m\u001b[0mlog\u001b[0m \u001b[0mtheta_\u001b[0m\u001b[1;33m{\u001b[0m\u001b[0mik\u001b[0m\u001b[1;33m}\u001b[0m \u001b[1;33m*\u001b[0m \u001b[0mbeta_\u001b[0m\u001b[1;33m{\u001b[0m\u001b[0mkd\u001b[0m\u001b[1;33m}\u001b[0m\u001b[1;33m]\u001b[0m\u001b[1;33m)\u001b[0m\u001b[1;33m\u001b[0m\u001b[0m\n\u001b[0;32m    261\u001b[0m         '''\n\u001b[1;32m--> 262\u001b[1;33m         \u001b[1;32mreturn\u001b[0m \u001b[0mnp\u001b[0m\u001b[1;33m.\u001b[0m\u001b[0mdot\u001b[0m\u001b[1;33m(\u001b[0m\u001b[0mnp\u001b[0m\u001b[1;33m.\u001b[0m\u001b[0mexp\u001b[0m\u001b[1;33m(\u001b[0m\u001b[0mself\u001b[0m\u001b[1;33m.\u001b[0m\u001b[0mElogt\u001b[0m\u001b[1;33m)\u001b[0m\u001b[1;33m,\u001b[0m \u001b[0mnp\u001b[0m\u001b[1;33m.\u001b[0m\u001b[0mexp\u001b[0m\u001b[1;33m(\u001b[0m\u001b[0mself\u001b[0m\u001b[1;33m.\u001b[0m\u001b[0mElogb\u001b[0m\u001b[1;33m)\u001b[0m\u001b[1;33m)\u001b[0m\u001b[1;33m\u001b[0m\u001b[0m\n\u001b[0m\u001b[0;32m    263\u001b[0m \u001b[1;33m\u001b[0m\u001b[0m\n\u001b[0;32m    264\u001b[0m     \u001b[1;32mdef\u001b[0m \u001b[0m_bound\u001b[0m\u001b[1;33m(\u001b[0m\u001b[0mself\u001b[0m\u001b[1;33m,\u001b[0m \u001b[0mX\u001b[0m\u001b[1;33m)\u001b[0m\u001b[1;33m:\u001b[0m\u001b[1;33m\u001b[0m\u001b[0m\n",
        "\u001b[1;31mKeyboardInterrupt\u001b[0m: "
       ]
      }
     ],
     "prompt_number": 905
    },
    {
     "cell_type": "code",
     "collapsed": false,
     "input": [],
     "language": "python",
     "metadata": {},
     "outputs": []
    },
    {
     "cell_type": "code",
     "collapsed": false,
     "input": [],
     "language": "python",
     "metadata": {},
     "outputs": []
    },
    {
     "cell_type": "heading",
     "level": 1,
     "metadata": {},
     "source": [
      "Stochastic inference on the full set"
     ]
    },
    {
     "cell_type": "code",
     "collapsed": false,
     "input": [],
     "language": "python",
     "metadata": {},
     "outputs": []
    }
   ],
   "metadata": {}
  }
 ]
}