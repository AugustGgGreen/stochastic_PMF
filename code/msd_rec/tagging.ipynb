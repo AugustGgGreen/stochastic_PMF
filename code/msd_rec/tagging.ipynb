{
 "metadata": {
  "name": "",
  "signature": "sha256:623da9cd19da06e95b698f332b7d086b8adebba963731ed5479f3c1e042bb119"
 },
 "nbformat": 3,
 "nbformat_minor": 0,
 "worksheets": [
  {
   "cells": [
    {
     "cell_type": "code",
     "collapsed": false,
     "input": [
      "import functools\n",
      "import os\n",
      "import numpy as np\n",
      "\n",
      "import pnmf"
     ],
     "language": "python",
     "metadata": {},
     "outputs": [],
     "prompt_number": 1
    },
    {
     "cell_type": "code",
     "collapsed": false,
     "input": [
      "specshow = functools.partial(imshow, cmap=cm.PuOr_r, aspect='auto', interpolation='nearest')"
     ],
     "language": "python",
     "metadata": {},
     "outputs": [],
     "prompt_number": 2
    },
    {
     "cell_type": "code",
     "collapsed": false,
     "input": [
      "train_tracks = list()\n",
      "with open('train_tracks.txt', 'rb') as f:\n",
      "    for line in f:\n",
      "        train_tracks.append(line.strip())\n",
      "        \n",
      "test_tracks = list()\n",
      "with open('test_tracks.txt', 'rb') as f:\n",
      "    for line in f:\n",
      "        test_tracks.append(line.strip())\n",
      "        \n",
      "tags = list()\n",
      "with open('voc.txt', 'rb') as f:\n",
      "    for line in f:\n",
      "        tags.append(line.strip())"
     ],
     "language": "python",
     "metadata": {},
     "outputs": [],
     "prompt_number": 3
    },
    {
     "cell_type": "code",
     "collapsed": false,
     "input": [
      "def construct_pred_mask(tags_predicted, predictat):\n",
      "    n_samples, n_tags = tags_predicted.shape\n",
      "    rankings = np.argsort(-tags_predicted, axis=1)[:, :predictat]\n",
      "    tags_predicted_binary = np.zeros_like(tags_predicted, dtype=bool)\n",
      "    for i in xrange(n_samples):\n",
      "        tags_predicted_binary[i, rankings[i]] = 1\n",
      "    return tags_predicted_binary\n",
      "\n",
      "def per_tag_prec_recall(tags_predicted_binary, tags_true_binary):\n",
      "    mask = np.logical_and(tags_predicted_binary, tags_true_binary)\n",
      "    prec = mask.sum(axis=0) / (np.sum(tags_predicted_binary, axis=0) + np.spacing(1))\n",
      "    recall = mask.sum(axis=0) / (np.sum(tags_true_binary, axis=0) + np.spacing(1))\n",
      "    return prec, recall"
     ],
     "language": "python",
     "metadata": {},
     "outputs": [],
     "prompt_number": 4
    },
    {
     "cell_type": "code",
     "collapsed": false,
     "input": [
      "# take tracks with at least 20 tags from test set\n",
      "y_test = None\n",
      "\n",
      "test_tracks_selected = list()\n",
      "\n",
      "for tid in test_tracks:\n",
      "    tdir = os.path.join('vq_hist', '/'.join(tid[2:5]))\n",
      "    bot = np.load(os.path.join(tdir, '%s_BoT.npy' % tid))\n",
      "    if (bot > 0).sum() >= 20:\n",
      "        test_tracks_selected.append(tid)\n",
      "        if y_test is None:\n",
      "            y_test = bot\n",
      "        else:\n",
      "            y_test = np.vstack((y_test, bot))"
     ],
     "language": "python",
     "metadata": {},
     "outputs": [],
     "prompt_number": 5
    },
    {
     "cell_type": "code",
     "collapsed": false,
     "input": [
      "hist(np.sum( (y_test > 0), axis=1), bins=50)\n",
      "pass"
     ],
     "language": "python",
     "metadata": {},
     "outputs": [
      {
       "metadata": {},
       "output_type": "display_data",
       "png": "[encoded data removed]",
       "text": [
        "<matplotlib.figure.Figure at 0x30d0750>"
       ]
      }
     ],
     "prompt_number": 9
    },
    {
     "cell_type": "heading",
     "level": 1,
     "metadata": {},
     "source": [
      "Batch inference on 10K subset"
     ]
    },
    {
     "cell_type": "code",
     "collapsed": false,
     "input": [
      "K = 512\n",
      "\n",
      "np.random.seed(98765)\n",
      "train_tracks_subset = np.random.choice(train_tracks, size=10000, replace=False)"
     ],
     "language": "python",
     "metadata": {},
     "outputs": [],
     "prompt_number": 51
    },
    {
     "cell_type": "code",
     "collapsed": false,
     "input": [
      "D = K + len(tags)\n",
      "\n",
      "X = np.empty((10000, D), dtype=np.int16)\n",
      "\n",
      "for (i, tid) in enumerate(train_tracks_subset):\n",
      "    tdir = os.path.join('vq_hist', '/'.join(tid[2:5]))\n",
      "    vq = np.load(os.path.join(tdir, '%s_K%d.npy' % (tid, K))).ravel()\n",
      "    bot = np.load(os.path.join(tdir, '%s_BoT.npy' % tid))\n",
      "    bot *= (vq.max() / 100.0)\n",
      "    X[i] = np.hstack((vq, bot))"
     ],
     "language": "python",
     "metadata": {},
     "outputs": []
    },
    {
     "cell_type": "code",
     "collapsed": false,
     "input": [
      "X_test = np.empty((len(test_tracks_selected), K), dtype=int16)\n",
      "\n",
      "for (i, tid) in enumerate(test_tracks_selected):\n",
      "    tdir = os.path.join('vq_hist', '/'.join(tid[2:5]))\n",
      "    vq = np.load(os.path.join(tdir, '%s_K%d.npy' % (tid, K))).ravel()\n",
      "    X_test[i] = vq"
     ],
     "language": "python",
     "metadata": {},
     "outputs": []
    },
    {
     "cell_type": "code",
     "collapsed": false,
     "input": [
      "reload(pnmf)\n",
      "n_components = 50\n",
      "coder = pnmf.PoissonNMF(n_components=n_components, random_state=98765, verbose=True)"
     ],
     "language": "python",
     "metadata": {},
     "outputs": []
    },
    {
     "cell_type": "code",
     "collapsed": false,
     "input": [
      "coder.fit(X)"
     ],
     "language": "python",
     "metadata": {},
     "outputs": []
    },
    {
     "cell_type": "code",
     "collapsed": false,
     "input": [
      "# plot 10 \"topics\"\n",
      "indices = np.random.choice(n_components, size=10, replace=False)\n",
      "figure(figsize=(16, 15))\n",
      "for i in xrange(10):\n",
      "    subplot(5, 2, i+1)\n",
      "    bar(np.arange(D), coder.Eb[indices[i]])\n",
      "    title('Component #%d' % indices[i])"
     ],
     "language": "python",
     "metadata": {},
     "outputs": []
    },
    {
     "cell_type": "code",
     "collapsed": false,
     "input": [
      "tagger = pnmf.PoissonNMF(n_components=n_components, random_state=98765, verbose=True)"
     ],
     "language": "python",
     "metadata": {},
     "outputs": []
    },
    {
     "cell_type": "code",
     "collapsed": false,
     "input": [
      "tagger.set_components(coder.gamma_b[:, :K], coder.rho_b)"
     ],
     "language": "python",
     "metadata": {},
     "outputs": []
    },
    {
     "cell_type": "code",
     "collapsed": false,
     "input": [
      "Et = tagger.transform(X_test)"
     ],
     "language": "python",
     "metadata": {},
     "outputs": []
    },
    {
     "cell_type": "code",
     "collapsed": false,
     "input": [
      "tags_predicted = Et.dot(coder.Eb[:, K:])\n",
      "\n",
      "div_factor = 2.5\n",
      "tags_predicted = tags_predicted - div_factor * np.mean(tags_predicted, axis=0)"
     ],
     "language": "python",
     "metadata": {},
     "outputs": []
    },
    {
     "cell_type": "code",
     "collapsed": false,
     "input": [
      "predictat = 50\n",
      "tags_predicted_binary = construct_pred_mask(tags_predicted, predictat)\n",
      "tags_true_binary = (y_test > 0)"
     ],
     "language": "python",
     "metadata": {},
     "outputs": []
    },
    {
     "cell_type": "code",
     "collapsed": false,
     "input": [
      "n_samples, n_tags = tags_predicted.shape\n",
      "tags_random_binary = np.zeros((n_samples, n_tags), dtype=bool)\n",
      "for i in xrange(n_samples):\n",
      "    idx = np.random.choice(n_tags, size=predictat, replace=False)\n",
      "    tags_random_binary[i, idx] = 1"
     ],
     "language": "python",
     "metadata": {},
     "outputs": []
    },
    {
     "cell_type": "code",
     "collapsed": false,
     "input": [
      "prec, recall = per_tag_prec_recall(tags_predicted_binary, tags_true_binary)\n",
      "print np.mean(prec), np.std(prec) / sqrt(n_tags)\n",
      "print np.mean(recall), np.std(recall) / sqrt(n_tags)"
     ],
     "language": "python",
     "metadata": {},
     "outputs": []
    },
    {
     "cell_type": "code",
     "collapsed": false,
     "input": [
      "prec, recall = per_tag_prec_recall(tags_random_binary, tags_true_binary)\n",
      "print np.mean(prec), np.std(prec) / sqrt(n_tags)\n",
      "print np.mean(recall), np.std(recall) / sqrt(n_tags)"
     ],
     "language": "python",
     "metadata": {},
     "outputs": []
    },
    {
     "cell_type": "heading",
     "level": 1,
     "metadata": {},
     "source": [
      "Stochastic inference on 10K subset"
     ]
    },
    {
     "cell_type": "code",
     "collapsed": false,
     "input": [
      "online_coder = pnmf.OnlinePoissonNMF()"
     ],
     "language": "python",
     "metadata": {},
     "outputs": []
    },
    {
     "cell_type": "heading",
     "level": 1,
     "metadata": {},
     "source": [
      "Stochastic inference on the full set"
     ]
    },
    {
     "cell_type": "code",
     "collapsed": false,
     "input": [],
     "language": "python",
     "metadata": {},
     "outputs": []
    }
   ],
   "metadata": {}
  }
 ]
}