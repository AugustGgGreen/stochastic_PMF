{
 "metadata": {
  "name": ""
 },
 "nbformat": 3,
 "nbformat_minor": 0,
 "worksheets": [
  {
   "cells": [
    {
     "cell_type": "code",
     "collapsed": false,
     "input": [
      "import cPickle as pickle\n",
      "import os\n",
      "import re\n",
      "import sqlite3\n",
      "\n",
      "import nltk\n",
      "from nltk.stem.porter import PorterStemmer"
     ],
     "language": "python",
     "metadata": {},
     "outputs": [],
     "prompt_number": 1
    },
    {
     "cell_type": "code",
     "collapsed": false,
     "input": [
      "MSD_DIR = u'/q/boar/boar-p9/MillionSong/'\n",
      "MSD_LFM_ROOT = os.path.join(MSD_DIR, 'Lastfm')\n",
      "MSD_ADD = os.path.join(MSD_DIR, 'AdditionalFiles')"
     ],
     "language": "python",
     "metadata": {},
     "outputs": [],
     "prompt_number": 2
    },
    {
     "cell_type": "code",
     "collapsed": false,
     "input": [
      "tags_dbfile = os.path.join(MSD_LFM_ROOT, 'lastfm_tags.db')\n",
      "uniq_tag_f = os.path.join(MSD_LFM_ROOT, 'unique_tags.txt')\n",
      "md_dbfile = 'track_metadata.db'"
     ],
     "language": "python",
     "metadata": {},
     "outputs": [],
     "prompt_number": 3
    },
    {
     "cell_type": "code",
     "collapsed": false,
     "input": [
      "# shameless steal from https://github.com/bmcfee/hypergraph_playlist/blob/master/buildTagmatrix.py\n",
      "def getVocab(dbc):\n",
      "    vocab = []\n",
      "    cur = dbc.cursor()\n",
      "    cur.execute('''SELECT tag FROM tags''')\n",
      "    for (term,) in cur:\n",
      "        vocab.append(term)\n",
      "        pass\n",
      "    return vocab\n",
      "\n",
      "def getTrackRows(dbc):\n",
      "    cur = dbc.cursor()\n",
      "    tid = {}\n",
      "    cur.execute('''SELECT tid FROM tids''')\n",
      "    for (i, (track,)) in enumerate(cur, 1):\n",
      "        tid[track] = i\n",
      "        pass\n",
      "    return tid"
     ],
     "language": "python",
     "metadata": {},
     "outputs": [],
     "prompt_number": 4
    },
    {
     "cell_type": "code",
     "collapsed": false,
     "input": [
      "with sqlite3.connect(tags_dbfile) as dbc:\n",
      "    vocab = getVocab(dbc)\n",
      "    tid = getTrackRows(dbc)"
     ],
     "language": "python",
     "metadata": {},
     "outputs": [],
     "prompt_number": 5
    },
    {
     "cell_type": "code",
     "collapsed": false,
     "input": [
      "def tid_to_dir(base_dir, tid, ext='.h5'):\n",
      "    return os.path.join(base_dir, '/'.join(tid[2:5]), tid + ext)\n",
      "\n",
      "def sanitize(tag):\n",
      "    return re.sub(r'(\\W|_)+', '', re.sub('(&| n )', 'and', ' '.join([stemmer.stem(token) for token in nltk.word_tokenize(tag.lower())])))"
     ],
     "language": "python",
     "metadata": {},
     "outputs": [],
     "prompt_number": 6
    },
    {
     "cell_type": "code",
     "collapsed": false,
     "input": [
      "filtered_tags = (# favorate/like/love/blabla\n",
      "                 'favorites', 'Favorite', 'Favourites', 'favourite', 'favorite songs', 'Favourite Songs', 'favorite song', \n",
      "                 'songs i love', 'lovedbybeyondwithin', 'Love it', 'love at first listen', 'fav', 'my favorite', 'top 40', \n",
      "                 'songs I absolutely love', 'favs', 'My Favorites', 'Favorite Artists', 'All time favourites', \n",
      "                 'personal favourites', 'favouritestreamable', 'favorite tracks', 'Favorite Bands', 'like it', \n",
      "                 'I love this song', 'rex ferric faves', 'love to death', 'my gang 09', 'My Favourites', \n",
      "                 'BeatbabeBop selection', 'I Like It', 'newbest', 'top', 'IIIIIIIIII AMAZING TRACK :D IIIIIIIIII', \n",
      "                 'best songs of the 80s', 'LOVE LOVE LOVE', 'i love it', 'most loved',\n",
      "                 'favorite by this group', 'amayzes loved', 'DJPMan-loved-tracks', 'best of 2008', 'loved', \n",
      "                 'Makes Me Smile', '77davez-all-tracks', 'My pop music', 'best songs ever', 'favorite by this singer', \n",
      "                 'I like', 'my music', 'Soundtrack Of My Life', 'UK top 40', 'Like', \n",
      "                 'malloy2000 playlist - top songs - classical to metal', 'loved tracks',\n",
      "                 'top artists', 'all time favorites', 'best songs of the 00s', 'favourite tracks', 'Solomusika-Loved', \n",
      "                 'all time faves', 'british i like', 'Jills Station', 'de todo mio favoritos', 'Faves', 'Fave', \n",
      "                 'acclaimed music top 3000'\n",
      "\n",
      "                 # great/awesome/blabla\n",
      "                 'kick ass', 'wonderful', 'excellent', 'Great Lyricists', 'badass', 'awesomeness', 'great song', 'Awesome',\n",
      "                 'cool', 'amazing', 'good', 'nice', 'sweet', 'best', 'FUCKING AWESOME', 'lovely', 'Good Stuff', 'brilliant',\n",
      "                 'feel good', 'perfect', 'all the best', 'cute', 'the best', '<3', 'interesting', 'feelgood', 'pretty', \n",
      "                 'i feel good', 'good shit', 'good music', 'good song', 'great songs', 'yeah', 'best song ever', 'wow', \n",
      "                 'worship', 'makes me happy', 'ok', 'damned good', 'underrated', 'Perfection',\n",
      "                 \n",
      "                 # rating\n",
      "                 '1', '3', '4', '5', '4 Stars', '3 stars', '4 Star', '3 star', '3-star',\n",
      "                 \n",
      "                 # year\n",
      "                 '1992', '1993', '1994', '1995', '1996', '1997', '1998', '1999', '2000', '2001', '2002', '2003', '2004', \n",
      "                 '2005', '2006', '2007', '2008', '2009', '2010', '00s', '10s', '1950s', '1960s', '1970s', '1980s', '1990s',\n",
      "                 '2000s', '20th Century', '21st century', \"50's\", '50s', \"60's\", '60s', '60s Gold', \"70's\", '70s', \"80's\", \n",
      "                 '80s', '80s Pop', '80s rock', \"90's\", '90s', '90s Rock',\n",
      "                 \n",
      "                 # descriptive\n",
      "                 'songwriter', 'singer-songwriter', 'cover', 'covers', 'seen live', 'heard on Pandora', \n",
      "                 'title is a full sentence', 'Retro', 'Miscellaneous', 'collection', 'billboard number ones', 'ost', \n",
      "                 'cover song', 'singer songwriter', 'new', 'download', 'over 5 minutes long', 'Soundtracks', \n",
      "                 'under two minutes', 'albums I own', 'cover songs', 'Radio', 'heard on last-fm',\n",
      "      \n",
      "                 # I don't know what you are talking about\n",
      "                 'buy', 'lol', 'us', 'other', '2giveme5', 'i am a party girl here is my soundtrack', 'names', 'Tag', \n",
      "                 'check out', 'f', 'test', 'out of our heads', 'me', 'I want back to the 80s', '9 lbs hammer', 'yes',\n",
      "                 )  "
     ],
     "language": "python",
     "metadata": {},
     "outputs": [],
     "prompt_number": 7
    },
    {
     "cell_type": "code",
     "collapsed": false,
     "input": [
      "stag_to_tag = dict()\n",
      "stemmer = PorterStemmer()\n",
      "\n",
      "# we only pick the tags with >= 1000 counts, otherwise it's just too noisy\n",
      "# e.g. \"writing papers to pay for the college you have gotten into\" has 13 counts \n",
      "with open(uniq_tag_f, 'rb') as f:\n",
      "    for line in f:\n",
      "        try:\n",
      "            tag, count = line.strip().split('\\t', 2)\n",
      "            if int(count) >= 1000:\n",
      "                if not tag in filtered_tags:\n",
      "                    stag = sanitize(tag)\n",
      "                    if stag in stag_to_tag:\n",
      "                        stag_to_tag[stag].append(tag)\n",
      "                    else:\n",
      "                        stag_to_tag[stag] = [tag]\n",
      "            else:\n",
      "                # since the file is ordered by count\n",
      "                break\n",
      "        except ValueError as e:\n",
      "            print 'The following line raises the error:', e\n",
      "            # there is one line with no tag information, but with less than 1000 counts\n",
      "            print line"
     ],
     "language": "python",
     "metadata": {},
     "outputs": [],
     "prompt_number": 8
    },
    {
     "cell_type": "code",
     "collapsed": false,
     "input": [
      "tags = ['NO_TAGS'] + sorted(stag_to_tag.keys())"
     ],
     "language": "python",
     "metadata": {},
     "outputs": [],
     "prompt_number": 9
    },
    {
     "cell_type": "code",
     "collapsed": false,
     "input": [
      "voc_to_num = dict((tag, i) for (i, tag) in enumerate(tags))"
     ],
     "language": "python",
     "metadata": {},
     "outputs": [],
     "prompt_number": 10
    },
    {
     "cell_type": "code",
     "collapsed": false,
     "input": [
      "def getArtistTracks(cur, aid):\n",
      "    cur.execute(\"SELECT track_id FROM songs WHERE artist_id='%s'\" % aid)\n",
      "    for (track, ) in cur_md:\n",
      "        yield track\n",
      "        \n",
      "        \n",
      "def getValidTrackTags(cur, track, tid, vocab, voc_to_num):\n",
      "    cur_td.execute(\"SELECT tag, val FROM tid_tag WHERE tid = %d AND val > 0\" % tid[track])\n",
      "    out = {}\n",
      "    for (tag, val) in cur_td:\n",
      "        stag = sanitize(vocab[tag])\n",
      "        if stag not in voc_to_num:\n",
      "            continue\n",
      "        if voc_to_num[stag] in out:          \n",
      "            out[voc_to_num[stag]] += float(val)\n",
      "        else:\n",
      "            out[voc_to_num[stag]] = float(val)\n",
      "    if len(out) == 0:\n",
      "        out[voc_to_num['NO_TAGS']] = 1\n",
      "    return out\n",
      "\n",
      "\n",
      "def numberize(infile, outfile, cur_md, cur_td, tid, vocab, voc_to_num):\n",
      "    with open(outfile, 'wb') as fw:\n",
      "        with open(infile, 'rb') as fr:\n",
      "            for line in fr:\n",
      "                aid = line.strip()\n",
      "                for track in getArtistTracks(cur_md, aid):\n",
      "                    if track not in tid:\n",
      "                        continue\n",
      "                    out = getValidTrackTags(cur_td, track, tid, vocab, voc_to_num)\n",
      "                    fw.write('%s\\t%s\\n' % (track, ' '.join('%d:%.1f' % pair for pair in out.items())))    "
     ],
     "language": "python",
     "metadata": {},
     "outputs": [],
     "prompt_number": 14
    },
    {
     "cell_type": "code",
     "collapsed": false,
     "input": [
      "# turn the whole MSD tags to numbers\n",
      "conn_md = sqlite3.connect(md_dbfile)\n",
      "conn_td = sqlite3.connect(tags_dbfile)\n",
      "\n",
      "cur_md = conn_md.cursor()\n",
      "cur_td = conn_td.cursor()\n",
      "\n",
      "numberize('artists_train.txt', 'tracks_tag_train.num', cur_md, cur_td, tid, vocab, voc_to_num)\n",
      "numberize('artists_test.txt', 'tracks_tag_test.num', cur_md, cur_td, tid, vocab, voc_to_num)\n",
      "\n",
      "conn_md.close()\n",
      "conn_td.close()"
     ],
     "language": "python",
     "metadata": {},
     "outputs": [],
     "prompt_number": "*"
    },
    {
     "cell_type": "code",
     "collapsed": false,
     "input": [],
     "language": "python",
     "metadata": {},
     "outputs": [],
     "prompt_number": 20
    }
   ],
   "metadata": {}
  }
 ]
}