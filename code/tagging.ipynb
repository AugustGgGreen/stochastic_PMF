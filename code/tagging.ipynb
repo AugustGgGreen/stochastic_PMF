{
 "metadata": {
  "name": "",
  "signature": "sha256:f8df02534cd54637d04d5006f98c492bd558a796a40c434745511c9f62e77040"
 },
 "nbformat": 3,
 "nbformat_minor": 0,
 "worksheets": [
  {
   "cells": [
    {
     "cell_type": "code",
     "collapsed": false,
     "input": [
      "import cPickle as pickle\n",
      "import functools\n",
      "import os\n",
      "import numpy as np\n",
      "import scipy.stats\n",
      "\n",
      "from joblib import Parallel, delayed\n",
      "from sklearn.metrics import roc_auc_score, average_precision_score\n",
      "\n",
      "import pnmf"
     ],
     "language": "python",
     "metadata": {},
     "outputs": [],
     "prompt_number": 40
    },
    {
     "cell_type": "code",
     "collapsed": false,
     "input": [
      "specshow = functools.partial(imshow, cmap=cm.PuOr_r, aspect='auto', interpolation='nearest')"
     ],
     "language": "python",
     "metadata": {},
     "outputs": [],
     "prompt_number": 2
    },
    {
     "cell_type": "code",
     "collapsed": false,
     "input": [
      "train_tracks = list()\n",
      "with open('train_tracks.txt', 'rb') as f:\n",
      "    for line in f:\n",
      "        train_tracks.append(line.strip())\n",
      "        \n",
      "test_tracks = list()\n",
      "with open('test_tracks.txt', 'rb') as f:\n",
      "    for line in f:\n",
      "        test_tracks.append(line.strip())\n",
      "        \n",
      "tags = list()\n",
      "with open('voc.txt', 'rb') as f:\n",
      "    for line in f:\n",
      "        tags.append(line.strip())"
     ],
     "language": "python",
     "metadata": {},
     "outputs": [],
     "prompt_number": 3
    },
    {
     "cell_type": "code",
     "collapsed": false,
     "input": [
      "def construct_pred_mask(tags_predicted, predictat):\n",
      "    n_samples, n_tags = tags_predicted.shape\n",
      "    rankings = np.argsort(-tags_predicted, axis=1)[:, :predictat]\n",
      "    tags_predicted_binary = np.zeros_like(tags_predicted, dtype=bool)\n",
      "    for i in xrange(n_samples):\n",
      "        tags_predicted_binary[i, rankings[i]] = 1\n",
      "    return tags_predicted_binary\n",
      "\n",
      "def per_tag_prec_recall(tags_predicted_binary, tags_true_binary):\n",
      "    mask = np.logical_and(tags_predicted_binary, tags_true_binary)\n",
      "    prec = mask.sum(axis=0) / (tags_predicted_binary.sum(axis=0) + np.spacing(1))\n",
      "    tags_true_count = tags_true_binary.sum(axis=0).astype(float)\n",
      "    idx = (tags_true_count > 0)\n",
      "    recall = mask.sum(axis=0)[idx] / tags_true_count[idx]\n",
      "    return prec, recall\n",
      "\n",
      "\n",
      "def aroc_ap(tags_true_binary, tags_predicted):\n",
      "    n_tags = tags_true_binary.shape[1]\n",
      "    \n",
      "    auc = list()\n",
      "    aprec = list()\n",
      "    for i in xrange(n_tags):\n",
      "        if np.sum(tags_true_binary[:, i]) != 0:\n",
      "            auc.append(roc_auc_score(tags_true_binary[:, i], tags_predicted[:, i]))\n",
      "            aprec.append(average_precision_score(tags_true_binary[:, i], tags_predicted[:, i]))\n",
      "    return auc, aprec\n",
      "\n",
      "\n",
      "def print_out_metrics(tags_true_binary, tags_predicted, predictat):\n",
      "    tags_predicted_binary = construct_pred_mask(tags_predicted, predictat)\n",
      "    prec, recall = per_tag_prec_recall(tags_predicted_binary, tags_true_binary)\n",
      "    mprec, mrecall = np.mean(prec), np.mean(recall)\n",
      "    \n",
      "    print 'Precision = %.3f (%.3f)' % (mprec, np.std(prec) / sqrt(prec.size))\n",
      "    print 'Recall = %.3f (%.3f)' % (mrecall, np.std(recall) / sqrt(recall.size))\n",
      "    print 'F-score = %.3f' % (2 * mprec * mrecall / (mprec + mrecall))\n",
      "\n",
      "    auc, aprec = aroc_ap(tags_true_binary, tags_predicted)\n",
      "    print 'AROC = %.3f (%.3f)' % (np.mean(auc), np.std(auc) / sqrt(len(auc)))\n",
      "    print 'AP = %.3f (%.3f)' % (np.mean(aprec), np.std(aprec) / sqrt(len(aprec)))"
     ],
     "language": "python",
     "metadata": {},
     "outputs": [],
     "prompt_number": 4
    },
    {
     "cell_type": "code",
     "collapsed": false,
     "input": [
      "# take tracks with at least 20 tags \n",
      "y_test = None\n",
      "\n",
      "test_tracks_selected = list()\n",
      "\n",
      "for tid in test_tracks:\n",
      "    tdir = os.path.join('vq_hist', '/'.join(tid[2:5]))\n",
      "    bot = np.load(os.path.join(tdir, '%s_BoT.npy' % tid))\n",
      "    if (bot > 0).sum() >= 20:\n",
      "        test_tracks_selected.append(tid)\n",
      "        if y_test is None:\n",
      "            y_test = bot\n",
      "        else:\n",
      "            y_test = np.vstack((y_test, bot))"
     ],
     "language": "python",
     "metadata": {},
     "outputs": [],
     "prompt_number": 5
    },
    {
     "cell_type": "code",
     "collapsed": false,
     "input": [
      "hist(np.sum( (y_test > 0), axis=1), bins=50)\n",
      "pass"
     ],
     "language": "python",
     "metadata": {},
     "outputs": [
      {
       "metadata": {},
       "output_type": "display_data",
       "png": "[encoded data removed]",
       "text": [
        "<matplotlib.figure.Figure at 0x3816d90>"
       ]
      }
     ],
     "prompt_number": 6
    },
    {
     "cell_type": "heading",
     "level": 1,
     "metadata": {},
     "source": [
      "Batch inference on 10K subset"
     ]
    },
    {
     "cell_type": "code",
     "collapsed": false,
     "input": [
      "K = 1024"
     ],
     "language": "python",
     "metadata": {},
     "outputs": [],
     "prompt_number": 25
    },
    {
     "cell_type": "code",
     "collapsed": false,
     "input": [
      "n_subset = 10000\n",
      "\n",
      "np.random.seed(98765)\n",
      "train_tracks_subset = np.random.choice(train_tracks, size=n_subset, replace=False)"
     ],
     "language": "python",
     "metadata": {},
     "outputs": [],
     "prompt_number": 8
    },
    {
     "cell_type": "code",
     "collapsed": false,
     "input": [
      "D = K + len(tags)\n",
      "\n",
      "X = np.empty((n_subset, D), dtype=np.int16)\n",
      "\n",
      "for (i, tid) in enumerate(train_tracks_subset):\n",
      "    tdir = os.path.join('vq_hist', '/'.join(tid[2:5]))\n",
      "    vq = np.load(os.path.join(tdir, '%s_K%d.npy' % (tid, K))).ravel()\n",
      "    bot = np.load(os.path.join(tdir, '%s_BoT.npy' % tid))\n",
      "    bot[bot > 0] = 1\n",
      "    X[i] = np.hstack((vq, bot))"
     ],
     "language": "python",
     "metadata": {},
     "outputs": [],
     "prompt_number": 26
    },
    {
     "cell_type": "code",
     "collapsed": false,
     "input": [
      "bar(np.arange(D), X[1000])"
     ],
     "language": "python",
     "metadata": {},
     "outputs": [
      {
       "metadata": {},
       "output_type": "pyout",
       "prompt_number": 27,
       "text": [
        "<Container object of 1585 artists>"
       ]
      },
      {
       "metadata": {},
       "output_type": "display_data",
       "png": "[encoded data removed]",
       "text": [
        "<matplotlib.figure.Figure at 0x6b42f90>"
       ]
      }
     ],
     "prompt_number": 27
    },
    {
     "cell_type": "code",
     "collapsed": false,
     "input": [
      "X_test = np.empty((len(test_tracks_selected), K), dtype=int16)\n",
      "\n",
      "for (i, tid) in enumerate(test_tracks_selected):\n",
      "    tdir = os.path.join('vq_hist', '/'.join(tid[2:5]))\n",
      "    vq = np.load(os.path.join(tdir, '%s_K%d.npy' % (tid, K))).ravel()\n",
      "    X_test[i] = vq"
     ],
     "language": "python",
     "metadata": {},
     "outputs": [],
     "prompt_number": 77
    },
    {
     "cell_type": "code",
     "collapsed": false,
     "input": [
      "reload(pnmf)\n",
      "n_components = 100\n",
      "coder = pnmf.PoissonNMF(n_components=n_components, random_state=98765, verbose=True)"
     ],
     "language": "python",
     "metadata": {},
     "outputs": [],
     "prompt_number": 688
    },
    {
     "cell_type": "code",
     "collapsed": false,
     "input": [
      "coder.fit(X)"
     ],
     "language": "python",
     "metadata": {},
     "outputs": [
      {
       "output_type": "stream",
       "stream": "stdout",
       "text": [
        "After ITERATION: 0\tObjective: -15082170.59\tOld objective: -inf\tImprovement: nan\n",
        "After ITERATION: 1\tObjective: -15074962.59\tOld objective: -15082170.59\tImprovement: 0.00048"
       ]
      },
      {
       "output_type": "stream",
       "stream": "stdout",
       "text": [
        "\n",
        "After ITERATION: 2\tObjective: -15058523.52\tOld objective: -15074962.59\tImprovement: 0.00109"
       ]
      },
      {
       "output_type": "stream",
       "stream": "stdout",
       "text": [
        "\n",
        "After ITERATION: 3\tObjective: -15016605.88\tOld objective: -15058523.52\tImprovement: 0.00278"
       ]
      },
      {
       "output_type": "stream",
       "stream": "stdout",
       "text": [
        "\n",
        "After ITERATION: 4\tObjective: -14889827.74\tOld objective: -15016605.88\tImprovement: 0.00844"
       ]
      },
      {
       "output_type": "stream",
       "stream": "stdout",
       "text": [
        "\n",
        "After ITERATION: 5\tObjective: -14456800.51\tOld objective: -14889827.74\tImprovement: 0.02908"
       ]
      },
      {
       "output_type": "stream",
       "stream": "stdout",
       "text": [
        "\n",
        "After ITERATION: 6\tObjective: -13250909.05\tOld objective: -14456800.51\tImprovement: 0.08341"
       ]
      },
      {
       "output_type": "stream",
       "stream": "stdout",
       "text": [
        "\n",
        "After ITERATION: 7\tObjective: -11167699.39\tOld objective: -13250909.05\tImprovement: 0.15721"
       ]
      },
      {
       "output_type": "stream",
       "stream": "stdout",
       "text": [
        "\n",
        "After ITERATION: 8\tObjective: -8967221.41\tOld objective: -11167699.39\tImprovement: 0.19704"
       ]
      },
      {
       "output_type": "stream",
       "stream": "stdout",
       "text": [
        "\n",
        "After ITERATION: 9\tObjective: -7195986.42\tOld objective: -8967221.41\tImprovement: 0.19752"
       ]
      },
      {
       "output_type": "stream",
       "stream": "stdout",
       "text": [
        "\n",
        "After ITERATION: 10\tObjective: -5824585.98\tOld objective: -7195986.42\tImprovement: 0.19058"
       ]
      },
      {
       "output_type": "stream",
       "stream": "stdout",
       "text": [
        "\n",
        "After ITERATION: 11\tObjective: -4750580.57\tOld objective: -5824585.98\tImprovement: 0.18439"
       ]
      },
      {
       "output_type": "stream",
       "stream": "stdout",
       "text": [
        "\n",
        "After ITERATION: 12\tObjective: -3936627.10\tOld objective: -4750580.57\tImprovement: 0.17134"
       ]
      },
      {
       "output_type": "stream",
       "stream": "stdout",
       "text": [
        "\n",
        "After ITERATION: 13\tObjective: -3338606.38\tOld objective: -3936627.10\tImprovement: 0.15191"
       ]
      },
      {
       "output_type": "stream",
       "stream": "stdout",
       "text": [
        "\n",
        "After ITERATION: 14\tObjective: -2900804.04\tOld objective: -3338606.38\tImprovement: 0.13113"
       ]
      },
      {
       "output_type": "stream",
       "stream": "stdout",
       "text": [
        "\n",
        "After ITERATION: 15\tObjective: -2577450.63\tOld objective: -2900804.04\tImprovement: 0.11147"
       ]
      },
      {
       "output_type": "stream",
       "stream": "stdout",
       "text": [
        "\n",
        "After ITERATION: 16\tObjective: -2337030.58\tOld objective: -2577450.63\tImprovement: 0.09328"
       ]
      },
      {
       "output_type": "stream",
       "stream": "stdout",
       "text": [
        "\n",
        "After ITERATION: 17\tObjective: -2157502.21\tOld objective: -2337030.58\tImprovement: 0.07682"
       ]
      },
      {
       "output_type": "stream",
       "stream": "stdout",
       "text": [
        "\n",
        "After ITERATION: 18\tObjective: -2021011.64\tOld objective: -2157502.21\tImprovement: 0.06326"
       ]
      },
      {
       "output_type": "stream",
       "stream": "stdout",
       "text": [
        "\n",
        "After ITERATION: 19\tObjective: -1915237.84\tOld objective: -2021011.64\tImprovement: 0.05234"
       ]
      },
      {
       "output_type": "stream",
       "stream": "stdout",
       "text": [
        "\n",
        "After ITERATION: 20\tObjective: -1832010.98\tOld objective: -1915237.84\tImprovement: 0.04346"
       ]
      },
      {
       "output_type": "stream",
       "stream": "stdout",
       "text": [
        "\n",
        "After ITERATION: 21\tObjective: -1765563.60\tOld objective: -1832010.98\tImprovement: 0.03627"
       ]
      },
      {
       "output_type": "stream",
       "stream": "stdout",
       "text": [
        "\n",
        "After ITERATION: 22\tObjective: -1711686.07\tOld objective: -1765563.60\tImprovement: 0.03052"
       ]
      },
      {
       "output_type": "stream",
       "stream": "stdout",
       "text": [
        "\n",
        "After ITERATION: 23\tObjective: -1667349.95\tOld objective: -1711686.07\tImprovement: 0.02590"
       ]
      },
      {
       "output_type": "stream",
       "stream": "stdout",
       "text": [
        "\n",
        "After ITERATION: 24\tObjective: -1630419.31\tOld objective: -1667349.95\tImprovement: 0.02215"
       ]
      },
      {
       "output_type": "stream",
       "stream": "stdout",
       "text": [
        "\n",
        "After ITERATION: 25\tObjective: -1599190.75\tOld objective: -1630419.31\tImprovement: 0.01915"
       ]
      },
      {
       "output_type": "stream",
       "stream": "stdout",
       "text": [
        "\n",
        "After ITERATION: 26\tObjective: -1572454.20\tOld objective: -1599190.75\tImprovement: 0.01672"
       ]
      },
      {
       "output_type": "stream",
       "stream": "stdout",
       "text": [
        "\n",
        "After ITERATION: 27\tObjective: -1549438.17\tOld objective: -1572454.20\tImprovement: 0.01464"
       ]
      },
      {
       "output_type": "stream",
       "stream": "stdout",
       "text": [
        "\n",
        "After ITERATION: 28\tObjective: -1529542.03\tOld objective: -1549438.17\tImprovement: 0.01284"
       ]
      },
      {
       "output_type": "stream",
       "stream": "stdout",
       "text": [
        "\n",
        "After ITERATION: 29\tObjective: -1512260.95\tOld objective: -1529542.03\tImprovement: 0.01130"
       ]
      },
      {
       "output_type": "stream",
       "stream": "stdout",
       "text": [
        "\n",
        "After ITERATION: 30\tObjective: -1497165.79\tOld objective: -1512260.95\tImprovement: 0.00998"
       ]
      },
      {
       "output_type": "stream",
       "stream": "stdout",
       "text": [
        "\n",
        "After ITERATION: 31\tObjective: -1483878.24\tOld objective: -1497165.79\tImprovement: 0.00888"
       ]
      },
      {
       "output_type": "stream",
       "stream": "stdout",
       "text": [
        "\n",
        "After ITERATION: 32\tObjective: -1472096.00\tOld objective: -1483878.24\tImprovement: 0.00794"
       ]
      },
      {
       "output_type": "stream",
       "stream": "stdout",
       "text": [
        "\n",
        "After ITERATION: 33\tObjective: -1461601.90\tOld objective: -1472096.00\tImprovement: 0.00713"
       ]
      },
      {
       "output_type": "stream",
       "stream": "stdout",
       "text": [
        "\n",
        "After ITERATION: 34\tObjective: -1452193.23\tOld objective: -1461601.90\tImprovement: 0.00644"
       ]
      },
      {
       "output_type": "stream",
       "stream": "stdout",
       "text": [
        "\n",
        "After ITERATION: 35\tObjective: -1443770.58\tOld objective: -1452193.23\tImprovement: 0.00580"
       ]
      },
      {
       "output_type": "stream",
       "stream": "stdout",
       "text": [
        "\n",
        "After ITERATION: 36\tObjective: -1436196.89\tOld objective: -1443770.58\tImprovement: 0.00525"
       ]
      },
      {
       "output_type": "stream",
       "stream": "stdout",
       "text": [
        "\n",
        "After ITERATION: 37\tObjective: -1429307.57\tOld objective: -1436196.89\tImprovement: 0.00480"
       ]
      },
      {
       "output_type": "stream",
       "stream": "stdout",
       "text": [
        "\n",
        "After ITERATION: 38\tObjective: -1423048.68\tOld objective: -1429307.57\tImprovement: 0.00438"
       ]
      },
      {
       "output_type": "stream",
       "stream": "stdout",
       "text": [
        "\n",
        "After ITERATION: 39\tObjective: -1417348.29\tOld objective: -1423048.68\tImprovement: 0.00401"
       ]
      },
      {
       "output_type": "stream",
       "stream": "stdout",
       "text": [
        "\n",
        "After ITERATION: 40\tObjective: -1412119.62\tOld objective: -1417348.29\tImprovement: 0.00369"
       ]
      },
      {
       "output_type": "stream",
       "stream": "stdout",
       "text": [
        "\n",
        "After ITERATION: 41\tObjective: -1407305.49\tOld objective: -1412119.62\tImprovement: 0.00341"
       ]
      },
      {
       "output_type": "stream",
       "stream": "stdout",
       "text": [
        "\n",
        "After ITERATION: 42\tObjective: -1402886.49\tOld objective: -1407305.49\tImprovement: 0.00314"
       ]
      },
      {
       "output_type": "stream",
       "stream": "stdout",
       "text": [
        "\n",
        "After ITERATION: 43\tObjective: -1398826.47\tOld objective: -1402886.49\tImprovement: 0.00289"
       ]
      },
      {
       "output_type": "stream",
       "stream": "stdout",
       "text": [
        "\n",
        "After ITERATION: 44\tObjective: -1395108.72\tOld objective: -1398826.47\tImprovement: 0.00266"
       ]
      },
      {
       "output_type": "stream",
       "stream": "stdout",
       "text": [
        "\n",
        "After ITERATION: 45\tObjective: -1391673.32\tOld objective: -1395108.72\tImprovement: 0.00246"
       ]
      },
      {
       "output_type": "stream",
       "stream": "stdout",
       "text": [
        "\n",
        "After ITERATION: 46\tObjective: -1388476.73\tOld objective: -1391673.32\tImprovement: 0.00230"
       ]
      },
      {
       "output_type": "stream",
       "stream": "stdout",
       "text": [
        "\n",
        "After ITERATION: 47\tObjective: -1385504.20\tOld objective: -1388476.73\tImprovement: 0.00214"
       ]
      },
      {
       "output_type": "stream",
       "stream": "stdout",
       "text": [
        "\n",
        "After ITERATION: 48\tObjective: -1382762.19\tOld objective: -1385504.20\tImprovement: 0.00198"
       ]
      },
      {
       "output_type": "stream",
       "stream": "stdout",
       "text": [
        "\n",
        "After ITERATION: 49\tObjective: -1380219.72\tOld objective: -1382762.19\tImprovement: 0.00184"
       ]
      },
      {
       "output_type": "stream",
       "stream": "stdout",
       "text": [
        "\n"
       ]
      },
      {
       "metadata": {},
       "output_type": "pyout",
       "prompt_number": 689,
       "text": [
        "PoissonNMF(max_iter=50, n_components=100, random_state=98765, smoothness=100,\n",
        "      tol=0.0004, verbose=True)"
       ]
      }
     ],
     "prompt_number": 689
    },
    {
     "cell_type": "code",
     "collapsed": false,
     "input": [
      "# randomly plot 30 \"topics\"\n",
      "indices = np.random.choice(n_components, size=30, replace=False)\n",
      "figure(figsize=(45, 15))\n",
      "for i in xrange(30):\n",
      "    subplot(10, 3, i+1)\n",
      "    topic = coder.Eb[indices[i]].copy()\n",
      "    # properly normalize the BoT dimensions for visualization purposes\n",
      "    topic[K:] /= topic[K:].max()\n",
      "    topic[K:] *= topic[:K].max()\n",
      "    bar(np.arange(D), topic)\n",
      "    axvline(x=K, color='red')\n",
      "    title('Component #%d' % indices[i])\n",
      "#savefig('dict.eps')"
     ],
     "language": "python",
     "metadata": {},
     "outputs": [
      {
       "metadata": {},
       "output_type": "display_data",
       "png": "[encoded data removed]",
       "text": [
        "<matplotlib.figure.Figure at 0x64e95e90>"
       ]
      }
     ],
     "prompt_number": 642
    },
    {
     "cell_type": "code",
     "collapsed": false,
     "input": [
      "tagger = pnmf.PoissonNMF(n_components=n_components, random_state=98765, verbose=True)"
     ],
     "language": "python",
     "metadata": {},
     "outputs": [],
     "prompt_number": 693
    },
    {
     "cell_type": "code",
     "collapsed": false,
     "input": [
      "tagger.set_components(coder.gamma_b[:, :K], coder.rho_b)"
     ],
     "language": "python",
     "metadata": {},
     "outputs": [],
     "prompt_number": 694
    },
    {
     "cell_type": "code",
     "collapsed": false,
     "input": [
      "Et = tagger.transform(X_test)"
     ],
     "language": "python",
     "metadata": {},
     "outputs": [
      {
       "output_type": "stream",
       "stream": "stdout",
       "text": [
        "After ITERATION: 0\tObjective: -1199927.74\tOld objective: -inf\tImprovement: nan\n",
        "After ITERATION: 1\tObjective: -631823.55\tOld objective: -1199927.74\tImprovement: 0.47345"
       ]
      },
      {
       "output_type": "stream",
       "stream": "stdout",
       "text": [
        "\n",
        "After ITERATION: 2\tObjective: -430214.87\tOld objective: -631823.55\tImprovement: 0.31909"
       ]
      },
      {
       "output_type": "stream",
       "stream": "stdout",
       "text": [
        "\n",
        "After ITERATION: 3\tObjective: -338081.24\tOld objective: -430214.87\tImprovement: 0.21416"
       ]
      },
      {
       "output_type": "stream",
       "stream": "stdout",
       "text": [
        "\n",
        "After ITERATION: 4\tObjective: -288596.19\tOld objective: -338081.24\tImprovement: 0.14637"
       ]
      },
      {
       "output_type": "stream",
       "stream": "stdout",
       "text": [
        "\n",
        "After ITERATION: 5\tObjective: -258853.79\tOld objective: -288596.19\tImprovement: 0.10306"
       ]
      },
      {
       "output_type": "stream",
       "stream": "stdout",
       "text": [
        "\n",
        "After ITERATION: 6\tObjective: -239432.84\tOld objective: -258853.79\tImprovement: 0.07503"
       ]
      },
      {
       "output_type": "stream",
       "stream": "stdout",
       "text": [
        "\n",
        "After ITERATION: 7\tObjective: -225999.55\tOld objective: -239432.84\tImprovement: 0.05610"
       ]
      },
      {
       "output_type": "stream",
       "stream": "stdout",
       "text": [
        "\n",
        "After ITERATION: 8\tObjective: -216243.65\tOld objective: -225999.55\tImprovement: 0.04317"
       ]
      },
      {
       "output_type": "stream",
       "stream": "stdout",
       "text": [
        "\n",
        "After ITERATION: 9\tObjective: -208915.64\tOld objective: -216243.65\tImprovement: 0.03389"
       ]
      },
      {
       "output_type": "stream",
       "stream": "stdout",
       "text": [
        "\n",
        "After ITERATION: 10\tObjective: -203277.81\tOld objective: -208915.64\tImprovement: 0.02699"
       ]
      },
      {
       "output_type": "stream",
       "stream": "stdout",
       "text": [
        "\n",
        "After ITERATION: 11\tObjective: -198831.74\tOld objective: -203277.81\tImprovement: 0.02187"
       ]
      },
      {
       "output_type": "stream",
       "stream": "stdout",
       "text": [
        "\n",
        "After ITERATION: 12\tObjective: -195248.69\tOld objective: -198831.74\tImprovement: 0.01802"
       ]
      },
      {
       "output_type": "stream",
       "stream": "stdout",
       "text": [
        "\n",
        "After ITERATION: 13\tObjective: -192314.83\tOld objective: -195248.69\tImprovement: 0.01503"
       ]
      },
      {
       "output_type": "stream",
       "stream": "stdout",
       "text": [
        "\n",
        "After ITERATION: 14\tObjective: -189854.70\tOld objective: -192314.83\tImprovement: 0.01279"
       ]
      },
      {
       "output_type": "stream",
       "stream": "stdout",
       "text": [
        "\n",
        "After ITERATION: 15\tObjective: -187783.28\tOld objective: -189854.70\tImprovement: 0.01091"
       ]
      },
      {
       "output_type": "stream",
       "stream": "stdout",
       "text": [
        "\n",
        "After ITERATION: 16\tObjective: -186045.31\tOld objective: -187783.28\tImprovement: 0.00926"
       ]
      },
      {
       "output_type": "stream",
       "stream": "stdout",
       "text": [
        "\n",
        "After ITERATION: 17\tObjective: -184531.65\tOld objective: -186045.31\tImprovement: 0.00814"
       ]
      },
      {
       "output_type": "stream",
       "stream": "stdout",
       "text": [
        "\n",
        "After ITERATION: 18\tObjective: -183212.68\tOld objective: -184531.65\tImprovement: 0.00715"
       ]
      },
      {
       "output_type": "stream",
       "stream": "stdout",
       "text": [
        "\n",
        "After ITERATION: 19\tObjective: -182071.56\tOld objective: -183212.68\tImprovement: 0.00623"
       ]
      },
      {
       "output_type": "stream",
       "stream": "stdout",
       "text": [
        "\n",
        "After ITERATION: 20\tObjective: -181066.49\tOld objective: -182071.56\tImprovement: 0.00552"
       ]
      },
      {
       "output_type": "stream",
       "stream": "stdout",
       "text": [
        "\n",
        "After ITERATION: 21\tObjective: -180191.33\tOld objective: -181066.49\tImprovement: 0.00483"
       ]
      },
      {
       "output_type": "stream",
       "stream": "stdout",
       "text": [
        "\n",
        "After ITERATION: 22\tObjective: -179418.89\tOld objective: -180191.33\tImprovement: 0.00429"
       ]
      },
      {
       "output_type": "stream",
       "stream": "stdout",
       "text": [
        "\n",
        "After ITERATION: 23\tObjective: -178724.73\tOld objective: -179418.89\tImprovement: 0.00387"
       ]
      },
      {
       "output_type": "stream",
       "stream": "stdout",
       "text": [
        "\n",
        "After ITERATION: 24\tObjective: -178094.78\tOld objective: -178724.73\tImprovement: 0.00352"
       ]
      },
      {
       "output_type": "stream",
       "stream": "stdout",
       "text": [
        "\n",
        "After ITERATION: 25\tObjective: -177513.46\tOld objective: -178094.78\tImprovement: 0.00326"
       ]
      },
      {
       "output_type": "stream",
       "stream": "stdout",
       "text": [
        "\n",
        "After ITERATION: 26\tObjective: -176981.99\tOld objective: -177513.46\tImprovement: 0.00299"
       ]
      },
      {
       "output_type": "stream",
       "stream": "stdout",
       "text": [
        "\n",
        "After ITERATION: 27\tObjective: -176493.15\tOld objective: -176981.99\tImprovement: 0.00276"
       ]
      },
      {
       "output_type": "stream",
       "stream": "stdout",
       "text": [
        "\n",
        "After ITERATION: 28\tObjective: -176056.66\tOld objective: -176493.15\tImprovement: 0.00247"
       ]
      },
      {
       "output_type": "stream",
       "stream": "stdout",
       "text": [
        "\n",
        "After ITERATION: 29\tObjective: -175650.21\tOld objective: -176056.66\tImprovement: 0.00231"
       ]
      },
      {
       "output_type": "stream",
       "stream": "stdout",
       "text": [
        "\n",
        "After ITERATION: 30\tObjective: -175265.59\tOld objective: -175650.21\tImprovement: 0.00219"
       ]
      },
      {
       "output_type": "stream",
       "stream": "stdout",
       "text": [
        "\n",
        "After ITERATION: 31\tObjective: -174907.77\tOld objective: -175265.59\tImprovement: 0.00204"
       ]
      },
      {
       "output_type": "stream",
       "stream": "stdout",
       "text": [
        "\n",
        "After ITERATION: 32\tObjective: -174586.17\tOld objective: -174907.77\tImprovement: 0.00184"
       ]
      },
      {
       "output_type": "stream",
       "stream": "stdout",
       "text": [
        "\n",
        "After ITERATION: 33\tObjective: -174297.18\tOld objective: -174586.17\tImprovement: 0.00166"
       ]
      },
      {
       "output_type": "stream",
       "stream": "stdout",
       "text": [
        "\n",
        "After ITERATION: 34\tObjective: -174029.31\tOld objective: -174297.18\tImprovement: 0.00154"
       ]
      },
      {
       "output_type": "stream",
       "stream": "stdout",
       "text": [
        "\n",
        "After ITERATION: 35\tObjective: -173782.62\tOld objective: -174029.31\tImprovement: 0.00142"
       ]
      },
      {
       "output_type": "stream",
       "stream": "stdout",
       "text": [
        "\n",
        "After ITERATION: 36\tObjective: -173551.39\tOld objective: -173782.62\tImprovement: 0.00133"
       ]
      },
      {
       "output_type": "stream",
       "stream": "stdout",
       "text": [
        "\n",
        "After ITERATION: 37\tObjective: -173332.16\tOld objective: -173551.39\tImprovement: 0.00126"
       ]
      },
      {
       "output_type": "stream",
       "stream": "stdout",
       "text": [
        "\n",
        "After ITERATION: 38\tObjective: -173127.57\tOld objective: -173332.16\tImprovement: 0.00118"
       ]
      },
      {
       "output_type": "stream",
       "stream": "stdout",
       "text": [
        "\n",
        "After ITERATION: 39\tObjective: -172935.38\tOld objective: -173127.57\tImprovement: 0.00111"
       ]
      },
      {
       "output_type": "stream",
       "stream": "stdout",
       "text": [
        "\n",
        "After ITERATION: 40\tObjective: -172756.88\tOld objective: -172935.38\tImprovement: 0.00103"
       ]
      },
      {
       "output_type": "stream",
       "stream": "stdout",
       "text": [
        "\n",
        "After ITERATION: 41\tObjective: -172585.12\tOld objective: -172756.88\tImprovement: 0.00099"
       ]
      },
      {
       "output_type": "stream",
       "stream": "stdout",
       "text": [
        "\n",
        "After ITERATION: 42\tObjective: -172423.06\tOld objective: -172585.12\tImprovement: 0.00094"
       ]
      },
      {
       "output_type": "stream",
       "stream": "stdout",
       "text": [
        "\n",
        "After ITERATION: 43\tObjective: -172265.62\tOld objective: -172423.06\tImprovement: 0.00091"
       ]
      },
      {
       "output_type": "stream",
       "stream": "stdout",
       "text": [
        "\n",
        "After ITERATION: 44\tObjective: -172121.92\tOld objective: -172265.62\tImprovement: 0.00083"
       ]
      },
      {
       "output_type": "stream",
       "stream": "stdout",
       "text": [
        "\n",
        "After ITERATION: 45\tObjective: -171988.03\tOld objective: -172121.92\tImprovement: 0.00078"
       ]
      },
      {
       "output_type": "stream",
       "stream": "stdout",
       "text": [
        "\n",
        "After ITERATION: 46\tObjective: -171858.78\tOld objective: -171988.03\tImprovement: 0.00075"
       ]
      },
      {
       "output_type": "stream",
       "stream": "stdout",
       "text": [
        "\n",
        "After ITERATION: 47\tObjective: -171738.88\tOld objective: -171858.78\tImprovement: 0.00070"
       ]
      },
      {
       "output_type": "stream",
       "stream": "stdout",
       "text": [
        "\n",
        "After ITERATION: 48\tObjective: -171624.47\tOld objective: -171738.88\tImprovement: 0.00067"
       ]
      },
      {
       "output_type": "stream",
       "stream": "stdout",
       "text": [
        "\n",
        "After ITERATION: 49\tObjective: -171517.23\tOld objective: -171624.47\tImprovement: 0.00062"
       ]
      },
      {
       "output_type": "stream",
       "stream": "stdout",
       "text": [
        "\n",
        "After ITERATION: 50\tObjective: -171415.47\tOld objective: -171517.23\tImprovement: 0.00059"
       ]
      },
      {
       "output_type": "stream",
       "stream": "stdout",
       "text": [
        "\n",
        "After ITERATION: 51\tObjective: -171317.51\tOld objective: -171415.47\tImprovement: 0.00057"
       ]
      },
      {
       "output_type": "stream",
       "stream": "stdout",
       "text": [
        "\n",
        "After ITERATION: 52\tObjective: -171225.33\tOld objective: -171317.51\tImprovement: 0.00054"
       ]
      },
      {
       "output_type": "stream",
       "stream": "stdout",
       "text": [
        "\n",
        "After ITERATION: 53\tObjective: -171140.31\tOld objective: -171225.33\tImprovement: 0.00050"
       ]
      },
      {
       "output_type": "stream",
       "stream": "stdout",
       "text": [
        "\n"
       ]
      }
     ],
     "prompt_number": 695
    },
    {
     "cell_type": "code",
     "collapsed": false,
     "input": [
      "Et /= Et.sum(axis=1, keepdims=True)\n",
      "\n",
      "tags_predicted = Et.dot(coder.Eb[:, K:])\n",
      "print tags_predicted.min(), tags_predicted.max()\n",
      "\n",
      "div_factor = 3\n",
      "tags_predicted = tags_predicted - div_factor * np.mean(tags_predicted, axis=0)"
     ],
     "language": "python",
     "metadata": {},
     "outputs": [
      {
       "output_type": "stream",
       "stream": "stdout",
       "text": [
        "0.0024000923119 3.21737374162\n"
       ]
      }
     ],
     "prompt_number": 696
    },
    {
     "cell_type": "code",
     "collapsed": false,
     "input": [
      "predictat = 20\n",
      "tags_true_binary = (y_test > 0)\n",
      "\n",
      "print_out_metrics(tags_true_binary, tags_predicted, predictat)"
     ],
     "language": "python",
     "metadata": {},
     "outputs": [
      {
       "output_type": "stream",
       "stream": "stdout",
       "text": [
        "Precision = 0.109 (0.007)\n",
        "Recall = 0.110 (0.006)\n",
        "F-score = 0.110\n",
        "AROC = 0.637 (0.005)"
       ]
      },
      {
       "output_type": "stream",
       "stream": "stdout",
       "text": [
        "\n",
        "AP = 0.098 (0.006)\n"
       ]
      }
     ],
     "prompt_number": 697
    },
    {
     "cell_type": "heading",
     "level": 1,
     "metadata": {},
     "source": [
      "Stochastic inference on 10K subset"
     ]
    },
    {
     "cell_type": "code",
     "collapsed": false,
     "input": [
      "reload(pnmf)\n",
      "\n",
      "n_components = 100\n",
      "online_coder = pnmf.OnlinePoissonNMF(n_components=n_components, batch_size=1000, n_pass=1, \n",
      "                                     random_state=98765, verbose=True)"
     ],
     "language": "python",
     "metadata": {},
     "outputs": [],
     "prompt_number": 29
    },
    {
     "cell_type": "code",
     "collapsed": false,
     "input": [
      "online_coder.fit(X, D=len(train_tracks))"
     ],
     "language": "python",
     "metadata": {},
     "outputs": [
      {
       "output_type": "stream",
       "stream": "stdout",
       "text": [
        "Iteration 0: passing through the data...\n"
       ]
      },
      {
       "metadata": {},
       "output_type": "pyout",
       "prompt_number": 30,
       "text": [
        "OnlinePoissonNMF(batch_size=1000, max_iter=100, n_components=100, n_pass=1,\n",
        "         random_state=98765, shuffle=True, smoothness=100, tol=0.0005,\n",
        "         verbose=True)"
       ]
      }
     ],
     "prompt_number": 30
    },
    {
     "cell_type": "code",
     "collapsed": false,
     "input": [
      "plot(online_coder.bound)\n",
      "pass"
     ],
     "language": "python",
     "metadata": {},
     "outputs": [
      {
       "metadata": {},
       "output_type": "display_data",
       "png": "[encoded data removed]",
       "text": [
        "<matplotlib.figure.Figure at 0xb3d93d0>"
       ]
      }
     ],
     "prompt_number": 31
    },
    {
     "cell_type": "code",
     "collapsed": false,
     "input": [
      "# randomly plot 30 \"topics\"\n",
      "indices = np.random.choice(n_components, size=30, replace=False)\n",
      "figure(figsize=(45, 15))\n",
      "for i in xrange(30):\n",
      "    subplot(10, 3, i+1)\n",
      "    topic = online_coder.Eb[indices[i]].copy()\n",
      "    # properly normalize the BoT dimensions for visualization purposes\n",
      "    #topic[K:] /= topic[K:].max()\n",
      "    #topic[K:] *= topic[:K].max()\n",
      "    bar(np.arange(D), topic)\n",
      "    axvline(x=K, color='red')\n",
      "    title('Component #%d' % indices[i])\n",
      "#savefig('stoc_dict.eps')"
     ],
     "language": "python",
     "metadata": {},
     "outputs": [
      {
       "metadata": {},
       "output_type": "display_data",
       "png": "[encoded data removed]",
       "text": [
        "<matplotlib.figure.Figure at 0x39144850>"
       ]
      }
     ],
     "prompt_number": 425
    },
    {
     "cell_type": "code",
     "collapsed": false,
     "input": [
      "ents = np.zeros((n_components, ))\n",
      "\n",
      "for k in xrange(n_components):\n",
      "    ents[k] = scipy.stats.entropy(online_coder.Eb[k])   "
     ],
     "language": "python",
     "metadata": {},
     "outputs": [],
     "prompt_number": 32
    },
    {
     "cell_type": "code",
     "collapsed": false,
     "input": [
      "idx = np.argsort(-ents)"
     ],
     "language": "python",
     "metadata": {},
     "outputs": [],
     "prompt_number": 33
    },
    {
     "cell_type": "code",
     "collapsed": false,
     "input": [
      "plot(ents[idx], '-o')\n",
      "pass"
     ],
     "language": "python",
     "metadata": {},
     "outputs": [
      {
       "metadata": {},
       "output_type": "display_data",
       "png": "[encoded data removed]",
       "text": [
        "<matplotlib.figure.Figure at 0x664bbd0>"
       ]
      }
     ],
     "prompt_number": 34
    },
    {
     "cell_type": "code",
     "collapsed": false,
     "input": [
      "tagger = pnmf.PoissonNMF(n_components=n_components, random_state=98765, verbose=True)"
     ],
     "language": "python",
     "metadata": {},
     "outputs": [],
     "prompt_number": 35
    },
    {
     "cell_type": "code",
     "collapsed": false,
     "input": [
      "tagger.set_components(online_coder.gamma_b[:, :K], online_coder.rho_b[:, :K])"
     ],
     "language": "python",
     "metadata": {},
     "outputs": [],
     "prompt_number": 36
    },
    {
     "cell_type": "code",
     "collapsed": false,
     "input": [
      "Et = tagger.transform(X_test)"
     ],
     "language": "python",
     "metadata": {},
     "outputs": [
      {
       "output_type": "stream",
       "stream": "stdout",
       "text": [
        "After ITERATION: 0\tObjective: -905005.31\tOld objective: -inf\tImprovement: nan\n",
        "After ITERATION: 1\tObjective: -154468.22\tOld objective: -905005.31\tImprovement: 0.82932"
       ]
      },
      {
       "output_type": "stream",
       "stream": "stdout",
       "text": [
        "\n",
        "After ITERATION: 2\tObjective: 224707.11\tOld objective: -154468.22\tImprovement: 2.45471"
       ]
      },
      {
       "output_type": "stream",
       "stream": "stdout",
       "text": [
        "\n",
        "After ITERATION: 3\tObjective: 434618.99\tOld objective: 224707.11\tImprovement: 0.93416"
       ]
      },
      {
       "output_type": "stream",
       "stream": "stdout",
       "text": [
        "\n",
        "After ITERATION: 4\tObjective: 562091.54\tOld objective: 434618.99\tImprovement: 0.29330"
       ]
      },
      {
       "output_type": "stream",
       "stream": "stdout",
       "text": [
        "\n",
        "After ITERATION: 5\tObjective: 644771.42\tOld objective: 562091.54\tImprovement: 0.14709"
       ]
      },
      {
       "output_type": "stream",
       "stream": "stdout",
       "text": [
        "\n",
        "After ITERATION: 6\tObjective: 700452.03\tOld objective: 644771.42\tImprovement: 0.08636"
       ]
      },
      {
       "output_type": "stream",
       "stream": "stdout",
       "text": [
        "\n",
        "After ITERATION: 7\tObjective: 738730.17\tOld objective: 700452.03\tImprovement: 0.05465"
       ]
      },
      {
       "output_type": "stream",
       "stream": "stdout",
       "text": [
        "\n",
        "After ITERATION: 8\tObjective: 765623.84\tOld objective: 738730.17\tImprovement: 0.03641"
       ]
      },
      {
       "output_type": "stream",
       "stream": "stdout",
       "text": [
        "\n",
        "After ITERATION: 9\tObjective: 784951.17\tOld objective: 765623.84\tImprovement: 0.02524"
       ]
      },
      {
       "output_type": "stream",
       "stream": "stdout",
       "text": [
        "\n",
        "After ITERATION: 10\tObjective: 799163.43\tOld objective: 784951.17\tImprovement: 0.01811"
       ]
      },
      {
       "output_type": "stream",
       "stream": "stdout",
       "text": [
        "\n",
        "After ITERATION: 11\tObjective: 809902.20\tOld objective: 799163.43\tImprovement: 0.01344"
       ]
      },
      {
       "output_type": "stream",
       "stream": "stdout",
       "text": [
        "\n",
        "After ITERATION: 12\tObjective: 818194.53\tOld objective: 809902.20\tImprovement: 0.01024"
       ]
      },
      {
       "output_type": "stream",
       "stream": "stdout",
       "text": [
        "\n",
        "After ITERATION: 13\tObjective: 824729.93\tOld objective: 818194.53\tImprovement: 0.00799"
       ]
      },
      {
       "output_type": "stream",
       "stream": "stdout",
       "text": [
        "\n",
        "After ITERATION: 14\tObjective: 829955.72\tOld objective: 824729.93\tImprovement: 0.00634"
       ]
      },
      {
       "output_type": "stream",
       "stream": "stdout",
       "text": [
        "\n",
        "After ITERATION: 15\tObjective: 834237.14\tOld objective: 829955.72\tImprovement: 0.00516"
       ]
      },
      {
       "output_type": "stream",
       "stream": "stdout",
       "text": [
        "\n",
        "After ITERATION: 16\tObjective: 837793.07\tOld objective: 834237.14\tImprovement: 0.00426"
       ]
      },
      {
       "output_type": "stream",
       "stream": "stdout",
       "text": [
        "\n",
        "After ITERATION: 17\tObjective: 840782.32\tOld objective: 837793.07\tImprovement: 0.00357"
       ]
      },
      {
       "output_type": "stream",
       "stream": "stdout",
       "text": [
        "\n",
        "After ITERATION: 18\tObjective: 843329.71\tOld objective: 840782.32\tImprovement: 0.00303"
       ]
      },
      {
       "output_type": "stream",
       "stream": "stdout",
       "text": [
        "\n",
        "After ITERATION: 19\tObjective: 845518.28\tOld objective: 843329.71\tImprovement: 0.00260"
       ]
      },
      {
       "output_type": "stream",
       "stream": "stdout",
       "text": [
        "\n",
        "After ITERATION: 20\tObjective: 847428.96\tOld objective: 845518.28\tImprovement: 0.00226"
       ]
      },
      {
       "output_type": "stream",
       "stream": "stdout",
       "text": [
        "\n",
        "After ITERATION: 21\tObjective: 849084.30\tOld objective: 847428.96\tImprovement: 0.00195"
       ]
      },
      {
       "output_type": "stream",
       "stream": "stdout",
       "text": [
        "\n",
        "After ITERATION: 22\tObjective: 850520.11\tOld objective: 849084.30\tImprovement: 0.00169"
       ]
      },
      {
       "output_type": "stream",
       "stream": "stdout",
       "text": [
        "\n",
        "After ITERATION: 23\tObjective: 851800.35\tOld objective: 850520.11\tImprovement: 0.00151"
       ]
      },
      {
       "output_type": "stream",
       "stream": "stdout",
       "text": [
        "\n",
        "After ITERATION: 24\tObjective: 852949.37\tOld objective: 851800.35\tImprovement: 0.00135"
       ]
      },
      {
       "output_type": "stream",
       "stream": "stdout",
       "text": [
        "\n",
        "After ITERATION: 25\tObjective: 853965.13\tOld objective: 852949.37\tImprovement: 0.00119"
       ]
      },
      {
       "output_type": "stream",
       "stream": "stdout",
       "text": [
        "\n",
        "After ITERATION: 26\tObjective: 854889.55\tOld objective: 853965.13\tImprovement: 0.00108"
       ]
      },
      {
       "output_type": "stream",
       "stream": "stdout",
       "text": [
        "\n",
        "After ITERATION: 27\tObjective: 855745.14\tOld objective: 854889.55\tImprovement: 0.00100"
       ]
      },
      {
       "output_type": "stream",
       "stream": "stdout",
       "text": [
        "\n",
        "After ITERATION: 28\tObjective: 856524.46\tOld objective: 855745.14\tImprovement: 0.00091"
       ]
      },
      {
       "output_type": "stream",
       "stream": "stdout",
       "text": [
        "\n",
        "After ITERATION: 29\tObjective: 857242.07\tOld objective: 856524.46\tImprovement: 0.00084"
       ]
      },
      {
       "output_type": "stream",
       "stream": "stdout",
       "text": [
        "\n",
        "After ITERATION: 30\tObjective: 857900.88\tOld objective: 857242.07\tImprovement: 0.00077"
       ]
      },
      {
       "output_type": "stream",
       "stream": "stdout",
       "text": [
        "\n",
        "After ITERATION: 31\tObjective: 858505.73\tOld objective: 857900.88\tImprovement: 0.00071"
       ]
      },
      {
       "output_type": "stream",
       "stream": "stdout",
       "text": [
        "\n",
        "After ITERATION: 32\tObjective: 859039.19\tOld objective: 858505.73\tImprovement: 0.00062"
       ]
      },
      {
       "output_type": "stream",
       "stream": "stdout",
       "text": [
        "\n",
        "After ITERATION: 33\tObjective: 859518.31\tOld objective: 859039.19\tImprovement: 0.00056"
       ]
      },
      {
       "output_type": "stream",
       "stream": "stdout",
       "text": [
        "\n",
        "After ITERATION: 34\tObjective: 859964.37\tOld objective: 859518.31\tImprovement: 0.00052"
       ]
      },
      {
       "output_type": "stream",
       "stream": "stdout",
       "text": [
        "\n",
        "After ITERATION: 35\tObjective: 860381.52\tOld objective: 859964.37\tImprovement: 0.00049"
       ]
      },
      {
       "output_type": "stream",
       "stream": "stdout",
       "text": [
        "\n"
       ]
      }
     ],
     "prompt_number": 37
    },
    {
     "cell_type": "code",
     "collapsed": false,
     "input": [
      "Et /= Et.sum(axis=1, keepdims=True)\n",
      "\n",
      "tags_predicted = Et.dot(online_coder.Eb[:, K:])\n",
      "n_samples, n_tags = tags_predicted.shape\n",
      "\n",
      "print tags_predicted.min(), tags_predicted.max()\n",
      "\n",
      "div_factor = 3\n",
      "tags_predicted = tags_predicted - div_factor * np.mean(tags_predicted, axis=0)"
     ],
     "language": "python",
     "metadata": {},
     "outputs": [
      {
       "output_type": "stream",
       "stream": "stdout",
       "text": [
        "0.000185241929985 1.55733348386\n"
       ]
      }
     ],
     "prompt_number": 38
    },
    {
     "cell_type": "code",
     "collapsed": false,
     "input": [
      "predictat = 20\n",
      "tags_true_binary = (y_test > 0)\n",
      "\n",
      "print_out_metrics(tags_true_binary, tags_predicted, predictat)"
     ],
     "language": "python",
     "metadata": {},
     "outputs": [
      {
       "output_type": "stream",
       "stream": "stdout",
       "text": [
        "Precision = 0.105 (0.007)\n",
        "Recall = 0.137 (0.008)\n",
        "F-score = 0.118\n",
        "AROC = 0.687 (0.005)"
       ]
      },
      {
       "output_type": "stream",
       "stream": "stdout",
       "text": [
        "\n",
        "AP = 0.106 (0.006)\n"
       ]
      }
     ],
     "prompt_number": 39
    },
    {
     "cell_type": "heading",
     "level": 1,
     "metadata": {},
     "source": [
      "Stochastic inference on the full set"
     ]
    },
    {
     "cell_type": "code",
     "collapsed": false,
     "input": [
      "def ooc_fit(obj, train_tracks, K, n_feats):\n",
      "    n_samples = (len(train_tracks) / obj.batch_size) * obj.batch_size\n",
      "    obj.scale = float(n_samples) / obj.batch_size\n",
      "    obj._init_components(n_feats)\n",
      "    obj.bound = list()\n",
      "\n",
      "    for count in xrange(obj.n_pass):\n",
      "        print 'Iteration %d: passing through the data...' % count\n",
      "        indices = np.arange(n_samples)\n",
      "        if obj.shuffle:\n",
      "            np.random.shuffle(indices)\n",
      "        for (i, istart) in enumerate(xrange(0, n_samples,\n",
      "                                            obj.batch_size), 1):\n",
      "            iend = min(istart + obj.batch_size, n_samples)\n",
      "            obj.rho = (i + obj.t0)**(-obj.kappa)\n",
      "            mini_batch = np.zeros((iend - istart, n_feats))\n",
      "            for s in xrange(iend - istart):\n",
      "                tid = train_tracks[indices[istart + s]]\n",
      "                #print '\\tRead in track: %s' % tid\n",
      "                tdir = os.path.join('vq_hist', '/'.join(tid[2:5]))\n",
      "                vq = np.load(os.path.join(tdir, '%s_K%d.npy' % (tid, K))).ravel()\n",
      "                bot = np.load(os.path.join(tdir, '%s_BoT.npy' % tid))\n",
      "                bot[bot > 0] = 1               \n",
      "                mini_batch[s] = np.hstack((vq, bot))\n",
      "            obj.partial_fit(mini_batch)\n",
      "            obj.bound.append(obj._stoch_bound(mini_batch))\n",
      "            \n",
      "            if not i % 50:\n",
      "                print '\\t%d mini-batches finished.' % i\n",
      "    return obj"
     ],
     "language": "python",
     "metadata": {},
     "outputs": [],
     "prompt_number": 442
    },
    {
     "cell_type": "markdown",
     "metadata": {},
     "source": [
      "Train online NMF from scratch"
     ]
    },
    {
     "cell_type": "code",
     "collapsed": false,
     "input": [
      "reload(pnmf)\n",
      "\n",
      "n_components = 100\n",
      "batch_size = 1000\n",
      "online_coder_full = pnmf.OnlinePoissonNMF(n_components=n_components, batch_size=batch_size, n_pass=1, \n",
      "                                          random_state=98765, verbose=True)"
     ],
     "language": "python",
     "metadata": {},
     "outputs": [],
     "prompt_number": 122
    },
    {
     "cell_type": "code",
     "collapsed": false,
     "input": [
      "online_coder_full = ooc_fit(online_coder_full, train_tracks, K, D)"
     ],
     "language": "python",
     "metadata": {},
     "outputs": [
      {
       "output_type": "stream",
       "stream": "stdout",
       "text": [
        "Iteration 0: passing through the data...\n",
        "\t50 mini-batches finished."
       ]
      },
      {
       "output_type": "stream",
       "stream": "stdout",
       "text": [
        "\n",
        "\t100 mini-batches finished."
       ]
      }
     ]
    },
    {
     "cell_type": "code",
     "collapsed": false,
     "input": [
      "with open('backup/metrics_K512.pickle', 'rb') as f:\n",
      "    metrics_dict = pickle.load(f)\n",
      "f_scores = metrics_dict['f_score']\n",
      "arocs = metrics_dict['aroc']\n",
      "aps = metrics_dict['ap']"
     ],
     "language": "python",
     "metadata": {},
     "outputs": [],
     "prompt_number": 108
    },
    {
     "cell_type": "code",
     "collapsed": false,
     "input": [
      "figure(figsize=(16, 3))\n",
      "subplot(131)\n",
      "plot(f_scores)\n",
      "xlabel('# batches', fontsize=15)\n",
      "ylabel('F-Score', fontsize=15)\n",
      "axhline(y=0.109, color='red')\n",
      "subplot(132)\n",
      "plot(arocs)\n",
      "xlabel('# batches', fontsize=15)\n",
      "ylabel('AROC', fontsize=15)\n",
      "axhline(y=0.645, color='red')\n",
      "subplot(133)\n",
      "plot(aps)\n",
      "axhline(y=0.098, color='red')\n",
      "xlabel('# batches', fontsize=15)\n",
      "ylabel('MAP', fontsize=15)\n",
      "\n",
      "tight_layout()\n",
      "\n",
      "#savefig('metrics_K512.eps')"
     ],
     "language": "python",
     "metadata": {},
     "outputs": [
      {
       "metadata": {},
       "output_type": "display_data",
       "png": "[encoded data removed]",
       "text": [
        "<matplotlib.figure.Figure at 0xb3ef210>"
       ]
      }
     ],
     "prompt_number": 121
    },
    {
     "cell_type": "markdown",
     "metadata": {},
     "source": [
      "...or load the existing model"
     ]
    },
    {
     "cell_type": "code",
     "collapsed": false,
     "input": [
      "with open('online_NMF_K%d_N100_S%d.cPickle' % (K, batch_size), 'rb') as f:\n",
      "    online_coder_full = pickle.load(f)"
     ],
     "language": "python",
     "metadata": {},
     "outputs": [],
     "prompt_number": 124
    },
    {
     "cell_type": "code",
     "collapsed": false,
     "input": [
      "plot(online_coder_full.bound)\n",
      "pass"
     ],
     "language": "python",
     "metadata": {},
     "outputs": [
      {
       "metadata": {},
       "output_type": "display_data",
       "png": "[encoded data removed]",
       "text": [
        "<matplotlib.figure.Figure at 0xb3e40d0>"
       ]
      }
     ],
     "prompt_number": 125
    },
    {
     "cell_type": "code",
     "collapsed": false,
     "input": [
      "np.mean(online_coder_full.bound[-100:])"
     ],
     "language": "python",
     "metadata": {},
     "outputs": [
      {
       "metadata": {},
       "output_type": "pyout",
       "prompt_number": 69,
       "text": [
        "387419728.28174204"
       ]
      }
     ],
     "prompt_number": 69
    },
    {
     "cell_type": "code",
     "collapsed": false,
     "input": [
      "nd_tags = np.array(tags)"
     ],
     "language": "python",
     "metadata": {},
     "outputs": [],
     "prompt_number": 127
    },
    {
     "cell_type": "code",
     "collapsed": false,
     "input": [
      "import json\n",
      "with open('stag_to_tag.json', 'rb') as f:\n",
      "    stag_to_tag = json.load(f)"
     ],
     "language": "python",
     "metadata": {},
     "outputs": [],
     "prompt_number": 132
    },
    {
     "cell_type": "code",
     "collapsed": false,
     "input": [
      "print_topK(36, 7)"
     ],
     "language": "python",
     "metadata": {},
     "outputs": [
      {
       "output_type": "stream",
       "stream": "stdout",
       "text": [
        "dance\t0.476\n",
        "electronic\t0.247\n",
        "House\t0.176\n",
        "trance\t0.140\n",
        "female vocalists\t0.135\n",
        "pop\t0.122\n",
        "electronica\t0.122\n"
       ]
      }
     ],
     "prompt_number": 142
    },
    {
     "cell_type": "code",
     "collapsed": false,
     "input": [
      "print_topK(21, 7)"
     ],
     "language": "python",
     "metadata": {},
     "outputs": [
      {
       "output_type": "stream",
       "stream": "stdout",
       "text": [
        "rock\t1.169\n",
        "alternative\t0.686\n",
        "alternative rock\t0.542\n",
        "indie\t0.434\n",
        "indie rock\t0.336\n",
        "hard rock\t0.302\n",
        "punk\t0.205\n"
       ]
      }
     ],
     "prompt_number": 143
    },
    {
     "cell_type": "code",
     "collapsed": false,
     "input": [],
     "language": "python",
     "metadata": {},
     "outputs": []
    },
    {
     "cell_type": "code",
     "collapsed": false,
     "input": [
      "def print_topK(idx, topk):\n",
      "    top = np.argsort(-online_coder_full.Eb[idx, K:])[:topk]\n",
      "    for (tag, score) in map(lambda x: (stag_to_tag[nd_tags[x]], online_coder_full.Eb[idx, K+x]), top):\n",
      "        print '%s\\t%.3f' % (tag[0], score)"
     ],
     "language": "python",
     "metadata": {},
     "outputs": [],
     "prompt_number": 141
    },
    {
     "cell_type": "code",
     "collapsed": false,
     "input": [
      "# randomly plot 9 \"topics\"\n",
      "indices = np.random.choice(n_components, size=9, replace=False)\n",
      "figure(figsize=(15, 5))\n",
      "for i in xrange(9):\n",
      "    subplot(3, 3, i+1)\n",
      "    topic = online_coder_full.Eb[indices[i]].copy()\n",
      "    # properly normalize the BoT dimensions for visualization purposes\n",
      "    topic[K:] /= topic[K:].max()\n",
      "    topic[K:] *= topic[:K].max()\n",
      "    bar(np.arange(D), topic)\n",
      "    axvline(x=K, color='red')\n",
      "    title('Component #%d' % indices[i])\n",
      "tight_layout()\n",
      "#savefig('stoc_dict.eps')"
     ],
     "language": "python",
     "metadata": {},
     "outputs": [
      {
       "metadata": {},
       "output_type": "display_data",
       "png": "[encoded data removed]",
       "text": [
        "<matplotlib.figure.Figure at 0x3d2d4e90>"
       ]
      }
     ],
     "prompt_number": 603
    },
    {
     "cell_type": "code",
     "collapsed": false,
     "input": [
      "# randomly plot 30 \"topics\"\n",
      "indices = np.random.choice(n_components, size=30, replace=False)\n",
      "figure(figsize=(45, 15))\n",
      "for i in xrange(30):\n",
      "    subplot(10, 3, i+1)\n",
      "    topic = online_coder_full.Eb[indices[i]].copy()\n",
      "    # properly normalize the BoT dimensions for visualization purposes\n",
      "    #topic[K:] /= topic[K:].max()\n",
      "    #topic[K:] *= topic[:K].max()\n",
      "    bar(np.arange(D), topic)\n",
      "    axvline(x=K, color='red')\n",
      "    title('Component #%d' % indices[i])\n",
      "#savefig('stoc_dict.eps')"
     ],
     "language": "python",
     "metadata": {},
     "outputs": [
      {
       "metadata": {},
       "output_type": "display_data",
       "png": "[encoded data removed]",
       "text": [
        "<matplotlib.figure.Figure at 0x124b93d0>"
       ]
      }
     ],
     "prompt_number": 599
    },
    {
     "cell_type": "code",
     "collapsed": false,
     "input": [
      "ents = np.zeros((n_components, ))\n",
      "\n",
      "for k in xrange(n_components):\n",
      "    ents[k] = scipy.stats.entropy(online_coder_full.Eb[k])   "
     ],
     "language": "python",
     "metadata": {},
     "outputs": [],
     "prompt_number": 70
    },
    {
     "cell_type": "code",
     "collapsed": false,
     "input": [
      "idx = np.argsort(-ents)"
     ],
     "language": "python",
     "metadata": {},
     "outputs": [],
     "prompt_number": 71
    },
    {
     "cell_type": "code",
     "collapsed": false,
     "input": [
      "plot(ents[idx], '-o')\n",
      "pass"
     ],
     "language": "python",
     "metadata": {},
     "outputs": [
      {
       "metadata": {},
       "output_type": "display_data",
       "png": "[encoded data removed]",
       "text": [
        "<matplotlib.figure.Figure at 0xac76090>"
       ]
      }
     ],
     "prompt_number": 72
    },
    {
     "cell_type": "code",
     "collapsed": false,
     "input": [
      "tagger = pnmf.PoissonNMF(n_components=n_components, random_state=98765, verbose=True)"
     ],
     "language": "python",
     "metadata": {},
     "outputs": [
      {
       "output_type": "stream",
       "stream": "stdout",
       "text": [
        "\n"
       ]
      }
     ],
     "prompt_number": 156
    },
    {
     "cell_type": "code",
     "collapsed": false,
     "input": [
      "tagger.set_components(online_coder_full.gamma_b[:, :K], online_coder_full.rho_b[:, :K])"
     ],
     "language": "python",
     "metadata": {},
     "outputs": [],
     "prompt_number": 157
    },
    {
     "cell_type": "code",
     "collapsed": false,
     "input": [
      "Et = tagger.transform(X_test)"
     ],
     "language": "python",
     "metadata": {},
     "outputs": [
      {
       "output_type": "stream",
       "stream": "stdout",
       "text": [
        "After ITERATION: 0\tObjective: 2518775.68\tOld objective: -inf\tImprovement: nan\n",
        "After ITERATION: 1\tObjective: 2998275.70\tOld objective: 2518775.68\tImprovement: 0.19037"
       ]
      },
      {
       "output_type": "stream",
       "stream": "stdout",
       "text": [
        "\n",
        "After ITERATION: 2\tObjective: 3141109.83\tOld objective: 2998275.70\tImprovement: 0.04764"
       ]
      },
      {
       "output_type": "stream",
       "stream": "stdout",
       "text": [
        "\n",
        "After ITERATION: 3\tObjective: 3201737.38\tOld objective: 3141109.83\tImprovement: 0.01930"
       ]
      },
      {
       "output_type": "stream",
       "stream": "stdout",
       "text": [
        "\n",
        "After ITERATION: 4\tObjective: 3233828.41\tOld objective: 3201737.38\tImprovement: 0.01002"
       ]
      },
      {
       "output_type": "stream",
       "stream": "stdout",
       "text": [
        "\n",
        "After ITERATION: 5\tObjective: 3253085.34\tOld objective: 3233828.41\tImprovement: 0.00595"
       ]
      },
      {
       "output_type": "stream",
       "stream": "stdout",
       "text": [
        "\n",
        "After ITERATION: 6\tObjective: 3265678.80\tOld objective: 3253085.34\tImprovement: 0.00387"
       ]
      },
      {
       "output_type": "stream",
       "stream": "stdout",
       "text": [
        "\n",
        "After ITERATION: 7\tObjective: 3274440.04\tOld objective: 3265678.80\tImprovement: 0.00268"
       ]
      },
      {
       "output_type": "stream",
       "stream": "stdout",
       "text": [
        "\n",
        "After ITERATION: 8\tObjective: 3280841.34\tOld objective: 3274440.04\tImprovement: 0.00195"
       ]
      },
      {
       "output_type": "stream",
       "stream": "stdout",
       "text": [
        "\n",
        "After ITERATION: 9\tObjective: 3285692.05\tOld objective: 3280841.34\tImprovement: 0.00148"
       ]
      },
      {
       "output_type": "stream",
       "stream": "stdout",
       "text": [
        "\n",
        "After ITERATION: 10\tObjective: 3289466.09\tOld objective: 3285692.05\tImprovement: 0.00115"
       ]
      },
      {
       "output_type": "stream",
       "stream": "stdout",
       "text": [
        "\n",
        "After ITERATION: 11\tObjective: 3292448.98\tOld objective: 3289466.09\tImprovement: 0.00091"
       ]
      },
      {
       "output_type": "stream",
       "stream": "stdout",
       "text": [
        "\n",
        "After ITERATION: 12\tObjective: 3294848.07\tOld objective: 3292448.98\tImprovement: 0.00073"
       ]
      },
      {
       "output_type": "stream",
       "stream": "stdout",
       "text": [
        "\n",
        "After ITERATION: 13\tObjective: 3296819.49\tOld objective: 3294848.07\tImprovement: 0.00060"
       ]
      },
      {
       "output_type": "stream",
       "stream": "stdout",
       "text": [
        "\n",
        "After ITERATION: 14\tObjective: 3298463.47\tOld objective: 3296819.49\tImprovement: 0.00050"
       ]
      },
      {
       "output_type": "stream",
       "stream": "stdout",
       "text": [
        "\n"
       ]
      }
     ],
     "prompt_number": 158
    },
    {
     "cell_type": "code",
     "collapsed": false,
     "input": [
      "Et /= Et.sum(axis=1, keepdims=True)\n",
      "tags_predicted = Et.dot(online_coder_full.Eb[:, K:])\n",
      "print tags_predicted.min(), tags_predicted.max()\n",
      "\n",
      "div_factor = 3\n",
      "tags_predicted = tags_predicted - div_factor * np.mean(tags_predicted, axis=0)"
     ],
     "language": "python",
     "metadata": {},
     "outputs": [
      {
       "output_type": "stream",
       "stream": "stdout",
       "text": [
        "2.58608124434e-05 1.03137714705\n"
       ]
      }
     ],
     "prompt_number": 159
    },
    {
     "cell_type": "code",
     "collapsed": false,
     "input": [
      "predictat = 20\n",
      "tags_true_binary = (y_test > 0)\n",
      "\n",
      "print_out_metrics(tags_true_binary, tags_predicted, predictat)"
     ],
     "language": "python",
     "metadata": {},
     "outputs": [
      {
       "output_type": "stream",
       "stream": "stdout",
       "text": [
        "Precision = 0.130 (0.008)\n",
        "Recall = 0.154 (0.008)\n",
        "F-score = 0.141\n",
        "AROC = 0.715 (0.005)"
       ]
      },
      {
       "output_type": "stream",
       "stream": "stdout",
       "text": [
        "\n",
        "AP = 0.122 (0.006)\n"
       ]
      }
     ],
     "prompt_number": 161
    },
    {
     "cell_type": "code",
     "collapsed": false,
     "input": [
      "for (i, tid) in enumerate(test_tracks_selected):\n",
      "    out = !grep \"$tid\" \"$MSD_ADD\"/unique_tracks.txt\n",
      "    print i, out[0].strip().split('<SEP>')[2:4] "
     ],
     "language": "python",
     "metadata": {},
     "outputs": [
      {
       "output_type": "stream",
       "stream": "stdout",
       "text": [
        "0 ['White Rose Movement', 'Love Is  A Number']\n"
       ]
      },
      {
       "output_type": "stream",
       "stream": "stdout",
       "text": [
        "1 ['White Rose Movement', 'Girls In The Back']\n"
       ]
      },
      {
       "output_type": "stream",
       "stream": "stdout",
       "text": [
        "2 ['White Rose Movement', 'Kick']\n"
       ]
      },
      {
       "output_type": "stream",
       "stream": "stdout",
       "text": [
        "3 ['White Rose Movement', 'Cruella']\n"
       ]
      },
      {
       "output_type": "stream",
       "stream": "stdout",
       "text": [
        "4 ['White Rose Movement', 'Love Is A Number']\n"
       ]
      },
      {
       "output_type": "stream",
       "stream": "stdout",
       "text": [
        "5 ['White Rose Movement', 'Love Is A Number']\n"
       ]
      },
      {
       "output_type": "stream",
       "stream": "stdout",
       "text": [
        "6 ['The Bobbettes', 'Mr. Lee']\n"
       ]
      },
      {
       "output_type": "stream",
       "stream": "stdout",
       "text": [
        "7 ['The Bobbettes', 'Mr. Lee']\n"
       ]
      },
      {
       "output_type": "stream",
       "stream": "stdout",
       "text": [
        "8 ['The Bobbettes', 'Mr. Lee']\n"
       ]
      },
      {
       "output_type": "stream",
       "stream": "stdout",
       "text": [
        "9 ['The Bobbettes', 'Mr. Lee']\n"
       ]
      },
      {
       "output_type": "stream",
       "stream": "stdout",
       "text": [
        "10 ['The Bobbettes', 'Mr Lee']\n"
       ]
      },
      {
       "output_type": "stream",
       "stream": "stdout",
       "text": [
        "11 ['The Bobbettes', 'Mr. Lee']\n"
       ]
      },
      {
       "output_type": "stream",
       "stream": "stdout",
       "text": [
        "12 ['Bobbettes', 'Mr Lee']\n"
       ]
      },
      {
       "output_type": "stream",
       "stream": "stdout",
       "text": [
        "13 ['Amp Fiddler', 'Eye To Eye']\n"
       ]
      },
      {
       "output_type": "stream",
       "stream": "stdout",
       "text": [
        "14 ['Amp Fiddler', 'Eye To Eye']\n"
       ]
      },
      {
       "output_type": "stream",
       "stream": "stdout",
       "text": [
        "15 ['Amp Fiddler', \"Dreamin'\"]\n"
       ]
      },
      {
       "output_type": "stream",
       "stream": "stdout",
       "text": [
        "16 ['Mesh', \"You Didn't Want Me\"]\n"
       ]
      },
      {
       "output_type": "stream",
       "stream": "stdout",
       "text": [
        "17 ['Mesh', 'Friends Like These']\n"
       ]
      },
      {
       "output_type": "stream",
       "stream": "stdout",
       "text": [
        "18 ['The Pussycat Dolls', \"Don't Cha\"]\n"
       ]
      },
      {
       "output_type": "stream",
       "stream": "stdout",
       "text": [
        "19 ['The Pussycat Dolls', 'When I Grow Up']\n"
       ]
      },
      {
       "output_type": "stream",
       "stream": "stdout",
       "text": [
        "20 ['The Pussycat Dolls', 'When I Grow Up']\n"
       ]
      },
      {
       "output_type": "stream",
       "stream": "stdout",
       "text": [
        "21 ['The Pussycat Dolls / Avant', 'Stickwitu']\n"
       ]
      },
      {
       "output_type": "stream",
       "stream": "stdout",
       "text": [
        "22 ['The Pussycat Dolls', 'Stickwitu']\n"
       ]
      },
      {
       "output_type": "stream",
       "stream": "stdout",
       "text": [
        "23 ['The Pussycat Dolls', \"I Don't Need A Man\"]\n"
       ]
      },
      {
       "output_type": "stream",
       "stream": "stdout",
       "text": [
        "24 ['The Pussycat Dolls', 'I Hate This Part']\n"
       ]
      },
      {
       "output_type": "stream",
       "stream": "stdout",
       "text": [
        "25 ['The Pussycat Dolls', 'I Hate This Part']\n"
       ]
      },
      {
       "output_type": "stream",
       "stream": "stdout",
       "text": [
        "26 ['The Pussycat Dolls', 'Hush Hush']\n"
       ]
      },
      {
       "output_type": "stream",
       "stream": "stdout",
       "text": [
        "27 ['The Pussycat Dolls', 'Buttons']\n"
       ]
      },
      {
       "output_type": "stream",
       "stream": "stdout",
       "text": [
        "28 ['The Pussycat Dolls', 'We Went As Far As We Felt Like Going']\n"
       ]
      },
      {
       "output_type": "stream",
       "stream": "stdout",
       "text": [
        "29 ['The Pussycat Dolls', 'Sway']\n"
       ]
      },
      {
       "output_type": "stream",
       "stream": "stdout",
       "text": [
        "30 ['The Pussycat Dolls', \"Feelin' Good\"]\n"
       ]
      },
      {
       "output_type": "stream",
       "stream": "stdout",
       "text": [
        "31 ['The Pussycat Dolls', \"I Don't Need A Man\"]\n"
       ]
      },
      {
       "output_type": "stream",
       "stream": "stdout",
       "text": [
        "32 ['The Pussycat Dolls', \"Don't Cha\"]\n"
       ]
      },
      {
       "output_type": "stream",
       "stream": "stdout",
       "text": [
        "33 ['The Pussycat Dolls', 'When I Grow Up']\n"
       ]
      },
      {
       "output_type": "stream",
       "stream": "stdout",
       "text": [
        "34 ['The Pussycat Dolls', 'I Hate This Part']\n"
       ]
      },
      {
       "output_type": "stream",
       "stream": "stdout",
       "text": [
        "35 ['The Pussycat Dolls', 'When I Grow Up']\n"
       ]
      },
      {
       "output_type": "stream",
       "stream": "stdout",
       "text": [
        "36 ['The Evpatoria Report', 'Taijin Kyofusho']\n"
       ]
      },
      {
       "output_type": "stream",
       "stream": "stdout",
       "text": [
        "37 ['The Evpatoria Report', 'Prognoz']\n"
       ]
      },
      {
       "output_type": "stream",
       "stream": "stdout",
       "text": [
        "38 ['The Evpatoria Report', 'Cosmic Call']\n"
       ]
      },
      {
       "output_type": "stream",
       "stream": "stdout",
       "text": [
        "39 ['The Evpatoria Report', 'Eighteen Robins Road']\n"
       ]
      },
      {
       "output_type": "stream",
       "stream": "stdout",
       "text": [
        "40 ['Jimi Tenor', \"Can't Stay With You Baby\"]\n"
       ]
      },
      {
       "output_type": "stream",
       "stream": "stdout",
       "text": [
        "41 ['Jimi Tenor', 'My Mind']\n"
       ]
      },
      {
       "output_type": "stream",
       "stream": "stdout",
       "text": [
        "42 ['My Ruin', 'Tainted Love']\n"
       ]
      },
      {
       "output_type": "stream",
       "stream": "stdout",
       "text": [
        "43 ['Secret Chiefs 3', 'Horsemen Of The Invisible']\n"
       ]
      },
      {
       "output_type": "stream",
       "stream": "stdout",
       "text": [
        "44 ['Secret Chiefs 3', 'Zulfiqar III']\n"
       ]
      },
      {
       "output_type": "stream",
       "stream": "stdout",
       "text": [
        "45 ['Secret Chiefs 3', 'Combat For The Angel']\n"
       ]
      },
      {
       "output_type": "stream",
       "stream": "stdout",
       "text": [
        "46 ['Secret Chiefs 3', 'Mera Pyar Shalimar']\n"
       ]
      },
      {
       "output_type": "stream",
       "stream": "stdout",
       "text": [
        "47 ['Secret Chiefs 3', 'Renunciation']\n"
       ]
      },
      {
       "output_type": "stream",
       "stream": "stdout",
       "text": [
        "48 ['Kyoto Jazz Massive', 'The Brightness Of These Days (Quantic Remix)']\n"
       ]
      },
      {
       "output_type": "stream",
       "stream": "stdout",
       "text": [
        "49 ['Kyoto Jazz Massive', 'Shine']\n"
       ]
      },
      {
       "output_type": "stream",
       "stream": "stdout",
       "text": [
        "50 ['Kyoto Jazz Massive', 'Between The Lights']\n"
       ]
      },
      {
       "output_type": "stream",
       "stream": "stdout",
       "text": [
        "51 ['Middle Of The Road', 'Chirpy Chirpy Cheep Cheep']\n"
       ]
      },
      {
       "output_type": "stream",
       "stream": "stdout",
       "text": [
        "52 ['Middle Of The Road', 'Chirpy Chirpy Cheep Cheep']\n"
       ]
      },
      {
       "output_type": "stream",
       "stream": "stdout",
       "text": [
        "53 ['Stereolab', 'Miss Modular']\n"
       ]
      },
      {
       "output_type": "stream",
       "stream": "stdout",
       "text": [
        "54 ['Stereolab', 'Wow And Flutter']\n"
       ]
      },
      {
       "output_type": "stream",
       "stream": "stdout",
       "text": [
        "55 ['Con & Dec_ The Bachelors', 'Unforgettable']\n"
       ]
      },
      {
       "output_type": "stream",
       "stream": "stdout",
       "text": [
        "56 ['Frankie Lymon And The Teenagers', 'Why Do Fools Fall In Love']\n"
       ]
      },
      {
       "output_type": "stream",
       "stream": "stdout",
       "text": [
        "57 ['Frankie Lymon and the Tennagers', 'Why Do Fools Fall In Love']\n"
       ]
      },
      {
       "output_type": "stream",
       "stream": "stdout",
       "text": [
        "58 ['Frankie Lymon & The Teenagers_ Lymon_ Levy', 'Why Do Fools Fall In Love']\n"
       ]
      },
      {
       "output_type": "stream",
       "stream": "stdout",
       "text": [
        "59 ['T\\xc3\\xa9l\\xc3\\xa9phone', 'Un Autre Monde']\n"
       ]
      },
      {
       "output_type": "stream",
       "stream": "stdout",
       "text": [
        "60 ['Cage The Elephant', 'In One Ear']\n"
       ]
      },
      {
       "output_type": "stream",
       "stream": "stdout",
       "text": [
        "61 ['Neko Case', \"Look For Me (I'll Be Around) (Cd)\"]\n"
       ]
      },
      {
       "output_type": "stream",
       "stream": "stdout",
       "text": [
        "62 ['Neko Case', \"Runnin' Out Of Fools (Cd)\"]\n"
       ]
      },
      {
       "output_type": "stream",
       "stream": "stdout",
       "text": [
        "63 ['Neko Case', 'Deep Red Bells (Cd)']\n"
       ]
      },
      {
       "output_type": "stream",
       "stream": "stdout",
       "text": [
        "64 ['Neko Case', 'Things That Scare Me (Cd)']\n"
       ]
      },
      {
       "output_type": "stream",
       "stream": "stdout",
       "text": [
        "65 ['Neko Case', 'Dirty Knife']\n"
       ]
      },
      {
       "output_type": "stream",
       "stream": "stdout",
       "text": [
        "66 ['Neko Case', 'Hold On_ Hold On']\n"
       ]
      },
      {
       "output_type": "stream",
       "stream": "stdout",
       "text": [
        "67 ['Neko Case', \"A Widow's Toast\"]\n"
       ]
      },
      {
       "output_type": "stream",
       "stream": "stdout",
       "text": [
        "68 ['Neko Case', 'That Teenage Feeling (Album Version)']\n"
       ]
      },
      {
       "output_type": "stream",
       "stream": "stdout",
       "text": [
        "69 ['Neko Case', 'Wayfaring Stranger']\n"
       ]
      },
      {
       "output_type": "stream",
       "stream": "stdout",
       "text": [
        "70 ['Neko Case', 'This Little Light']\n"
       ]
      },
      {
       "output_type": "stream",
       "stream": "stdout",
       "text": [
        "71 ['Minus 8', 'Snowblind']\n"
       ]
      },
      {
       "output_type": "stream",
       "stream": "stdout",
       "text": [
        "72 ['Minus 8', 'Neverland']\n"
       ]
      },
      {
       "output_type": "stream",
       "stream": "stdout",
       "text": [
        "73 ['Minus 8', 'At The Beach']\n"
       ]
      },
      {
       "output_type": "stream",
       "stream": "stdout",
       "text": [
        "74 ['Minus 8', 'Starlight']\n"
       ]
      },
      {
       "output_type": "stream",
       "stream": "stdout",
       "text": [
        "75 ['Mystikal', 'Shake Ya Ass']\n"
       ]
      },
      {
       "output_type": "stream",
       "stream": "stdout",
       "text": [
        "76 ['WINTERSUN', 'Winter Madness']\n"
       ]
      },
      {
       "output_type": "stream",
       "stream": "stdout",
       "text": [
        "77 ['WINTERSUN', 'Sleeping stars']\n"
       ]
      },
      {
       "output_type": "stream",
       "stream": "stdout",
       "text": [
        "78 ['WINTERSUN', 'Death And The Healing']\n"
       ]
      },
      {
       "output_type": "stream",
       "stream": "stdout",
       "text": [
        "79 ['WINTERSUN', 'Beautiful Death']\n"
       ]
      },
      {
       "output_type": "stream",
       "stream": "stdout",
       "text": [
        "80 ['WINTERSUN', 'Battle Against Time']\n"
       ]
      },
      {
       "output_type": "stream",
       "stream": "stdout",
       "text": [
        "81 ['WINTERSUN', 'Beyond The Dark Sun']\n"
       ]
      },
      {
       "output_type": "stream",
       "stream": "stdout",
       "text": [
        "82 ['WINTERSUN', 'Sadness and hate']\n"
       ]
      },
      {
       "output_type": "stream",
       "stream": "stdout",
       "text": [
        "83 ['WINTERSUN', 'Starchild']\n"
       ]
      },
      {
       "output_type": "stream",
       "stream": "stdout",
       "text": [
        "84 ['Young Marble Giants', 'N.I.T.A.']\n"
       ]
      },
      {
       "output_type": "stream",
       "stream": "stdout",
       "text": [
        "85 ['Young Marble Giants', 'Final Day']\n"
       ]
      },
      {
       "output_type": "stream",
       "stream": "stdout",
       "text": [
        "86 ['Tilly & The Wall', 'Rainbows In The Dark']\n"
       ]
      },
      {
       "output_type": "stream",
       "stream": "stdout",
       "text": [
        "87 ['Tilly & The Wall', 'Beat Control']\n"
       ]
      },
      {
       "output_type": "stream",
       "stream": "stdout",
       "text": [
        "88 ['Tilly & The Wall', 'Pot Kettle Black']\n"
       ]
      },
      {
       "output_type": "stream",
       "stream": "stdout",
       "text": [
        "89 ['Tilly & The Wall', 'Reckless']\n"
       ]
      },
      {
       "output_type": "stream",
       "stream": "stdout",
       "text": [
        "90 ['Tilly & The Wall', 'Perfect Fit']\n"
       ]
      },
      {
       "output_type": "stream",
       "stream": "stdout",
       "text": [
        "91 ['Tilly & The Wall', 'I Always Knew']\n"
       ]
      },
      {
       "output_type": "stream",
       "stream": "stdout",
       "text": [
        "92 ['Tilly & The Wall', 'Let It Rain']\n"
       ]
      },
      {
       "output_type": "stream",
       "stream": "stdout",
       "text": [
        "93 ['Tilly & The Wall', 'You And I Misbehaving']\n"
       ]
      },
      {
       "output_type": "stream",
       "stream": "stdout",
       "text": [
        "94 ['Tilly & The Wall', 'Shake It Out']\n"
       ]
      },
      {
       "output_type": "stream",
       "stream": "stdout",
       "text": [
        "95 ['The Rumble Strips', 'Girls And Boys In Love']\n"
       ]
      },
      {
       "output_type": "stream",
       "stream": "stdout",
       "text": [
        "96 ['The Rumble Strips', 'Girls And Boys In Love']\n"
       ]
      },
      {
       "output_type": "stream",
       "stream": "stdout",
       "text": [
        "97 ['The Rumble Strips', 'Girls And Boys In Love']\n"
       ]
      },
      {
       "output_type": "stream",
       "stream": "stdout",
       "text": [
        "98 ['The Rumble Strips', 'Girls And Boys In Love']\n"
       ]
      },
      {
       "output_type": "stream",
       "stream": "stdout",
       "text": [
        "99 ['The Rumble Strips', 'Girls And Boys In Love']\n"
       ]
      },
      {
       "output_type": "stream",
       "stream": "stdout",
       "text": [
        "100 ['The Rumble Strips', 'Girls And Boys In Love']\n"
       ]
      },
      {
       "output_type": "stream",
       "stream": "stdout",
       "text": [
        "101 ['William Bell', 'I Forgot To Be Your Lover']\n"
       ]
      },
      {
       "output_type": "stream",
       "stream": "stdout",
       "text": [
        "102 ['William Bell', 'I Forgot To Be Your Lover']\n"
       ]
      },
      {
       "output_type": "stream",
       "stream": "stdout",
       "text": [
        "103 ['William Bell', 'I Forgot To Be Your Lover']\n"
       ]
      },
      {
       "output_type": "stream",
       "stream": "stdout",
       "text": [
        "104 ['William Bell', 'I Forgot To Be Your Lover']\n"
       ]
      },
      {
       "output_type": "stream",
       "stream": "stdout",
       "text": [
        "105 ['William Bell', 'I Forgot To Be Your Lover']\n"
       ]
      },
      {
       "output_type": "stream",
       "stream": "stdout",
       "text": [
        "106 ['Mary Gauthier', 'I Drink']\n"
       ]
      },
      {
       "output_type": "stream",
       "stream": "stdout",
       "text": [
        "107 ['Adam F', 'Dirty Harry (Grooverider Remix)']\n"
       ]
      },
      {
       "output_type": "stream",
       "stream": "stdout",
       "text": [
        "108 ['Fragma', \"Toca's Miracle\"]\n"
       ]
      },
      {
       "output_type": "stream",
       "stream": "stdout",
       "text": [
        "109 ['Fragma', \"Toca's Miracle\"]\n"
       ]
      },
      {
       "output_type": "stream",
       "stream": "stdout",
       "text": [
        "110 ['The Good_ The Bad and The Queen', 'Back In The Day']\n"
       ]
      },
      {
       "output_type": "stream",
       "stream": "stdout",
       "text": [
        "111 ['The Good_ The Bad and The Queen', 'Herculean']\n"
       ]
      },
      {
       "output_type": "stream",
       "stream": "stdout",
       "text": [
        "112 ['The Good_ The Bad and The Queen', 'Nature Springs']\n"
       ]
      },
      {
       "output_type": "stream",
       "stream": "stdout",
       "text": [
        "113 ['The Good_ The Bad and The Queen', \"A Soldier's Tale\"]\n"
       ]
      },
      {
       "output_type": "stream",
       "stream": "stdout",
       "text": [
        "114 ['The Good_ The Bad and The Queen', 'Behind The Sun']\n"
       ]
      },
      {
       "output_type": "stream",
       "stream": "stdout",
       "text": [
        "115 ['The Good_ The Bad and The Queen', 'Green Fields']\n"
       ]
      },
      {
       "output_type": "stream",
       "stream": "stdout",
       "text": [
        "116 ['The Good_ The Bad and The Queen', 'The Bunting Song']\n"
       ]
      },
      {
       "output_type": "stream",
       "stream": "stdout",
       "text": [
        "117 ['The Good_ The Bad and The Queen', 'History Song']\n"
       ]
      },
      {
       "output_type": "stream",
       "stream": "stdout",
       "text": [
        "118 ['Russian Circles', 'Micah']\n"
       ]
      },
      {
       "output_type": "stream",
       "stream": "stdout",
       "text": [
        "119 ['Russian Circles', 'You Already Did']\n"
       ]
      },
      {
       "output_type": "stream",
       "stream": "stdout",
       "text": [
        "120 ['Russian Circles', 'Carpe']\n"
       ]
      },
      {
       "output_type": "stream",
       "stream": "stdout",
       "text": [
        "121 ['Russian Circles', 'Death Rides a Horse']\n"
       ]
      },
      {
       "output_type": "stream",
       "stream": "stdout",
       "text": [
        "122 ['Russian Circles', 'Enter']\n"
       ]
      },
      {
       "output_type": "stream",
       "stream": "stdout",
       "text": [
        "123 ['Russian Circles', 'Carpe']\n"
       ]
      },
      {
       "output_type": "stream",
       "stream": "stdout",
       "text": [
        "124 ['Russian Circles', 'Death Rides A Horse']\n"
       ]
      },
      {
       "output_type": "stream",
       "stream": "stdout",
       "text": [
        "125 ['Russian Circles', 'You Already Did']\n"
       ]
      },
      {
       "output_type": "stream",
       "stream": "stdout",
       "text": [
        "126 ['Jan Hammer', 'Miami Vice Theme']\n"
       ]
      },
      {
       "output_type": "stream",
       "stream": "stdout",
       "text": [
        "127 ['Jan Hammer', \"Crockett's Theme\"]\n"
       ]
      },
      {
       "output_type": "stream",
       "stream": "stdout",
       "text": [
        "128 ['Jan Hammer', 'Miami Vice Theme']\n"
       ]
      },
      {
       "output_type": "stream",
       "stream": "stdout",
       "text": [
        "129 ['Jan Hammer', \"Crockett's Theme\"]\n"
       ]
      },
      {
       "output_type": "stream",
       "stream": "stdout",
       "text": [
        "130 ['Hank Snow;Hank Snow_ The Singing Ranger_ And His Rainbow Ranch Boys', \"(Now And Then_ There's) A Fool Such As I\"]\n"
       ]
      },
      {
       "output_type": "stream",
       "stream": "stdout",
       "text": [
        "131 ['Fantastadon', 'Skampa']\n"
       ]
      },
      {
       "output_type": "stream",
       "stream": "stdout",
       "text": [
        "132 ['Kid Koala', 'Basin Street Blues']\n"
       ]
      },
      {
       "output_type": "stream",
       "stream": "stdout",
       "text": [
        "133 ['Kid Koala', 'Scurvy']\n"
       ]
      },
      {
       "output_type": "stream",
       "stream": "stdout",
       "text": [
        "134 ['Kid Koala', 'Music for Morning People']\n"
       ]
      },
      {
       "output_type": "stream",
       "stream": "stdout",
       "text": [
        "135 ['Kid Koala', 'Fender Bender']\n"
       ]
      },
      {
       "output_type": "stream",
       "stream": "stdout",
       "text": [
        "136 ['Kid Koala', 'Drunk Trumpet']\n"
       ]
      },
      {
       "output_type": "stream",
       "stream": "stdout",
       "text": [
        "137 ['Kid Koala', 'Drunk Trumpet']\n"
       ]
      },
      {
       "output_type": "stream",
       "stream": "stdout",
       "text": [
        "138 ['Kid Koala', 'Skanky Panky']\n"
       ]
      },
      {
       "output_type": "stream",
       "stream": "stdout",
       "text": [
        "139 ['Kid Koala', 'Robochacha']\n"
       ]
      },
      {
       "output_type": "stream",
       "stream": "stdout",
       "text": [
        "140 ['Kid Koala', 'More Dance Music']\n"
       ]
      },
      {
       "output_type": "stream",
       "stream": "stdout",
       "text": [
        "141 ['Kid Koala', 'Elevator Hopper']\n"
       ]
      },
      {
       "output_type": "stream",
       "stream": "stdout",
       "text": [
        "142 ['Kid Koala', 'Skanky Panky']\n"
       ]
      },
      {
       "output_type": "stream",
       "stream": "stdout",
       "text": [
        "143 ['Xandria', 'Eversleeping']\n"
       ]
      },
      {
       "output_type": "stream",
       "stream": "stdout",
       "text": [
        "144 ['Xandria', 'Eversleeping']\n"
       ]
      },
      {
       "output_type": "stream",
       "stream": "stdout",
       "text": [
        "145 ['Xandria', 'India']\n"
       ]
      },
      {
       "output_type": "stream",
       "stream": "stdout",
       "text": [
        "146 ['Xandria', 'Now & Forever']\n"
       ]
      },
      {
       "output_type": "stream",
       "stream": "stdout",
       "text": [
        "147 ['Xandria', 'Ginger']\n"
       ]
      },
      {
       "output_type": "stream",
       "stream": "stdout",
       "text": [
        "148 ['Xandria', 'So You Disappear']\n"
       ]
      },
      {
       "output_type": "stream",
       "stream": "stdout",
       "text": [
        "149 ['Xandria', 'Kill The Sun']\n"
       ]
      },
      {
       "output_type": "stream",
       "stream": "stdout",
       "text": [
        "150 ['Xandria', 'Mermaids']\n"
       ]
      },
      {
       "output_type": "stream",
       "stream": "stdout",
       "text": [
        "151 ['Xandria', 'Sisters Of The Light']\n"
       ]
      },
      {
       "output_type": "stream",
       "stream": "stdout",
       "text": [
        "152 ['Xandria', 'Save My Life']\n"
       ]
      },
      {
       "output_type": "stream",
       "stream": "stdout",
       "text": [
        "153 ['Xandria', 'Vampire']\n"
       ]
      },
      {
       "output_type": "stream",
       "stream": "stdout",
       "text": [
        "154 ['Xandria', 'Beware']\n"
       ]
      },
      {
       "output_type": "stream",
       "stream": "stdout",
       "text": [
        "155 ['Muddy Waters', \"Rollin' And Tumblin'\"]\n"
       ]
      },
      {
       "output_type": "stream",
       "stream": "stdout",
       "text": [
        "156 ['Muddy Waters', 'I Just Want To Make Love To You']\n"
       ]
      },
      {
       "output_type": "stream",
       "stream": "stdout",
       "text": [
        "157 ['Muddy Waters', 'Forty Days And Forty Nights']\n"
       ]
      },
      {
       "output_type": "stream",
       "stream": "stdout",
       "text": [
        "158 ['Muddy Waters', \"Rollin' And Tumblin'\"]\n"
       ]
      },
      {
       "output_type": "stream",
       "stream": "stdout",
       "text": [
        "159 ['Muddy Waters', 'I Just Want To Make Love To You']\n"
       ]
      },
      {
       "output_type": "stream",
       "stream": "stdout",
       "text": [
        "160 ['Muddy Waters', \"Rollin' And Tumblin'\"]\n"
       ]
      },
      {
       "output_type": "stream",
       "stream": "stdout",
       "text": [
        "161 ['Program_ The', 'Maybe Tomorrow']\n"
       ]
      },
      {
       "output_type": "stream",
       "stream": "stdout",
       "text": [
        "162 ['Clarence Carter', 'Slip Away']\n"
       ]
      },
      {
       "output_type": "stream",
       "stream": "stdout",
       "text": [
        "163 ['Clarence Carter', 'Patches']\n"
       ]
      },
      {
       "output_type": "stream",
       "stream": "stdout",
       "text": [
        "164 ['Clarence Carter', 'Patches']\n"
       ]
      },
      {
       "output_type": "stream",
       "stream": "stdout",
       "text": [
        "165 ['Clarence Carter', 'Patches']\n"
       ]
      },
      {
       "output_type": "stream",
       "stream": "stdout",
       "text": [
        "166 ['Clarence Carter', 'Patches']\n"
       ]
      },
      {
       "output_type": "stream",
       "stream": "stdout",
       "text": [
        "167 ['Club 8', \"We're Simple Minds\"]\n"
       ]
      },
      {
       "output_type": "stream",
       "stream": "stdout",
       "text": [
        "168 ['Club 8', 'Whatever You Want']\n"
       ]
      },
      {
       "output_type": "stream",
       "stream": "stdout",
       "text": [
        "169 ['Club 8', 'Heaven']\n"
       ]
      },
      {
       "output_type": "stream",
       "stream": "stdout",
       "text": [
        "170 ['Sarah Vaughan', 'Lullaby of Birdland']\n"
       ]
      },
      {
       "output_type": "stream",
       "stream": "stdout",
       "text": [
        "171 ['Sarah Vaughan', 'Lullaby Of Birdland']\n"
       ]
      },
      {
       "output_type": "stream",
       "stream": "stdout",
       "text": [
        "172 ['Sarah Vaughan', 'Lullaby Of Birdland']\n"
       ]
      },
      {
       "output_type": "stream",
       "stream": "stdout",
       "text": [
        "173 ['Sarah Vaughan_ Clifford Brown', 'Lullaby Of Birdland']\n"
       ]
      },
      {
       "output_type": "stream",
       "stream": "stdout",
       "text": [
        "174 ['Idlewild', 'American English']\n"
       ]
      },
      {
       "output_type": "stream",
       "stream": "stdout",
       "text": [
        "175 ['Idlewild', 'A Modern Way Of Letting Go']\n"
       ]
      },
      {
       "output_type": "stream",
       "stream": "stdout",
       "text": [
        "176 ['Idlewild', 'Love Steals Us From Loneliness']\n"
       ]
      },
      {
       "output_type": "stream",
       "stream": "stdout",
       "text": [
        "177 ['Idlewild', 'A Modern Way Of Letting Go']\n"
       ]
      },
      {
       "output_type": "stream",
       "stream": "stdout",
       "text": [
        "178 ['Idlewild', 'Live In A Hiding Place']\n"
       ]
      },
      {
       "output_type": "stream",
       "stream": "stdout",
       "text": [
        "179 ['Idlewild', 'In Remote Part/Scottish Fiction']\n"
       ]
      },
      {
       "output_type": "stream",
       "stream": "stdout",
       "text": [
        "180 ['Idlewild', 'Not Just Sometimes But Always']\n"
       ]
      },
      {
       "output_type": "stream",
       "stream": "stdout",
       "text": [
        "181 ['Idlewild', 'Love Steals Us From Loneliness']\n"
       ]
      },
      {
       "output_type": "stream",
       "stream": "stdout",
       "text": [
        "182 ['Idlewild', 'You Held The World In Your Arms']\n"
       ]
      },
      {
       "output_type": "stream",
       "stream": "stdout",
       "text": [
        "183 ['Tina Charles', 'I Love To Love']\n"
       ]
      },
      {
       "output_type": "stream",
       "stream": "stdout",
       "text": [
        "184 ['Tina Charles', 'I Love To Love']\n"
       ]
      },
      {
       "output_type": "stream",
       "stream": "stdout",
       "text": [
        "185 ['Tina Charles', 'I Love To Love']\n"
       ]
      },
      {
       "output_type": "stream",
       "stream": "stdout",
       "text": [
        "186 ['Wig Wam', 'In My Dreams']\n"
       ]
      },
      {
       "output_type": "stream",
       "stream": "stdout",
       "text": [
        "187 ['Wig Wam', 'In My Dreams']\n"
       ]
      },
      {
       "output_type": "stream",
       "stream": "stdout",
       "text": [
        "188 ['Gladys Knight & The Pips', 'Help Me Make It Through The Night']\n"
       ]
      },
      {
       "output_type": "stream",
       "stream": "stdout",
       "text": [
        "189 ['Gladys Knight & The Pips', \"I've Got To Use My Imagination\"]\n"
       ]
      },
      {
       "output_type": "stream",
       "stream": "stdout",
       "text": [
        "190 ['The Penguins', 'Earth Angel']\n"
       ]
      },
      {
       "output_type": "stream",
       "stream": "stdout",
       "text": [
        "191 ['The Penguins', 'Earth Angel (Will You Be Mine)']\n"
       ]
      },
      {
       "output_type": "stream",
       "stream": "stdout",
       "text": [
        "192 ['The Penguins', 'Earth Angel']\n"
       ]
      },
      {
       "output_type": "stream",
       "stream": "stdout",
       "text": [
        "193 ['The Penguins', 'Earth Angel']\n"
       ]
      },
      {
       "output_type": "stream",
       "stream": "stdout",
       "text": [
        "194 ['The Penguins', 'Earth Angel']\n"
       ]
      },
      {
       "output_type": "stream",
       "stream": "stdout",
       "text": [
        "195 ['The Penguins', 'Earth Angel (Will You Be Mine)']\n"
       ]
      },
      {
       "output_type": "stream",
       "stream": "stdout",
       "text": [
        "196 ['The Penguins', 'Earth Angel']\n"
       ]
      },
      {
       "output_type": "stream",
       "stream": "stdout",
       "text": [
        "197 ['The Penguins', 'Earth Angel']\n"
       ]
      },
      {
       "output_type": "stream",
       "stream": "stdout",
       "text": [
        "198 ['The Penguins', 'Earth Angel (Will You Be Mine)']\n"
       ]
      },
      {
       "output_type": "stream",
       "stream": "stdout",
       "text": [
        "199 ['Penguins', 'Earth Angel']\n"
       ]
      },
      {
       "output_type": "stream",
       "stream": "stdout",
       "text": [
        "200 ['The Penguins', 'Earth Angel (Will You Be Mine)']\n"
       ]
      },
      {
       "output_type": "stream",
       "stream": "stdout",
       "text": [
        "201 ['Penguins', 'Earth Angel']\n"
       ]
      },
      {
       "output_type": "stream",
       "stream": "stdout",
       "text": [
        "202 ['The Style Council', 'My Ever Changing Moods']\n"
       ]
      },
      {
       "output_type": "stream",
       "stream": "stdout",
       "text": [
        "203 ['The Style Council', \"You're The Best Thing\"]\n"
       ]
      },
      {
       "output_type": "stream",
       "stream": "stdout",
       "text": [
        "204 ['The Style Council / Noel McCalla', 'Waiting']\n"
       ]
      },
      {
       "output_type": "stream",
       "stream": "stdout",
       "text": [
        "205 ['The Style Council', 'The Paris Match']\n"
       ]
      },
      {
       "output_type": "stream",
       "stream": "stdout",
       "text": [
        "206 ['The Style Council', 'Shout To The Top']\n"
       ]
      },
      {
       "output_type": "stream",
       "stream": "stdout",
       "text": [
        "207 ['The Style Council', 'Walls Come Tumbling Down']\n"
       ]
      },
      {
       "output_type": "stream",
       "stream": "stdout",
       "text": [
        "208 ['The Style Council', 'My Ever Changing Moods']\n"
       ]
      },
      {
       "output_type": "stream",
       "stream": "stdout",
       "text": [
        "209 ['The Style Council', 'Long Hot Summer']\n"
       ]
      },
      {
       "output_type": "stream",
       "stream": "stdout",
       "text": [
        "210 ['The Style Council', 'My Ever Changing Moods']\n"
       ]
      },
      {
       "output_type": "stream",
       "stream": "stdout",
       "text": [
        "211 ['The Style Council', 'Long Hot Summer']\n"
       ]
      },
      {
       "output_type": "stream",
       "stream": "stdout",
       "text": [
        "212 ['The Style Council', \"You're The Best Thing\"]\n"
       ]
      },
      {
       "output_type": "stream",
       "stream": "stdout",
       "text": [
        "213 ['Borknagar', 'Revolt']\n"
       ]
      },
      {
       "output_type": "stream",
       "stream": "stdout",
       "text": [
        "214 ['Black Oak Arkansas', 'Gigolo (Live Version)']\n"
       ]
      },
      {
       "output_type": "stream",
       "stream": "stdout",
       "text": [
        "215 ['Londonbeat', \"I've Been Thinking About You\"]\n"
       ]
      },
      {
       "output_type": "stream",
       "stream": "stdout",
       "text": [
        "216 ['Sonic Youth', 'Karen Koltrane']\n"
       ]
      },
      {
       "output_type": "stream",
       "stream": "stdout",
       "text": [
        "217 ['Sonic Youth', 'The Sprawl']\n"
       ]
      },
      {
       "output_type": "stream",
       "stream": "stdout",
       "text": [
        "218 ['Sonic Youth', 'Total Trash']\n"
       ]
      },
      {
       "output_type": "stream",
       "stream": "stdout",
       "text": [
        "219 ['Sonic Youth', \"Eric's Trip\"]\n"
       ]
      },
      {
       "output_type": "stream",
       "stream": "stdout",
       "text": [
        "220 ['Sonic Youth', 'Silver Rocket']\n"
       ]
      },
      {
       "output_type": "stream",
       "stream": "stdout",
       "text": [
        "221 ['Sonic Youth', 'Kissability']\n"
       ]
      },
      {
       "output_type": "stream",
       "stream": "stdout",
       "text": [
        "222 ['Sonic Youth', 'Hey Joni']\n"
       ]
      },
      {
       "output_type": "stream",
       "stream": "stdout",
       "text": [
        "223 ['Sonic Youth', 'Total Trash']\n"
       ]
      },
      {
       "output_type": "stream",
       "stream": "stdout",
       "text": [
        "224 ['Sonic Youth', 'Hey Joni']\n"
       ]
      },
      {
       "output_type": "stream",
       "stream": "stdout",
       "text": [
        "225 ['Sonic Youth', 'Rain King']\n"
       ]
      },
      {
       "output_type": "stream",
       "stream": "stdout",
       "text": [
        "226 ['Sonic Youth', \"'Cross The Breeze\"]\n"
       ]
      },
      {
       "output_type": "stream",
       "stream": "stdout",
       "text": [
        "227 ['Sonic Youth', 'Rain King']\n"
       ]
      },
      {
       "output_type": "stream",
       "stream": "stdout",
       "text": [
        "228 ['Sonic Youth', 'Youth Against Fascism']\n"
       ]
      },
      {
       "output_type": "stream",
       "stream": "stdout",
       "text": [
        "229 ['Sonic Youth', 'Youth Against Fascism']\n"
       ]
      },
      {
       "output_type": "stream",
       "stream": "stdout",
       "text": [
        "230 ['Sonic Youth', 'Wish Fulfillment']\n"
       ]
      },
      {
       "output_type": "stream",
       "stream": "stdout",
       "text": [
        "231 ['Sonic Youth', 'On The Strip']\n"
       ]
      },
      {
       "output_type": "stream",
       "stream": "stdout",
       "text": [
        "232 ['Sonic Youth', \"Winner's Blues\"]\n"
       ]
      },
      {
       "output_type": "stream",
       "stream": "stdout",
       "text": [
        "233 ['Sonic Youth', 'Titanium Expose']\n"
       ]
      },
      {
       "output_type": "stream",
       "stream": "stdout",
       "text": [
        "234 ['Sonic Youth', 'Kool Thing']\n"
       ]
      },
      {
       "output_type": "stream",
       "stream": "stdout",
       "text": [
        "235 ['Sonic Youth', 'My Friend Goo']\n"
       ]
      },
      {
       "output_type": "stream",
       "stream": "stdout",
       "text": [
        "236 ['Sonic Youth', \"Cinderella's Big Score\"]\n"
       ]
      },
      {
       "output_type": "stream",
       "stream": "stdout",
       "text": [
        "237 ['Sonic Youth', 'My Friend Goo']\n"
       ]
      },
      {
       "output_type": "stream",
       "stream": "stdout",
       "text": [
        "238 ['Sonic Youth', 'Tunic (Song For Karen)']\n"
       ]
      },
      {
       "output_type": "stream",
       "stream": "stdout",
       "text": [
        "239 ['Sonic Youth', 'Titanium Expose']\n"
       ]
      },
      {
       "output_type": "stream",
       "stream": "stdout",
       "text": [
        "240 ['Sonic Youth', 'Mote']\n"
       ]
      },
      {
       "output_type": "stream",
       "stream": "stdout",
       "text": [
        "241 ['Sonic Youth', 'Kool Thing']\n"
       ]
      },
      {
       "output_type": "stream",
       "stream": "stdout",
       "text": [
        "242 ['Sonic Youth', 'Superstar']\n"
       ]
      },
      {
       "output_type": "stream",
       "stream": "stdout",
       "text": [
        "243 ['Sonic Youth', 'Superstar']\n"
       ]
      },
      {
       "output_type": "stream",
       "stream": "stdout",
       "text": [
        "244 ['Sonic Youth', 'Death to our Friends']\n"
       ]
      },
      {
       "output_type": "stream",
       "stream": "stdout",
       "text": [
        "245 ['Sonic Youth', 'Ghost Bitch']\n"
       ]
      },
      {
       "output_type": "stream",
       "stream": "stdout",
       "text": [
        "246 ['Sonic Youth', 'Shadow of a Doubt']\n"
       ]
      },
      {
       "output_type": "stream",
       "stream": "stdout",
       "text": [
        "247 ['Sonic Youth', 'Disconnection Notice']\n"
       ]
      },
      {
       "output_type": "stream",
       "stream": "stdout",
       "text": [
        "248 ['Sonic Youth', 'Rain On Tin']\n"
       ]
      },
      {
       "output_type": "stream",
       "stream": "stdout",
       "text": [
        "249 ['Sonic Youth', 'The Empty Page']\n"
       ]
      },
      {
       "output_type": "stream",
       "stream": "stdout",
       "text": [
        "250 ['Sonic Youth', 'Sympathy For The Strawberry']\n"
       ]
      },
      {
       "output_type": "stream",
       "stream": "stdout",
       "text": [
        "251 ['Sonic Youth', 'Rats']\n"
       ]
      },
      {
       "output_type": "stream",
       "stream": "stdout",
       "text": [
        "252 ['Sonic Youth', 'Candle']\n"
       ]
      },
      {
       "output_type": "stream",
       "stream": "stdout",
       "text": [
        "253 ['Sonic Youth', 'Beauty Lies In The Eye']\n"
       ]
      },
      {
       "output_type": "stream",
       "stream": "stdout",
       "text": [
        "254 ['Sonic Youth', 'Teen Age Riot']\n"
       ]
      },
      {
       "output_type": "stream",
       "stream": "stdout",
       "text": [
        "255 ['Sonic Youth', 'Pipeline/Kill Time']\n"
       ]
      },
      {
       "output_type": "stream",
       "stream": "stdout",
       "text": [
        "256 ['Sonic Youth', \"Junkie's Promise\"]\n"
       ]
      },
      {
       "output_type": "stream",
       "stream": "stdout",
       "text": [
        "257 ['Sonic Youth', 'The Diamond Sea']\n"
       ]
      },
      {
       "output_type": "stream",
       "stream": "stdout",
       "text": [
        "258 ['Joe Liggins / The Honeydrippers', 'Rain_ Rain_ Rain']\n"
       ]
      },
      {
       "output_type": "stream",
       "stream": "stdout",
       "text": [
        "259 ['Lou Reed / The Velvet Underground', 'Lisa Says']\n"
       ]
      },
      {
       "output_type": "stream",
       "stream": "stdout",
       "text": [
        "260 ['Lou Reed / The Velvet Underground', 'Femme Fatale']\n"
       ]
      },
      {
       "output_type": "stream",
       "stream": "stdout",
       "text": [
        "261 ['The Velvet Underground / Nico', \"I'm Waiting For The Man\"]\n"
       ]
      },
      {
       "output_type": "stream",
       "stream": "stdout",
       "text": [
        "262 ['Lou Reed & The Velvet Underground', 'I Heard Her Call My Name']\n"
       ]
      },
      {
       "output_type": "stream",
       "stream": "stdout",
       "text": [
        "263 ['Lou Reed & The Velvet Underground', 'Rock And Roll']\n"
       ]
      },
      {
       "output_type": "stream",
       "stream": "stdout",
       "text": [
        "264 ['Adultnapper', 'Fecund']\n"
       ]
      },
      {
       "output_type": "stream",
       "stream": "stdout",
       "text": [
        "265 ['Adultnapper', 'Fecund']\n"
       ]
      },
      {
       "output_type": "stream",
       "stream": "stdout",
       "text": [
        "266 [\"The Go-Go's\", 'Head Over Heels']\n"
       ]
      },
      {
       "output_type": "stream",
       "stream": "stdout",
       "text": [
        "267 [\"The Go-Go's\", 'Head Over Heels']\n"
       ]
      },
      {
       "output_type": "stream",
       "stream": "stdout",
       "text": [
        "268 [\"The Go-Go's\", 'Vacation']\n"
       ]
      },
      {
       "output_type": "stream",
       "stream": "stdout",
       "text": [
        "269 ['Chris Kenner', 'I Like It Like That']\n"
       ]
      },
      {
       "output_type": "stream",
       "stream": "stdout",
       "text": [
        "270 ['Chris Kenner', 'I Like It Like That']\n"
       ]
      },
      {
       "output_type": "stream",
       "stream": "stdout",
       "text": [
        "271 [\"Ben's Brother\", 'Let Me Out']\n"
       ]
      },
      {
       "output_type": "stream",
       "stream": "stdout",
       "text": [
        "272 ['Control Machete', 'De Perros Amores']\n"
       ]
      },
      {
       "output_type": "stream",
       "stream": "stdout",
       "text": [
        "273 ['Stroke 9', 'Little Black Backpack']\n"
       ]
      },
      {
       "output_type": "stream",
       "stream": "stdout",
       "text": [
        "274 ['Johnny Bristol', 'Hang On In There Baby']\n"
       ]
      },
      {
       "output_type": "stream",
       "stream": "stdout",
       "text": [
        "275 ['Johnny Bristol', 'Hang On In There Baby']\n"
       ]
      },
      {
       "output_type": "stream",
       "stream": "stdout",
       "text": [
        "276 ['Sarah Vaughan', 'Summertime']\n"
       ]
      },
      {
       "output_type": "stream",
       "stream": "stdout",
       "text": [
        "277 ['Joan Jett & The Blackhearts', 'I Hate Myself For Loving You']\n"
       ]
      },
      {
       "output_type": "stream",
       "stream": "stdout",
       "text": [
        "278 ['Thomas Mapfumo_ The Blacks Unlimited', 'Rita']\n"
       ]
      },
      {
       "output_type": "stream",
       "stream": "stdout",
       "text": [
        "279 ['Mae', 'Sun (acoustic)']\n"
       ]
      },
      {
       "output_type": "stream",
       "stream": "stdout",
       "text": [
        "280 ['Mae', 'Awakening']\n"
       ]
      },
      {
       "output_type": "stream",
       "stream": "stdout",
       "text": [
        "281 ['Mae', 'Suspension']\n"
       ]
      },
      {
       "output_type": "stream",
       "stream": "stdout",
       "text": [
        "282 ['Mae', \"We're So Far Away\"]\n"
       ]
      },
      {
       "output_type": "stream",
       "stream": "stdout",
       "text": [
        "283 ['Mae', 'The Ocean']\n"
       ]
      },
      {
       "output_type": "stream",
       "stream": "stdout",
       "text": [
        "284 ['Mae', 'The Sun And The Moon']\n"
       ]
      },
      {
       "output_type": "stream",
       "stream": "stdout",
       "text": [
        "285 ['The Receiving End Of Sirens', 'Dead Men Tell No Tales (LP Version)']\n"
       ]
      },
      {
       "output_type": "stream",
       "stream": "stdout",
       "text": [
        "286 ['The Receiving End Of Sirens', 'Planning A Prison Break (LP Version)']\n"
       ]
      },
      {
       "output_type": "stream",
       "stream": "stdout",
       "text": [
        "287 ['The Duke Spirit', 'The Step And The Walk']\n"
       ]
      },
      {
       "output_type": "stream",
       "stream": "stdout",
       "text": [
        "288 ['The Duke Spirit', 'The Step And The Walk']\n"
       ]
      },
      {
       "output_type": "stream",
       "stream": "stdout",
       "text": [
        "289 ['Audio Lotion', 'Lagoa']\n"
       ]
      },
      {
       "output_type": "stream",
       "stream": "stdout",
       "text": [
        "290 ['Audio Lotion', 'Aquitane']\n"
       ]
      },
      {
       "output_type": "stream",
       "stream": "stdout",
       "text": [
        "291 ['Andreas Vollenweider', 'Stella']\n"
       ]
      },
      {
       "output_type": "stream",
       "stream": "stdout",
       "text": [
        "292 ['Stephen Malkmus', 'Jenny & The Ess-Dog']\n"
       ]
      },
      {
       "output_type": "stream",
       "stream": "stdout",
       "text": [
        "293 ['Tom Baxter', 'Better']\n"
       ]
      },
      {
       "output_type": "stream",
       "stream": "stdout",
       "text": [
        "294 ['Lordi', 'Would You Love A Monsterman']\n"
       ]
      },
      {
       "output_type": "stream",
       "stream": "stdout",
       "text": [
        "295 ['Lordi', 'Devil Is A Loser']\n"
       ]
      },
      {
       "output_type": "stream",
       "stream": "stdout",
       "text": [
        "296 ['Lordi', 'Not The Nicest Guy']\n"
       ]
      },
      {
       "output_type": "stream",
       "stream": "stdout",
       "text": [
        "297 ['Lordi', 'The Night Of The Loving Dead']\n"
       ]
      },
      {
       "output_type": "stream",
       "stream": "stdout",
       "text": [
        "298 ['Lordi', 'It Snows In Hell']\n"
       ]
      },
      {
       "output_type": "stream",
       "stream": "stdout",
       "text": [
        "299 ['Lordi', 'The Kids Who Wanna Play With The Dead']\n"
       ]
      },
      {
       "output_type": "stream",
       "stream": "stdout",
       "text": [
        "300 ['Lordi', 'Would You Love A Monsterman']\n"
       ]
      },
      {
       "output_type": "stream",
       "stream": "stdout",
       "text": [
        "301 ['Amber', 'This Is Your Night']\n"
       ]
      },
      {
       "output_type": "stream",
       "stream": "stdout",
       "text": [
        "302 ['Jagged Edge', 'Walked Outta Heaven']\n"
       ]
      },
      {
       "output_type": "stream",
       "stream": "stdout",
       "text": [
        "303 ['Jagged Edge', 'Walked Outta Heaven']\n"
       ]
      },
      {
       "output_type": "stream",
       "stream": "stdout",
       "text": [
        "304 ['Jagged Edge', 'Promise']\n"
       ]
      },
      {
       "output_type": "stream",
       "stream": "stdout",
       "text": [
        "305 ['Jagged Edge', 'Walked Outta Heaven']\n"
       ]
      },
      {
       "output_type": "stream",
       "stream": "stdout",
       "text": [
        "306 ['Something Corporate', 'Punk Rock Princess']\n"
       ]
      },
      {
       "output_type": "stream",
       "stream": "stdout",
       "text": [
        "307 ['Something Corporate', 'If You C Jordan']\n"
       ]
      },
      {
       "output_type": "stream",
       "stream": "stdout",
       "text": [
        "308 ['Something Corporate', 'Bad Day']\n"
       ]
      },
      {
       "output_type": "stream",
       "stream": "stdout",
       "text": [
        "309 ['Something Corporate', 'If You C Jordan']\n"
       ]
      },
      {
       "output_type": "stream",
       "stream": "stdout",
       "text": [
        "310 ['Something Corporate', 'Drunk Girl']\n"
       ]
      },
      {
       "output_type": "stream",
       "stream": "stdout",
       "text": [
        "311 ['Something Corporate', 'Good News']\n"
       ]
      },
      {
       "output_type": "stream",
       "stream": "stdout",
       "text": [
        "312 ['Something Corporate', \"You're Gone\"]\n"
       ]
      },
      {
       "output_type": "stream",
       "stream": "stdout",
       "text": [
        "313 ['Something Corporate', 'Hurricane']\n"
       ]
      },
      {
       "output_type": "stream",
       "stream": "stdout",
       "text": [
        "314 ['Something Corporate', 'Fall']\n"
       ]
      },
      {
       "output_type": "stream",
       "stream": "stdout",
       "text": [
        "315 ['Something Corporate', 'Punk Rock Princess']\n"
       ]
      },
      {
       "output_type": "stream",
       "stream": "stdout",
       "text": [
        "316 ['Something Corporate', 'Cavanaugh Park']\n"
       ]
      },
      {
       "output_type": "stream",
       "stream": "stdout",
       "text": [
        "317 ['Something Corporate', 'Not What It Seems']\n"
       ]
      },
      {
       "output_type": "stream",
       "stream": "stdout",
       "text": [
        "318 ['Something Corporate', 'As You Sleep']\n"
       ]
      },
      {
       "output_type": "stream",
       "stream": "stdout",
       "text": [
        "319 ['Something Corporate', 'Ruthless']\n"
       ]
      },
      {
       "output_type": "stream",
       "stream": "stdout",
       "text": [
        "320 ['Something Corporate', '21 And Invincible']\n"
       ]
      },
      {
       "output_type": "stream",
       "stream": "stdout",
       "text": [
        "321 ['Something Corporate', 'Only Ashes']\n"
       ]
      },
      {
       "output_type": "stream",
       "stream": "stdout",
       "text": [
        "322 ['Something Corporate', \"I Won't Make You\"]\n"
       ]
      },
      {
       "output_type": "stream",
       "stream": "stdout",
       "text": [
        "323 ['Something Corporate', 'Watch The Sky']\n"
       ]
      },
      {
       "output_type": "stream",
       "stream": "stdout",
       "text": [
        "324 ['Something Corporate', 'Me And The Moon']\n"
       ]
      },
      {
       "output_type": "stream",
       "stream": "stdout",
       "text": [
        "325 ['Something Corporate', 'Break Myself']\n"
       ]
      },
      {
       "output_type": "stream",
       "stream": "stdout",
       "text": [
        "326 ['Something Corporate', 'Miss America']\n"
       ]
      },
      {
       "output_type": "stream",
       "stream": "stdout",
       "text": [
        "327 ['Something Corporate', 'The Runaway']\n"
       ]
      },
      {
       "output_type": "stream",
       "stream": "stdout",
       "text": [
        "328 ['Something Corporate', 'Walking By']\n"
       ]
      },
      {
       "output_type": "stream",
       "stream": "stdout",
       "text": [
        "329 ['Something Corporate', 'Punk Rock Princess']\n"
       ]
      },
      {
       "output_type": "stream",
       "stream": "stdout",
       "text": [
        "330 ['Something Corporate', 'Down']\n"
       ]
      },
      {
       "output_type": "stream",
       "stream": "stdout",
       "text": [
        "331 ['Something Corporate', 'The Astronaut']\n"
       ]
      },
      {
       "output_type": "stream",
       "stream": "stdout",
       "text": [
        "332 ['Something Corporate', 'Forget December']\n"
       ]
      },
      {
       "output_type": "stream",
       "stream": "stdout",
       "text": [
        "333 ['Something Corporate', 'Fall']\n"
       ]
      },
      {
       "output_type": "stream",
       "stream": "stdout",
       "text": [
        "334 ['Something Corporate', 'I Woke Up In A Car']\n"
       ]
      },
      {
       "output_type": "stream",
       "stream": "stdout",
       "text": [
        "335 ['Something Corporate', 'Space']\n"
       ]
      },
      {
       "output_type": "stream",
       "stream": "stdout",
       "text": [
        "336 ['Something Corporate', 'Konstantine']\n"
       ]
      },
      {
       "output_type": "stream",
       "stream": "stdout",
       "text": [
        "337 ['Bernard Fanning', 'Wish You Well']\n"
       ]
      },
      {
       "output_type": "stream",
       "stream": "stdout",
       "text": [
        "338 ['The Herbaliser', 'Put It On Tape']\n"
       ]
      },
      {
       "output_type": "stream",
       "stream": "stdout",
       "text": [
        "339 ['The Herbaliser', 'Ginger Jumps The Fence']\n"
       ]
      },
      {
       "output_type": "stream",
       "stream": "stdout",
       "text": [
        "340 ['The Herbaliser feat. What What', 'The Blend']\n"
       ]
      },
      {
       "output_type": "stream",
       "stream": "stdout",
       "text": [
        "341 ['The Herbaliser', 'Sensual Woman']\n"
       ]
      },
      {
       "output_type": "stream",
       "stream": "stdout",
       "text": [
        "342 ['The Herbaliser', 'The Sensual Woman']\n"
       ]
      },
      {
       "output_type": "stream",
       "stream": "stdout",
       "text": [
        "343 ['The Herbaliser featuring Seaming To', 'Something Wicked']\n"
       ]
      },
      {
       "output_type": "stream",
       "stream": "stdout",
       "text": [
        "344 ['The Herbaliser', '24 Carat Blag']\n"
       ]
      },
      {
       "output_type": "stream",
       "stream": "stdout",
       "text": [
        "345 ['The Herbaliser', 'The Hard Stuff']\n"
       ]
      },
      {
       "output_type": "stream",
       "stream": "stdout",
       "text": [
        "346 ['The Herbaliser', 'Battle Of Bongo Hill']\n"
       ]
      },
      {
       "output_type": "stream",
       "stream": "stdout",
       "text": [
        "347 ['The Herbaliser', 'Sonofanuthamutha']\n"
       ]
      },
      {
       "output_type": "stream",
       "stream": "stdout",
       "text": [
        "348 ['The Herbaliser feat. Jean Grae', 'Close Your Eyes']\n"
       ]
      },
      {
       "output_type": "stream",
       "stream": "stdout",
       "text": [
        "349 ['The Herbaliser', 'Kittyknapper']\n"
       ]
      },
      {
       "output_type": "stream",
       "stream": "stdout",
       "text": [
        "350 ['The Herbaliser', 'Shattered Soul']\n"
       ]
      },
      {
       "output_type": "stream",
       "stream": "stdout",
       "text": [
        "351 ['The Herbaliser', 'The Missing Suitcase']\n"
       ]
      },
      {
       "output_type": "stream",
       "stream": "stdout",
       "text": [
        "352 ['The Herbaliser', 'Goldrush']\n"
       ]
      },
      {
       "output_type": "stream",
       "stream": "stdout",
       "text": [
        "353 ['The Herbaliser', 'Goldrush']\n"
       ]
      },
      {
       "output_type": "stream",
       "stream": "stdout",
       "text": [
        "354 ['The Herbaliser', 'The Missing Suitcase']\n"
       ]
      },
      {
       "output_type": "stream",
       "stream": "stdout",
       "text": [
        "355 ['The Herbaliser', 'Shattered Soul']\n"
       ]
      },
      {
       "output_type": "stream",
       "stream": "stdout",
       "text": [
        "356 ['The Herbaliser', 'Ginger Jumps The Fence']\n"
       ]
      },
      {
       "output_type": "stream",
       "stream": "stdout",
       "text": [
        "357 ['The Herbaliser feat. Seaming To', 'Something Wicked']\n"
       ]
      },
      {
       "output_type": "stream",
       "stream": "stdout",
       "text": [
        "358 ['The Herbaliser feat. What What', 'The Blend']\n"
       ]
      },
      {
       "output_type": "stream",
       "stream": "stdout",
       "text": [
        "359 ['Wolfsheim', 'The Sparrows And The Nightingales']\n"
       ]
      },
      {
       "output_type": "stream",
       "stream": "stdout",
       "text": [
        "360 ['Wolfsheim', 'Once In A Lifetime']\n"
       ]
      },
      {
       "output_type": "stream",
       "stream": "stdout",
       "text": [
        "361 ['Wolfsheim', 'K\\xc3\\xbcnstliche Welten']\n"
       ]
      },
      {
       "output_type": "stream",
       "stream": "stdout",
       "text": [
        "362 ['Duran Duran', 'What Happens Tomorrow']\n"
       ]
      },
      {
       "output_type": "stream",
       "stream": "stdout",
       "text": [
        "363 ['Tahiti 80', 'Big Day']\n"
       ]
      },
      {
       "output_type": "stream",
       "stream": "stdout",
       "text": [
        "364 ['Tahiti 80', 'Heartbeat']\n"
       ]
      },
      {
       "output_type": "stream",
       "stream": "stdout",
       "text": [
        "365 ['Circle Takes the Square', 'Same Shade As Concrete']\n"
       ]
      },
      {
       "output_type": "stream",
       "stream": "stdout",
       "text": [
        "366 ['Nicole Kidman', \"One Day I'll Fly Away\"]\n"
       ]
      },
      {
       "output_type": "stream",
       "stream": "stdout",
       "text": [
        "367 ['Nicole Kidman', \"One Day I'll Fly Away\"]\n"
       ]
      },
      {
       "output_type": "stream",
       "stream": "stdout",
       "text": [
        "368 ['Ascii Disko', 'Strassen']\n"
       ]
      },
      {
       "output_type": "stream",
       "stream": "stdout",
       "text": [
        "369 ['American Hi-Fi', 'Flavor Of The Weak']\n"
       ]
      },
      {
       "output_type": "stream",
       "stream": "stdout",
       "text": [
        "370 ['American Hi-Fi', 'Another Perfect Day']\n"
       ]
      },
      {
       "output_type": "stream",
       "stream": "stdout",
       "text": [
        "371 ['American Hi-Fi', 'Flavor Of The Weak']\n"
       ]
      },
      {
       "output_type": "stream",
       "stream": "stdout",
       "text": [
        "372 ['Ernesto vs. Bastian', 'Dark Side Of The Moon']\n"
       ]
      },
      {
       "output_type": "stream",
       "stream": "stdout",
       "text": [
        "373 ['Limp Bizkit', 'My Generation']\n"
       ]
      },
      {
       "output_type": "stream",
       "stream": "stdout",
       "text": [
        "374 ['Limp Bizkit', \"Rollin' (Air Raid Vehicle)\"]\n"
       ]
      },
      {
       "output_type": "stream",
       "stream": "stdout",
       "text": [
        "375 ['Limp Bizkit', 'Nookie']\n"
       ]
      },
      {
       "output_type": "stream",
       "stream": "stdout",
       "text": [
        "376 ['Limp Bizkit', 'Break Stuff']\n"
       ]
      },
      {
       "output_type": "stream",
       "stream": "stdout",
       "text": [
        "377 ['Limp Bizkit', \"Rollin' (Air Raid Vehicle)\"]\n"
       ]
      },
      {
       "output_type": "stream",
       "stream": "stdout",
       "text": [
        "378 ['Limp Bizkit', 'Break Stuff']\n"
       ]
      },
      {
       "output_type": "stream",
       "stream": "stdout",
       "text": [
        "379 ['Limp Bizkit', 'My Way']\n"
       ]
      },
      {
       "output_type": "stream",
       "stream": "stdout",
       "text": [
        "380 ['Limp Bizkit', 'Nookie']\n"
       ]
      },
      {
       "output_type": "stream",
       "stream": "stdout",
       "text": [
        "381 ['Limp Bizkit', \"Livin' It Up\"]\n"
       ]
      },
      {
       "output_type": "stream",
       "stream": "stdout",
       "text": [
        "382 ['Limp Bizkit', \"Rollin' (Air Raid Vehicle)\"]\n"
       ]
      },
      {
       "output_type": "stream",
       "stream": "stdout",
       "text": [
        "383 ['Limp Bizkit', 'Behind Blue Eyes']\n"
       ]
      },
      {
       "output_type": "stream",
       "stream": "stdout",
       "text": [
        "384 ['Limp Bizkit', 'Re-Arranged']\n"
       ]
      },
      {
       "output_type": "stream",
       "stream": "stdout",
       "text": [
        "385 ['Limp Bizkit', 'Break Stuff']\n"
       ]
      },
      {
       "output_type": "stream",
       "stream": "stdout",
       "text": [
        "386 ['Chaka Khan', \"Ain't Nobody\"]\n"
       ]
      },
      {
       "output_type": "stream",
       "stream": "stdout",
       "text": [
        "387 ['Bonnie Tyler', 'Total Eclipse Of The Heart']\n"
       ]
      },
      {
       "output_type": "stream",
       "stream": "stdout",
       "text": [
        "388 ['Bonnie Tyler', 'Holding Out For a Hero']\n"
       ]
      },
      {
       "output_type": "stream",
       "stream": "stdout",
       "text": [
        "389 ['Bonnie Tyler', 'Total Eclipse of the Heart']\n"
       ]
      },
      {
       "output_type": "stream",
       "stream": "stdout",
       "text": [
        "390 ['Bonnie Tyler', 'Holding Out For A Hero']\n"
       ]
      },
      {
       "output_type": "stream",
       "stream": "stdout",
       "text": [
        "391 ['Bonnie Tyler', 'Total Eclipse Of The Heart']\n"
       ]
      },
      {
       "output_type": "stream",
       "stream": "stdout",
       "text": [
        "392 ['Bonnie Tyler', 'Holding Out For A Hero']\n"
       ]
      },
      {
       "output_type": "stream",
       "stream": "stdout",
       "text": [
        "393 ['Bonnie Tyler', \"It's a Heartache\"]\n"
       ]
      },
      {
       "output_type": "stream",
       "stream": "stdout",
       "text": [
        "394 ['Bonnie Tyler', 'Total Eclipse of The Heart']\n"
       ]
      },
      {
       "output_type": "stream",
       "stream": "stdout",
       "text": [
        "395 ['The Whitest Boy Alive', 'Burning']\n"
       ]
      },
      {
       "output_type": "stream",
       "stream": "stdout",
       "text": [
        "396 ['The Whitest Boy Alive', 'Golden Cage']\n"
       ]
      },
      {
       "output_type": "stream",
       "stream": "stdout",
       "text": [
        "397 ['The Whitest Boy Alive', 'Above You']\n"
       ]
      },
      {
       "output_type": "stream",
       "stream": "stdout",
       "text": [
        "398 ['The Whitest Boy Alive', 'All Ears']\n"
       ]
      },
      {
       "output_type": "stream",
       "stream": "stdout",
       "text": [
        "399 ['The Whitest Boy Alive', 'Done With You']\n"
       ]
      },
      {
       "output_type": "stream",
       "stream": "stdout",
       "text": [
        "400 ['The Whitest Boy Alive', 'Borders']\n"
       ]
      },
      {
       "output_type": "stream",
       "stream": "stdout",
       "text": [
        "401 ['The Whitest Boy Alive', \"Don't Give Up\"]\n"
       ]
      },
      {
       "output_type": "stream",
       "stream": "stdout",
       "text": [
        "402 ['The Whitest Boy Alive', 'Golden Cage']\n"
       ]
      },
      {
       "output_type": "stream",
       "stream": "stdout",
       "text": [
        "403 ['Treva Whateva', 'Singalong']\n"
       ]
      },
      {
       "output_type": "stream",
       "stream": "stdout",
       "text": [
        "404 ['Ivy', 'Ocean City Girl']\n"
       ]
      },
      {
       "output_type": "stream",
       "stream": "stdout",
       "text": [
        "405 ['Ivy', 'Keep Moving']\n"
       ]
      },
      {
       "output_type": "stream",
       "stream": "stdout",
       "text": [
        "406 ['Ivy', 'Edge Of The Ocean']\n"
       ]
      },
      {
       "output_type": "stream",
       "stream": "stdout",
       "text": [
        "407 ['Ivy', 'Nothing But The Sky']\n"
       ]
      },
      {
       "output_type": "stream",
       "stream": "stdout",
       "text": [
        "408 ['Ivy', 'Worry About You']\n"
       ]
      },
      {
       "output_type": "stream",
       "stream": "stdout",
       "text": [
        "409 ['The Chakachas', 'Jungle Fever']\n"
       ]
      },
      {
       "output_type": "stream",
       "stream": "stdout",
       "text": [
        "410 ['Orson', \"Ain't No Party\"]\n"
       ]
      },
      {
       "output_type": "stream",
       "stream": "stdout",
       "text": [
        "411 ['Orson', \"Ain't No Party\"]\n"
       ]
      },
      {
       "output_type": "stream",
       "stream": "stdout",
       "text": [
        "412 ['Orson', \"Ain't No Party\"]\n"
       ]
      },
      {
       "output_type": "stream",
       "stream": "stdout",
       "text": [
        "413 ['Orson', 'Already Over']\n"
       ]
      },
      {
       "output_type": "stream",
       "stream": "stdout",
       "text": [
        "414 ['Orson', 'Already Over']\n"
       ]
      },
      {
       "output_type": "stream",
       "stream": "stdout",
       "text": [
        "415 ['Orson', 'Bright Idea']\n"
       ]
      },
      {
       "output_type": "stream",
       "stream": "stdout",
       "text": [
        "416 ['Orson', 'Bright Idea']\n"
       ]
      },
      {
       "output_type": "stream",
       "stream": "stdout",
       "text": [
        "417 ['Orson', 'No Tomorrow']\n"
       ]
      },
      {
       "output_type": "stream",
       "stream": "stdout",
       "text": [
        "418 ['Orson', 'No Tomorrow']\n"
       ]
      },
      {
       "output_type": "stream",
       "stream": "stdout",
       "text": [
        "419 ['Orson', 'Bright Idea']\n"
       ]
      },
      {
       "output_type": "stream",
       "stream": "stdout",
       "text": [
        "420 ['Orson', 'No Tomorrow']\n"
       ]
      },
      {
       "output_type": "stream",
       "stream": "stdout",
       "text": [
        "421 ['Orson', 'Bright Idea']\n"
       ]
      },
      {
       "output_type": "stream",
       "stream": "stdout",
       "text": [
        "422 ['Orson', \"Ain't No Party\"]\n"
       ]
      },
      {
       "output_type": "stream",
       "stream": "stdout",
       "text": [
        "423 ['Evelyn \"Champagne\" King', \"I'm In Love\"]\n"
       ]
      },
      {
       "output_type": "stream",
       "stream": "stdout",
       "text": [
        "424 ['Evelyn \"Champagne\" King', 'Love Come Down']\n"
       ]
      },
      {
       "output_type": "stream",
       "stream": "stdout",
       "text": [
        "425 ['Evelyn \"Champagne\" King', 'Love Come Down']\n"
       ]
      },
      {
       "output_type": "stream",
       "stream": "stdout",
       "text": [
        "426 ['Evelyn \"Champagne\" King', \"I'm In Love\"]\n"
       ]
      },
      {
       "output_type": "stream",
       "stream": "stdout",
       "text": [
        "427 ['Evelyn \"Champagne\" King', 'Love Come Down']\n"
       ]
      },
      {
       "output_type": "stream",
       "stream": "stdout",
       "text": [
        "428 ['Evelyn King', \"I'm In Love\"]\n"
       ]
      },
      {
       "output_type": "stream",
       "stream": "stdout",
       "text": [
        "429 ['Tiga & Zyntherius', 'Sunglasses At Night']\n"
       ]
      },
      {
       "output_type": "stream",
       "stream": "stdout",
       "text": [
        "430 ['Tiga & Zyntherius', 'Sunglasses At Night']\n"
       ]
      },
      {
       "output_type": "stream",
       "stream": "stdout",
       "text": [
        "431 ['Tiga & Zyntherius', 'Sunglasses At Night']\n"
       ]
      },
      {
       "output_type": "stream",
       "stream": "stdout",
       "text": [
        "432 ['Love Affair', 'Everlasting Love']\n"
       ]
      },
      {
       "output_type": "stream",
       "stream": "stdout",
       "text": [
        "433 ['Love Affair', 'Everlasting Love']\n"
       ]
      },
      {
       "output_type": "stream",
       "stream": "stdout",
       "text": [
        "434 ['Love Affair', 'Everlasting Love']\n"
       ]
      },
      {
       "output_type": "stream",
       "stream": "stdout",
       "text": [
        "435 ['Love Affair', 'Everlasting Love']\n"
       ]
      },
      {
       "output_type": "stream",
       "stream": "stdout",
       "text": [
        "436 ['Solomon Burke', 'Cry to Me']\n"
       ]
      },
      {
       "output_type": "stream",
       "stream": "stdout",
       "text": [
        "437 ['David Holmes', 'Gritty Shaker']\n"
       ]
      },
      {
       "output_type": "stream",
       "stream": "stdout",
       "text": [
        "438 ['David Holmes', '69 Police']\n"
       ]
      },
      {
       "output_type": "stream",
       "stream": "stdout",
       "text": [
        "439 ['David Holmes', 'Gritty Shaker']\n"
       ]
      },
      {
       "output_type": "stream",
       "stream": "stdout",
       "text": [
        "440 ['Mad Caddies', 'Drinking For 11']\n"
       ]
      },
      {
       "output_type": "stream",
       "stream": "stdout",
       "text": [
        "441 ['Foundation Hope', 'Burdened']\n"
       ]
      },
      {
       "output_type": "stream",
       "stream": "stdout",
       "text": [
        "442 ['Alison Moyet', 'All Cried Out']\n"
       ]
      },
      {
       "output_type": "stream",
       "stream": "stdout",
       "text": [
        "443 ['Alison Moyet', 'Invisible']\n"
       ]
      },
      {
       "output_type": "stream",
       "stream": "stdout",
       "text": [
        "444 ['Alison Moyet', 'Love Resurrection']\n"
       ]
      },
      {
       "output_type": "stream",
       "stream": "stdout",
       "text": [
        "445 ['Alison Moyet', 'That Ole Devil Called Love']\n"
       ]
      },
      {
       "output_type": "stream",
       "stream": "stdout",
       "text": [
        "446 ['Alison Moyet', 'Weak In The Presence Of Beauty']\n"
       ]
      },
      {
       "output_type": "stream",
       "stream": "stdout",
       "text": [
        "447 ['Alison Moyet', 'Love Letters']\n"
       ]
      },
      {
       "output_type": "stream",
       "stream": "stdout",
       "text": [
        "448 ['Alison Moyet', 'Love Letters']\n"
       ]
      },
      {
       "output_type": "stream",
       "stream": "stdout",
       "text": [
        "449 ['Alison Moyet', 'All Cried Out']\n"
       ]
      },
      {
       "output_type": "stream",
       "stream": "stdout",
       "text": [
        "450 ['Alison Moyet', 'Weak In The Presence Of Beauty']\n"
       ]
      },
      {
       "output_type": "stream",
       "stream": "stdout",
       "text": [
        "451 ['Alison Moyet', 'All Cried Out']\n"
       ]
      },
      {
       "output_type": "stream",
       "stream": "stdout",
       "text": [
        "452 ['Samael', 'On Earth']\n"
       ]
      },
      {
       "output_type": "stream",
       "stream": "stdout",
       "text": [
        "453 ['The Whip', 'Divebomb']\n"
       ]
      },
      {
       "output_type": "stream",
       "stream": "stdout",
       "text": [
        "454 ['The Whip', 'Sister Siam']\n"
       ]
      },
      {
       "output_type": "stream",
       "stream": "stdout",
       "text": [
        "455 ['The Whip', 'Sister Siam']\n"
       ]
      },
      {
       "output_type": "stream",
       "stream": "stdout",
       "text": [
        "456 ['The Whip', 'Sister Siam']\n"
       ]
      },
      {
       "output_type": "stream",
       "stream": "stdout",
       "text": [
        "457 ['The Whip', 'Sister Siam']\n"
       ]
      },
      {
       "output_type": "stream",
       "stream": "stdout",
       "text": [
        "458 ['The Whip', 'Frustration']\n"
       ]
      },
      {
       "output_type": "stream",
       "stream": "stdout",
       "text": [
        "459 ['The Whip', 'Trash']\n"
       ]
      },
      {
       "output_type": "stream",
       "stream": "stdout",
       "text": [
        "460 ['The Whip', 'Trash']\n"
       ]
      },
      {
       "output_type": "stream",
       "stream": "stdout",
       "text": [
        "461 ['The Whip', 'Trash']\n"
       ]
      },
      {
       "output_type": "stream",
       "stream": "stdout",
       "text": [
        "462 ['The Whip', 'Trash']\n"
       ]
      },
      {
       "output_type": "stream",
       "stream": "stdout",
       "text": [
        "463 ['The Whip', 'Trash']\n"
       ]
      },
      {
       "output_type": "stream",
       "stream": "stdout",
       "text": [
        "464 ['The Whip', 'Trash']\n"
       ]
      },
      {
       "output_type": "stream",
       "stream": "stdout",
       "text": [
        "465 ['The Whip', 'Trash']\n"
       ]
      },
      {
       "output_type": "stream",
       "stream": "stdout",
       "text": [
        "466 ['The Whip', 'Frustration']\n"
       ]
      },
      {
       "output_type": "stream",
       "stream": "stdout",
       "text": [
        "467 ['Wonderland Avenue', 'White Horse']\n"
       ]
      },
      {
       "output_type": "stream",
       "stream": "stdout",
       "text": [
        "468 ['Wonderland Avenue', 'White Horse']\n"
       ]
      },
      {
       "output_type": "stream",
       "stream": "stdout",
       "text": [
        "469 ['Ronan Keating', 'If Tomorrow Never Comes']\n"
       ]
      },
      {
       "output_type": "stream",
       "stream": "stdout",
       "text": [
        "470 ['Ronan Keating', 'Life Is A Rollercoaster']\n"
       ]
      },
      {
       "output_type": "stream",
       "stream": "stdout",
       "text": [
        "471 ['Ronan Keating', 'Life Is A Rollercoaster']\n"
       ]
      },
      {
       "output_type": "stream",
       "stream": "stdout",
       "text": [
        "472 ['Ronan Keating', 'If Tomorrow Never Comes']\n"
       ]
      },
      {
       "output_type": "stream",
       "stream": "stdout",
       "text": [
        "473 ['Ronan Keating', \"Lovin' Each Day\"]\n"
       ]
      },
      {
       "output_type": "stream",
       "stream": "stdout",
       "text": [
        "474 ['Ronan Keating', 'Life Is A Rollercoaster']\n"
       ]
      },
      {
       "output_type": "stream",
       "stream": "stdout",
       "text": [
        "475 ['Ronan Keating', \"Lovin' Each Day\"]\n"
       ]
      },
      {
       "output_type": "stream",
       "stream": "stdout",
       "text": [
        "476 ['JT The Bigga Figga_ San Quinn_ Ive Low_ and Messy Marv', 'Everywhere']\n"
       ]
      },
      {
       "output_type": "stream",
       "stream": "stdout",
       "text": [
        "477 ['Juvenile_ JT The Bigga FIgga', 'The Spot']\n"
       ]
      },
      {
       "output_type": "stream",
       "stream": "stdout",
       "text": [
        "478 ['Vera', 'Hooked Up With Da Drums']\n"
       ]
      },
      {
       "output_type": "stream",
       "stream": "stdout",
       "text": [
        "479 ['El-P', 'Up All Night']\n"
       ]
      },
      {
       "output_type": "stream",
       "stream": "stdout",
       "text": [
        "480 ['El-P', 'The Overly Dramatic Truth']\n"
       ]
      },
      {
       "output_type": "stream",
       "stream": "stdout",
       "text": [
        "481 ['El-P', 'The Overly Dramatic Truth (Main)']\n"
       ]
      },
      {
       "output_type": "stream",
       "stream": "stdout",
       "text": [
        "482 ['Paul Revere & The Raiders', 'Kicks']\n"
       ]
      },
      {
       "output_type": "stream",
       "stream": "stdout",
       "text": [
        "483 ['The Grass Roots', \"Let's Live For Today\"]\n"
       ]
      },
      {
       "output_type": "stream",
       "stream": "stdout",
       "text": [
        "484 ['The Grass Roots', \"Let's Live For Today\"]\n"
       ]
      },
      {
       "output_type": "stream",
       "stream": "stdout",
       "text": [
        "485 ['The Grass Roots', 'Midnight Confessions']\n"
       ]
      },
      {
       "output_type": "stream",
       "stream": "stdout",
       "text": [
        "486 ['The Grass Roots', 'Midnight Confessions']\n"
       ]
      },
      {
       "output_type": "stream",
       "stream": "stdout",
       "text": [
        "487 ['The Mission', 'Severina']\n"
       ]
      },
      {
       "output_type": "stream",
       "stream": "stdout",
       "text": [
        "488 ['The Mission', 'Severina']\n"
       ]
      },
      {
       "output_type": "stream",
       "stream": "stdout",
       "text": [
        "489 ['The Pointer Sisters', 'Jump (For My Love)']\n"
       ]
      },
      {
       "output_type": "stream",
       "stream": "stdout",
       "text": [
        "490 ['The Pointer Sisters', 'Jump (For My Love)']\n"
       ]
      },
      {
       "output_type": "stream",
       "stream": "stdout",
       "text": [
        "491 ['The Pointer Sisters', \"I'm So Excited\"]\n"
       ]
      },
      {
       "output_type": "stream",
       "stream": "stdout",
       "text": [
        "492 ['The Pointer Sisters', 'Jump (For My Love)']\n"
       ]
      },
      {
       "output_type": "stream",
       "stream": "stdout",
       "text": [
        "493 ['The Pointer Sisters', 'Jump (For My Love)']\n"
       ]
      },
      {
       "output_type": "stream",
       "stream": "stdout",
       "text": [
        "494 ['The Pointer Sisters', 'Fire']\n"
       ]
      },
      {
       "output_type": "stream",
       "stream": "stdout",
       "text": [
        "495 ['The Pointer Sisters', \"I'm So Excited\"]\n"
       ]
      },
      {
       "output_type": "stream",
       "stream": "stdout",
       "text": [
        "496 ['The Pointer Sisters', 'Slow Hand']\n"
       ]
      },
      {
       "output_type": "stream",
       "stream": "stdout",
       "text": [
        "497 ['The Pointer Sisters', 'Automatic']\n"
       ]
      },
      {
       "output_type": "stream",
       "stream": "stdout",
       "text": [
        "498 ['The Pointer Sisters', 'Automatic']\n"
       ]
      },
      {
       "output_type": "stream",
       "stream": "stdout",
       "text": [
        "499 ['The Pointer Sisters', 'Automatic']\n"
       ]
      },
      {
       "output_type": "stream",
       "stream": "stdout",
       "text": [
        "500 ['The Pointer Sisters', 'Jump (For My Love)']\n"
       ]
      },
      {
       "output_type": "stream",
       "stream": "stdout",
       "text": [
        "501 ['The Pointer Sisters', 'Jump (For My Love)']\n"
       ]
      },
      {
       "output_type": "stream",
       "stream": "stdout",
       "text": [
        "502 ['The Pointer Sisters', 'Automatic']\n"
       ]
      },
      {
       "output_type": "stream",
       "stream": "stdout",
       "text": [
        "503 ['Anthony Hamilton', \"Ain't Nobody Worryin'\"]\n"
       ]
      },
      {
       "output_type": "stream",
       "stream": "stdout",
       "text": [
        "504 ['Anthony Hamilton', 'Do You Feel Me']\n"
       ]
      },
      {
       "output_type": "stream",
       "stream": "stdout",
       "text": [
        "505 ['Anthony Hamilton', 'Lucille']\n"
       ]
      },
      {
       "output_type": "stream",
       "stream": "stdout",
       "text": [
        "506 ['Anthony Hamilton', 'Dear Life']\n"
       ]
      },
      {
       "output_type": "stream",
       "stream": "stdout",
       "text": [
        "507 ['Weekend Players', '21st Century']\n"
       ]
      },
      {
       "output_type": "stream",
       "stream": "stdout",
       "text": [
        "508 ['Art Of Noise', 'Close (To The Edit)']\n"
       ]
      },
      {
       "output_type": "stream",
       "stream": "stdout",
       "text": [
        "509 ['Art Of Noise', 'Love']\n"
       ]
      },
      {
       "output_type": "stream",
       "stream": "stdout",
       "text": [
        "510 ['Art Of Noise', 'Close (To The Edit)']\n"
       ]
      },
      {
       "output_type": "stream",
       "stream": "stdout",
       "text": [
        "511 ['Art Of Noise', 'Moments In Love']\n"
       ]
      },
      {
       "output_type": "stream",
       "stream": "stdout",
       "text": [
        "512 ['Art Of Noise', '(Three Fingers Of) Love']\n"
       ]
      },
      {
       "output_type": "stream",
       "stream": "stdout",
       "text": [
        "513 ['Art Of Noise', 'Dreaming In Colour']\n"
       ]
      },
      {
       "output_type": "stream",
       "stream": "stdout",
       "text": [
        "514 ['Art Of Noise', 'Moments In Love']\n"
       ]
      },
      {
       "output_type": "stream",
       "stream": "stdout",
       "text": [
        "515 ['Art Of Noise', 'Dreaming IN Colour']\n"
       ]
      },
      {
       "output_type": "stream",
       "stream": "stdout",
       "text": [
        "516 ['Azam Ali', 'I Am A Stranger In This World']\n"
       ]
      },
      {
       "output_type": "stream",
       "stream": "stdout",
       "text": [
        "517 ['Azam Ali', 'Endless Reverie']\n"
       ]
      },
      {
       "output_type": "stream",
       "stream": "stdout",
       "text": [
        "518 ['Azam Ali', 'Abode']\n"
       ]
      },
      {
       "output_type": "stream",
       "stream": "stdout",
       "text": [
        "519 ['Azam Ali', 'Spring Arrives']\n"
       ]
      },
      {
       "output_type": "stream",
       "stream": "stdout",
       "text": [
        "520 ['Azam Ali', 'In Other Worlds']\n"
       ]
      },
      {
       "output_type": "stream",
       "stream": "stdout",
       "text": [
        "521 ['Azam Ali', 'Forty One Ways']\n"
       ]
      },
      {
       "output_type": "stream",
       "stream": "stdout",
       "text": [
        "522 ['Mano Negra', 'Mala Vida']\n"
       ]
      },
      {
       "output_type": "stream",
       "stream": "stdout",
       "text": [
        "523 ['Mano Negra', 'King Kong Five']\n"
       ]
      },
      {
       "output_type": "stream",
       "stream": "stdout",
       "text": [
        "524 ['Mano Negra', 'Mala Vida']\n"
       ]
      },
      {
       "output_type": "stream",
       "stream": "stdout",
       "text": [
        "525 ['Mano Negra', 'Soledad']\n"
       ]
      },
      {
       "output_type": "stream",
       "stream": "stdout",
       "text": [
        "526 ['Mano Negra', 'Pas Assez De Toi']\n"
       ]
      },
      {
       "output_type": "stream",
       "stream": "stdout",
       "text": [
        "527 ['Mano Negra', 'King Kong Five']\n"
       ]
      },
      {
       "output_type": "stream",
       "stream": "stdout",
       "text": [
        "528 ['Claude Vonstroke', 'The Whistler']\n"
       ]
      },
      {
       "output_type": "stream",
       "stream": "stdout",
       "text": [
        "529 ['Claude Vonstroke', \"Who's Afraid of Detroit?\"]\n"
       ]
      },
      {
       "output_type": "stream",
       "stream": "stdout",
       "text": [
        "530 ['Claude Vonstroke', 'The Whistler']\n"
       ]
      },
      {
       "output_type": "stream",
       "stream": "stdout",
       "text": [
        "531 ['Claude Vonstroke', 'The Whistler']\n"
       ]
      },
      {
       "output_type": "stream",
       "stream": "stdout",
       "text": [
        "532 ['Claude Vonstroke', 'The Whistler']\n"
       ]
      },
      {
       "output_type": "stream",
       "stream": "stdout",
       "text": [
        "533 ['Claude Vonstroke', 'The Whistler']\n"
       ]
      },
      {
       "output_type": "stream",
       "stream": "stdout",
       "text": [
        "534 ['Claude Vonstroke', 'The Whistler']\n"
       ]
      },
      {
       "output_type": "stream",
       "stream": "stdout",
       "text": [
        "535 ['Claude Vonstroke', 'The Whistler']\n"
       ]
      },
      {
       "output_type": "stream",
       "stream": "stdout",
       "text": [
        "536 ['Bob James', 'Nautilus']\n"
       ]
      },
      {
       "output_type": "stream",
       "stream": "stdout",
       "text": [
        "537 ['Bob James', 'Nautilus']\n"
       ]
      },
      {
       "output_type": "stream",
       "stream": "stdout",
       "text": [
        "538 ['Tm Juke And The Jack Baker Trio Present?', 'The Train']\n"
       ]
      },
      {
       "output_type": "stream",
       "stream": "stdout",
       "text": [
        "539 ['PMMP', 'Matoja']\n"
       ]
      },
      {
       "output_type": "stream",
       "stream": "stdout",
       "text": [
        "540 ['PMMP', 'Joutsenet']\n"
       ]
      },
      {
       "output_type": "stream",
       "stream": "stdout",
       "text": [
        "541 ['Tommy Emmanuel', 'Angelina']\n"
       ]
      },
      {
       "output_type": "stream",
       "stream": "stdout",
       "text": [
        "542 ['Marek Hemmann', 'Rashomon']\n"
       ]
      },
      {
       "output_type": "stream",
       "stream": "stdout",
       "text": [
        "543 ['Marek Hemmann', 'Left (feat. Fabian Reichelt)']\n"
       ]
      },
      {
       "output_type": "stream",
       "stream": "stdout",
       "text": [
        "544 ['Three Dog Night', 'I Can Hear You Calling']\n"
       ]
      },
      {
       "output_type": "stream",
       "stream": "stdout",
       "text": [
        "545 ['Fine Young Cannibals', 'Good Thing']\n"
       ]
      },
      {
       "output_type": "stream",
       "stream": "stdout",
       "text": [
        "546 ['Turin Brakes', 'Building Wraps Round Me']\n"
       ]
      },
      {
       "output_type": "stream",
       "stream": "stdout",
       "text": [
        "547 ['Turin Brakes', 'Full Of Stars']\n"
       ]
      },
      {
       "output_type": "stream",
       "stream": "stdout",
       "text": [
        "548 ['Turin Brakes', 'Feeling Oblivion']\n"
       ]
      },
      {
       "output_type": "stream",
       "stream": "stdout",
       "text": [
        "549 ['Turin Brakes', 'Underdog (Save Me)']\n"
       ]
      },
      {
       "output_type": "stream",
       "stream": "stdout",
       "text": [
        "550 ['The Perishers', 'My Heart']\n"
       ]
      },
      {
       "output_type": "stream",
       "stream": "stdout",
       "text": [
        "551 ['The Perishers', 'Weekends']\n"
       ]
      },
      {
       "output_type": "stream",
       "stream": "stdout",
       "text": [
        "552 ['The Perishers', 'Sway']\n"
       ]
      },
      {
       "output_type": "stream",
       "stream": "stdout",
       "text": [
        "553 ['The Rubettes', 'Sugar Baby Love']\n"
       ]
      },
      {
       "output_type": "stream",
       "stream": "stdout",
       "text": [
        "554 ['The Rubettes', 'Sugar Baby Love']\n"
       ]
      },
      {
       "output_type": "stream",
       "stream": "stdout",
       "text": [
        "555 ['The Rubettes', 'Sugar Baby Love']\n"
       ]
      },
      {
       "output_type": "stream",
       "stream": "stdout",
       "text": [
        "556 ['The Rubettes', 'Sugar Baby Love']\n"
       ]
      },
      {
       "output_type": "stream",
       "stream": "stdout",
       "text": [
        "557 ['The Rubettes', 'Sugar Baby Love']\n"
       ]
      },
      {
       "output_type": "stream",
       "stream": "stdout",
       "text": [
        "558 ['The Rubettes', 'Sugar Baby Love']\n"
       ]
      },
      {
       "output_type": "stream",
       "stream": "stdout",
       "text": [
        "559 ['Mathew Jonson', 'Marionette']\n"
       ]
      },
      {
       "output_type": "stream",
       "stream": "stdout",
       "text": [
        "560 ['Mathew Jonson', 'Marionette']\n"
       ]
      },
      {
       "output_type": "stream",
       "stream": "stdout",
       "text": [
        "561 ['G. Love', \"Ain't That Right\"]\n"
       ]
      },
      {
       "output_type": "stream",
       "stream": "stdout",
       "text": [
        "562 ['G. Love', 'Missing My Baby']\n"
       ]
      },
      {
       "output_type": "stream",
       "stream": "stdout",
       "text": [
        "563 ['G. Love', \"Ain't That Right\"]\n"
       ]
      },
      {
       "output_type": "stream",
       "stream": "stdout",
       "text": [
        "564 ['Joe Strummer & The Mescaleros', 'Minstrel Boy']\n"
       ]
      },
      {
       "output_type": "stream",
       "stream": "stdout",
       "text": [
        "565 ['Joe Strummer & The Mescaleros', 'Mondo Bongo']\n"
       ]
      },
      {
       "output_type": "stream",
       "stream": "stdout",
       "text": [
        "566 ['Joe Strummer & The Mescaleros', 'Johnny Appleseed']\n"
       ]
      },
      {
       "output_type": "stream",
       "stream": "stdout",
       "text": [
        "567 ['The Del-Vikings', 'Come Go With Me']\n"
       ]
      },
      {
       "output_type": "stream",
       "stream": "stdout",
       "text": [
        "568 ['Del Vikings', 'Come Go With Me']\n"
       ]
      },
      {
       "output_type": "stream",
       "stream": "stdout",
       "text": [
        "569 ['The Del-Vikings', 'Come Go With Me']\n"
       ]
      },
      {
       "output_type": "stream",
       "stream": "stdout",
       "text": [
        "570 ['The Del Vikings', 'Come Go With Me']\n"
       ]
      },
      {
       "output_type": "stream",
       "stream": "stdout",
       "text": [
        "571 ['The Del-Vikings', 'Come Go With Me']\n"
       ]
      },
      {
       "output_type": "stream",
       "stream": "stdout",
       "text": [
        "572 ['The Del Vikings', 'Come Go With Me']\n"
       ]
      },
      {
       "output_type": "stream",
       "stream": "stdout",
       "text": [
        "573 ['The Del Vikings', 'Come Go With Me']\n"
       ]
      },
      {
       "output_type": "stream",
       "stream": "stdout",
       "text": [
        "574 ['The Del-Vikings', 'Come Go With Me']\n"
       ]
      },
      {
       "output_type": "stream",
       "stream": "stdout",
       "text": [
        "575 ['The Del-Vikings', 'Come Go With Me']\n"
       ]
      },
      {
       "output_type": "stream",
       "stream": "stdout",
       "text": [
        "576 ['Alcazar', 'Crying At The Discoteque']\n"
       ]
      },
      {
       "output_type": "stream",
       "stream": "stdout",
       "text": [
        "577 ['Alcazar', 'This Is The World We Live In']\n"
       ]
      },
      {
       "output_type": "stream",
       "stream": "stdout",
       "text": [
        "578 ['Alcazar', 'This Is The World We Live In']\n"
       ]
      },
      {
       "output_type": "stream",
       "stream": "stdout",
       "text": [
        "579 ['Alcazar', 'This Is The World We Live In']\n"
       ]
      },
      {
       "output_type": "stream",
       "stream": "stdout",
       "text": [
        "580 ['Alcazar', 'This Is The World We Live In']\n"
       ]
      },
      {
       "output_type": "stream",
       "stream": "stdout",
       "text": [
        "581 ['Alcazar', 'This Is The World We Live In']\n"
       ]
      },
      {
       "output_type": "stream",
       "stream": "stdout",
       "text": [
        "582 ['Alcazar', 'This Is The World We Live in']\n"
       ]
      },
      {
       "output_type": "stream",
       "stream": "stdout",
       "text": [
        "583 ['Alcazar', 'This Is The World We Live In']\n"
       ]
      },
      {
       "output_type": "stream",
       "stream": "stdout",
       "text": [
        "584 [\"D'Angelo\", 'When We Get By']\n"
       ]
      },
      {
       "output_type": "stream",
       "stream": "stdout",
       "text": [
        "585 [\"D'Angelo\", 'Lady']\n"
       ]
      },
      {
       "output_type": "stream",
       "stream": "stdout",
       "text": [
        "586 [\"D'Angelo\", 'Smooth']\n"
       ]
      },
      {
       "output_type": "stream",
       "stream": "stdout",
       "text": [
        "587 [\"D'Angelo\", \"Cruisin'\"]\n"
       ]
      },
      {
       "output_type": "stream",
       "stream": "stdout",
       "text": [
        "588 [\"D'Angelo / Femi Kuti / Macy Gray / Roy Hargrove / Nile Rodgers / The Soultronics / Positive Force\", 'Water No Get Enemy']\n"
       ]
      },
      {
       "output_type": "stream",
       "stream": "stdout",
       "text": [
        "589 [\"D'Angelo\", \"Me And Those Dreamin' Eyes Of Mine\"]\n"
       ]
      },
      {
       "output_type": "stream",
       "stream": "stdout",
       "text": [
        "590 [\"D'Angelo\", 'Send It On']\n"
       ]
      },
      {
       "output_type": "stream",
       "stream": "stdout",
       "text": [
        "591 [\"D'Angelo\", 'Africa']\n"
       ]
      },
      {
       "output_type": "stream",
       "stream": "stdout",
       "text": [
        "592 [\"D'Angelo\", 'Spanish Joint']\n"
       ]
      },
      {
       "output_type": "stream",
       "stream": "stdout",
       "text": [
        "593 [\"D'Angelo\", \"Feel Like Makin' Love\"]\n"
       ]
      },
      {
       "output_type": "stream",
       "stream": "stdout",
       "text": [
        "594 ['Members Of Mayday', '10 In 01']\n"
       ]
      },
      {
       "output_type": "stream",
       "stream": "stdout",
       "text": [
        "595 ['Members Of Mayday', '10 in 01']\n"
       ]
      },
      {
       "output_type": "stream",
       "stream": "stdout",
       "text": [
        "596 ['Members Of Mayday', '10 IN 01']\n"
       ]
      },
      {
       "output_type": "stream",
       "stream": "stdout",
       "text": [
        "597 ['Members Of Mayday', '10 In 01']\n"
       ]
      },
      {
       "output_type": "stream",
       "stream": "stdout",
       "text": [
        "598 ['Those Dancing Days', 'Those Dancing Days']\n"
       ]
      },
      {
       "output_type": "stream",
       "stream": "stdout",
       "text": [
        "599 ['Those Dancing Days', 'Those Dancing Days']\n"
       ]
      },
      {
       "output_type": "stream",
       "stream": "stdout",
       "text": [
        "600 ['Those Dancing Days', 'Those Dancing Days']\n"
       ]
      },
      {
       "output_type": "stream",
       "stream": "stdout",
       "text": [
        "601 ['Carcass', 'Keep On Rotting In The Free World']\n"
       ]
      },
      {
       "output_type": "stream",
       "stream": "stdout",
       "text": [
        "602 ['Carcass', 'Blind Bleeding The Blind']\n"
       ]
      },
      {
       "output_type": "stream",
       "stream": "stdout",
       "text": [
        "603 ['Carcass', 'Doctrinal Expletives']\n"
       ]
      },
      {
       "output_type": "stream",
       "stream": "stdout",
       "text": [
        "604 ['Carcass', 'Carnal Forge']\n"
       ]
      },
      {
       "output_type": "stream",
       "stream": "stdout",
       "text": [
        "605 ['Carcass', 'This Mortal Coil']\n"
       ]
      },
      {
       "output_type": "stream",
       "stream": "stdout",
       "text": [
        "606 ['Carcass', 'Corporal Jigsore Quandary']\n"
       ]
      },
      {
       "output_type": "stream",
       "stream": "stdout",
       "text": [
        "607 ['Carcass', 'Keep On Rotting In The Free World']\n"
       ]
      },
      {
       "output_type": "stream",
       "stream": "stdout",
       "text": [
        "608 ['Carcass', 'Room 101']\n"
       ]
      },
      {
       "output_type": "stream",
       "stream": "stdout",
       "text": [
        "609 ['Carcass', 'Go To Hell']\n"
       ]
      },
      {
       "output_type": "stream",
       "stream": "stdout",
       "text": [
        "610 ['Thunderclap Newman', 'Something In The Air']\n"
       ]
      },
      {
       "output_type": "stream",
       "stream": "stdout",
       "text": [
        "611 ['Thunderclap Newman Featuring Zoot Money', 'Something In The Air']\n"
       ]
      },
      {
       "output_type": "stream",
       "stream": "stdout",
       "text": [
        "612 ['Thunderclap Newman', 'Something In The Air']\n"
       ]
      },
      {
       "output_type": "stream",
       "stream": "stdout",
       "text": [
        "613 ['Thunderclap Newman', 'Something In The Air']\n"
       ]
      },
      {
       "output_type": "stream",
       "stream": "stdout",
       "text": [
        "614 ['Les Savy Fav', 'Patty Lee']\n"
       ]
      },
      {
       "output_type": "stream",
       "stream": "stdout",
       "text": [
        "615 ['Les Savy Fav', 'The Sweat Descends']\n"
       ]
      },
      {
       "output_type": "stream",
       "stream": "stdout",
       "text": [
        "616 ['Les Savy Fav', 'Patty Lee']\n"
       ]
      },
      {
       "output_type": "stream",
       "stream": "stdout",
       "text": [
        "617 ['Adult.', 'Nite Life']\n"
       ]
      },
      {
       "output_type": "stream",
       "stream": "stdout",
       "text": [
        "618 ['Chris Spheeris', 'Desires Of The Heart']\n"
       ]
      },
      {
       "output_type": "stream",
       "stream": "stdout",
       "text": [
        "619 ['Morrissey', 'Everyday Is Like Sunday']\n"
       ]
      },
      {
       "output_type": "stream",
       "stream": "stdout",
       "text": [
        "620 ['Morrissey', 'Everyday Is Like Sunday']\n"
       ]
      },
      {
       "output_type": "stream",
       "stream": "stdout",
       "text": [
        "621 ['Morrissey', 'Life Is A Pigsty']\n"
       ]
      },
      {
       "output_type": "stream",
       "stream": "stdout",
       "text": [
        "622 ['Morrissey', 'I Like You']\n"
       ]
      },
      {
       "output_type": "stream",
       "stream": "stdout",
       "text": [
        "623 ['Morrissey', 'Let Me Kiss You']\n"
       ]
      },
      {
       "output_type": "stream",
       "stream": "stdout",
       "text": [
        "624 ['Morrissey', 'Let Me Kiss You']\n"
       ]
      },
      {
       "output_type": "stream",
       "stream": "stdout",
       "text": [
        "625 ['Morrissey', 'Life Is A Pigsty']\n"
       ]
      },
      {
       "output_type": "stream",
       "stream": "stdout",
       "text": [
        "626 ['Morrissey', 'Jack The Ripper']\n"
       ]
      },
      {
       "output_type": "stream",
       "stream": "stdout",
       "text": [
        "627 ['Morrissey', 'Piccadilly Palare']\n"
       ]
      },
      {
       "output_type": "stream",
       "stream": "stdout",
       "text": [
        "628 ['Morrissey', 'Tomorrow']\n"
       ]
      },
      {
       "output_type": "stream",
       "stream": "stdout",
       "text": [
        "629 ['Morrissey', 'Hold On To Your Friends']\n"
       ]
      },
      {
       "output_type": "stream",
       "stream": "stdout",
       "text": [
        "630 ['Morrissey', \"Why Don't You Find Out For Yourself\"]\n"
       ]
      },
      {
       "output_type": "stream",
       "stream": "stdout",
       "text": [
        "631 ['Morrissey', 'Angel Angel Down We Go Together']\n"
       ]
      },
      {
       "output_type": "stream",
       "stream": "stdout",
       "text": [
        "632 ['Morrissey', \"That's How People Grow Up\"]\n"
       ]
      },
      {
       "output_type": "stream",
       "stream": "stdout",
       "text": [
        "633 ['Morrissey', \"That's How People Grow Up\"]\n"
       ]
      },
      {
       "output_type": "stream",
       "stream": "stdout",
       "text": [
        "634 ['Morrissey', 'America Is Not The World']\n"
       ]
      },
      {
       "output_type": "stream",
       "stream": "stdout",
       "text": [
        "635 ['Morrissey', 'Come Back To Camden']\n"
       ]
      },
      {
       "output_type": "stream",
       "stream": "stdout",
       "text": [
        "636 ['Revis', 'Caught In The Rain']\n"
       ]
      },
      {
       "output_type": "stream",
       "stream": "stdout",
       "text": [
        "637 ['Boy Kill Boy', 'Back Again']\n"
       ]
      },
      {
       "output_type": "stream",
       "stream": "stdout",
       "text": [
        "638 ['Boy Kill Boy', 'Civil Sin']\n"
       ]
      },
      {
       "output_type": "stream",
       "stream": "stdout",
       "text": [
        "639 ['Boy Kill Boy', 'Civil Sin']\n"
       ]
      },
      {
       "output_type": "stream",
       "stream": "stdout",
       "text": [
        "640 ['Boy Kill Boy', 'Civil Sin']\n"
       ]
      },
      {
       "output_type": "stream",
       "stream": "stdout",
       "text": [
        "641 ['Boy Kill Boy', 'Back Again']\n"
       ]
      },
      {
       "output_type": "stream",
       "stream": "stdout",
       "text": [
        "642 ['Boy Kill Boy', 'Civil Sin']\n"
       ]
      },
      {
       "output_type": "stream",
       "stream": "stdout",
       "text": [
        "643 ['Boy Kill Boy', 'Suzie']\n"
       ]
      },
      {
       "output_type": "stream",
       "stream": "stdout",
       "text": [
        "644 ['Boy Kill Boy', 'Suzie']\n"
       ]
      },
      {
       "output_type": "stream",
       "stream": "stdout",
       "text": [
        "645 ['Boy Kill Boy', 'Suzie']\n"
       ]
      },
      {
       "output_type": "stream",
       "stream": "stdout",
       "text": [
        "646 ['Rosie Thomas', 'Kite Song']\n"
       ]
      },
      {
       "output_type": "stream",
       "stream": "stdout",
       "text": [
        "647 ['Rosie Thomas', 'Songbird']\n"
       ]
      },
      {
       "output_type": "stream",
       "stream": "stdout",
       "text": [
        "648 ['Rosie Thomas', 'Paper Doll']\n"
       ]
      },
      {
       "output_type": "stream",
       "stream": "stdout",
       "text": [
        "649 ['Rosie Thomas', 'All the Way to New York City']\n"
       ]
      },
      {
       "output_type": "stream",
       "stream": "stdout",
       "text": [
        "650 ['Rosie Thomas', 'Much Farther To Go']\n"
       ]
      },
      {
       "output_type": "stream",
       "stream": "stdout",
       "text": [
        "651 ['Rosie Thomas', 'Much Farther To Go']\n"
       ]
      },
      {
       "output_type": "stream",
       "stream": "stdout",
       "text": [
        "652 ['Rosie Thomas', 'Kite Song']\n"
       ]
      },
      {
       "output_type": "stream",
       "stream": "stdout",
       "text": [
        "653 ['Rosie Thomas', 'All The Way To New York City']\n"
       ]
      },
      {
       "output_type": "stream",
       "stream": "stdout",
       "text": [
        "654 ['Rosie Thomas', 'Kite Song']\n"
       ]
      },
      {
       "output_type": "stream",
       "stream": "stdout",
       "text": [
        "655 ['Rosie Thomas', 'Songbird']\n"
       ]
      },
      {
       "output_type": "stream",
       "stream": "stdout",
       "text": [
        "656 ['Morton Feldman', 'Rothko Chapel 5']\n"
       ]
      },
      {
       "output_type": "stream",
       "stream": "stdout",
       "text": [
        "657 ['Guru Josh Project', 'Infinity 2008']\n"
       ]
      },
      {
       "output_type": "stream",
       "stream": "stdout",
       "text": [
        "658 ['Guru Josh Project', 'Infinity 2008']\n"
       ]
      },
      {
       "output_type": "stream",
       "stream": "stdout",
       "text": [
        "659 ['Guru Josh Project', 'Infinity 2008']\n"
       ]
      },
      {
       "output_type": "stream",
       "stream": "stdout",
       "text": [
        "660 ['Guru Josh Project', 'Infinity 2008']\n"
       ]
      },
      {
       "output_type": "stream",
       "stream": "stdout",
       "text": [
        "661 ['Guru Josh Project', 'Infinity 2008']\n"
       ]
      },
      {
       "output_type": "stream",
       "stream": "stdout",
       "text": [
        "662 ['The Muses Rapt', 'Spiritual Healing']\n"
       ]
      },
      {
       "output_type": "stream",
       "stream": "stdout",
       "text": [
        "663 ['The Muses Rapt', 'Spiritual Healing']\n"
       ]
      },
      {
       "output_type": "stream",
       "stream": "stdout",
       "text": [
        "664 ['Great Lake Swimmers', 'Bodies and Minds']\n"
       ]
      },
      {
       "output_type": "stream",
       "stream": "stdout",
       "text": [
        "665 ['Great Lake Swimmers', 'Various Stages']\n"
       ]
      },
      {
       "output_type": "stream",
       "stream": "stdout",
       "text": [
        "666 ['Great Lake Swimmers', 'I Could Be Nothing']\n"
       ]
      },
      {
       "output_type": "stream",
       "stream": "stdout",
       "text": [
        "667 ['Great Lake Swimmers', 'Moving Pictures Silent Films']\n"
       ]
      },
      {
       "output_type": "stream",
       "stream": "stdout",
       "text": [
        "668 ['Great Lake Swimmers', 'Merge_ A Vessel_ A Harbour']\n"
       ]
      },
      {
       "output_type": "stream",
       "stream": "stdout",
       "text": [
        "669 ['Great Lake Swimmers', 'Put There By The Land']\n"
       ]
      },
      {
       "output_type": "stream",
       "stream": "stdout",
       "text": [
        "670 ['Great Lake Swimmers', 'Changing Colours']\n"
       ]
      },
      {
       "output_type": "stream",
       "stream": "stdout",
       "text": [
        "671 ['Great Lake Swimmers', 'Your Rocky Spine']\n"
       ]
      },
      {
       "output_type": "stream",
       "stream": "stdout",
       "text": [
        "672 ['Stabbing Westward', 'Save Yourself']\n"
       ]
      },
      {
       "output_type": "stream",
       "stream": "stdout",
       "text": [
        "673 ['Stabbing Westward', 'Drugstore']\n"
       ]
      },
      {
       "output_type": "stream",
       "stream": "stdout",
       "text": [
        "674 ['Stabbing Westward', 'Save Yourself']\n"
       ]
      },
      {
       "output_type": "stream",
       "stream": "stdout",
       "text": [
        "675 ['Stabbing Westward', 'You Complete Me']\n"
       ]
      },
      {
       "output_type": "stream",
       "stream": "stdout",
       "text": [
        "676 ['Stabbing Westward', 'The Thing I Hate']\n"
       ]
      },
      {
       "output_type": "stream",
       "stream": "stdout",
       "text": [
        "677 ['Ion Dissonance', 'Scorn Haven']\n"
       ]
      },
      {
       "output_type": "stream",
       "stream": "stdout",
       "text": [
        "678 ['Marianne Faithfull', 'The Ballad Of Lucy Jordan']\n"
       ]
      },
      {
       "output_type": "stream",
       "stream": "stdout",
       "text": [
        "679 ['Marianne Faithfull', 'The Ballad Of Lucy Jordan']\n"
       ]
      },
      {
       "output_type": "stream",
       "stream": "stdout",
       "text": [
        "680 ['Rockwell', \"Somebody's Watching Me\"]\n"
       ]
      },
      {
       "output_type": "stream",
       "stream": "stdout",
       "text": [
        "681 ['Rockwell', \"Somebody's Watching Me\"]\n"
       ]
      },
      {
       "output_type": "stream",
       "stream": "stdout",
       "text": [
        "682 ['Rockwell', \"Somebody's Watching Me\"]\n"
       ]
      },
      {
       "output_type": "stream",
       "stream": "stdout",
       "text": [
        "683 ['Goldie', 'Believe']\n"
       ]
      },
      {
       "output_type": "stream",
       "stream": "stdout",
       "text": [
        "684 ['Roger Hodgson', 'Lovers In The Wind']\n"
       ]
      },
      {
       "output_type": "stream",
       "stream": "stdout",
       "text": [
        "685 ['Mr Mister', 'Kyrie']\n"
       ]
      },
      {
       "output_type": "stream",
       "stream": "stdout",
       "text": [
        "686 ['Mr. Mister', 'Kyrie']\n"
       ]
      },
      {
       "output_type": "stream",
       "stream": "stdout",
       "text": [
        "687 ['Veto', 'Cannibal']\n"
       ]
      },
      {
       "output_type": "stream",
       "stream": "stdout",
       "text": [
        "688 ['Veto', 'Cannibal']\n"
       ]
      },
      {
       "output_type": "stream",
       "stream": "stdout",
       "text": [
        "689 ['Taco', \"Puttin' On The Ritz\"]\n"
       ]
      },
      {
       "output_type": "stream",
       "stream": "stdout",
       "text": [
        "690 ['Dessert Sessions', 'Crawl Home']\n"
       ]
      },
      {
       "output_type": "stream",
       "stream": "stdout",
       "text": [
        "691 ['Dessert Sessions', 'Crawl Home']\n"
       ]
      },
      {
       "output_type": "stream",
       "stream": "stdout",
       "text": [
        "692 ['Dessert Sessions', 'I Wanna Make It Wit Chu']\n"
       ]
      },
      {
       "output_type": "stream",
       "stream": "stdout",
       "text": [
        "693 ['Dessert Sessions', 'Subcutaneous Phat']\n"
       ]
      },
      {
       "output_type": "stream",
       "stream": "stdout",
       "text": [
        "694 ['Emmylou Harris', 'A Love That Will Never Grow Old']\n"
       ]
      },
      {
       "output_type": "stream",
       "stream": "stdout",
       "text": [
        "695 ['Guy Gerber', 'Stoppage Time']\n"
       ]
      },
      {
       "output_type": "stream",
       "stream": "stdout",
       "text": [
        "696 ['Guy Gerber', 'Stoppage Time']\n"
       ]
      },
      {
       "output_type": "stream",
       "stream": "stdout",
       "text": [
        "697 ['Guy Gerber', 'Stoppage Time']\n"
       ]
      },
      {
       "output_type": "stream",
       "stream": "stdout",
       "text": [
        "698 ['Guy Gerber', 'Stoppage Time']\n"
       ]
      },
      {
       "output_type": "stream",
       "stream": "stdout",
       "text": [
        "699 ['Guy Gerber', 'Stoppage Time']\n"
       ]
      },
      {
       "output_type": "stream",
       "stream": "stdout",
       "text": [
        "700 ['Guy Gerber', 'Stoppage Time']\n"
       ]
      },
      {
       "output_type": "stream",
       "stream": "stdout",
       "text": [
        "701 ['Pet Shop Boys', 'West End Girls']\n"
       ]
      },
      {
       "output_type": "stream",
       "stream": "stdout",
       "text": [
        "702 ['Pet Shop Boys', 'Love Comes Quickly']\n"
       ]
      },
      {
       "output_type": "stream",
       "stream": "stdout",
       "text": [
        "703 ['Pet Shop Boys', 'Being Boring']\n"
       ]
      },
      {
       "output_type": "stream",
       "stream": "stdout",
       "text": [
        "704 ['Pet Shop Boys', 'Suburbia']\n"
       ]
      },
      {
       "output_type": "stream",
       "stream": "stdout",
       "text": [
        "705 ['Pet Shop Boys', 'Always On My Mind']\n"
       ]
      },
      {
       "output_type": "stream",
       "stream": "stdout",
       "text": [
        "706 ['Pet Shop Boys', \"You Only Tell Me You Love Me When You're Drunk\"]\n"
       ]
      },
      {
       "output_type": "stream",
       "stream": "stdout",
       "text": [
        "707 ['Pet Shop Boys', 'New York City Boy']\n"
       ]
      },
      {
       "output_type": "stream",
       "stream": "stdout",
       "text": [
        "708 ['Pet Shop Boys', 'Flamboyant']\n"
       ]
      },
      {
       "output_type": "stream",
       "stream": "stdout",
       "text": [
        "709 ['Johnny Gill', 'My_ My_ My']\n"
       ]
      },
      {
       "output_type": "stream",
       "stream": "stdout",
       "text": [
        "710 ['Johnny Gill', 'Rub You The Right Way']\n"
       ]
      },
      {
       "output_type": "stream",
       "stream": "stdout",
       "text": [
        "711 ['Johnny Gill', 'My_ My_ My']\n"
       ]
      },
      {
       "output_type": "stream",
       "stream": "stdout",
       "text": [
        "712 ['Johnny Gill', 'My_ My_ My']\n"
       ]
      },
      {
       "output_type": "stream",
       "stream": "stdout",
       "text": [
        "713 ['Johnny Gill', 'Rub You The Right Way']\n"
       ]
      },
      {
       "output_type": "stream",
       "stream": "stdout",
       "text": [
        "714 ['Johnny Gill', 'Rub You The Right Way']\n"
       ]
      },
      {
       "output_type": "stream",
       "stream": "stdout",
       "text": [
        "715 ['Johnny Gill', 'My_ My_ My']\n"
       ]
      },
      {
       "output_type": "stream",
       "stream": "stdout",
       "text": [
        "716 ['F.R. David', 'Words']\n"
       ]
      },
      {
       "output_type": "stream",
       "stream": "stdout",
       "text": [
        "717 ['F.R. David', 'Words']\n"
       ]
      },
      {
       "output_type": "stream",
       "stream": "stdout",
       "text": [
        "718 ['F-R David', 'Words']\n"
       ]
      },
      {
       "output_type": "stream",
       "stream": "stdout",
       "text": [
        "719 ['Taj Mahal', 'Queen Bee']\n"
       ]
      },
      {
       "output_type": "stream",
       "stream": "stdout",
       "text": [
        "720 ['Shalamar', 'Over And Over']\n"
       ]
      },
      {
       "output_type": "stream",
       "stream": "stdout",
       "text": [
        "721 ['Shalamar', 'I Can Make You Feel Good']\n"
       ]
      },
      {
       "output_type": "stream",
       "stream": "stdout",
       "text": [
        "722 ['Shalamar', 'A Night To Remember']\n"
       ]
      },
      {
       "output_type": "stream",
       "stream": "stdout",
       "text": [
        "723 ['Shalamar', 'I Can Make You Feel Good']\n"
       ]
      },
      {
       "output_type": "stream",
       "stream": "stdout",
       "text": [
        "724 ['Shalamar', 'A Night To Remember']\n"
       ]
      },
      {
       "output_type": "stream",
       "stream": "stdout",
       "text": [
        "725 ['Shalamar', 'A Night To Remember']\n"
       ]
      },
      {
       "output_type": "stream",
       "stream": "stdout",
       "text": [
        "726 ['Shalamar', 'Make That Move']\n"
       ]
      },
      {
       "output_type": "stream",
       "stream": "stdout",
       "text": [
        "727 ['Shalamar', 'Over And Over']\n"
       ]
      },
      {
       "output_type": "stream",
       "stream": "stdout",
       "text": [
        "728 ['Shalamar', 'The Second Time Around']\n"
       ]
      },
      {
       "output_type": "stream",
       "stream": "stdout",
       "text": [
        "729 ['Shalamar', 'The Second Time Around']\n"
       ]
      },
      {
       "output_type": "stream",
       "stream": "stdout",
       "text": [
        "730 ['Shalamar', 'I Can Make You Feel Good']\n"
       ]
      },
      {
       "output_type": "stream",
       "stream": "stdout",
       "text": [
        "731 ['Shalamar', 'Make That Move']\n"
       ]
      },
      {
       "output_type": "stream",
       "stream": "stdout",
       "text": [
        "732 ['Shalamar', 'This Is For The Lover In You']\n"
       ]
      },
      {
       "output_type": "stream",
       "stream": "stdout",
       "text": [
        "733 ['Shalamar', 'The Second Time Around']\n"
       ]
      },
      {
       "output_type": "stream",
       "stream": "stdout",
       "text": [
        "734 ['Shalamar', 'Make That Move']\n"
       ]
      },
      {
       "output_type": "stream",
       "stream": "stdout",
       "text": [
        "735 ['Spencer Davis Group', \"I'm a Man\"]\n"
       ]
      },
      {
       "output_type": "stream",
       "stream": "stdout",
       "text": [
        "736 ['Dead Or Alive', 'Brand New Lover']\n"
       ]
      },
      {
       "output_type": "stream",
       "stream": "stdout",
       "text": [
        "737 ['Dead Or Alive', 'Brand New Lover']\n"
       ]
      },
      {
       "output_type": "stream",
       "stream": "stdout",
       "text": [
        "738 ['The Little Willies', 'Love Me']\n"
       ]
      },
      {
       "output_type": "stream",
       "stream": "stdout",
       "text": [
        "739 ['The Little Willies', 'Love Me']\n"
       ]
      },
      {
       "output_type": "stream",
       "stream": "stdout",
       "text": [
        "740 ['The Little Willies', 'Roll On']\n"
       ]
      },
      {
       "output_type": "stream",
       "stream": "stdout",
       "text": [
        "741 ['P Money ft. Little Dee & Craig', 'Crazy']\n"
       ]
      },
      {
       "output_type": "stream",
       "stream": "stdout",
       "text": [
        "742 ['Coolio feat. L.V.', \"Gangsta's Paradise (LP Version)\"]\n"
       ]
      },
      {
       "output_type": "stream",
       "stream": "stdout",
       "text": [
        "743 ['Alabama 3', 'Peace In The Valley']\n"
       ]
      },
      {
       "output_type": "stream",
       "stream": "stdout",
       "text": [
        "744 ['Alabama 3', 'Woke Up This Morning']\n"
       ]
      },
      {
       "output_type": "stream",
       "stream": "stdout",
       "text": [
        "745 ['A3', 'Mansion On The Hill']\n"
       ]
      },
      {
       "output_type": "stream",
       "stream": "stdout",
       "text": [
        "746 ['Alabama 3', 'Speed Of The Sound Of Loneliness']\n"
       ]
      },
      {
       "output_type": "stream",
       "stream": "stdout",
       "text": [
        "747 ['Alabama 3', 'Mansion On The Hill']\n"
       ]
      },
      {
       "output_type": "stream",
       "stream": "stdout",
       "text": [
        "748 ['Alabama 3', 'Woke Up This Morning']\n"
       ]
      },
      {
       "output_type": "stream",
       "stream": "stdout",
       "text": [
        "749 ['Jaga Jazzist', 'Going Down']\n"
       ]
      },
      {
       "output_type": "stream",
       "stream": "stdout",
       "text": [
        "750 ['Jaga Jazzist', 'Made For Radio']\n"
       ]
      },
      {
       "output_type": "stream",
       "stream": "stdout",
       "text": [
        "751 ['Jaga Jazzist', 'Airborne']\n"
       ]
      },
      {
       "output_type": "stream",
       "stream": "stdout",
       "text": [
        "752 ['Jaga Jazzist', 'Day']\n"
       ]
      },
      {
       "output_type": "stream",
       "stream": "stdout",
       "text": [
        "753 ['Jaga Jazzist', 'Day']\n"
       ]
      },
      {
       "output_type": "stream",
       "stream": "stdout",
       "text": [
        "754 ['Jaga Jazzist', 'Kitty Wu']\n"
       ]
      },
      {
       "output_type": "stream",
       "stream": "stdout",
       "text": [
        "755 ['Jaga Jazzist', 'Another Day']\n"
       ]
      },
      {
       "output_type": "stream",
       "stream": "stdout",
       "text": [
        "756 ['Jaga Jazzist', 'Suomi Finland']\n"
       ]
      },
      {
       "output_type": "stream",
       "stream": "stdout",
       "text": [
        "757 ['Jaga Jazzist', 'All I Know Is Tonight']\n"
       ]
      },
      {
       "output_type": "stream",
       "stream": "stdout",
       "text": [
        "758 ['Jaga Jazzist', 'Mikado']\n"
       ]
      },
      {
       "output_type": "stream",
       "stream": "stdout",
       "text": [
        "759 ['Jaga Jazzist', 'Swedenborgske Rom']\n"
       ]
      },
      {
       "output_type": "stream",
       "stream": "stdout",
       "text": [
        "760 ['Jaga Jazzist', 'For All You Happy People']\n"
       ]
      },
      {
       "output_type": "stream",
       "stream": "stdout",
       "text": [
        "761 ['Jaga Jazzist', 'Oslo Skyline']\n"
       ]
      },
      {
       "output_type": "stream",
       "stream": "stdout",
       "text": [
        "762 ['Jaga Jazzist', 'Mikado']\n"
       ]
      },
      {
       "output_type": "stream",
       "stream": "stdout",
       "text": [
        "763 ['Jaga Jazzist', 'Swedenborgske Rom']\n"
       ]
      },
      {
       "output_type": "stream",
       "stream": "stdout",
       "text": [
        "764 ['Jaga Jazzist', 'Stardust Hotel']\n"
       ]
      },
      {
       "output_type": "stream",
       "stream": "stdout",
       "text": [
        "765 ['Jaga Jazzist', 'Swedenborgske Rom']\n"
       ]
      },
      {
       "output_type": "stream",
       "stream": "stdout",
       "text": [
        "766 ['Jaga Jazzist', 'Swedenborgske Rom']\n"
       ]
      },
      {
       "output_type": "stream",
       "stream": "stdout",
       "text": [
        "767 ['Charles Schillings feat. Juanita Grande', 'Tell Me']\n"
       ]
      },
      {
       "output_type": "stream",
       "stream": "stdout",
       "text": [
        "768 [\"Go-Go's\", 'We Got The Beat']\n"
       ]
      },
      {
       "output_type": "stream",
       "stream": "stdout",
       "text": [
        "769 ['Daisy Chainsaw', 'Love Your Money']\n"
       ]
      },
      {
       "output_type": "stream",
       "stream": "stdout",
       "text": [
        "770 ['Nelly Furtado', \"In God's Hands\"]\n"
       ]
      },
      {
       "output_type": "stream",
       "stream": "stdout",
       "text": [
        "771 ['Nelly Furtado', 'Forca']\n"
       ]
      },
      {
       "output_type": "stream",
       "stream": "stdout",
       "text": [
        "772 ['Nelly Furtado', 'Fresh Off The Boat']\n"
       ]
      },
      {
       "output_type": "stream",
       "stream": "stdout",
       "text": [
        "773 ['Nelly Furtado', 'Picture Perfect']\n"
       ]
      },
      {
       "output_type": "stream",
       "stream": "stdout",
       "text": [
        "774 ['Nelly Furtado', 'Wait For You']\n"
       ]
      },
      {
       "output_type": "stream",
       "stream": "stdout",
       "text": [
        "775 ['Blockhead', 'Expiration Date']\n"
       ]
      },
      {
       "output_type": "stream",
       "stream": "stdout",
       "text": [
        "776 ['Blockhead', 'Insomniac Olympics']\n"
       ]
      },
      {
       "output_type": "stream",
       "stream": "stdout",
       "text": [
        "777 ['Blockhead', 'Jet Son']\n"
       ]
      },
      {
       "output_type": "stream",
       "stream": "stdout",
       "text": [
        "778 ['Blockhead', 'A Better Place']\n"
       ]
      },
      {
       "output_type": "stream",
       "stream": "stdout",
       "text": [
        "779 ['Blockhead', 'Carnivores Unite']\n"
       ]
      },
      {
       "output_type": "stream",
       "stream": "stdout",
       "text": [
        "780 ['Blockhead', 'Road Rage Breakdown']\n"
       ]
      },
      {
       "output_type": "stream",
       "stream": "stdout",
       "text": [
        "781 ['Blockhead', 'Sunday Seance']\n"
       ]
      },
      {
       "output_type": "stream",
       "stream": "stdout",
       "text": [
        "782 ['Closer Musik', 'Maria']\n"
       ]
      },
      {
       "output_type": "stream",
       "stream": "stdout",
       "text": [
        "783 ['Local Natives', 'Wide Eyes']\n"
       ]
      },
      {
       "output_type": "stream",
       "stream": "stdout",
       "text": [
        "784 ['Local Natives', 'Airplanes']\n"
       ]
      },
      {
       "output_type": "stream",
       "stream": "stdout",
       "text": [
        "785 ['Skinny Puppy', 'Smothered Hope']\n"
       ]
      },
      {
       "output_type": "stream",
       "stream": "stdout",
       "text": [
        "786 ['Skinny Puppy', 'Testure']\n"
       ]
      },
      {
       "output_type": "stream",
       "stream": "stdout",
       "text": [
        "787 ['Skinny Puppy', 'Dig it']\n"
       ]
      },
      {
       "output_type": "stream",
       "stream": "stdout",
       "text": [
        "788 ['Skinny Puppy', 'Love in vein']\n"
       ]
      },
      {
       "output_type": "stream",
       "stream": "stdout",
       "text": [
        "789 ['Skinny Puppy', 'Testure']\n"
       ]
      },
      {
       "output_type": "stream",
       "stream": "stdout",
       "text": [
        "790 ['Skinny Puppy', 'ugLi']\n"
       ]
      },
      {
       "output_type": "stream",
       "stream": "stdout",
       "text": [
        "791 ['Skinny Puppy', 'Pro-test']\n"
       ]
      },
      {
       "output_type": "stream",
       "stream": "stdout",
       "text": [
        "792 ['Skinny Puppy', 'Jahya']\n"
       ]
      },
      {
       "output_type": "stream",
       "stream": "stdout",
       "text": [
        "793 ['Skinny Puppy', 'Candle']\n"
       ]
      },
      {
       "output_type": "stream",
       "stream": "stdout",
       "text": [
        "794 ['Okkervil River', 'Song Of Our So-Called Friend']\n"
       ]
      },
      {
       "output_type": "stream",
       "stream": "stdout",
       "text": [
        "795 ['Okkervil River', 'So Come Back_ I Am Waiting']\n"
       ]
      },
      {
       "output_type": "stream",
       "stream": "stdout",
       "text": [
        "796 ['Okkervil River', 'Black Sheep Boy']\n"
       ]
      },
      {
       "output_type": "stream",
       "stream": "stdout",
       "text": [
        "797 ['Okkervil River', 'In A Radio Song']\n"
       ]
      },
      {
       "output_type": "stream",
       "stream": "stdout",
       "text": [
        "798 ['Okkervil River', 'A Stone']\n"
       ]
      },
      {
       "output_type": "stream",
       "stream": "stdout",
       "text": [
        "799 ['Okkervil River', 'A King And A Queen']\n"
       ]
      },
      {
       "output_type": "stream",
       "stream": "stdout",
       "text": [
        "800 ['Okkervil River', 'Kansas City']\n"
       ]
      },
      {
       "output_type": "stream",
       "stream": "stdout",
       "text": [
        "801 ['Okkervil River', 'Red']\n"
       ]
      },
      {
       "output_type": "stream",
       "stream": "stdout",
       "text": [
        "802 ['Okkervil River', 'Lost Coastlines']\n"
       ]
      },
      {
       "output_type": "stream",
       "stream": "stdout",
       "text": [
        "803 ['Okkervil River', 'Our Life Is Not A Movie Or Maybe']\n"
       ]
      },
      {
       "output_type": "stream",
       "stream": "stdout",
       "text": [
        "804 ['Okkervil River', 'A Hand To Take Hold Of The Scene']\n"
       ]
      },
      {
       "output_type": "stream",
       "stream": "stdout",
       "text": [
        "^C\n"
       ]
      },
      {
       "output_type": "stream",
       "stream": "stdout",
       "text": [
        "805"
       ]
      },
      {
       "ename": "IndexError",
       "evalue": "list index out of range",
       "output_type": "pyerr",
       "traceback": [
        "\u001b[1;31m---------------------------------------------------------------------------\u001b[0m\n\u001b[1;31mIndexError\u001b[0m                                Traceback (most recent call last)",
        "\u001b[1;32m<ipython-input-155-8da13ddc8d8d>\u001b[0m in \u001b[0;36m<module>\u001b[1;34m()\u001b[0m\n\u001b[0;32m      1\u001b[0m \u001b[1;32mfor\u001b[0m \u001b[1;33m(\u001b[0m\u001b[0mi\u001b[0m\u001b[1;33m,\u001b[0m \u001b[0mtid\u001b[0m\u001b[1;33m)\u001b[0m \u001b[1;32min\u001b[0m \u001b[0menumerate\u001b[0m\u001b[1;33m(\u001b[0m\u001b[0mtest_tracks_selected\u001b[0m\u001b[1;33m)\u001b[0m\u001b[1;33m:\u001b[0m\u001b[1;33m\u001b[0m\u001b[0m\n\u001b[0;32m      2\u001b[0m     \u001b[0mout\u001b[0m \u001b[1;33m=\u001b[0m \u001b[0mget_ipython\u001b[0m\u001b[1;33m(\u001b[0m\u001b[1;33m)\u001b[0m\u001b[1;33m.\u001b[0m\u001b[0mgetoutput\u001b[0m\u001b[1;33m(\u001b[0m\u001b[1;34mu'grep \"$tid\" \"$MSD_ADD\"/unique_tracks.txt'\u001b[0m\u001b[1;33m)\u001b[0m\u001b[1;33m\u001b[0m\u001b[0m\n\u001b[1;32m----> 3\u001b[1;33m     \u001b[1;32mprint\u001b[0m \u001b[0mi\u001b[0m\u001b[1;33m,\u001b[0m \u001b[0mout\u001b[0m\u001b[1;33m[\u001b[0m\u001b[1;36m0\u001b[0m\u001b[1;33m]\u001b[0m\u001b[1;33m.\u001b[0m\u001b[0mstrip\u001b[0m\u001b[1;33m(\u001b[0m\u001b[1;33m)\u001b[0m\u001b[1;33m.\u001b[0m\u001b[0msplit\u001b[0m\u001b[1;33m(\u001b[0m\u001b[1;34m'<SEP>'\u001b[0m\u001b[1;33m)\u001b[0m\u001b[1;33m[\u001b[0m\u001b[1;36m2\u001b[0m\u001b[1;33m:\u001b[0m\u001b[1;36m4\u001b[0m\u001b[1;33m]\u001b[0m\u001b[1;33m\u001b[0m\u001b[0m\n\u001b[0m",
        "\u001b[1;31mIndexError\u001b[0m: list index out of range"
       ]
      }
     ],
     "prompt_number": 155
    },
    {
     "cell_type": "code",
     "collapsed": false,
     "input": [
      "for i in np.argsort(-tagger.Et[167, :])[:3]:\n",
      "    print_topK(i, 5)\n",
      "    print "
     ],
     "language": "python",
     "metadata": {},
     "outputs": [
      {
       "output_type": "stream",
       "stream": "stdout",
       "text": [
        "pop\t0.759\n",
        "female vocalists\t0.745\n",
        "rock\t0.605\n",
        "Mellow\t0.552\n",
        "acoustic\t0.537\n",
        "Hip-Hop\t0.230\n",
        "funk\t0.183\n",
        "rnb\t0.128\n",
        "metro downtempo\t0.122\n",
        "chillout\t0.122\n",
        "chillout\t0.359\n",
        "electronic\t0.307\n",
        "downtempo\t0.235\n",
        "ambient\t0.201\n",
        "lounge\t0.190\n"
       ]
      }
     ],
     "prompt_number": 162
    },
    {
     "cell_type": "code",
     "collapsed": false,
     "input": [],
     "language": "python",
     "metadata": {},
     "outputs": []
    }
   ],
   "metadata": {}
  }
 ]
}