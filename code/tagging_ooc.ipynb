{
 "metadata": {
  "name": "",
  "signature": "sha256:1b6558fcd36059c24b6720f2de35162fd77723ea2d6af463c8739f19d4b29ac0"
 },
 "nbformat": 3,
 "nbformat_minor": 0,
 "worksheets": [
  {
   "cells": [
    {
     "cell_type": "code",
     "collapsed": false,
     "input": [
      "import cPickle as pickle\n",
      "import functools\n",
      "import os\n",
      "import numpy as np\n",
      "import scipy.stats\n",
      "\n",
      "from joblib import Parallel, delayed\n",
      "from sklearn.metrics import roc_auc_score, average_precision_score\n",
      "\n",
      "import pmf"
     ],
     "language": "python",
     "metadata": {},
     "outputs": [],
     "prompt_number": 40
    },
    {
     "cell_type": "code",
     "collapsed": false,
     "input": [
      "train_tracks = list()\n",
      "with open('train_tracks.txt', 'rb') as f:\n",
      "    for line in f:\n",
      "        train_tracks.append(line.strip())\n",
      "        \n",
      "test_tracks = list()\n",
      "with open('test_tracks.txt', 'rb') as f:\n",
      "    for line in f:\n",
      "        test_tracks.append(line.strip())\n",
      "        \n",
      "tags = list()\n",
      "with open('voc.txt', 'rb') as f:\n",
      "    for line in f:\n",
      "        tags.append(line.strip())"
     ],
     "language": "python",
     "metadata": {},
     "outputs": [],
     "prompt_number": 3
    },
    {
     "cell_type": "code",
     "collapsed": false,
     "input": [
      "def construct_pred_mask(tags_predicted, predictat):\n",
      "    n_samples, n_tags = tags_predicted.shape\n",
      "    rankings = np.argsort(-tags_predicted, axis=1)[:, :predictat]\n",
      "    tags_predicted_binary = np.zeros_like(tags_predicted, dtype=bool)\n",
      "    for i in xrange(n_samples):\n",
      "        tags_predicted_binary[i, rankings[i]] = 1\n",
      "    return tags_predicted_binary\n",
      "\n",
      "def per_tag_prec_recall(tags_predicted_binary, tags_true_binary):\n",
      "    mask = np.logical_and(tags_predicted_binary, tags_true_binary)\n",
      "    prec = mask.sum(axis=0) / (tags_predicted_binary.sum(axis=0) + np.spacing(1))\n",
      "    tags_true_count = tags_true_binary.sum(axis=0).astype(float)\n",
      "    idx = (tags_true_count > 0)\n",
      "    recall = mask.sum(axis=0)[idx] / tags_true_count[idx]\n",
      "    return prec, recall\n",
      "\n",
      "\n",
      "def aroc_ap(tags_true_binary, tags_predicted):\n",
      "    n_tags = tags_true_binary.shape[1]\n",
      "    \n",
      "    auc = list()\n",
      "    aprec = list()\n",
      "    for i in xrange(n_tags):\n",
      "        if np.sum(tags_true_binary[:, i]) != 0:\n",
      "            auc.append(roc_auc_score(tags_true_binary[:, i], tags_predicted[:, i]))\n",
      "            aprec.append(average_precision_score(tags_true_binary[:, i], tags_predicted[:, i]))\n",
      "    return auc, aprec\n",
      "\n",
      "\n",
      "def print_out_metrics(tags_true_binary, tags_predicted, predictat):\n",
      "    tags_predicted_binary = construct_pred_mask(tags_predicted, predictat)\n",
      "    prec, recall = per_tag_prec_recall(tags_predicted_binary, tags_true_binary)\n",
      "    mprec, mrecall = np.mean(prec), np.mean(recall)\n",
      "    \n",
      "    print 'Precision = %.3f (%.3f)' % (mprec, np.std(prec) / sqrt(prec.size))\n",
      "    print 'Recall = %.3f (%.3f)' % (mrecall, np.std(recall) / sqrt(recall.size))\n",
      "    print 'F-score = %.3f' % (2 * mprec * mrecall / (mprec + mrecall))\n",
      "\n",
      "    auc, aprec = aroc_ap(tags_true_binary, tags_predicted)\n",
      "    print 'AROC = %.3f (%.3f)' % (np.mean(auc), np.std(auc) / sqrt(len(auc)))\n",
      "    print 'AP = %.3f (%.3f)' % (np.mean(aprec), np.std(aprec) / sqrt(len(aprec)))"
     ],
     "language": "python",
     "metadata": {},
     "outputs": [],
     "prompt_number": 4
    },
    {
     "cell_type": "code",
     "collapsed": false,
     "input": [
      "# take tracks with at least 20 tags \n",
      "y_test = None\n",
      "\n",
      "test_tracks_selected = list()\n",
      "\n",
      "for tid in test_tracks:\n",
      "    tdir = os.path.join('vq_hist', '/'.join(tid[2:5]))\n",
      "    bot = np.load(os.path.join(tdir, '%s_BoT.npy' % tid))\n",
      "    if (bot > 0).sum() >= 20:\n",
      "        test_tracks_selected.append(tid)\n",
      "        if y_test is None:\n",
      "            y_test = bot\n",
      "        else:\n",
      "            y_test = np.vstack((y_test, bot))"
     ],
     "language": "python",
     "metadata": {},
     "outputs": [],
     "prompt_number": 5
    },
    {
     "cell_type": "code",
     "collapsed": false,
     "input": [
      "hist(np.sum( (y_test > 0), axis=1), bins=50)\n",
      "pass"
     ],
     "language": "python",
     "metadata": {},
     "outputs": [
      {
       "metadata": {},
       "output_type": "display_data",
       "png": "[encoded data removed]",
       "text": [
        "<matplotlib.figure.Figure at 0x3816d90>"
       ]
      }
     ],
     "prompt_number": 6
    },
    {
     "cell_type": "heading",
     "level": 1,
     "metadata": {},
     "source": [
      "Batch inference on 10K subset"
     ]
    },
    {
     "cell_type": "code",
     "collapsed": false,
     "input": [
      "K = 1024"
     ],
     "language": "python",
     "metadata": {},
     "outputs": [],
     "prompt_number": 25
    },
    {
     "cell_type": "code",
     "collapsed": false,
     "input": [
      "n_subset = 10000\n",
      "\n",
      "np.random.seed(98765)\n",
      "train_tracks_subset = np.random.choice(train_tracks, size=n_subset, replace=False)"
     ],
     "language": "python",
     "metadata": {},
     "outputs": [],
     "prompt_number": 8
    },
    {
     "cell_type": "code",
     "collapsed": false,
     "input": [
      "D = K + len(tags)\n",
      "\n",
      "X = np.empty((n_subset, D), dtype=np.int16)\n",
      "\n",
      "for (i, tid) in enumerate(train_tracks_subset):\n",
      "    tdir = os.path.join('vq_hist', '/'.join(tid[2:5]))\n",
      "    vq = np.load(os.path.join(tdir, '%s_K%d.npy' % (tid, K))).ravel()\n",
      "    bot = np.load(os.path.join(tdir, '%s_BoT.npy' % tid))\n",
      "    bot[bot > 0] = 1\n",
      "    X[i] = np.hstack((vq, bot))"
     ],
     "language": "python",
     "metadata": {},
     "outputs": [],
     "prompt_number": 26
    },
    {
     "cell_type": "code",
     "collapsed": false,
     "input": [
      "bar(np.arange(D), X[1000])"
     ],
     "language": "python",
     "metadata": {},
     "outputs": [
      {
       "metadata": {},
       "output_type": "pyout",
       "prompt_number": 27,
       "text": [
        "<Container object of 1585 artists>"
       ]
      },
      {
       "metadata": {},
       "output_type": "display_data",
       "png": "[encoded data removed]",
       "text": [
        "<matplotlib.figure.Figure at 0x6b42f90>"
       ]
      }
     ],
     "prompt_number": 27
    },
    {
     "cell_type": "code",
     "collapsed": false,
     "input": [
      "X_test = np.empty((len(test_tracks_selected), K), dtype=int16)\n",
      "\n",
      "for (i, tid) in enumerate(test_tracks_selected):\n",
      "    tdir = os.path.join('vq_hist', '/'.join(tid[2:5]))\n",
      "    vq = np.load(os.path.join(tdir, '%s_K%d.npy' % (tid, K))).ravel()\n",
      "    X_test[i] = vq"
     ],
     "language": "python",
     "metadata": {},
     "outputs": [],
     "prompt_number": 77
    },
    {
     "cell_type": "code",
     "collapsed": false,
     "input": [
      "n_components = 100\n",
      "coder = pmf.PoissonMF(n_components=n_components, random_state=98765, verbose=True)"
     ],
     "language": "python",
     "metadata": {},
     "outputs": [],
     "prompt_number": 688
    },
    {
     "cell_type": "code",
     "collapsed": false,
     "input": [
      "coder.fit(X)"
     ],
     "language": "python",
     "metadata": {},
     "outputs": [
      {
       "output_type": "stream",
       "stream": "stdout",
       "text": [
        "After ITERATION: 0\tObjective: -15082170.59\tOld objective: -inf\tImprovement: nan\n",
        "After ITERATION: 1\tObjective: -15074962.59\tOld objective: -15082170.59\tImprovement: 0.00048"
       ]
      },
      {
       "output_type": "stream",
       "stream": "stdout",
       "text": [
        "\n",
        "After ITERATION: 2\tObjective: -15058523.52\tOld objective: -15074962.59\tImprovement: 0.00109"
       ]
      },
      {
       "output_type": "stream",
       "stream": "stdout",
       "text": [
        "\n",
        "After ITERATION: 3\tObjective: -15016605.88\tOld objective: -15058523.52\tImprovement: 0.00278"
       ]
      },
      {
       "output_type": "stream",
       "stream": "stdout",
       "text": [
        "\n",
        "After ITERATION: 4\tObjective: -14889827.74\tOld objective: -15016605.88\tImprovement: 0.00844"
       ]
      },
      {
       "output_type": "stream",
       "stream": "stdout",
       "text": [
        "\n",
        "After ITERATION: 5\tObjective: -14456800.51\tOld objective: -14889827.74\tImprovement: 0.02908"
       ]
      },
      {
       "output_type": "stream",
       "stream": "stdout",
       "text": [
        "\n",
        "After ITERATION: 6\tObjective: -13250909.05\tOld objective: -14456800.51\tImprovement: 0.08341"
       ]
      },
      {
       "output_type": "stream",
       "stream": "stdout",
       "text": [
        "\n",
        "After ITERATION: 7\tObjective: -11167699.39\tOld objective: -13250909.05\tImprovement: 0.15721"
       ]
      },
      {
       "output_type": "stream",
       "stream": "stdout",
       "text": [
        "\n",
        "After ITERATION: 8\tObjective: -8967221.41\tOld objective: -11167699.39\tImprovement: 0.19704"
       ]
      },
      {
       "output_type": "stream",
       "stream": "stdout",
       "text": [
        "\n",
        "After ITERATION: 9\tObjective: -7195986.42\tOld objective: -8967221.41\tImprovement: 0.19752"
       ]
      },
      {
       "output_type": "stream",
       "stream": "stdout",
       "text": [
        "\n",
        "After ITERATION: 10\tObjective: -5824585.98\tOld objective: -7195986.42\tImprovement: 0.19058"
       ]
      },
      {
       "output_type": "stream",
       "stream": "stdout",
       "text": [
        "\n",
        "After ITERATION: 11\tObjective: -4750580.57\tOld objective: -5824585.98\tImprovement: 0.18439"
       ]
      },
      {
       "output_type": "stream",
       "stream": "stdout",
       "text": [
        "\n",
        "After ITERATION: 12\tObjective: -3936627.10\tOld objective: -4750580.57\tImprovement: 0.17134"
       ]
      },
      {
       "output_type": "stream",
       "stream": "stdout",
       "text": [
        "\n",
        "After ITERATION: 13\tObjective: -3338606.38\tOld objective: -3936627.10\tImprovement: 0.15191"
       ]
      },
      {
       "output_type": "stream",
       "stream": "stdout",
       "text": [
        "\n",
        "After ITERATION: 14\tObjective: -2900804.04\tOld objective: -3338606.38\tImprovement: 0.13113"
       ]
      },
      {
       "output_type": "stream",
       "stream": "stdout",
       "text": [
        "\n",
        "After ITERATION: 15\tObjective: -2577450.63\tOld objective: -2900804.04\tImprovement: 0.11147"
       ]
      },
      {
       "output_type": "stream",
       "stream": "stdout",
       "text": [
        "\n",
        "After ITERATION: 16\tObjective: -2337030.58\tOld objective: -2577450.63\tImprovement: 0.09328"
       ]
      },
      {
       "output_type": "stream",
       "stream": "stdout",
       "text": [
        "\n",
        "After ITERATION: 17\tObjective: -2157502.21\tOld objective: -2337030.58\tImprovement: 0.07682"
       ]
      },
      {
       "output_type": "stream",
       "stream": "stdout",
       "text": [
        "\n",
        "After ITERATION: 18\tObjective: -2021011.64\tOld objective: -2157502.21\tImprovement: 0.06326"
       ]
      },
      {
       "output_type": "stream",
       "stream": "stdout",
       "text": [
        "\n",
        "After ITERATION: 19\tObjective: -1915237.84\tOld objective: -2021011.64\tImprovement: 0.05234"
       ]
      },
      {
       "output_type": "stream",
       "stream": "stdout",
       "text": [
        "\n",
        "After ITERATION: 20\tObjective: -1832010.98\tOld objective: -1915237.84\tImprovement: 0.04346"
       ]
      },
      {
       "output_type": "stream",
       "stream": "stdout",
       "text": [
        "\n",
        "After ITERATION: 21\tObjective: -1765563.60\tOld objective: -1832010.98\tImprovement: 0.03627"
       ]
      },
      {
       "output_type": "stream",
       "stream": "stdout",
       "text": [
        "\n",
        "After ITERATION: 22\tObjective: -1711686.07\tOld objective: -1765563.60\tImprovement: 0.03052"
       ]
      },
      {
       "output_type": "stream",
       "stream": "stdout",
       "text": [
        "\n",
        "After ITERATION: 23\tObjective: -1667349.95\tOld objective: -1711686.07\tImprovement: 0.02590"
       ]
      },
      {
       "output_type": "stream",
       "stream": "stdout",
       "text": [
        "\n",
        "After ITERATION: 24\tObjective: -1630419.31\tOld objective: -1667349.95\tImprovement: 0.02215"
       ]
      },
      {
       "output_type": "stream",
       "stream": "stdout",
       "text": [
        "\n",
        "After ITERATION: 25\tObjective: -1599190.75\tOld objective: -1630419.31\tImprovement: 0.01915"
       ]
      },
      {
       "output_type": "stream",
       "stream": "stdout",
       "text": [
        "\n",
        "After ITERATION: 26\tObjective: -1572454.20\tOld objective: -1599190.75\tImprovement: 0.01672"
       ]
      },
      {
       "output_type": "stream",
       "stream": "stdout",
       "text": [
        "\n",
        "After ITERATION: 27\tObjective: -1549438.17\tOld objective: -1572454.20\tImprovement: 0.01464"
       ]
      },
      {
       "output_type": "stream",
       "stream": "stdout",
       "text": [
        "\n",
        "After ITERATION: 28\tObjective: -1529542.03\tOld objective: -1549438.17\tImprovement: 0.01284"
       ]
      },
      {
       "output_type": "stream",
       "stream": "stdout",
       "text": [
        "\n",
        "After ITERATION: 29\tObjective: -1512260.95\tOld objective: -1529542.03\tImprovement: 0.01130"
       ]
      },
      {
       "output_type": "stream",
       "stream": "stdout",
       "text": [
        "\n",
        "After ITERATION: 30\tObjective: -1497165.79\tOld objective: -1512260.95\tImprovement: 0.00998"
       ]
      },
      {
       "output_type": "stream",
       "stream": "stdout",
       "text": [
        "\n",
        "After ITERATION: 31\tObjective: -1483878.24\tOld objective: -1497165.79\tImprovement: 0.00888"
       ]
      },
      {
       "output_type": "stream",
       "stream": "stdout",
       "text": [
        "\n",
        "After ITERATION: 32\tObjective: -1472096.00\tOld objective: -1483878.24\tImprovement: 0.00794"
       ]
      },
      {
       "output_type": "stream",
       "stream": "stdout",
       "text": [
        "\n",
        "After ITERATION: 33\tObjective: -1461601.90\tOld objective: -1472096.00\tImprovement: 0.00713"
       ]
      },
      {
       "output_type": "stream",
       "stream": "stdout",
       "text": [
        "\n",
        "After ITERATION: 34\tObjective: -1452193.23\tOld objective: -1461601.90\tImprovement: 0.00644"
       ]
      },
      {
       "output_type": "stream",
       "stream": "stdout",
       "text": [
        "\n",
        "After ITERATION: 35\tObjective: -1443770.58\tOld objective: -1452193.23\tImprovement: 0.00580"
       ]
      },
      {
       "output_type": "stream",
       "stream": "stdout",
       "text": [
        "\n",
        "After ITERATION: 36\tObjective: -1436196.89\tOld objective: -1443770.58\tImprovement: 0.00525"
       ]
      },
      {
       "output_type": "stream",
       "stream": "stdout",
       "text": [
        "\n",
        "After ITERATION: 37\tObjective: -1429307.57\tOld objective: -1436196.89\tImprovement: 0.00480"
       ]
      },
      {
       "output_type": "stream",
       "stream": "stdout",
       "text": [
        "\n",
        "After ITERATION: 38\tObjective: -1423048.68\tOld objective: -1429307.57\tImprovement: 0.00438"
       ]
      },
      {
       "output_type": "stream",
       "stream": "stdout",
       "text": [
        "\n",
        "After ITERATION: 39\tObjective: -1417348.29\tOld objective: -1423048.68\tImprovement: 0.00401"
       ]
      },
      {
       "output_type": "stream",
       "stream": "stdout",
       "text": [
        "\n",
        "After ITERATION: 40\tObjective: -1412119.62\tOld objective: -1417348.29\tImprovement: 0.00369"
       ]
      },
      {
       "output_type": "stream",
       "stream": "stdout",
       "text": [
        "\n",
        "After ITERATION: 41\tObjective: -1407305.49\tOld objective: -1412119.62\tImprovement: 0.00341"
       ]
      },
      {
       "output_type": "stream",
       "stream": "stdout",
       "text": [
        "\n",
        "After ITERATION: 42\tObjective: -1402886.49\tOld objective: -1407305.49\tImprovement: 0.00314"
       ]
      },
      {
       "output_type": "stream",
       "stream": "stdout",
       "text": [
        "\n",
        "After ITERATION: 43\tObjective: -1398826.47\tOld objective: -1402886.49\tImprovement: 0.00289"
       ]
      },
      {
       "output_type": "stream",
       "stream": "stdout",
       "text": [
        "\n",
        "After ITERATION: 44\tObjective: -1395108.72\tOld objective: -1398826.47\tImprovement: 0.00266"
       ]
      },
      {
       "output_type": "stream",
       "stream": "stdout",
       "text": [
        "\n",
        "After ITERATION: 45\tObjective: -1391673.32\tOld objective: -1395108.72\tImprovement: 0.00246"
       ]
      },
      {
       "output_type": "stream",
       "stream": "stdout",
       "text": [
        "\n",
        "After ITERATION: 46\tObjective: -1388476.73\tOld objective: -1391673.32\tImprovement: 0.00230"
       ]
      },
      {
       "output_type": "stream",
       "stream": "stdout",
       "text": [
        "\n",
        "After ITERATION: 47\tObjective: -1385504.20\tOld objective: -1388476.73\tImprovement: 0.00214"
       ]
      },
      {
       "output_type": "stream",
       "stream": "stdout",
       "text": [
        "\n",
        "After ITERATION: 48\tObjective: -1382762.19\tOld objective: -1385504.20\tImprovement: 0.00198"
       ]
      },
      {
       "output_type": "stream",
       "stream": "stdout",
       "text": [
        "\n",
        "After ITERATION: 49\tObjective: -1380219.72\tOld objective: -1382762.19\tImprovement: 0.00184"
       ]
      },
      {
       "output_type": "stream",
       "stream": "stdout",
       "text": [
        "\n"
       ]
      },
      {
       "metadata": {},
       "output_type": "pyout",
       "prompt_number": 689,
       "text": [
        "PoissonNMF(max_iter=50, n_components=100, random_state=98765, smoothness=100,\n",
        "      tol=0.0004, verbose=True)"
       ]
      }
     ],
     "prompt_number": 689
    },
    {
     "cell_type": "code",
     "collapsed": false,
     "input": [
      "# randomly plot 30 \"topics\"\n",
      "indices = np.random.choice(n_components, size=30, replace=False)\n",
      "figure(figsize=(45, 15))\n",
      "for i in xrange(30):\n",
      "    subplot(10, 3, i+1)\n",
      "    topic = coder.Eb[indices[i]].copy()\n",
      "    # properly normalize the BoT dimensions for visualization purposes\n",
      "    topic[K:] /= topic[K:].max()\n",
      "    topic[K:] *= topic[:K].max()\n",
      "    bar(np.arange(D), topic)\n",
      "    axvline(x=K, color='red')\n",
      "    title('Component #%d' % indices[i])\n",
      "#savefig('dict.eps')"
     ],
     "language": "python",
     "metadata": {},
     "outputs": [
      {
       "metadata": {},
       "output_type": "display_data",
       "png": "[encoded data removed]",
       "text": [
        "<matplotlib.figure.Figure at 0x64e95e90>"
       ]
      }
     ],
     "prompt_number": 642
    },
    {
     "cell_type": "code",
     "collapsed": false,
     "input": [
      "tagger = pmf.PoissonMF(n_components=n_components, random_state=98765, verbose=True)"
     ],
     "language": "python",
     "metadata": {},
     "outputs": [],
     "prompt_number": 693
    },
    {
     "cell_type": "code",
     "collapsed": false,
     "input": [
      "tagger.set_components(coder.gamma_b[:, :K], coder.rho_b)"
     ],
     "language": "python",
     "metadata": {},
     "outputs": [],
     "prompt_number": 694
    },
    {
     "cell_type": "code",
     "collapsed": false,
     "input": [
      "Et = tagger.transform(X_test)"
     ],
     "language": "python",
     "metadata": {},
     "outputs": [
      {
       "output_type": "stream",
       "stream": "stdout",
       "text": [
        "After ITERATION: 0\tObjective: -1199927.74\tOld objective: -inf\tImprovement: nan\n",
        "After ITERATION: 1\tObjective: -631823.55\tOld objective: -1199927.74\tImprovement: 0.47345"
       ]
      },
      {
       "output_type": "stream",
       "stream": "stdout",
       "text": [
        "\n",
        "After ITERATION: 2\tObjective: -430214.87\tOld objective: -631823.55\tImprovement: 0.31909"
       ]
      },
      {
       "output_type": "stream",
       "stream": "stdout",
       "text": [
        "\n",
        "After ITERATION: 3\tObjective: -338081.24\tOld objective: -430214.87\tImprovement: 0.21416"
       ]
      },
      {
       "output_type": "stream",
       "stream": "stdout",
       "text": [
        "\n",
        "After ITERATION: 4\tObjective: -288596.19\tOld objective: -338081.24\tImprovement: 0.14637"
       ]
      },
      {
       "output_type": "stream",
       "stream": "stdout",
       "text": [
        "\n",
        "After ITERATION: 5\tObjective: -258853.79\tOld objective: -288596.19\tImprovement: 0.10306"
       ]
      },
      {
       "output_type": "stream",
       "stream": "stdout",
       "text": [
        "\n",
        "After ITERATION: 6\tObjective: -239432.84\tOld objective: -258853.79\tImprovement: 0.07503"
       ]
      },
      {
       "output_type": "stream",
       "stream": "stdout",
       "text": [
        "\n",
        "After ITERATION: 7\tObjective: -225999.55\tOld objective: -239432.84\tImprovement: 0.05610"
       ]
      },
      {
       "output_type": "stream",
       "stream": "stdout",
       "text": [
        "\n",
        "After ITERATION: 8\tObjective: -216243.65\tOld objective: -225999.55\tImprovement: 0.04317"
       ]
      },
      {
       "output_type": "stream",
       "stream": "stdout",
       "text": [
        "\n",
        "After ITERATION: 9\tObjective: -208915.64\tOld objective: -216243.65\tImprovement: 0.03389"
       ]
      },
      {
       "output_type": "stream",
       "stream": "stdout",
       "text": [
        "\n",
        "After ITERATION: 10\tObjective: -203277.81\tOld objective: -208915.64\tImprovement: 0.02699"
       ]
      },
      {
       "output_type": "stream",
       "stream": "stdout",
       "text": [
        "\n",
        "After ITERATION: 11\tObjective: -198831.74\tOld objective: -203277.81\tImprovement: 0.02187"
       ]
      },
      {
       "output_type": "stream",
       "stream": "stdout",
       "text": [
        "\n",
        "After ITERATION: 12\tObjective: -195248.69\tOld objective: -198831.74\tImprovement: 0.01802"
       ]
      },
      {
       "output_type": "stream",
       "stream": "stdout",
       "text": [
        "\n",
        "After ITERATION: 13\tObjective: -192314.83\tOld objective: -195248.69\tImprovement: 0.01503"
       ]
      },
      {
       "output_type": "stream",
       "stream": "stdout",
       "text": [
        "\n",
        "After ITERATION: 14\tObjective: -189854.70\tOld objective: -192314.83\tImprovement: 0.01279"
       ]
      },
      {
       "output_type": "stream",
       "stream": "stdout",
       "text": [
        "\n",
        "After ITERATION: 15\tObjective: -187783.28\tOld objective: -189854.70\tImprovement: 0.01091"
       ]
      },
      {
       "output_type": "stream",
       "stream": "stdout",
       "text": [
        "\n",
        "After ITERATION: 16\tObjective: -186045.31\tOld objective: -187783.28\tImprovement: 0.00926"
       ]
      },
      {
       "output_type": "stream",
       "stream": "stdout",
       "text": [
        "\n",
        "After ITERATION: 17\tObjective: -184531.65\tOld objective: -186045.31\tImprovement: 0.00814"
       ]
      },
      {
       "output_type": "stream",
       "stream": "stdout",
       "text": [
        "\n",
        "After ITERATION: 18\tObjective: -183212.68\tOld objective: -184531.65\tImprovement: 0.00715"
       ]
      },
      {
       "output_type": "stream",
       "stream": "stdout",
       "text": [
        "\n",
        "After ITERATION: 19\tObjective: -182071.56\tOld objective: -183212.68\tImprovement: 0.00623"
       ]
      },
      {
       "output_type": "stream",
       "stream": "stdout",
       "text": [
        "\n",
        "After ITERATION: 20\tObjective: -181066.49\tOld objective: -182071.56\tImprovement: 0.00552"
       ]
      },
      {
       "output_type": "stream",
       "stream": "stdout",
       "text": [
        "\n",
        "After ITERATION: 21\tObjective: -180191.33\tOld objective: -181066.49\tImprovement: 0.00483"
       ]
      },
      {
       "output_type": "stream",
       "stream": "stdout",
       "text": [
        "\n",
        "After ITERATION: 22\tObjective: -179418.89\tOld objective: -180191.33\tImprovement: 0.00429"
       ]
      },
      {
       "output_type": "stream",
       "stream": "stdout",
       "text": [
        "\n",
        "After ITERATION: 23\tObjective: -178724.73\tOld objective: -179418.89\tImprovement: 0.00387"
       ]
      },
      {
       "output_type": "stream",
       "stream": "stdout",
       "text": [
        "\n",
        "After ITERATION: 24\tObjective: -178094.78\tOld objective: -178724.73\tImprovement: 0.00352"
       ]
      },
      {
       "output_type": "stream",
       "stream": "stdout",
       "text": [
        "\n",
        "After ITERATION: 25\tObjective: -177513.46\tOld objective: -178094.78\tImprovement: 0.00326"
       ]
      },
      {
       "output_type": "stream",
       "stream": "stdout",
       "text": [
        "\n",
        "After ITERATION: 26\tObjective: -176981.99\tOld objective: -177513.46\tImprovement: 0.00299"
       ]
      },
      {
       "output_type": "stream",
       "stream": "stdout",
       "text": [
        "\n",
        "After ITERATION: 27\tObjective: -176493.15\tOld objective: -176981.99\tImprovement: 0.00276"
       ]
      },
      {
       "output_type": "stream",
       "stream": "stdout",
       "text": [
        "\n",
        "After ITERATION: 28\tObjective: -176056.66\tOld objective: -176493.15\tImprovement: 0.00247"
       ]
      },
      {
       "output_type": "stream",
       "stream": "stdout",
       "text": [
        "\n",
        "After ITERATION: 29\tObjective: -175650.21\tOld objective: -176056.66\tImprovement: 0.00231"
       ]
      },
      {
       "output_type": "stream",
       "stream": "stdout",
       "text": [
        "\n",
        "After ITERATION: 30\tObjective: -175265.59\tOld objective: -175650.21\tImprovement: 0.00219"
       ]
      },
      {
       "output_type": "stream",
       "stream": "stdout",
       "text": [
        "\n",
        "After ITERATION: 31\tObjective: -174907.77\tOld objective: -175265.59\tImprovement: 0.00204"
       ]
      },
      {
       "output_type": "stream",
       "stream": "stdout",
       "text": [
        "\n",
        "After ITERATION: 32\tObjective: -174586.17\tOld objective: -174907.77\tImprovement: 0.00184"
       ]
      },
      {
       "output_type": "stream",
       "stream": "stdout",
       "text": [
        "\n",
        "After ITERATION: 33\tObjective: -174297.18\tOld objective: -174586.17\tImprovement: 0.00166"
       ]
      },
      {
       "output_type": "stream",
       "stream": "stdout",
       "text": [
        "\n",
        "After ITERATION: 34\tObjective: -174029.31\tOld objective: -174297.18\tImprovement: 0.00154"
       ]
      },
      {
       "output_type": "stream",
       "stream": "stdout",
       "text": [
        "\n",
        "After ITERATION: 35\tObjective: -173782.62\tOld objective: -174029.31\tImprovement: 0.00142"
       ]
      },
      {
       "output_type": "stream",
       "stream": "stdout",
       "text": [
        "\n",
        "After ITERATION: 36\tObjective: -173551.39\tOld objective: -173782.62\tImprovement: 0.00133"
       ]
      },
      {
       "output_type": "stream",
       "stream": "stdout",
       "text": [
        "\n",
        "After ITERATION: 37\tObjective: -173332.16\tOld objective: -173551.39\tImprovement: 0.00126"
       ]
      },
      {
       "output_type": "stream",
       "stream": "stdout",
       "text": [
        "\n",
        "After ITERATION: 38\tObjective: -173127.57\tOld objective: -173332.16\tImprovement: 0.00118"
       ]
      },
      {
       "output_type": "stream",
       "stream": "stdout",
       "text": [
        "\n",
        "After ITERATION: 39\tObjective: -172935.38\tOld objective: -173127.57\tImprovement: 0.00111"
       ]
      },
      {
       "output_type": "stream",
       "stream": "stdout",
       "text": [
        "\n",
        "After ITERATION: 40\tObjective: -172756.88\tOld objective: -172935.38\tImprovement: 0.00103"
       ]
      },
      {
       "output_type": "stream",
       "stream": "stdout",
       "text": [
        "\n",
        "After ITERATION: 41\tObjective: -172585.12\tOld objective: -172756.88\tImprovement: 0.00099"
       ]
      },
      {
       "output_type": "stream",
       "stream": "stdout",
       "text": [
        "\n",
        "After ITERATION: 42\tObjective: -172423.06\tOld objective: -172585.12\tImprovement: 0.00094"
       ]
      },
      {
       "output_type": "stream",
       "stream": "stdout",
       "text": [
        "\n",
        "After ITERATION: 43\tObjective: -172265.62\tOld objective: -172423.06\tImprovement: 0.00091"
       ]
      },
      {
       "output_type": "stream",
       "stream": "stdout",
       "text": [
        "\n",
        "After ITERATION: 44\tObjective: -172121.92\tOld objective: -172265.62\tImprovement: 0.00083"
       ]
      },
      {
       "output_type": "stream",
       "stream": "stdout",
       "text": [
        "\n",
        "After ITERATION: 45\tObjective: -171988.03\tOld objective: -172121.92\tImprovement: 0.00078"
       ]
      },
      {
       "output_type": "stream",
       "stream": "stdout",
       "text": [
        "\n",
        "After ITERATION: 46\tObjective: -171858.78\tOld objective: -171988.03\tImprovement: 0.00075"
       ]
      },
      {
       "output_type": "stream",
       "stream": "stdout",
       "text": [
        "\n",
        "After ITERATION: 47\tObjective: -171738.88\tOld objective: -171858.78\tImprovement: 0.00070"
       ]
      },
      {
       "output_type": "stream",
       "stream": "stdout",
       "text": [
        "\n",
        "After ITERATION: 48\tObjective: -171624.47\tOld objective: -171738.88\tImprovement: 0.00067"
       ]
      },
      {
       "output_type": "stream",
       "stream": "stdout",
       "text": [
        "\n",
        "After ITERATION: 49\tObjective: -171517.23\tOld objective: -171624.47\tImprovement: 0.00062"
       ]
      },
      {
       "output_type": "stream",
       "stream": "stdout",
       "text": [
        "\n",
        "After ITERATION: 50\tObjective: -171415.47\tOld objective: -171517.23\tImprovement: 0.00059"
       ]
      },
      {
       "output_type": "stream",
       "stream": "stdout",
       "text": [
        "\n",
        "After ITERATION: 51\tObjective: -171317.51\tOld objective: -171415.47\tImprovement: 0.00057"
       ]
      },
      {
       "output_type": "stream",
       "stream": "stdout",
       "text": [
        "\n",
        "After ITERATION: 52\tObjective: -171225.33\tOld objective: -171317.51\tImprovement: 0.00054"
       ]
      },
      {
       "output_type": "stream",
       "stream": "stdout",
       "text": [
        "\n",
        "After ITERATION: 53\tObjective: -171140.31\tOld objective: -171225.33\tImprovement: 0.00050"
       ]
      },
      {
       "output_type": "stream",
       "stream": "stdout",
       "text": [
        "\n"
       ]
      }
     ],
     "prompt_number": 695
    },
    {
     "cell_type": "code",
     "collapsed": false,
     "input": [
      "Et /= Et.sum(axis=1, keepdims=True)\n",
      "\n",
      "tags_predicted = Et.dot(coder.Eb[:, K:])\n",
      "print tags_predicted.min(), tags_predicted.max()\n",
      "\n",
      "div_factor = 3\n",
      "tags_predicted = tags_predicted - div_factor * np.mean(tags_predicted, axis=0)"
     ],
     "language": "python",
     "metadata": {},
     "outputs": [
      {
       "output_type": "stream",
       "stream": "stdout",
       "text": [
        "0.0024000923119 3.21737374162\n"
       ]
      }
     ],
     "prompt_number": 696
    },
    {
     "cell_type": "code",
     "collapsed": false,
     "input": [
      "predictat = 20\n",
      "tags_true_binary = (y_test > 0)\n",
      "\n",
      "print_out_metrics(tags_true_binary, tags_predicted, predictat)"
     ],
     "language": "python",
     "metadata": {},
     "outputs": [
      {
       "output_type": "stream",
       "stream": "stdout",
       "text": [
        "Precision = 0.109 (0.007)\n",
        "Recall = 0.110 (0.006)\n",
        "F-score = 0.110\n",
        "AROC = 0.637 (0.005)"
       ]
      },
      {
       "output_type": "stream",
       "stream": "stdout",
       "text": [
        "\n",
        "AP = 0.098 (0.006)\n"
       ]
      }
     ],
     "prompt_number": 697
    },
    {
     "cell_type": "heading",
     "level": 1,
     "metadata": {},
     "source": [
      "Stochastic inference on 10K subset"
     ]
    },
    {
     "cell_type": "code",
     "collapsed": false,
     "input": [
      "n_components = 100\n",
      "online_coder = pnf.OnlinePoissonMF(n_components=n_components, batch_size=1000, n_pass=1, \n",
      "                                   random_state=98765, verbose=True)"
     ],
     "language": "python",
     "metadata": {},
     "outputs": [],
     "prompt_number": 29
    },
    {
     "cell_type": "code",
     "collapsed": false,
     "input": [
      "online_coder.fit(X, est_total=len(train_tracks))"
     ],
     "language": "python",
     "metadata": {},
     "outputs": [
      {
       "output_type": "stream",
       "stream": "stdout",
       "text": [
        "Iteration 0: passing through the data...\n"
       ]
      },
      {
       "metadata": {},
       "output_type": "pyout",
       "prompt_number": 30,
       "text": [
        "OnlinePoissonNMF(batch_size=1000, max_iter=100, n_components=100, n_pass=1,\n",
        "         random_state=98765, shuffle=True, smoothness=100, tol=0.0005,\n",
        "         verbose=True)"
       ]
      }
     ],
     "prompt_number": 30
    },
    {
     "cell_type": "code",
     "collapsed": false,
     "input": [
      "plot(online_coder.bound)\n",
      "pass"
     ],
     "language": "python",
     "metadata": {},
     "outputs": [
      {
       "metadata": {},
       "output_type": "display_data",
       "png": "[encoded data removed]",
       "text": [
        "<matplotlib.figure.Figure at 0xb3d93d0>"
       ]
      }
     ],
     "prompt_number": 31
    },
    {
     "cell_type": "code",
     "collapsed": false,
     "input": [
      "ents = np.zeros((n_components, ))\n",
      "\n",
      "for k in xrange(n_components):\n",
      "    ents[k] = scipy.stats.entropy(online_coder.Eb[k])   "
     ],
     "language": "python",
     "metadata": {},
     "outputs": [],
     "prompt_number": 32
    },
    {
     "cell_type": "code",
     "collapsed": false,
     "input": [
      "idx = np.argsort(-ents)"
     ],
     "language": "python",
     "metadata": {},
     "outputs": [],
     "prompt_number": 33
    },
    {
     "cell_type": "code",
     "collapsed": false,
     "input": [
      "plot(ents[idx], '-o')\n",
      "pass"
     ],
     "language": "python",
     "metadata": {},
     "outputs": [
      {
       "metadata": {},
       "output_type": "display_data",
       "png": "[encoded data removed]",
       "text": [
        "<matplotlib.figure.Figure at 0x664bbd0>"
       ]
      }
     ],
     "prompt_number": 34
    },
    {
     "cell_type": "code",
     "collapsed": false,
     "input": [
      "tagger = pmf.PoissonMF(n_components=n_components, random_state=98765, verbose=True)"
     ],
     "language": "python",
     "metadata": {},
     "outputs": [],
     "prompt_number": 35
    },
    {
     "cell_type": "code",
     "collapsed": false,
     "input": [
      "tagger.set_components(online_coder.gamma_b[:, :K], online_coder.rho_b[:, :K])"
     ],
     "language": "python",
     "metadata": {},
     "outputs": [],
     "prompt_number": 36
    },
    {
     "cell_type": "code",
     "collapsed": false,
     "input": [
      "Et = tagger.transform(X_test)"
     ],
     "language": "python",
     "metadata": {},
     "outputs": [
      {
       "output_type": "stream",
       "stream": "stdout",
       "text": [
        "After ITERATION: 0\tObjective: -905005.31\tOld objective: -inf\tImprovement: nan\n",
        "After ITERATION: 1\tObjective: -154468.22\tOld objective: -905005.31\tImprovement: 0.82932"
       ]
      },
      {
       "output_type": "stream",
       "stream": "stdout",
       "text": [
        "\n",
        "After ITERATION: 2\tObjective: 224707.11\tOld objective: -154468.22\tImprovement: 2.45471"
       ]
      },
      {
       "output_type": "stream",
       "stream": "stdout",
       "text": [
        "\n",
        "After ITERATION: 3\tObjective: 434618.99\tOld objective: 224707.11\tImprovement: 0.93416"
       ]
      },
      {
       "output_type": "stream",
       "stream": "stdout",
       "text": [
        "\n",
        "After ITERATION: 4\tObjective: 562091.54\tOld objective: 434618.99\tImprovement: 0.29330"
       ]
      },
      {
       "output_type": "stream",
       "stream": "stdout",
       "text": [
        "\n",
        "After ITERATION: 5\tObjective: 644771.42\tOld objective: 562091.54\tImprovement: 0.14709"
       ]
      },
      {
       "output_type": "stream",
       "stream": "stdout",
       "text": [
        "\n",
        "After ITERATION: 6\tObjective: 700452.03\tOld objective: 644771.42\tImprovement: 0.08636"
       ]
      },
      {
       "output_type": "stream",
       "stream": "stdout",
       "text": [
        "\n",
        "After ITERATION: 7\tObjective: 738730.17\tOld objective: 700452.03\tImprovement: 0.05465"
       ]
      },
      {
       "output_type": "stream",
       "stream": "stdout",
       "text": [
        "\n",
        "After ITERATION: 8\tObjective: 765623.84\tOld objective: 738730.17\tImprovement: 0.03641"
       ]
      },
      {
       "output_type": "stream",
       "stream": "stdout",
       "text": [
        "\n",
        "After ITERATION: 9\tObjective: 784951.17\tOld objective: 765623.84\tImprovement: 0.02524"
       ]
      },
      {
       "output_type": "stream",
       "stream": "stdout",
       "text": [
        "\n",
        "After ITERATION: 10\tObjective: 799163.43\tOld objective: 784951.17\tImprovement: 0.01811"
       ]
      },
      {
       "output_type": "stream",
       "stream": "stdout",
       "text": [
        "\n",
        "After ITERATION: 11\tObjective: 809902.20\tOld objective: 799163.43\tImprovement: 0.01344"
       ]
      },
      {
       "output_type": "stream",
       "stream": "stdout",
       "text": [
        "\n",
        "After ITERATION: 12\tObjective: 818194.53\tOld objective: 809902.20\tImprovement: 0.01024"
       ]
      },
      {
       "output_type": "stream",
       "stream": "stdout",
       "text": [
        "\n",
        "After ITERATION: 13\tObjective: 824729.93\tOld objective: 818194.53\tImprovement: 0.00799"
       ]
      },
      {
       "output_type": "stream",
       "stream": "stdout",
       "text": [
        "\n",
        "After ITERATION: 14\tObjective: 829955.72\tOld objective: 824729.93\tImprovement: 0.00634"
       ]
      },
      {
       "output_type": "stream",
       "stream": "stdout",
       "text": [
        "\n",
        "After ITERATION: 15\tObjective: 834237.14\tOld objective: 829955.72\tImprovement: 0.00516"
       ]
      },
      {
       "output_type": "stream",
       "stream": "stdout",
       "text": [
        "\n",
        "After ITERATION: 16\tObjective: 837793.07\tOld objective: 834237.14\tImprovement: 0.00426"
       ]
      },
      {
       "output_type": "stream",
       "stream": "stdout",
       "text": [
        "\n",
        "After ITERATION: 17\tObjective: 840782.32\tOld objective: 837793.07\tImprovement: 0.00357"
       ]
      },
      {
       "output_type": "stream",
       "stream": "stdout",
       "text": [
        "\n",
        "After ITERATION: 18\tObjective: 843329.71\tOld objective: 840782.32\tImprovement: 0.00303"
       ]
      },
      {
       "output_type": "stream",
       "stream": "stdout",
       "text": [
        "\n",
        "After ITERATION: 19\tObjective: 845518.28\tOld objective: 843329.71\tImprovement: 0.00260"
       ]
      },
      {
       "output_type": "stream",
       "stream": "stdout",
       "text": [
        "\n",
        "After ITERATION: 20\tObjective: 847428.96\tOld objective: 845518.28\tImprovement: 0.00226"
       ]
      },
      {
       "output_type": "stream",
       "stream": "stdout",
       "text": [
        "\n",
        "After ITERATION: 21\tObjective: 849084.30\tOld objective: 847428.96\tImprovement: 0.00195"
       ]
      },
      {
       "output_type": "stream",
       "stream": "stdout",
       "text": [
        "\n",
        "After ITERATION: 22\tObjective: 850520.11\tOld objective: 849084.30\tImprovement: 0.00169"
       ]
      },
      {
       "output_type": "stream",
       "stream": "stdout",
       "text": [
        "\n",
        "After ITERATION: 23\tObjective: 851800.35\tOld objective: 850520.11\tImprovement: 0.00151"
       ]
      },
      {
       "output_type": "stream",
       "stream": "stdout",
       "text": [
        "\n",
        "After ITERATION: 24\tObjective: 852949.37\tOld objective: 851800.35\tImprovement: 0.00135"
       ]
      },
      {
       "output_type": "stream",
       "stream": "stdout",
       "text": [
        "\n",
        "After ITERATION: 25\tObjective: 853965.13\tOld objective: 852949.37\tImprovement: 0.00119"
       ]
      },
      {
       "output_type": "stream",
       "stream": "stdout",
       "text": [
        "\n",
        "After ITERATION: 26\tObjective: 854889.55\tOld objective: 853965.13\tImprovement: 0.00108"
       ]
      },
      {
       "output_type": "stream",
       "stream": "stdout",
       "text": [
        "\n",
        "After ITERATION: 27\tObjective: 855745.14\tOld objective: 854889.55\tImprovement: 0.00100"
       ]
      },
      {
       "output_type": "stream",
       "stream": "stdout",
       "text": [
        "\n",
        "After ITERATION: 28\tObjective: 856524.46\tOld objective: 855745.14\tImprovement: 0.00091"
       ]
      },
      {
       "output_type": "stream",
       "stream": "stdout",
       "text": [
        "\n",
        "After ITERATION: 29\tObjective: 857242.07\tOld objective: 856524.46\tImprovement: 0.00084"
       ]
      },
      {
       "output_type": "stream",
       "stream": "stdout",
       "text": [
        "\n",
        "After ITERATION: 30\tObjective: 857900.88\tOld objective: 857242.07\tImprovement: 0.00077"
       ]
      },
      {
       "output_type": "stream",
       "stream": "stdout",
       "text": [
        "\n",
        "After ITERATION: 31\tObjective: 858505.73\tOld objective: 857900.88\tImprovement: 0.00071"
       ]
      },
      {
       "output_type": "stream",
       "stream": "stdout",
       "text": [
        "\n",
        "After ITERATION: 32\tObjective: 859039.19\tOld objective: 858505.73\tImprovement: 0.00062"
       ]
      },
      {
       "output_type": "stream",
       "stream": "stdout",
       "text": [
        "\n",
        "After ITERATION: 33\tObjective: 859518.31\tOld objective: 859039.19\tImprovement: 0.00056"
       ]
      },
      {
       "output_type": "stream",
       "stream": "stdout",
       "text": [
        "\n",
        "After ITERATION: 34\tObjective: 859964.37\tOld objective: 859518.31\tImprovement: 0.00052"
       ]
      },
      {
       "output_type": "stream",
       "stream": "stdout",
       "text": [
        "\n",
        "After ITERATION: 35\tObjective: 860381.52\tOld objective: 859964.37\tImprovement: 0.00049"
       ]
      },
      {
       "output_type": "stream",
       "stream": "stdout",
       "text": [
        "\n"
       ]
      }
     ],
     "prompt_number": 37
    },
    {
     "cell_type": "code",
     "collapsed": false,
     "input": [
      "Et /= Et.sum(axis=1, keepdims=True)\n",
      "\n",
      "tags_predicted = Et.dot(online_coder.Eb[:, K:])\n",
      "n_samples, n_tags = tags_predicted.shape\n",
      "\n",
      "print tags_predicted.min(), tags_predicted.max()\n",
      "\n",
      "div_factor = 3\n",
      "tags_predicted = tags_predicted - div_factor * np.mean(tags_predicted, axis=0)"
     ],
     "language": "python",
     "metadata": {},
     "outputs": [
      {
       "output_type": "stream",
       "stream": "stdout",
       "text": [
        "0.000185241929985 1.55733348386\n"
       ]
      }
     ],
     "prompt_number": 38
    },
    {
     "cell_type": "code",
     "collapsed": false,
     "input": [
      "predictat = 20\n",
      "tags_true_binary = (y_test > 0)\n",
      "\n",
      "print_out_metrics(tags_true_binary, tags_predicted, predictat)"
     ],
     "language": "python",
     "metadata": {},
     "outputs": [
      {
       "output_type": "stream",
       "stream": "stdout",
       "text": [
        "Precision = 0.105 (0.007)\n",
        "Recall = 0.137 (0.008)\n",
        "F-score = 0.118\n",
        "AROC = 0.687 (0.005)"
       ]
      },
      {
       "output_type": "stream",
       "stream": "stdout",
       "text": [
        "\n",
        "AP = 0.106 (0.006)\n"
       ]
      }
     ],
     "prompt_number": 39
    },
    {
     "cell_type": "heading",
     "level": 1,
     "metadata": {},
     "source": [
      "Stochastic inference on the full set"
     ]
    },
    {
     "cell_type": "code",
     "collapsed": false,
     "input": [
      "# very naive implementation of out-of-core fit for stochastic PMF\n",
      "def ooc_fit(obj, train_tracks, K, n_feats):\n",
      "    n_samples = len(train_tracks)\n",
      "    obj.scale = float(n_samples) / obj.batch_size\n",
      "    obj._init_components(n_feats)\n",
      "    obj.bound = list()\n",
      "\n",
      "    for count in xrange(obj.n_pass):\n",
      "        print 'Iteration %d: passing through the data...' % count\n",
      "        indices = np.arange(n_samples)\n",
      "        if obj.shuffle:\n",
      "            np.random.shuffle(indices)\n",
      "        for (i, istart) in enumerate(xrange(0, n_samples,\n",
      "                                            obj.batch_size), 1):\n",
      "            iend = min(istart + obj.batch_size, n_samples)\n",
      "            obj.set_learning_rate(iter=i)\n",
      "            mini_batch = np.zeros((iend - istart, n_feats))\n",
      "            for s in xrange(iend - istart):\n",
      "                tid = train_tracks[indices[istart + s]]\n",
      "                #print '\\tRead in track: %s' % tid\n",
      "                tdir = os.path.join('vq_hist', '/'.join(tid[2:5]))\n",
      "                vq = np.load(os.path.join(tdir, '%s_K%d.npy' % (tid, K))).ravel()\n",
      "                bot = np.load(os.path.join(tdir, '%s_BoT.npy' % tid))\n",
      "                bot[bot > 0] = 1               \n",
      "                mini_batch[s] = np.hstack((vq, bot))\n",
      "            obj.partial_fit(mini_batch)\n",
      "            obj.bound.append(obj._stoch_bound(mini_batch))\n",
      "            \n",
      "            if not i % 50:\n",
      "                print '\\t%d mini-batches finished.' % i\n",
      "    return obj"
     ],
     "language": "python",
     "metadata": {},
     "outputs": [],
     "prompt_number": 442
    },
    {
     "cell_type": "code",
     "collapsed": false,
     "input": [
      "n_components = 100\n",
      "batch_size = 1000\n",
      "online_coder_full = pmf.OnlinePoissonMF(n_components=n_components, batch_size=batch_size, n_pass=1, \n",
      "                                        random_state=98765, verbose=True)"
     ],
     "language": "python",
     "metadata": {},
     "outputs": [],
     "prompt_number": 122
    },
    {
     "cell_type": "code",
     "collapsed": false,
     "input": [
      "online_coder_full = ooc_fit(online_coder_full, train_tracks, K, D)"
     ],
     "language": "python",
     "metadata": {},
     "outputs": [
      {
       "output_type": "stream",
       "stream": "stdout",
       "text": [
        "Iteration 0: passing through the data...\n",
        "\t50 mini-batches finished."
       ]
      },
      {
       "output_type": "stream",
       "stream": "stdout",
       "text": [
        "\n",
        "\t100 mini-batches finished."
       ]
      }
     ]
    },
    {
     "cell_type": "code",
     "collapsed": false,
     "input": [
      "plot(online_coder_full.bound)\n",
      "pass"
     ],
     "language": "python",
     "metadata": {},
     "outputs": [
      {
       "metadata": {},
       "output_type": "display_data",
       "png": "[encoded data removed]",
       "text": [
        "<matplotlib.figure.Figure at 0xb3e40d0>"
       ]
      }
     ],
     "prompt_number": 125
    },
    {
     "cell_type": "code",
     "collapsed": false,
     "input": [
      "ents = np.zeros((n_components, ))\n",
      "\n",
      "for k in xrange(n_components):\n",
      "    ents[k] = scipy.stats.entropy(online_coder_full.Eb[k])   "
     ],
     "language": "python",
     "metadata": {},
     "outputs": [],
     "prompt_number": 70
    },
    {
     "cell_type": "code",
     "collapsed": false,
     "input": [
      "idx = np.argsort(-ents)"
     ],
     "language": "python",
     "metadata": {},
     "outputs": [],
     "prompt_number": 71
    },
    {
     "cell_type": "code",
     "collapsed": false,
     "input": [
      "plot(ents[idx], '-o')\n",
      "pass"
     ],
     "language": "python",
     "metadata": {},
     "outputs": [
      {
       "metadata": {},
       "output_type": "display_data",
       "png": "[encoded data removed]",
       "text": [
        "<matplotlib.figure.Figure at 0xac76090>"
       ]
      }
     ],
     "prompt_number": 72
    },
    {
     "cell_type": "code",
     "collapsed": false,
     "input": [
      "tagger = pmf.PoissonMF(n_components=n_components, random_state=98765, verbose=True)"
     ],
     "language": "python",
     "metadata": {},
     "outputs": [
      {
       "output_type": "stream",
       "stream": "stdout",
       "text": [
        "\n"
       ]
      }
     ],
     "prompt_number": 156
    },
    {
     "cell_type": "code",
     "collapsed": false,
     "input": [
      "tagger.set_components(online_coder_full.gamma_b[:, :K], online_coder_full.rho_b[:, :K])"
     ],
     "language": "python",
     "metadata": {},
     "outputs": [],
     "prompt_number": 157
    },
    {
     "cell_type": "code",
     "collapsed": false,
     "input": [
      "Et = tagger.transform(X_test)"
     ],
     "language": "python",
     "metadata": {},
     "outputs": [
      {
       "output_type": "stream",
       "stream": "stdout",
       "text": [
        "After ITERATION: 0\tObjective: 2518775.68\tOld objective: -inf\tImprovement: nan\n",
        "After ITERATION: 1\tObjective: 2998275.70\tOld objective: 2518775.68\tImprovement: 0.19037"
       ]
      },
      {
       "output_type": "stream",
       "stream": "stdout",
       "text": [
        "\n",
        "After ITERATION: 2\tObjective: 3141109.83\tOld objective: 2998275.70\tImprovement: 0.04764"
       ]
      },
      {
       "output_type": "stream",
       "stream": "stdout",
       "text": [
        "\n",
        "After ITERATION: 3\tObjective: 3201737.38\tOld objective: 3141109.83\tImprovement: 0.01930"
       ]
      },
      {
       "output_type": "stream",
       "stream": "stdout",
       "text": [
        "\n",
        "After ITERATION: 4\tObjective: 3233828.41\tOld objective: 3201737.38\tImprovement: 0.01002"
       ]
      },
      {
       "output_type": "stream",
       "stream": "stdout",
       "text": [
        "\n",
        "After ITERATION: 5\tObjective: 3253085.34\tOld objective: 3233828.41\tImprovement: 0.00595"
       ]
      },
      {
       "output_type": "stream",
       "stream": "stdout",
       "text": [
        "\n",
        "After ITERATION: 6\tObjective: 3265678.80\tOld objective: 3253085.34\tImprovement: 0.00387"
       ]
      },
      {
       "output_type": "stream",
       "stream": "stdout",
       "text": [
        "\n",
        "After ITERATION: 7\tObjective: 3274440.04\tOld objective: 3265678.80\tImprovement: 0.00268"
       ]
      },
      {
       "output_type": "stream",
       "stream": "stdout",
       "text": [
        "\n",
        "After ITERATION: 8\tObjective: 3280841.34\tOld objective: 3274440.04\tImprovement: 0.00195"
       ]
      },
      {
       "output_type": "stream",
       "stream": "stdout",
       "text": [
        "\n",
        "After ITERATION: 9\tObjective: 3285692.05\tOld objective: 3280841.34\tImprovement: 0.00148"
       ]
      },
      {
       "output_type": "stream",
       "stream": "stdout",
       "text": [
        "\n",
        "After ITERATION: 10\tObjective: 3289466.09\tOld objective: 3285692.05\tImprovement: 0.00115"
       ]
      },
      {
       "output_type": "stream",
       "stream": "stdout",
       "text": [
        "\n",
        "After ITERATION: 11\tObjective: 3292448.98\tOld objective: 3289466.09\tImprovement: 0.00091"
       ]
      },
      {
       "output_type": "stream",
       "stream": "stdout",
       "text": [
        "\n",
        "After ITERATION: 12\tObjective: 3294848.07\tOld objective: 3292448.98\tImprovement: 0.00073"
       ]
      },
      {
       "output_type": "stream",
       "stream": "stdout",
       "text": [
        "\n",
        "After ITERATION: 13\tObjective: 3296819.49\tOld objective: 3294848.07\tImprovement: 0.00060"
       ]
      },
      {
       "output_type": "stream",
       "stream": "stdout",
       "text": [
        "\n",
        "After ITERATION: 14\tObjective: 3298463.47\tOld objective: 3296819.49\tImprovement: 0.00050"
       ]
      },
      {
       "output_type": "stream",
       "stream": "stdout",
       "text": [
        "\n"
       ]
      }
     ],
     "prompt_number": 158
    },
    {
     "cell_type": "code",
     "collapsed": false,
     "input": [
      "Et /= Et.sum(axis=1, keepdims=True)\n",
      "tags_predicted = Et.dot(online_coder_full.Eb[:, K:])\n",
      "print tags_predicted.min(), tags_predicted.max()\n",
      "\n",
      "div_factor = 3\n",
      "tags_predicted = tags_predicted - div_factor * np.mean(tags_predicted, axis=0)"
     ],
     "language": "python",
     "metadata": {},
     "outputs": [
      {
       "output_type": "stream",
       "stream": "stdout",
       "text": [
        "2.58608124434e-05 1.03137714705\n"
       ]
      }
     ],
     "prompt_number": 159
    },
    {
     "cell_type": "code",
     "collapsed": false,
     "input": [
      "predictat = 20\n",
      "tags_true_binary = (y_test > 0)\n",
      "\n",
      "print_out_metrics(tags_true_binary, tags_predicted, predictat)"
     ],
     "language": "python",
     "metadata": {},
     "outputs": [
      {
       "output_type": "stream",
       "stream": "stdout",
       "text": [
        "Precision = 0.130 (0.008)\n",
        "Recall = 0.154 (0.008)\n",
        "F-score = 0.141\n",
        "AROC = 0.715 (0.005)"
       ]
      },
      {
       "output_type": "stream",
       "stream": "stdout",
       "text": [
        "\n",
        "AP = 0.122 (0.006)\n"
       ]
      }
     ],
     "prompt_number": 161
    }
   ],
   "metadata": {}
  }
 ]
}